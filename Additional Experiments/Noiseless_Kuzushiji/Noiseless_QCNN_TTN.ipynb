{
 "cells": [
  {
   "attachments": {},
   "cell_type": "markdown",
   "metadata": {},
   "source": [
    "# Noisy QCNN kmnist MNIST"
   ]
  },
  {
   "cell_type": "code",
   "execution_count": 1,
   "metadata": {},
   "outputs": [],
   "source": [
    "from pennylane import numpy as np\n",
    "import matplotlib.pyplot as plt\n",
    "import sys\n",
    "sys.path.insert(0, '/Users/tak/Downloads/QEmbedding/')\n",
    "import torch\n",
    "from torch import nn\n",
    "import pennylane as qml\n",
    "import embedding\n",
    "import data\n",
    "\n",
    "dev = qml.device('default.qubit', wires=4)"
   ]
  },
  {
   "cell_type": "code",
   "execution_count": 22,
   "metadata": {},
   "outputs": [],
   "source": [
    "feature_reduction = False\n",
    "classes = [0,1]\n",
    "X_train, X_test, Y_train, Y_test = data.data_load_and_process('kmnist', feature_reduction=feature_reduction, classes=classes)"
   ]
  },
  {
   "attachments": {},
   "cell_type": "markdown",
   "metadata": {},
   "source": [
    "# NQE Optimization"
   ]
  },
  {
   "cell_type": "code",
   "execution_count": 27,
   "metadata": {},
   "outputs": [],
   "source": [
    "@qml.qnode(dev, interface=\"torch\")\n",
    "def Four_circuit2(inputs): \n",
    "    embedding.Four_QuantumEmbedding2(inputs[0:8])\n",
    "    embedding.Four_QuantumEmbedding2_inverse(inputs[8:16])\n",
    "    return qml.probs(wires=range(4))\n",
    "\n",
    "class PCA_NQE(torch.nn.Module):\n",
    "    def __init__(self):\n",
    "        super().__init__()\n",
    "        self.qlayer2 = qml.qnn.TorchLayer(Four_circuit2, weight_shapes={})\n",
    "        self.linear_relu_stack2 = nn.Sequential(\n",
    "            nn.Linear(4, 12),\n",
    "            nn.ReLU(),\n",
    "            nn.Linear(12, 12),\n",
    "            nn.ReLU(),\n",
    "            nn.Linear(12, 8)\n",
    "        )\n",
    "    def forward(self, x1, x2):\n",
    "        x1 = self.linear_relu_stack2(x1)\n",
    "        x2 = self.linear_relu_stack2(x2)\n",
    "        x = torch.concat([x1, x2], 1)\n",
    "        x = self.qlayer2(x)\n",
    "        return x[:,0]\n",
    "\n",
    "\n",
    "class NQE(torch.nn.Module):\n",
    "    def __init__(self):\n",
    "        super().__init__()\n",
    "        self.qlayer3 = qml.qnn.TorchLayer(Four_circuit2, weight_shapes={})\n",
    "        self.layer1 = torch.nn.Sequential(\n",
    "            torch.nn.Conv2d(1, 1, kernel_size=3, stride=1, padding=1),\n",
    "            torch.nn.ReLU(),\n",
    "            torch.nn.MaxPool2d(kernel_size=2, stride=2)\n",
    "        )\n",
    "\n",
    "        # Layer2: 14 * 14 -> 7 * 7\n",
    "        self.layer2 = torch.nn.Sequential(\n",
    "            torch.nn.Conv2d(1, 1, kernel_size=3, stride=1, padding=1),\n",
    "            torch.nn.ReLU(),\n",
    "            torch.nn.MaxPool2d(kernel_size=2, stride=2)\n",
    "        )\n",
    "\n",
    "        # Fully connected Layers 7 * 7 -> 7\n",
    "        self.fc1 = torch.nn.Linear(7 * 7, 32, bias=True)\n",
    "        self.fc2 = torch.nn.Linear(32, 8, bias=True)\n",
    "        \n",
    "    def forward(self, x1, x2):\n",
    "        x1 = self.layer1(x1)\n",
    "        x1 = self.layer2(x1)\n",
    "        x1 = x1.view(-1, 7 * 7)\n",
    "        x1 = self.fc1(x1)\n",
    "        x1 = self.fc2(x1)\n",
    "\n",
    "        x2 = self.layer1(x2)\n",
    "        x2 = self.layer2(x2)\n",
    "        x2 = x2.view(-1, 7 * 7)\n",
    "        x2 = self.fc1(x2)\n",
    "        x2 = self.fc2(x2)\n",
    "\n",
    "        x = torch.concat([x1, x2], 1)\n",
    "        x = self.qlayer3(x)\n",
    "        return x[:,0]"
   ]
  },
  {
   "cell_type": "code",
   "execution_count": 3,
   "metadata": {},
   "outputs": [],
   "source": [
    "def new_data(batch_size, X, Y, feature_reduction):\n",
    "    X1_new, X2_new, Y_new = [], [], []\n",
    "    for i in range(batch_size):\n",
    "        n, m = np.random.randint(len(X)), np.random.randint(len(X))\n",
    "        X1_new.append(X[n])\n",
    "        X2_new.append(X[m])\n",
    "        if Y[n] == Y[m]:\n",
    "            Y_new.append(1)\n",
    "        else:\n",
    "            Y_new.append(0)\n",
    "\n",
    "    X1_new, X2_new, Y_new = torch.tensor(X1_new).to(torch.float32), torch.tensor(X2_new).to(torch.float32), torch.tensor(Y_new).to(torch.float32)\n",
    "    if feature_reduction == False:\n",
    "        X1_new = X1_new.permute(0, 3, 1, 2)\n",
    "        X2_new = X2_new.permute(0, 3, 1, 2)\n",
    "    return X1_new, X2_new, Y_new\n",
    "\n",
    "def train_models(model_name, X_train, Y_train, feature_reduction):\n",
    "    if model_name == 'PCA-NQE':\n",
    "        model = PCA_NQE()\n",
    "    elif model_name == 'NQE':\n",
    "        model = NQE()\n",
    "\n",
    "    model.train()\n",
    "\n",
    "    loss_fn = torch.nn.MSELoss()\n",
    "    opt = torch.optim.SGD(model.parameters(), lr=0.01)\n",
    "    for it in range(1001):\n",
    "\n",
    "        X1_batch, X2_batch, Y_batch = new_data(25, X_train, Y_train, feature_reduction)\n",
    "        X1_batch, X2_batch, Y_batch = X1_batch, X2_batch, Y_batch\n",
    "\n",
    "        pred = model(X1_batch, X2_batch)\n",
    "        pred, Y_batch = pred.to(torch.float32), Y_batch.to(torch.float32)\n",
    "        loss = loss_fn(pred, Y_batch)\n",
    "\n",
    "        opt.zero_grad()\n",
    "        loss.backward()\n",
    "        opt.step()\n",
    "\n",
    "        if it % 50 == 0:\n",
    "            print(f\"Iterations: {it} Loss: {loss.item()}\")\n",
    "            PATH = f'{model_name}{it}.pt'\n",
    "            torch.save(model.state_dict(), PATH)\n"
   ]
  },
  {
   "cell_type": "code",
   "execution_count": 4,
   "metadata": {},
   "outputs": [
    {
     "name": "stderr",
     "output_type": "stream",
     "text": [
      "/tmp/ipykernel_268848/203686661.py:12: UserWarning: Creating a tensor from a list of numpy.ndarrays is extremely slow. Please consider converting the list to a single numpy.ndarray with numpy.array() before converting to a tensor. (Triggered internally at ../torch/csrc/utils/tensor_new.cpp:245.)\n",
      "  X1_new, X2_new, Y_new = torch.tensor(X1_new).to(torch.float32), torch.tensor(X2_new).to(torch.float32), torch.tensor(Y_new).to(torch.float32)\n"
     ]
    },
    {
     "name": "stdout",
     "output_type": "stream",
     "text": [
      "Iterations: 0 Loss: 0.18687118589878082\n",
      "Iterations: 50 Loss: 0.15577265620231628\n",
      "Iterations: 100 Loss: 0.16129150986671448\n",
      "Iterations: 150 Loss: 0.19037990272045135\n",
      "Iterations: 200 Loss: 0.145198255777359\n",
      "Iterations: 250 Loss: 0.1953146755695343\n",
      "Iterations: 300 Loss: 0.16469880938529968\n",
      "Iterations: 350 Loss: 0.06624327600002289\n",
      "Iterations: 400 Loss: 0.06725487112998962\n",
      "Iterations: 450 Loss: 0.03950633853673935\n",
      "Iterations: 500 Loss: 0.1737985759973526\n",
      "Iterations: 550 Loss: 0.13934862613677979\n",
      "Iterations: 600 Loss: 0.16561336815357208\n",
      "Iterations: 650 Loss: 0.1908416599035263\n",
      "Iterations: 700 Loss: 0.0835561752319336\n",
      "Iterations: 750 Loss: 0.1477980762720108\n",
      "Iterations: 800 Loss: 0.11871769279241562\n",
      "Iterations: 850 Loss: 0.18583717942237854\n",
      "Iterations: 900 Loss: 0.1357877105474472\n",
      "Iterations: 950 Loss: 0.12598499655723572\n",
      "Iterations: 1000 Loss: 0.17991603910923004\n"
     ]
    }
   ],
   "source": [
    "feature_reduction = 'PCA4'\n",
    "classes = [0,1]\n",
    "X_train, X_test, Y_train, Y_test = data.data_load_and_process('kmnist', feature_reduction=feature_reduction, classes=classes)\n",
    "train_models('PCA-NQE', X_train, Y_train, feature_reduction)"
   ]
  },
  {
   "cell_type": "code",
   "execution_count": 28,
   "metadata": {},
   "outputs": [
    {
     "name": "stdout",
     "output_type": "stream",
     "text": [
      "Iterations: 0 Loss: 0.239769846200943\n",
      "Iterations: 50 Loss: 0.43969130516052246\n",
      "Iterations: 100 Loss: 0.5597966909408569\n",
      "Iterations: 150 Loss: 0.47957801818847656\n",
      "Iterations: 200 Loss: 0.5196101665496826\n",
      "Iterations: 250 Loss: 0.4793003797531128\n",
      "Iterations: 300 Loss: 0.5991302728652954\n",
      "Iterations: 350 Loss: 0.5596150755882263\n",
      "Iterations: 400 Loss: 0.4792371392250061\n",
      "Iterations: 450 Loss: 0.5984399914741516\n",
      "Iterations: 500 Loss: 0.35871338844299316\n",
      "Iterations: 550 Loss: 0.4370063841342926\n",
      "Iterations: 600 Loss: 0.35158979892730713\n",
      "Iterations: 650 Loss: 0.25953567028045654\n",
      "Iterations: 700 Loss: 0.0575275793671608\n",
      "Iterations: 750 Loss: 0.10753380507230759\n",
      "Iterations: 800 Loss: 0.02360270917415619\n",
      "Iterations: 850 Loss: 0.0337550975382328\n",
      "Iterations: 900 Loss: 0.13282032310962677\n",
      "Iterations: 950 Loss: 0.023960137739777565\n",
      "Iterations: 1000 Loss: 0.017543042078614235\n"
     ]
    }
   ],
   "source": [
    "feature_reduction = False\n",
    "classes = [0,1]\n",
    "X_train, X_test, Y_train, Y_test = data.data_load_and_process('kmnist', feature_reduction=feature_reduction, classes=classes)\n",
    "train_models('NQE', X_train, Y_train, feature_reduction)"
   ]
  },
  {
   "cell_type": "markdown",
   "metadata": {},
   "source": [
    "# QCNN Training"
   ]
  },
  {
   "cell_type": "code",
   "execution_count": 29,
   "metadata": {},
   "outputs": [],
   "source": [
    "batch_size = 128\n",
    "steps = 1000\n",
    "ansatz = \"SU4\"\n",
    "learning_rate = 0.01"
   ]
  },
  {
   "cell_type": "code",
   "execution_count": 4,
   "metadata": {},
   "outputs": [],
   "source": [
    "\n",
    "class x_transform2(torch.nn.Module):\n",
    "    def __init__(self):\n",
    "        super().__init__()\n",
    "        self.linear_relu_stack2 = nn.Sequential(\n",
    "            nn.Linear(4, 12),\n",
    "            nn.ReLU(),\n",
    "            nn.Linear(12, 12),\n",
    "            nn.ReLU(),\n",
    "            nn.Linear(12, 8)\n",
    "        )\n",
    "        \n",
    "    def forward(self, x):\n",
    "        x = self.linear_relu_stack2(x)\n",
    "        return x.detach().numpy()\n",
    "\n",
    "\n",
    "class x_transform3(torch.nn.Module):\n",
    "    def __init__(self):\n",
    "        super().__init__()\n",
    "        self.layer1 = torch.nn.Sequential(\n",
    "            torch.nn.Conv2d(1, 1, kernel_size=3, stride=1, padding=1),\n",
    "            torch.nn.ReLU(),\n",
    "            torch.nn.MaxPool2d(kernel_size=2, stride=2)\n",
    "        )\n",
    "\n",
    "        # Layer2: 14 * 14 -> 7 * 7\n",
    "        self.layer2 = torch.nn.Sequential(\n",
    "            torch.nn.Conv2d(1, 1, kernel_size=3, stride=1, padding=1),\n",
    "            torch.nn.ReLU(),\n",
    "            torch.nn.MaxPool2d(kernel_size=2, stride=2)\n",
    "        )\n",
    "\n",
    "        # Fully connected Layers 7 * 7 -> 7\n",
    "        self.fc1 = torch.nn.Linear(7 * 7, 32, bias=True)\n",
    "        self.fc2 = torch.nn.Linear(32, 8, bias=True)\n",
    "        \n",
    "    def forward(self, x):\n",
    "        x = self.layer1(x)\n",
    "        x = self.layer2(x)\n",
    "        x = x.view(-1, 7 * 7)\n",
    "        x = self.fc1(x)\n",
    "        x = self.fc2(x)\n",
    "        return x.detach().numpy()\n",
    "\n",
    "model2 = x_transform2()\n",
    "model3 = x_transform3()"
   ]
  },
  {
   "cell_type": "code",
   "execution_count": 5,
   "metadata": {},
   "outputs": [],
   "source": [
    "def statepreparation(x, Trained):\n",
    "    if Trained == False:\n",
    "        embedding.Four_QuantumEmbedding1(x)\n",
    "    elif Trained == 'PCA-NQE':\n",
    "        model2.load_state_dict(torch.load('PCA-NQE1000.pt'))\n",
    "        x = model2(torch.tensor(x))\n",
    "        embedding.Four_QuantumEmbedding2(x)\n",
    "    elif Trained == 'NQE':\n",
    "        model3.load_state_dict(torch.load('NQE1000.pt'))\n",
    "        x = model3(torch.tensor(x))\n",
    "        embedding.Four_QuantumEmbedding2(x[0])\n",
    "\n",
    "\n",
    "@qml.qnode(dev)\n",
    "def QCNN_classifier(params, x, Trained):\n",
    "    statepreparation(x, Trained)\n",
    "    embedding.QCNN_four(params, ansatz)\n",
    "    return qml.expval(qml.PauliZ(2))\n",
    "\n",
    "\n",
    "def Linear_Loss(labels, predictions):\n",
    "    loss = 0\n",
    "    for l,p in zip(labels, predictions):\n",
    "        loss += 0.5 * (1 - l * p)\n",
    "    return loss / len(labels)\n",
    "\n",
    "\n",
    "def cost(weights, X_batch, Y_batch, Trained):\n",
    "    preds = [QCNN_classifier(weights, x, Trained) for x in X_batch]\n",
    "    return Linear_Loss(Y_batch, preds)\n",
    "\n",
    "\n",
    "def circuit_training(X_train, Y_train, Trained):\n",
    "\n",
    "    if ansatz == 'SU4':\n",
    "        num_weights = 30\n",
    "    elif ansatz == 'TTN':\n",
    "        num_weights = 4\n",
    "\n",
    "    weights = np.random.random(num_weights, requires_grad = True)\n",
    "    opt = qml.NesterovMomentumOptimizer(stepsize=learning_rate)\n",
    "    loss_history = []\n",
    "    for it in range(steps):\n",
    "        batch_index = np.random.randint(0, len(X_train), (batch_size,))\n",
    "        X_batch = [X_train[i] for i in batch_index]\n",
    "        Y_batch = [Y_train[i] for i in batch_index]\n",
    "        weights, cost_new = opt.step_and_cost(lambda v: cost(v, X_batch, Y_batch, Trained),\n",
    "                                                     weights)\n",
    "        loss_history.append(cost_new)\n",
    "        if it % 200 == 0:\n",
    "            print(\"iteration: \", it, \" cost: \", cost_new)\n",
    "    return loss_history, weights"
   ]
  },
  {
   "cell_type": "code",
   "execution_count": 32,
   "metadata": {},
   "outputs": [],
   "source": [
    "feature_reduction = 'PCA4'\n",
    "classes = [0,1]\n",
    "X_train, X_test, Y_train, Y_test = data.data_load_and_process('kmnist', feature_reduction=feature_reduction, classes=classes)\n",
    "#X_train, X_test = torch.tensor(X_train).to(torch.float32), torch.tensor(X_test).to(torch.float32)\n",
    "Y_train = [-1 if y == 0 else 1 for y in Y_train]\n",
    "Y_test = [-1 if y == 0 else 1 for y in Y_test]"
   ]
  },
  {
   "cell_type": "code",
   "execution_count": 33,
   "metadata": {},
   "outputs": [
    {
     "name": "stderr",
     "output_type": "stream",
     "text": [
      "/home/tak/anaconda3/envs/QC/lib/python3.11/site-packages/autograd/numpy/numpy_vjps.py:698: ComplexWarning: Casting complex values to real discards the imaginary part\n",
      "  onp.add.at(A, idx, x)\n"
     ]
    },
    {
     "name": "stdout",
     "output_type": "stream",
     "text": [
      "iteration:  0  cost:  0.4785889708045189\n",
      "iteration:  200  cost:  0.41099285716385153\n",
      "iteration:  400  cost:  0.4460870119981242\n",
      "iteration:  600  cost:  0.3814255495897814\n",
      "iteration:  800  cost:  0.4185542042253466\n",
      "iteration:  0  cost:  0.48433687478954734\n",
      "iteration:  200  cost:  0.2417825129204142\n",
      "iteration:  400  cost:  0.1576763269583487\n",
      "iteration:  600  cost:  0.1640954628810935\n",
      "iteration:  800  cost:  0.1553021861854564\n",
      "iteration:  0  cost:  0.522019252271665\n",
      "iteration:  200  cost:  0.45116785943309357\n",
      "iteration:  400  cost:  0.4192796404449914\n",
      "iteration:  600  cost:  0.40482246429497964\n",
      "iteration:  800  cost:  0.3681962839366711\n",
      "iteration:  0  cost:  0.45251859723486254\n",
      "iteration:  200  cost:  0.1662378790616781\n",
      "iteration:  400  cost:  0.14071523238580452\n",
      "iteration:  600  cost:  0.146707212374833\n",
      "iteration:  800  cost:  0.13776377061925962\n",
      "iteration:  0  cost:  0.5005017687957075\n",
      "iteration:  200  cost:  0.45395337688233783\n",
      "iteration:  400  cost:  0.4007304387214492\n",
      "iteration:  600  cost:  0.40249904056832453\n",
      "iteration:  800  cost:  0.38237197960177083\n",
      "iteration:  0  cost:  0.413736000515653\n",
      "iteration:  200  cost:  0.1858000097545432\n",
      "iteration:  400  cost:  0.17776404213587724\n",
      "iteration:  600  cost:  0.15545056096308685\n",
      "iteration:  800  cost:  0.14427715953314962\n",
      "iteration:  0  cost:  0.5661149232509674\n",
      "iteration:  200  cost:  0.49197163339643646\n",
      "iteration:  400  cost:  0.47522200509031964\n",
      "iteration:  600  cost:  0.4407093262132808\n",
      "iteration:  800  cost:  0.48347560773558285\n",
      "iteration:  0  cost:  0.3474259947057997\n",
      "iteration:  200  cost:  0.1689257053072512\n",
      "iteration:  400  cost:  0.16545048716111246\n",
      "iteration:  600  cost:  0.17520868218730876\n",
      "iteration:  800  cost:  0.16393382876551746\n",
      "iteration:  0  cost:  0.5164555004586984\n",
      "iteration:  200  cost:  0.4466810283424227\n",
      "iteration:  400  cost:  0.4117777153588109\n",
      "iteration:  600  cost:  0.3931845958515975\n",
      "iteration:  800  cost:  0.42021211259966357\n",
      "iteration:  0  cost:  0.4545318849494781\n",
      "iteration:  200  cost:  0.18999661146239324\n",
      "iteration:  400  cost:  0.21028922625808713\n",
      "iteration:  600  cost:  0.17121393382977315\n",
      "iteration:  800  cost:  0.14983526215586482\n"
     ]
    }
   ],
   "source": [
    "Loss_histories_not_trained, weights_not_trained, Loss_histories_Model2_Fidelity, weights_Model2_Fidelity = [], [], [], []\n",
    "for i in range(5):\n",
    "    loss_not_trained, weight_not_trained = circuit_training(X_train, Y_train, False)\n",
    "    loss_Model2_Fidelity, weight_Model2_Fidelity = circuit_training(X_train, Y_train, 'PCA-NQE')\n",
    "\n",
    "    Loss_histories_not_trained.append(loss_not_trained)\n",
    "    Loss_histories_Model2_Fidelity.append(loss_Model2_Fidelity)\n",
    "\n",
    "    weights_not_trained.append(weight_not_trained)\n",
    "    weights_Model2_Fidelity.append(weight_Model2_Fidelity)\n",
    "\n",
    "    \n",
    "f = open('weights and losses.txt', 'a')\n",
    "for i in range(5):\n",
    "    f.write(f'Loss History without NQE {i + 1}:')\n",
    "    f.write('\\n')\n",
    "    f.write(str(Loss_histories_not_trained[i]))\n",
    "    f.write('\\n')\n",
    "for i in range(5):\n",
    "    f.write(f'Weights without NQE {i + 1}:')\n",
    "    f.write('\\n')\n",
    "    f.write(str(weights_not_trained[i]))\n",
    "\n",
    "\n",
    "\n",
    "for i in range(5):\n",
    "    f.write(f'Loss History with PCA-NQE {i + 1}:')\n",
    "    f.write('\\n')\n",
    "    f.write(str(Loss_histories_Model2_Fidelity[i]))\n",
    "    f.write('\\n')\n",
    "for i in range(5):\n",
    "    f.write(f'Weights with PCA-NQE {i + 1}:')\n",
    "    f.write('\\n')\n",
    "    f.write(str(weights_Model2_Fidelity[i]))\n",
    "f.close()"
   ]
  },
  {
   "cell_type": "code",
   "execution_count": 34,
   "metadata": {},
   "outputs": [],
   "source": [
    "feature_reduction = False\n",
    "classes=[0,1]\n",
    "X_train, X_test, Y_train, Y_test = data.data_load_and_process('kmnist', feature_reduction=feature_reduction, classes=classes)\n",
    "X_train, X_test = torch.tensor(X_train).to(torch.float32), torch.tensor(X_test).to(torch.float32)\n",
    "X_train, X_test = X_train.permute(0, 3, 1, 2).detach().numpy(), X_test.permute(0, 3, 1, 2).detach().numpy()\n",
    "Y_train = [-1 if y == 0 else 1 for y in Y_train]\n",
    "Y_test = [-1 if y == 0 else 1 for y in Y_test]"
   ]
  },
  {
   "cell_type": "code",
   "execution_count": 35,
   "metadata": {},
   "outputs": [
    {
     "name": "stdout",
     "output_type": "stream",
     "text": [
      "iteration:  0  cost:  0.5573082326292158\n",
      "iteration:  200  cost:  0.14188382911216832\n",
      "iteration:  400  cost:  0.1411504170795876\n",
      "iteration:  600  cost:  0.12774787642855667\n",
      "iteration:  800  cost:  0.1318853063651676\n",
      "iteration:  0  cost:  0.5921305755361477\n",
      "iteration:  200  cost:  0.12493944758938341\n",
      "iteration:  400  cost:  0.12007743658654084\n",
      "iteration:  600  cost:  0.11003034340621773\n",
      "iteration:  800  cost:  0.09895836265563479\n",
      "iteration:  0  cost:  0.5060882385597409\n",
      "iteration:  200  cost:  0.09619537428257868\n",
      "iteration:  400  cost:  0.08860398010571104\n",
      "iteration:  600  cost:  0.10022193237200457\n",
      "iteration:  800  cost:  0.09275222937163419\n",
      "iteration:  0  cost:  0.3198827390729302\n",
      "iteration:  200  cost:  0.11922623302402624\n",
      "iteration:  400  cost:  0.09562377933483145\n",
      "iteration:  600  cost:  0.10578603800326013\n",
      "iteration:  800  cost:  0.106533137408736\n",
      "iteration:  0  cost:  0.4455274148756447\n",
      "iteration:  200  cost:  0.15263951352410735\n",
      "iteration:  400  cost:  0.10496665155028197\n",
      "iteration:  600  cost:  0.10978820684593231\n",
      "iteration:  800  cost:  0.10154053928133146\n"
     ]
    }
   ],
   "source": [
    "Loss_histories_Model3_Fidelity, weights_Model3_Fidelity = [], []\n",
    "for i in range(5):\n",
    "\n",
    "    loss_Model3_Fidelity, weight_Model3_Fidelity = circuit_training(X_train, Y_train, 'NQE')\n",
    "\n",
    "    Loss_histories_Model3_Fidelity.append(loss_Model3_Fidelity)\n",
    "    weights_Model3_Fidelity.append(weight_Model3_Fidelity)\n",
    "\n",
    "f = open('weights and losses.txt', 'a')\n",
    "for i in range(5):\n",
    "    f.write(f'Loss History with NQE {i + 1}:')\n",
    "    f.write('\\n')\n",
    "    f.write(str(Loss_histories_Model3_Fidelity[i]))\n",
    "    f.write('\\n')\n",
    "for i in range(5):\n",
    "    f.write(f'Weights with NQE{i + 1}:')\n",
    "    f.write('\\n')\n",
    "    f.write(str(weights_Model3_Fidelity[i]))\n",
    "f.close()"
   ]
  },
  {
   "cell_type": "markdown",
   "metadata": {},
   "source": [
    "# Trace Distance History"
   ]
  },
  {
   "cell_type": "code",
   "execution_count": 36,
   "metadata": {},
   "outputs": [],
   "source": [
    "@qml.qnode(dev, interface=\"torch\")\n",
    "def Circuit_Distance1(inputs): \n",
    "    embedding.Four_QuantumEmbedding1(inputs)\n",
    "    return qml.density_matrix(wires=range(4))\n",
    "\n",
    "@qml.qnode(dev, interface=\"torch\")\n",
    "def Circuit_Distance2(inputs): \n",
    "    embedding.Four_QuantumEmbedding2(inputs)\n",
    "    return qml.density_matrix(wires=range(4))\n",
    "\n",
    "\n",
    "class Distances1(torch.nn.Module):\n",
    "    def __init__(self):\n",
    "        super().__init__()\n",
    "        self.qlayer1 = qml.qnn.TorchLayer(Circuit_Distance1, weight_shapes={})\n",
    "   \n",
    "    def forward(self, x1, x0):\n",
    "        rhos1 = self.qlayer1(x1)\n",
    "        rhos0 = self.qlayer1(x0)\n",
    "\n",
    "        rho1 = torch.sum(rhos1, dim=0) / len(x1)\n",
    "        rho0 = torch.sum(rhos0, dim=0) / len(x0)\n",
    "        rho_diff = rho1 - rho0\n",
    "        eigvals = torch.linalg.eigvals(rho_diff)\n",
    "        return 0.5 * torch.real(torch.sum(torch.abs(eigvals)))\n",
    "    \n",
    "class Distances2(torch.nn.Module):\n",
    "    def __init__(self):\n",
    "        super().__init__()\n",
    "        self.qlayer2 = qml.qnn.TorchLayer(Circuit_Distance2, weight_shapes={})\n",
    "        self.linear_relu_stack2 = nn.Sequential(\n",
    "            nn.Linear(4, 12),\n",
    "            nn.ReLU(),\n",
    "            nn.Linear(12, 12),\n",
    "            nn.ReLU(),\n",
    "            nn.Linear(12, 8)\n",
    "        )\n",
    "    def forward(self, x1, x0):\n",
    "        x1 = self.linear_relu_stack2(x1)\n",
    "        x0 = self.linear_relu_stack2(x0)\n",
    "        rhos1 = self.qlayer2(x1)\n",
    "        rhos0 = self.qlayer2(x0)\n",
    "\n",
    "        rho1 = torch.sum(rhos1, dim=0) / len(x1)\n",
    "        rho0 = torch.sum(rhos0, dim=0) / len(x0)\n",
    "        rho_diff = rho1 - rho0\n",
    "        eigvals = torch.linalg.eigvals(rho_diff)\n",
    "        return 0.5 * torch.real(torch.sum(torch.abs(eigvals)))\n",
    "\n",
    "\n",
    "class Distances3(torch.nn.Module):\n",
    "    def __init__(self):\n",
    "        super().__init__()\n",
    "        self.qlayer3 = qml.qnn.TorchLayer(Circuit_Distance2, weight_shapes={})\n",
    "        self.layer1 = torch.nn.Sequential(\n",
    "            torch.nn.Conv2d(1, 1, kernel_size=3, stride=1, padding=1),\n",
    "            torch.nn.ReLU(),\n",
    "            torch.nn.MaxPool2d(kernel_size=2, stride=2)\n",
    "        )\n",
    "\n",
    "        # Layer2: 14 * 14 -> 7 * 7\n",
    "        self.layer2 = torch.nn.Sequential(\n",
    "            torch.nn.Conv2d(1, 1, kernel_size=3, stride=1, padding=1),\n",
    "            torch.nn.ReLU(),\n",
    "            torch.nn.MaxPool2d(kernel_size=2, stride=2)\n",
    "        )\n",
    "\n",
    "        # Fully connected Layers 7 * 7 -> 7\n",
    "        self.fc1 = torch.nn.Linear(7 * 7, 32, bias=True)\n",
    "        self.fc2 = torch.nn.Linear(32, 8, bias=True)\n",
    "    \n",
    "    def forward(self, x1, x0):\n",
    "        x1 = self.layer1(x1)\n",
    "        x1 = self.layer2(x1)\n",
    "        x1 = x1.view(-1, 7 * 7)\n",
    "        x1 = self.fc1(x1)\n",
    "        x1 = self.fc2(x1)\n",
    "\n",
    "        x0 = self.layer1(x0)\n",
    "        x0 = self.layer2(x0)\n",
    "        x0 = x0.view(-1, 7 * 7)\n",
    "        x0 = self.fc1(x0)\n",
    "        x0 = self.fc2(x0)\n",
    "\n",
    "        rhos1 = self.qlayer3(x1)\n",
    "        rhos0 = self.qlayer3(x0)\n",
    "        \n",
    "        rho1 = torch.sum(rhos1, dim=0) / len(x1)\n",
    "        rho0 = torch.sum(rhos0, dim=0) / len(x0)\n",
    "        rho_diff = rho1 - rho0\n",
    "        eigvals = torch.linalg.eigvals(rho_diff)\n",
    "        return 0.5 * torch.real(torch.sum(torch.abs(eigvals)))\n",
    "\n",
    "\n",
    "def D(PATH, Model, X1, X0):\n",
    "    if Model == 'Model2':\n",
    "        Distance = Distances2()\n",
    "    elif Model == 'Model3':\n",
    "        Distance = Distances3()\n",
    "    \n",
    "    Distance.load_state_dict(torch.load(PATH))\n",
    "    return Distance(X1, X0)"
   ]
  },
  {
   "cell_type": "markdown",
   "metadata": {},
   "source": [
    "Model1"
   ]
  },
  {
   "cell_type": "code",
   "execution_count": 37,
   "metadata": {},
   "outputs": [],
   "source": [
    "feature_reduction = 'PCA4'\n",
    "classes = [0,1]\n",
    "X_train, X_test, Y_train, Y_test = data.data_load_and_process('kmnist', feature_reduction=feature_reduction, classes=classes)\n",
    "\n",
    "X1_test, X0_test = [], []\n",
    "for i in range(len(X_test)):\n",
    "    if Y_test[i] == 1:\n",
    "        X1_test.append(X_test[i])\n",
    "    else:\n",
    "        X0_test.append(X_test[i])\n",
    "X1_test, X0_test = torch.tensor(X1_test).to(torch.float32), torch.tensor(X0_test).to(torch.float32)\n",
    "\n",
    "X1_train, X0_train = [], []\n",
    "for i in range(len(X_train)):\n",
    "    if Y_train[i] == 1:\n",
    "        X1_train.append(X_train[i])\n",
    "    else:\n",
    "        X0_train.append(X_train[i])\n",
    "X1_train, X0_train = torch.tensor(X1_train).to(torch.float32), torch.tensor(X0_train).to(torch.float32)"
   ]
  },
  {
   "cell_type": "code",
   "execution_count": 38,
   "metadata": {},
   "outputs": [],
   "source": [
    "Distance = Distances1()\n",
    "Model1_Train_Distance = Distance(X0_train, X1_train)\n",
    "Model1_Test_Distance = Distance(X0_test, X1_test)"
   ]
  },
  {
   "cell_type": "code",
   "execution_count": 39,
   "metadata": {},
   "outputs": [],
   "source": [
    "f = open(\"Trace Distance History.txt\", 'a')\n",
    "f.write(\"Without NQE Train Data: \\n\")\n",
    "f.write(str(Model1_Train_Distance))\n",
    "f.write(\"\\n\")\n",
    "f.write(\"Without NQE Test Data: \\n\")\n",
    "f.write(str(Model1_Test_Distance))\n",
    "f.write(\"\\n\")\n",
    "f.close()"
   ]
  },
  {
   "cell_type": "markdown",
   "metadata": {},
   "source": [
    "Model2"
   ]
  },
  {
   "cell_type": "code",
   "execution_count": 40,
   "metadata": {},
   "outputs": [],
   "source": [
    "feature_reduction = 'PCA4'\n",
    "classes = [0,1]\n",
    "X_train, X_test, Y_train, Y_test = data.data_load_and_process('kmnist', feature_reduction=feature_reduction, classes=classes)\n",
    "\n",
    "X1_test, X0_test = [], []\n",
    "for i in range(len(X_test)):\n",
    "    if Y_test[i] == 1:\n",
    "        X1_test.append(X_test[i])\n",
    "    else:\n",
    "        X0_test.append(X_test[i])\n",
    "X1_test, X0_test = torch.tensor(X1_test).to(torch.float32), torch.tensor(X0_test).to(torch.float32)\n",
    "\n",
    "X1_train, X0_train = [], []\n",
    "for i in range(len(X_train)):\n",
    "    if Y_train[i] == 1:\n",
    "        X1_train.append(X_train[i])\n",
    "    else:\n",
    "        X0_train.append(X_train[i])\n",
    "X1_train, X0_train = torch.tensor(X1_train).to(torch.float32), torch.tensor(X0_train).to(torch.float32)"
   ]
  },
  {
   "cell_type": "code",
   "execution_count": 41,
   "metadata": {},
   "outputs": [],
   "source": [
    "PATHs_Model2, PATHs_Model3 = [], []\n",
    "\n",
    "for i in range(21):\n",
    "    PATH_Model2 = f'PCA-NQE{i * 50}.pt'\n",
    "    PATH_Model3 = f'NQE{i * 50}.pt'\n",
    "\n",
    "    PATHs_Model2.append(PATH_Model2)\n",
    "    PATHs_Model3.append(PATH_Model3)\n",
    "\n",
    "Trace_Distance_history_Model2_Train = [D(PATH=p, Model='Model2', X1=X1_train, X0=X0_train).detach().numpy() for p in PATHs_Model2]\n",
    "Trace_Distance_history_Model2_Test = [D(PATH=p, Model='Model2', X1=X1_test, X0=X0_test).detach().numpy() for p in PATHs_Model2]"
   ]
  },
  {
   "cell_type": "code",
   "execution_count": 42,
   "metadata": {},
   "outputs": [],
   "source": [
    "f = open(\"Trace Distance History.txt\", 'a')\n",
    "f.write(\"PCA-NQE Train Data: \\n\")\n",
    "f.write(str(Trace_Distance_history_Model2_Train))\n",
    "f.write(\"\\n\")\n",
    "f.write(\"PCA-NQE Test Data: \\n\")\n",
    "f.write(str(Trace_Distance_history_Model2_Test))\n",
    "f.write(\"\\n\")\n",
    "f.close()"
   ]
  },
  {
   "cell_type": "markdown",
   "metadata": {},
   "source": [
    "Model3"
   ]
  },
  {
   "cell_type": "code",
   "execution_count": 43,
   "metadata": {},
   "outputs": [],
   "source": [
    "feature_reduction = False\n",
    "classes = [0,1]\n",
    "X_train, X_test, Y_train, Y_test = data.data_load_and_process('kmnist', feature_reduction=feature_reduction, classes=classes)\n",
    "\n",
    "X1_test, X0_test = [], []\n",
    "for i in range(len(X_test)):\n",
    "    if Y_test[i] == 1:\n",
    "        X1_test.append(X_test[i])\n",
    "    else:\n",
    "        X0_test.append(X_test[i])\n",
    "X1_test, X0_test = torch.tensor(X1_test).to(torch.float32), torch.tensor(X0_test).to(torch.float32)\n",
    "X1_test, X0_test = X1_test.permute(0, 3, 1, 2), X0_test.permute(0, 3, 1, 2)\n",
    "\n",
    "X1_train, X0_train = [], []\n",
    "for i in range(len(X_train)):\n",
    "    if Y_train[i] == 1:\n",
    "        X1_train.append(X_train[i])\n",
    "    else:\n",
    "        X0_train.append(X_train[i])\n",
    "X1_train, X0_train = torch.tensor(X1_train).to(torch.float32), torch.tensor(X0_train).to(torch.float32)\n",
    "X1_train, X0_train = X1_train.permute(0, 3, 1, 2), X0_train.permute(0, 3, 1, 2)"
   ]
  },
  {
   "cell_type": "code",
   "execution_count": 44,
   "metadata": {},
   "outputs": [],
   "source": [
    "Trace_Distance_history_Model3_Train = [D(PATH=p, Model='Model3', X1=X1_train, X0=X0_train).detach().numpy() for p in PATHs_Model3]\n",
    "Trace_Distance_history_Model3_Test = [D(PATH=p, Model='Model3', X1=X1_test, X0=X0_test).detach().numpy() for p in PATHs_Model3]"
   ]
  },
  {
   "cell_type": "code",
   "execution_count": 45,
   "metadata": {},
   "outputs": [],
   "source": [
    "f = open(\"Trace Distance History.txt\", 'a')\n",
    "f.write(\"NQE Train Data: \\n\")\n",
    "f.write(str(Trace_Distance_history_Model3_Train))\n",
    "f.write(\"\\n\")\n",
    "f.write(\"NQE Test Data: \\n\")\n",
    "f.write(str(Trace_Distance_history_Model3_Test))\n",
    "f.write(\"\\n\")\n",
    "f.close()"
   ]
  },
  {
   "attachments": {},
   "cell_type": "markdown",
   "metadata": {},
   "source": [
    "# Part 4: Result "
   ]
  },
  {
   "cell_type": "code",
   "execution_count": 2,
   "metadata": {},
   "outputs": [],
   "source": [
    "def data_read(PATH):\n",
    "  textfile = open(PATH, 'r')\n",
    "  data = np.array([])\n",
    "  for line in textfile:\n",
    "    a = np.array([float(v) for v in line.strip().split(\" \")])\n",
    "    data = np.append(data, a)\n",
    "  return data\n",
    "\n",
    "Loss_histories = data_read(\"Loss History.txt\").reshape(3, 5000)\n",
    "Loss_histories_not_trained = Loss_histories[0].reshape(5,1000)\n",
    "Loss_histories_Model2 = Loss_histories[1].reshape(5,1000)\n",
    "Loss_histories_Model3 = Loss_histories[2].reshape(5,1000)\n",
    "\n",
    "\n",
    "Weights = data_read(\"Weights.txt\").reshape(3, 5 * 30)\n",
    "weights_not_trained = Weights[0].reshape(5, 30)\n",
    "weights_Model2 = Weights[1].reshape(5, 30)\n",
    "weights_Model3 = Weights[2].reshape(5, 30)\n",
    "\n",
    "\n",
    "LH0_mean, LH0_std = Loss_histories_not_trained.mean(axis=0), Loss_histories_not_trained.std(axis=0)\n",
    "LH2_mean, LH2_std = Loss_histories_Model2.mean(axis=0), Loss_histories_Model2.std(axis=0)\n",
    "LH3_mean, LH3_std = Loss_histories_Model3.mean(axis=0), Loss_histories_Model3.std(axis=0)"
   ]
  },
  {
   "cell_type": "code",
   "execution_count": 3,
   "metadata": {},
   "outputs": [],
   "source": [
    "LB_without_NQE = 0.5 * (1 - 0.2459)\n",
    "LB_with_PCA_NQE = 0.5 * (1 - 0.7380209)\n",
    "LB_with_NQE = 0.5 * (1 - 0.8239291)"
   ]
  },
  {
   "cell_type": "code",
   "execution_count": 4,
   "metadata": {},
   "outputs": [
    {
     "data": {
      "image/png": "[encoded data removed]",
      "text/plain": [
       "<Figure size 1000x500 with 1 Axes>"
      ]
     },
     "metadata": {},
     "output_type": "display_data"
    }
   ],
   "source": [
    "import seaborn as sns\n",
    "n = 10\n",
    "plt.rcParams['figure.figsize'] = [10, 5]\n",
    "plt.rcParams.update({'font.size': 13})\n",
    "fig, ax = plt.subplots()\n",
    "clrs = sns.color_palette(\"husl\", 3)\n",
    "with sns.axes_style(\"darkgrid\"):    \n",
    "    ax.plot(np.array(range(len(LH2_mean[::n]))) * n, LH2_mean[::n], label=\"PCA-NQE\", linestyle='dashed', c=clrs[0])\n",
    "    ax.fill_between(np.array(range(len(LH2_mean[::n]))) * n, LH2_mean[::n]-LH2_std[::n], LH2_mean[::n]+LH2_std[::n], alpha=0.3,facecolor=clrs[0])\n",
    "\n",
    "    ax.plot(np.array(range(len(LH3_mean[::n]))) * n, LH3_mean[::n], label=\"NQE\", linestyle='dashdot', c=clrs[1])\n",
    "    ax.fill_between(np.array(range(len(LH3_mean[::n]))) * n, LH3_mean[::n]-LH3_std[::n], LH3_mean[::n]+LH3_std[::n], alpha=0.3,facecolor=clrs[1])\n",
    "\n",
    "    ax.plot(np.array(range(len(LH0_mean[::n]))) * n, LH0_mean[::n], label=\"Without NQE\", linestyle='solid', c=clrs[2])\n",
    "    ax.fill_between(np.array(range(len(LH0_mean[::n]))) * n, LH0_mean[::n]-LH0_std[::n], LH0_mean[::n]+LH0_std[::n], alpha=0.3,facecolor=clrs[2])\n",
    "\n",
    "\n",
    "   \n",
    "    ax.plot(range(1000), np.ones(1000) * LB_with_PCA_NQE, linestyle='dashdot', linewidth=1.5, label=\"Lower Bound PCA-NQE\", c=clrs[0])\n",
    "    ax.plot(range(1000), np.ones(1000) * LB_with_NQE, linestyle='dashdot', linewidth=1.5, label=\"Lower Bound NQE\", c=clrs[1])\n",
    "    ax.plot(range(1000), np.ones(1000) * LB_without_NQE, linestyle='solid', linewidth=1.5, label=\"Lower Bound without NQE\", c=clrs[2])\n",
    "\n",
    "\n",
    "ax.set_xlabel(\"Iteration\")\n",
    "ax.set_ylabel(\"Loss\")\n",
    "#ax.set_title(\"Noiseless QCNN Loss History\")\n",
    "ax.legend(fontsize=13, ncol=2)\n",
    "plt.savefig(\"Loss History.pdf\")\n"
   ]
  },
  {
   "attachments": {},
   "cell_type": "markdown",
   "metadata": {},
   "source": [
    "Calculate the classification accuracies for Model1,2"
   ]
  },
  {
   "cell_type": "code",
   "execution_count": 52,
   "metadata": {},
   "outputs": [],
   "source": [
    "feature_reduction = 'PCA4'\n",
    "X_train, X_test, Y_train, Y_test = data.data_load_and_process('kmnist', feature_reduction=feature_reduction, classes=classes)\n",
    "\n",
    "X_train, X_test = torch.tensor(X_train).to(torch.float32), torch.tensor(X_test).to(torch.float32)\n",
    "Y_train = [-1 if y == 0 else 1 for y in Y_train]\n",
    "Y_test = [-1 if y == 0 else 1 for y in Y_test]"
   ]
  },
  {
   "cell_type": "code",
   "execution_count": 53,
   "metadata": {},
   "outputs": [
    {
     "name": "stderr",
     "output_type": "stream",
     "text": [
      "/home/tak/anaconda3/envs/QC/lib/python3.11/site-packages/pennylane/math/utils.py:223: UserWarning: Contains tensors of types {'torch', 'autograd'}; dispatch will prioritize TensorFlow, PyTorch, and  Jax over Autograd. Consider replacing Autograd with vanilla NumPy.\n",
      "  warnings.warn(\n",
      "/tmp/ipykernel_268848/1513383349.py:6: UserWarning: To copy construct from a tensor, it is recommended to use sourceTensor.clone().detach() or sourceTensor.clone().detach().requires_grad_(True), rather than torch.tensor(sourceTensor).\n",
      "  x = model2(torch.tensor(x))\n"
     ]
    }
   ],
   "source": [
    "def accuracy_test(predictions, labels):\n",
    "    acc = 0\n",
    "    for l, p in zip(labels, predictions):\n",
    "        if np.abs(l - p) < 1:\n",
    "            acc = acc + 1\n",
    "    return acc / len(labels)\n",
    "\n",
    "\n",
    "accuracies_not_trained, accuracies_Model2_Fidelity = [], []\n",
    "\n",
    "for i in range(5):\n",
    "    prediction_not_trained = [QCNN_classifier(weights_not_trained[i], x, Trained=False) for x in X_test]\n",
    "    prediction_Model2_Fidelity = [QCNN_classifier(weights_Model2_Fidelity[i], x, Trained='PCA-NQE') for x in X_test]\n",
    "    \n",
    "    accuracy_not_trained = accuracy_test(prediction_not_trained, Y_test)\n",
    "    accuracy_Model2_Fidelity = accuracy_test(prediction_Model2_Fidelity, Y_test)\n",
    "\n",
    "    accuracies_not_trained.append(accuracy_not_trained)\n",
    "    accuracies_Model2_Fidelity.append(accuracy_Model2_Fidelity)\n",
    "\n",
    "accuracies_not_trained = np.array(accuracies_not_trained)\n",
    "accuracies_Model2_Fidelity = np.array(accuracies_Model2_Fidelity)"
   ]
  },
  {
   "cell_type": "code",
   "execution_count": 54,
   "metadata": {},
   "outputs": [],
   "source": [
    "feature_reduction = False\n",
    "X_train, X_test, Y_train, Y_test = data.data_load_and_process('kmnist', feature_reduction=feature_reduction, classes=classes)\n",
    "\n",
    "X_train, X_test = torch.tensor(X_train).to(torch.float32), torch.tensor(X_test).to(torch.float32)\n",
    "X_train, X_test = X_train.permute(0, 3, 1, 2), X_test.permute(0, 3, 1, 2)\n",
    "Y_train = [-1 if y == 0 else 1 for y in Y_train]\n",
    "Y_test = [-1 if y == 0 else 1 for y in Y_test]"
   ]
  },
  {
   "cell_type": "code",
   "execution_count": 55,
   "metadata": {},
   "outputs": [
    {
     "name": "stderr",
     "output_type": "stream",
     "text": [
      "/tmp/ipykernel_268848/1513383349.py:10: UserWarning: To copy construct from a tensor, it is recommended to use sourceTensor.clone().detach() or sourceTensor.clone().detach().requires_grad_(True), rather than torch.tensor(sourceTensor).\n",
      "  x = model3(torch.tensor(x))\n"
     ]
    }
   ],
   "source": [
    "accuracies_Model3_Fidelity = []\n",
    "\n",
    "for i in range(5):\n",
    "    prediction_Model3_Fidelity = [QCNN_classifier(weights_Model3_Fidelity[i], x, Trained='NQE') for x in X_test]\n",
    "    accuracy_Model3_Fidelity = accuracy_test(prediction_Model3_Fidelity, Y_test)\n",
    "    accuracies_Model3_Fidelity.append(accuracy_Model3_Fidelity)\n",
    "\n",
    "accuracies_Model3_Fidelity =np.array(accuracies_Model3_Fidelity)"
   ]
  },
  {
   "cell_type": "code",
   "execution_count": 56,
   "metadata": {},
   "outputs": [
    {
     "name": "stdout",
     "output_type": "stream",
     "text": [
      "QCNN classification accuracies:\n",
      "\n",
      "-------------------------------------\n",
      "\n",
      " Accuracy without NQE: 0.5522 ± 0.012180311982868095\n",
      " Accuracy with PCA-NQE: 0.8768 ± 0.0019131126469708892\n",
      " Accuracy with NQE: 0.9611000000000001 ± 0.0030886890422960928\n"
     ]
    }
   ],
   "source": [
    "\n",
    "print(\"QCNN classification accuracies:\\n\")\n",
    "print(\"-------------------------------------\\n\")\n",
    "print(f\" Accuracy without NQE: {accuracies_not_trained.mean()} ± {accuracies_not_trained.std()}\")\n",
    "print(f\" Accuracy with PCA-NQE: {accuracies_Model2_Fidelity.mean()} ± {accuracies_Model2_Fidelity.std()}\")\n",
    "print(f\" Accuracy with NQE: {accuracies_Model3_Fidelity.mean()} ± {accuracies_Model3_Fidelity.std()}\")\n"
   ]
  },
  {
   "cell_type": "markdown",
   "metadata": {},
   "source": [
    "# Trace Distance History"
   ]
  },
  {
   "cell_type": "code",
   "execution_count": 6,
   "metadata": {},
   "outputs": [],
   "source": [
    "D_without_NQE_Train = 0.2459\n",
    "D_without_NQE_Test = 0.2495\n",
    "D_with_PCA_NQE_Train = [0.6335812, 0.66688937, 0.6795073, 0.68708235, 0.6798806, 0.69814074, 0.69761014, 0.7093673, 0.70249146, 0.72064656, 0.7157695, 0.72127944, 0.7017031, 0.7252877, 0.71903485, 0.73850113, 0.7348126, 0.7302714, 0.73607856, 0.7405441, 0.7380209]\n",
    "D_with_PCA_NQE_Test = [0.6358084, 0.6620848, 0.6706156, 0.6775409, 0.6676708, 0.6806823, 0.6786356, 0.6851454, 0.6745423, 0.7001963, 0.6896511, 0.6952997, 0.6797505, 0.70180887, 0.7003378, 0.7156829, 0.70787996, 0.70397556, 0.70910513, 0.7087317, 0.70802855]\n",
    "D_with_NQE_Train = [0.00319432, 0.00335155, 0.00355761, 0.00378148, 0.00406547, 0.00446378, 0.00501188, 0.00577306, 0.00680844, 0.00873068, 0.01241674, 0.01961983, 0.04786431, 0.23129496, 0.6047697, 0.7180337, 0.7691778, 0.79990774, 0.8121091, 0.8191669, 0.8239291]\n",
    "D_with_NQE_Test = [0.00244655, 0.00255053, 0.0026986, 0.00286024, 0.0030695, 0.00335609, 0.00377901, 0.00435551, 0.00518774, 0.00681642, 0.0099289, 0.01581081, 0.03779212, 0.19017783, 0.5480306, 0.6600101, 0.7122723, 0.7448902, 0.75375104, 0.7590032, 0.76439863]"
   ]
  },
  {
   "cell_type": "code",
   "execution_count": 8,
   "metadata": {},
   "outputs": [
    {
     "name": "stderr",
     "output_type": "stream",
     "text": [
      "/var/folders/s2/t3n82l2s329dh9dttmtv7vr00000gn/T/ipykernel_1473/2281596251.py:5: UserWarning: *c* argument looks like a single numeric RGB or RGBA sequence, which should be avoided as value-mapping will have precedence in case its length matches with *x* & *y*.  Please use the *color* keyword-argument or provide a 2D array with a single row if you intend to specify the same RGB or RGBA value for all points.\n",
      "  ax1.scatter(range(21), D_with_PCA_NQE_Train, label=\"PCA-NQE\", c=clrs[0])\n",
      "/var/folders/s2/t3n82l2s329dh9dttmtv7vr00000gn/T/ipykernel_1473/2281596251.py:6: UserWarning: *c* argument looks like a single numeric RGB or RGBA sequence, which should be avoided as value-mapping will have precedence in case its length matches with *x* & *y*.  Please use the *color* keyword-argument or provide a 2D array with a single row if you intend to specify the same RGB or RGBA value for all points.\n",
      "  ax1.scatter(range(21), D_with_NQE_Train, label=\"NQE\", c=clrs[1], marker='^')\n",
      "/var/folders/s2/t3n82l2s329dh9dttmtv7vr00000gn/T/ipykernel_1473/2281596251.py:9: UserWarning: *c* argument looks like a single numeric RGB or RGBA sequence, which should be avoided as value-mapping will have precedence in case its length matches with *x* & *y*.  Please use the *color* keyword-argument or provide a 2D array with a single row if you intend to specify the same RGB or RGBA value for all points.\n",
      "  ax2.scatter(range(21), D_with_PCA_NQE_Test, label=\"PCA-NQE\", c=clrs[0])\n",
      "/var/folders/s2/t3n82l2s329dh9dttmtv7vr00000gn/T/ipykernel_1473/2281596251.py:10: UserWarning: *c* argument looks like a single numeric RGB or RGBA sequence, which should be avoided as value-mapping will have precedence in case its length matches with *x* & *y*.  Please use the *color* keyword-argument or provide a 2D array with a single row if you intend to specify the same RGB or RGBA value for all points.\n",
      "  ax2.scatter(range(21), D_with_NQE_Test, label=\"NQE\", c=clrs[1], marker='^')\n"
     ]
    },
    {
     "data": {
      "image/png": "[encoded data removed]",
      "text/plain": [
       "<Figure size 1000x500 with 2 Axes>"
      ]
     },
     "metadata": {},
     "output_type": "display_data"
    }
   ],
   "source": [
    "plt.rcParams['figure.figsize'] = [10, 5]\n",
    "fig, (ax1, ax2) = plt.subplots(1,2)\n",
    "clrs = sns.color_palette(\"husl\", 3)\n",
    "with sns.axes_style(\"darkgrid\"):\n",
    "    ax1.scatter(range(21), D_with_PCA_NQE_Train, label=\"PCA-NQE\", c=clrs[0])\n",
    "    ax1.scatter(range(21), D_with_NQE_Train, label=\"NQE\", c=clrs[1], marker='^')\n",
    "    ax1.plot(range(21), np.ones(21) * D_without_NQE_Train, linestyle='dashed', linewidth=1.5, label=\"Without NQE\", c=clrs[2])\n",
    "    \n",
    "    ax2.scatter(range(21), D_with_PCA_NQE_Test, label=\"PCA-NQE\", c=clrs[0])\n",
    "    ax2.scatter(range(21), D_with_NQE_Test, label=\"NQE\", c=clrs[1], marker='^')\n",
    "    ax2.plot(range(21), np.ones(21) * D_without_NQE_Test, linestyle='dashed', linewidth=1.5, label=\"Without NQE\", c=clrs[2])\n",
    "\n",
    "ax1.set_xlabel(\"Iteration\")\n",
    "ax1.set_ylabel(\"Trace Distance\")\n",
    "ax1.set_title(\"Training data\")\n",
    "ax1.legend()\n",
    "\n",
    "ax2.set_xlabel(\"Iteration\")\n",
    "ax2.set_ylabel(\"Trace Distance\")\n",
    "ax2.set_title(\"Test data\")\n",
    "ax2.legend()\n",
    "plt.savefig(\"Trace Distance History.pdf\")"
   ]
  },
  {
   "cell_type": "markdown",
   "metadata": {},
   "source": [
    "## 5.QKM Generalization"
   ]
  },
  {
   "cell_type": "code",
   "execution_count": 10,
   "metadata": {},
   "outputs": [
    {
     "data": {
      "text/plain": [
       "<All keys matched successfully>"
      ]
     },
     "execution_count": 10,
     "metadata": {},
     "output_type": "execute_result"
    }
   ],
   "source": [
    "model2 = x_transform2()\n",
    "model3 = x_transform3()\n",
    "\n",
    "model2.load_state_dict(torch.load(\"PCA-NQE1000.pt\"))\n",
    "model3.load_state_dict(torch.load(\"NQE1000.pt\"))"
   ]
  },
  {
   "cell_type": "code",
   "execution_count": 11,
   "metadata": {},
   "outputs": [],
   "source": [
    "@qml.qnode(dev)\n",
    "def overlap_circuit1(x1,x2):\n",
    "    embedding.Four_QuantumEmbedding1(x1)\n",
    "    embedding.Four_QuantumEmbedding1_inverse(x2)\n",
    "    return qml.probs(wires=range(4))\n",
    "\n",
    "@qml.qnode(dev)\n",
    "def overlap_circuit2(x1,x2):\n",
    "    embedding.Four_QuantumEmbedding2(x1)\n",
    "    embedding.Four_QuantumEmbedding2_inverse(x2)\n",
    "    return qml.probs(wires=range(4))\n",
    "\n",
    "def kernel(x1, x2, NQE):\n",
    "    if NQE == False:\n",
    "        kernel = overlap_circuit1(x1,x2)\n",
    "    \n",
    "    \n",
    "    elif NQE == 'PCA-NQE':\n",
    "        x1 = model2(torch.tensor(x1))\n",
    "        x2 = model2(torch.tensor(x2))\n",
    "        kernel = overlap_circuit2(x1, x2)\n",
    "\n",
    "    elif NQE == 'NQE':\n",
    "        x1 = model3(torch.tensor(x1))[0]\n",
    "        x2 = model3(torch.tensor(x2))[0]\n",
    "        kernel = overlap_circuit2(x1,x2)\n",
    "    \n",
    "    return kernel"
   ]
  },
  {
   "cell_type": "code",
   "execution_count": 12,
   "metadata": {},
   "outputs": [],
   "source": [
    "def get_error_bound(weights, Kernel):\n",
    "    error_list = []\n",
    "    for weight in weights:\n",
    "        Kernel_MP = np.linalg.pinv(Kernel + weight * np.eye(N), hermitian = True)\n",
    "        error_list.append(np.sqrt(Y_train @ Kernel_MP @ Kernel @ Kernel_MP @ Y_train.T / N))\n",
    "        \n",
    "    error_list = np.array(error_list)\n",
    "\n",
    "    return error_list"
   ]
  },
  {
   "cell_type": "code",
   "execution_count": 13,
   "metadata": {},
   "outputs": [
    {
     "name": "stdout",
     "output_type": "stream",
     "text": [
      "0\n",
      "1\n",
      "2\n",
      "3\n",
      "4\n"
     ]
    }
   ],
   "source": [
    "for k in range(5):\n",
    "    print(k)\n",
    "    feature_reduction = 'PCA4'\n",
    "    classes = [0,1]\n",
    "    X_train, X_test, Y_train, Y_test = data.data_load_and_process('kmnist', feature_reduction=feature_reduction, classes=classes)\n",
    "    Y_train = [-1 if y == 0 else 1 for y in Y_train]\n",
    "    Y_test = [-1 if y == 0 else 1 for y in Y_test]\n",
    "    Y_train = np.array(Y_train)\n",
    "    N = 1000\n",
    "    X_train = X_train[k * N: (k + 1) * N]\n",
    "    Y_train = Y_train[k * N: (k + 1) * N]\n",
    "\n",
    "    Kernel0 = np.zeros((N,N))\n",
    "    for i in range(N):\n",
    "        for j in range(i,N):\n",
    "            x = kernel(X_train[i], X_train[j], False)\n",
    "            Kernel0[i][j] = x[0]\n",
    "            Kernel0[j][i] = x[0]\n",
    "\n",
    "    weights = np.arange(0.1 , 1, 0.1)\n",
    "    error_list = get_error_bound(weights, Kernel0)\n",
    "    f = open(\"generalization.txt\", 'a')\n",
    "    f.write(\"\\n\")\n",
    "    f.write(f\"Generalization Error bounds list {k}\\n\")\n",
    "    f.write(str(error_list))\n",
    "    f.close()\n",
    "\n",
    "    Kernel_rank = np.linalg.matrix_rank(Kernel0)\n",
    "    Kernel_offD = []\n",
    "    for i in range(N):\n",
    "        for j in range(i + 1, N):\n",
    "            Kernel_offD.append(Kernel0[i][j])\n",
    "\n",
    "    Kernel_offD = np.array(Kernel_offD)\n",
    "    Kernel_element_variance = Kernel_offD.std()**2\n",
    "\n",
    "    f = open(\"Kernel Rank & Variance.txt\", 'a')\n",
    "    f.write(\"\\n\")\n",
    "    f.write(f\"Kernel0 iter {k}\\n\")\n",
    "    f.write(f\"Kernel Rank: {Kernel_rank}\\n\")\n",
    "    f.write(f\"Kernel Variance: {Kernel_element_variance}\\n\")\n",
    "    f.close()"
   ]
  },
  {
   "cell_type": "code",
   "execution_count": 14,
   "metadata": {},
   "outputs": [
    {
     "name": "stdout",
     "output_type": "stream",
     "text": [
      "0\n",
      "1\n",
      "2\n",
      "3\n",
      "4\n"
     ]
    }
   ],
   "source": [
    "for k in range(5):\n",
    "    print(k)\n",
    "    feature_reduction = 'PCA4'\n",
    "    classes = [0,1]\n",
    "    X_train, X_test, Y_train, Y_test = data.data_load_and_process('kmnist', feature_reduction=feature_reduction, classes=classes)\n",
    "    Y_train = [-1 if y == 0 else 1 for y in Y_train]\n",
    "    Y_test = [-1 if y == 0 else 1 for y in Y_test]\n",
    "    Y_train = np.array(Y_train)\n",
    "    \n",
    "    N = 1000\n",
    "    X_train = X_train[k * N: (k + 1) * N]\n",
    "    Y_train = Y_train[k * N: (k + 1) * N]\n",
    "\n",
    "    Kernel2 = np.zeros((N,N))\n",
    "    for i in range(N):\n",
    "        for j in range(i,N):\n",
    "            x = kernel(X_train[i], X_train[j], \"PCA-NQE\")\n",
    "            Kernel2[i][j] = x[0]\n",
    "            Kernel2[j][i] = x[0]\n",
    "\n",
    "    weights = np.arange(0.1 , 1, 0.1)\n",
    "    error_list = get_error_bound(weights, Kernel2)\n",
    "    f = open(\"generalization.txt\", 'a')\n",
    "    f.write(\"\\n\")\n",
    "    f.write(f\"Generalization Error bounds list (PCA-NQE) {k}\\n\")\n",
    "    f.write(str(error_list))\n",
    "    f.close()\n",
    "\n",
    "    Kernel_rank = np.linalg.matrix_rank(Kernel2)\n",
    "    Kernel_offD = []\n",
    "    for i in range(N):\n",
    "        for j in range(i + 1, N):\n",
    "            Kernel_offD.append(Kernel2[i][j])\n",
    "\n",
    "    Kernel_offD = np.array(Kernel_offD)\n",
    "    Kernel_element_variance = Kernel_offD.std()**2\n",
    "\n",
    "    f = open(\"Kernel Rank & Variance.txt\", 'a')\n",
    "    f.write(\"\\n\")\n",
    "    f.write(f\"Kernel2 iter {k}\\n\")\n",
    "    f.write(f\"Kernel Rank: {Kernel_rank}\\n\")\n",
    "    f.write(f\"Kernel Variance: {Kernel_element_variance}\\n\")\n",
    "    f.close()"
   ]
  },
  {
   "cell_type": "code",
   "execution_count": 15,
   "metadata": {},
   "outputs": [
    {
     "name": "stdout",
     "output_type": "stream",
     "text": [
      "0\n",
      "1\n",
      "2\n",
      "3\n",
      "4\n"
     ]
    }
   ],
   "source": [
    "for k in range(5):\n",
    "    print(k)\n",
    "    \n",
    "    classes = [0,1]\n",
    "    feature_reduction = False\n",
    "    X_train, X_test, Y_train, Y_test = data.data_load_and_process('kmnist', feature_reduction=feature_reduction, classes=classes)\n",
    "    X_train, X_test = torch.tensor(X_train).to(torch.float32), torch.tensor(X_test).to(torch.float32)\n",
    "    X_train, X_test = X_train.permute(0,3,1,2).detach().numpy(), X_test.permute(0,3,1,2).detach().numpy()\n",
    "    Y_train = [-1 if y == 0 else 1 for y in Y_train]\n",
    "    Y_test = [-1 if y == 0 else 1 for y in Y_test]\n",
    "    Y_train = np.array(Y_train)\n",
    "\n",
    "    N = 1000\n",
    "    X_train = X_train[k * N: (k + 1) * N]\n",
    "    Y_train = Y_train[k * N: (k + 1) * N]\n",
    "\n",
    "    Kernel3 = np.zeros((N,N))\n",
    "    for i in range(N):\n",
    "        for j in range(i,N):\n",
    "            x = kernel(X_train[i], X_train[j], \"NQE\")\n",
    "            Kernel3[i][j] = x[0]\n",
    "            Kernel3[j][i] = x[0]\n",
    "\n",
    "    weights = np.arange(0.1 , 1, 0.1)\n",
    "    error_list = get_error_bound(weights, Kernel3)\n",
    "    f = open(\"generalization.txt\", 'a')\n",
    "    f.write(\"\\n\")\n",
    "    f.write(f\"Generalization Error bounds list (NQE) {k}\\n\")\n",
    "    f.write(str(error_list))\n",
    "    f.close()\n",
    "\n",
    "    Kernel_rank = np.linalg.matrix_rank(Kernel3)\n",
    "    Kernel_offD = []\n",
    "    for i in range(N):\n",
    "        for j in range(i + 1, N):\n",
    "            Kernel_offD.append(Kernel3[i][j])\n",
    "\n",
    "    Kernel_offD = np.array(Kernel_offD)\n",
    "    Kernel_element_variance = Kernel_offD.std()**2\n",
    "\n",
    "    f = open(\"Kernel Rank & Variance.txt\", 'a')\n",
    "    f.write(\"\\n\")\n",
    "    f.write(f\"Kernel3 iter {k}\\n\")\n",
    "    f.write(f\"Kernel Rank: {Kernel_rank}\\n\")\n",
    "    f.write(f\"Kernel Variance: {Kernel_element_variance}\\n\")\n",
    "    f.close()"
   ]
  },
  {
   "cell_type": "code",
   "execution_count": 23,
   "metadata": {},
   "outputs": [],
   "source": [
    "weights = np.arange(0.1, 1, 0.1)\n",
    "error_list0 = [0.39203959, 0.3485892 , 0.31900204, 0.2970116 , 0.27974319, 0.26565713,\n",
    " 0.25384233, 0.24371978, 0.23490101, 0.39622429, 0.35348289, 0.32452843, 0.30269804, 0.28526894, 0.27084262,\n",
    " 0.2585983 , 0.24801047, 0.23872152, 0.44101287, 0.37242675, 0.33059872, 0.30168041, 0.28013386, 0.26325926,\n",
    " 0.2495645 , 0.23814954, 0.22843518, 0.42429384, 0.37198458, 0.33770808, 0.31267428, 0.29319194, 0.27738638,\n",
    " 0.26418205, 0.25290738, 0.24311618, 0.44657741, 0.38004898, 0.33886037, 0.31000263, 0.28825914, 0.27107283,\n",
    " 0.25702019, 0.24523553, 0.23515708]\n",
    "error_list2 = [0.23438801, 0.16393434, 0.13296558, 0.11547525, 0.10422541, 0.09636141,\n",
    " 0.0905312 , 0.08601468, 0.082395  ,0.18741016 ,0.13565395 ,0.11418403 ,0.10209784, 0.09420847, 0.08857122,\n",
    " 0.08428872, 0.08088908, 0.07810025, 0.18218523, 0.13478825, 0.11353719, 0.1009386,  0.09243606, 0.08624444,\n",
    " 0.08150293, 0.077739  , 0.07466912, 0.19325171, 0.14061391, 0.11759039, 0.10410271, 0.09505713, 0.08848595,\n",
    " 0.08345252, 0.07944901, 0.07617407, 0.235212  , 0.16217105, 0.12974469, 0.11103565, 0.09882403, 0.0902354,\n",
    " 0.08387716, 0.07898812, 0.07511634]\n",
    "error_list3 = [0.15942439, 0.11295119, 0.09418186, 0.08394133, 0.07747992, 0.07303158,\n",
    " 0.06978486, 0.0673133 , 0.06537081, 0.1809912 , 0.13017819, 0.1096855 , 0.09826482, 0.09082426, 0.08551259,\n",
    " 0.08148942, 0.07831449, 0.07573269, 0.18849856, 0.13385237, 0.11169691, 0.09934495, 0.09134001, 0.08567117,\n",
    " 0.08141522, 0.07808548, 0.07539942, 0.18657256, 0.12664813, 0.10264367, 0.08984371, 0.08195181, 0.07662441,\n",
    " 0.07279622, 0.06991645, 0.06767301, 0.20299699, 0.13955395, 0.11387736, 0.09982744, 0.09091803, 0.08473902,\n",
    " 0.08018729, 0.07668612, 0.07390427]\n",
    "\n",
    "error_list0, error_list2, error_list3 = np.array(error_list0), np.array(error_list2), np.array(error_list3)\n",
    "error_list0 = error_list0.reshape(5,9)\n",
    "error_list2 = error_list2.reshape(5,9)\n",
    "error_list3 = error_list3.reshape(5,9)\n",
    "\n",
    "error_list0_mean, error_list0_std = error_list0.mean(axis=0), error_list0.std(axis=0)\n",
    "error_list2_mean, error_list2_std = error_list2.mean(axis=0), error_list2.std(axis=0)\n",
    "error_list3_mean, error_list3_std = error_list3.mean(axis=0), error_list3.std(axis=0)"
   ]
  },
  {
   "cell_type": "code",
   "execution_count": 24,
   "metadata": {},
   "outputs": [
    {
     "name": "stderr",
     "output_type": "stream",
     "text": [
      "/var/folders/s2/t3n82l2s329dh9dttmtv7vr00000gn/T/ipykernel_27362/1315228976.py:10: UserWarning: *c* argument looks like a single numeric RGB or RGBA sequence, which should be avoided as value-mapping will have precedence in case its length matches with *x* & *y*.  Please use the *color* keyword-argument or provide a 2D array with a single row if you intend to specify the same RGB or RGBA value for all points.\n",
      "  ax.scatter(weights, error_list2_mean, label=\"PCA-NQE\", marker=\"o\", c=clrs[0])\n",
      "/var/folders/s2/t3n82l2s329dh9dttmtv7vr00000gn/T/ipykernel_27362/1315228976.py:11: UserWarning: *c* argument looks like a single numeric RGB or RGBA sequence, which should be avoided as value-mapping will have precedence in case its length matches with *x* & *y*.  Please use the *color* keyword-argument or provide a 2D array with a single row if you intend to specify the same RGB or RGBA value for all points.\n",
      "  ax.scatter(weights, error_list3_mean, label=\"NQE\", marker=\"^\", c=clrs[1])\n",
      "/var/folders/s2/t3n82l2s329dh9dttmtv7vr00000gn/T/ipykernel_27362/1315228976.py:12: UserWarning: *c* argument looks like a single numeric RGB or RGBA sequence, which should be avoided as value-mapping will have precedence in case its length matches with *x* & *y*.  Please use the *color* keyword-argument or provide a 2D array with a single row if you intend to specify the same RGB or RGBA value for all points.\n",
      "  ax.scatter(weights, error_list0_mean, label=\"Without NQE\", marker=\"s\", c=clrs[2])\n"
     ]
    },
    {
     "data": {
      "image/png": "[encoded data removed]",
      "text/plain": [
       "<Figure size 1000x500 with 1 Axes>"
      ]
     },
     "metadata": {},
     "output_type": "display_data"
    }
   ],
   "source": [
    "import seaborn as sns\n",
    "import matplotlib.pyplot as plt\n",
    "\n",
    "plt.rcParams['figure.figsize'] = [10, 5]\n",
    "plt.rcParams.update({'font.size': 13})\n",
    "fig, ax = plt.subplots()\n",
    "clrs = sns.color_palette(\"husl\", 3)\n",
    "with sns.axes_style(\"darkgrid\"):\n",
    "    \n",
    "    ax.scatter(weights, error_list2_mean, label=\"PCA-NQE\", marker=\"o\", c=clrs[0])\n",
    "    ax.scatter(weights, error_list3_mean, label=\"NQE\", marker=\"^\", c=clrs[1])\n",
    "    ax.scatter(weights, error_list0_mean, label=\"Without NQE\", marker=\"s\", c=clrs[2])\n",
    "    \n",
    "    \n",
    "    ax.errorbar(weights, error_list2_mean, yerr=error_list2_std, fmt=\"o\", c=clrs[0])\n",
    "    ax.errorbar(weights, error_list3_mean, yerr=error_list3_std, fmt=\"^\", c=clrs[1])\n",
    "    ax.errorbar(weights, error_list0_mean, yerr=error_list0_std, fmt=\"s\", c=clrs[2])\n",
    "\n",
    "ax.set_xlabel(\"Regularization Weight (λ)\")\n",
    "ax.set_ylabel(\"Generalization Error Bound (G)\")\n",
    "#ax.set_title(\"Generalization Error Bounds against Regularization Weights\")\n",
    "ax.legend(fontsize=16)\n",
    "plt.savefig(\"QKM Generalization.pdf\")"
   ]
  },
  {
   "cell_type": "markdown",
   "metadata": {},
   "source": [
    "## Expressibility and Kernel Variance"
   ]
  },
  {
   "cell_type": "code",
   "execution_count": 16,
   "metadata": {},
   "outputs": [],
   "source": [
    "def random_unitary(n):\n",
    "    \"\"\"\n",
    "        Return a Haar distributed random unitary from U(N)\n",
    "    \"\"\"\n",
    "\n",
    "    Z = np.random.randn(2**n, 2**n) + 1.0j * np.random.randn(2**n, 2**n)\n",
    "    [Q, R] = np.linalg.qr(Z)\n",
    "    D = np.diag(np.diagonal(R) / np.abs(np.diagonal(R)))\n",
    "    return np.dot(Q, D)\n",
    "\n",
    "def haar_integral(num_qubits, samples):\n",
    "    \"\"\"\n",
    "        Return calculation of Haar Integral for a specified number of samples.\n",
    "    \"\"\"\n",
    "\n",
    "    n = num_qubits\n",
    "    randunit_density = np.zeros((4**n, 4**n), dtype=complex)\n",
    "\n",
    "    \n",
    "    zero_state = np.zeros(4**n, dtype=complex)\n",
    "    zero_state[0] = 1\n",
    "    \n",
    "    for _ in range(samples):\n",
    "        U = random_unitary(n)\n",
    "        U = np.kron(U,U)\n",
    "        A = np.matmul(zero_state, U).reshape(-1,1)\n",
    "        randunit_density += np.kron(A, A.conj().T) \n",
    "\n",
    "    randunit_density/=samples\n",
    "\n",
    "    return randunit_density"
   ]
  },
  {
   "cell_type": "code",
   "execution_count": 17,
   "metadata": {},
   "outputs": [],
   "source": [
    "def kron(a, b):\n",
    "    \"\"\"\n",
    "    Kronecker product of matrices a and b with leading batch dimensions.\n",
    "    Batch dimensions are broadcast. The number of them mush\n",
    "    :type a: torch.Tensor\n",
    "    :type b: torch.Tensor\n",
    "    :rtype: torch.Tensor\n",
    "    \"\"\"\n",
    "    siz1 = torch.Size(torch.tensor(a.shape[-2:]) * torch.tensor(b.shape[-2:]))\n",
    "    res = a.unsqueeze(-1).unsqueeze(-3) * b.unsqueeze(-2).unsqueeze(-4)\n",
    "    siz0 = res.shape[:-4]\n",
    "    return res.reshape(siz0 + siz1)\n",
    "\n",
    "dev_sim = qml.device('default.qubit', wires=4)\n",
    "@qml.qnode(dev_sim, interface=\"torch\")\n",
    "def circuit2(inputs): \n",
    "    embedding.Four_QuantumEmbedding2(inputs)\n",
    "    return qml.density_matrix(wires=range(4))\n",
    "\n",
    "@qml.qnode(dev_sim, interface=\"torch\")\n",
    "def circuit1(inputs): \n",
    "    embedding.Four_QuantumEmbedding1(inputs)\n",
    "    return qml.density_matrix(wires=range(4))\n",
    "\n",
    "\n",
    "class exp0(torch.nn.Module):\n",
    "    def __init__(self):\n",
    "        super().__init__()\n",
    "        self.qlayer0 = qml.qnn.TorchLayer(circuit1, weight_shapes={})\n",
    "\n",
    "    def forward(self, x):\n",
    "        rhos = self.qlayer0(x)\n",
    "        rhos = kron(rhos, rhos)\n",
    "        rho = torch.sum(rhos, dim=0) / len(x)\n",
    "        rho = rho.detach().numpy()\n",
    "        exp = np.linalg.norm(rho - haar_integral(4, len(x)))\n",
    "        return exp**2\n",
    "    \n",
    "    \n",
    "class exp2(torch.nn.Module):\n",
    "    def __init__(self):\n",
    "        super().__init__()\n",
    "        self.qlayer2 = qml.qnn.TorchLayer(circuit2, weight_shapes={})\n",
    "        self.linear_relu_stack2 = nn.Sequential(\n",
    "            nn.Linear(4, 12),\n",
    "            nn.ReLU(),\n",
    "            nn.Linear(12, 12),\n",
    "            nn.ReLU(),\n",
    "            nn.Linear(12, 8)\n",
    "        )\n",
    "    def forward(self, x):\n",
    "        x = self.linear_relu_stack2(x)\n",
    "        rhos = self.qlayer2(x)\n",
    "        rhos = kron(rhos, rhos)\n",
    "        rho = torch.sum(rhos, dim=0) / len(x)\n",
    "        rho = rho.detach().numpy()\n",
    "        exp = np.linalg.norm(rho - haar_integral(4, len(x)))\n",
    "        return exp**2\n",
    "\n",
    "\n",
    "class exp3(torch.nn.Module):\n",
    "    def __init__(self):\n",
    "        super().__init__()\n",
    "        self.qlayer3 = qml.qnn.TorchLayer(circuit2, weight_shapes={})\n",
    "        self.layer1 = torch.nn.Sequential(\n",
    "            torch.nn.Conv2d(1, 1, kernel_size=3, stride=1, padding=1),\n",
    "            torch.nn.ReLU(),\n",
    "            torch.nn.MaxPool2d(kernel_size=2, stride=2)\n",
    "        )\n",
    "\n",
    "        # Layer2: 14 * 14 -> 7 * 7\n",
    "        self.layer2 = torch.nn.Sequential(\n",
    "            torch.nn.Conv2d(1, 1, kernel_size=3, stride=1, padding=1),\n",
    "            torch.nn.ReLU(),\n",
    "            torch.nn.MaxPool2d(kernel_size=2, stride=2)\n",
    "        )\n",
    "\n",
    "        # Fully connected Layers 7 * 7 -> 7\n",
    "        self.fc1 = torch.nn.Linear(7 * 7, 32, bias=True)\n",
    "        self.fc2 = torch.nn.Linear(32, 8, bias=True)\n",
    "    \n",
    "    def forward(self, x):\n",
    "        x = self.layer1(x)\n",
    "        x = self.layer2(x)\n",
    "        x = x.view(-1, 7 * 7)\n",
    "        x = self.fc1(x)\n",
    "        x = self.fc2(x)\n",
    "        rhos = self.qlayer3(x)\n",
    "        rhos = kron(rhos, rhos)\n",
    "        rho = torch.sum(rhos, dim=0) / len(x)\n",
    "        rho = rho.detach().numpy()\n",
    "        exp = np.linalg.norm(rho - haar_integral(4, len(x)))\n",
    "        return exp**2"
   ]
  },
  {
   "cell_type": "code",
   "execution_count": 18,
   "metadata": {},
   "outputs": [
    {
     "name": "stderr",
     "output_type": "stream",
     "text": [
      "/var/folders/s2/t3n82l2s329dh9dttmtv7vr00000gn/T/ipykernel_27362/3743787078.py:4: UserWarning: Creating a tensor from a list of numpy.ndarrays is extremely slow. Please consider converting the list to a single numpy.ndarray with numpy.array() before converting to a tensor. (Triggered internally at /Users/runner/work/pytorch/pytorch/pytorch/torch/csrc/utils/tensor_new.cpp:248.)\n",
      "  X_test =  torch.tensor(X_test).to(torch.float32)\n"
     ]
    }
   ],
   "source": [
    "feature_reduction = 'PCA4'\n",
    "classes = [0,1]\n",
    "X_train, X_test, Y_train, Y_test = data.data_load_and_process('kmnist', feature_reduction=feature_reduction, classes=classes)\n",
    "X_test =  torch.tensor(X_test).to(torch.float32)\n",
    "X_train = torch.tensor(X_train).to(torch.float32)"
   ]
  },
  {
   "cell_type": "code",
   "execution_count": 19,
   "metadata": {},
   "outputs": [
    {
     "name": "stderr",
     "output_type": "stream",
     "text": [
      "/Users/tak/anaconda3/envs/QC/lib/python3.11/site-packages/pennylane/qnn/torch.py:331: UserWarning: Casting complex values to real discards the imaginary part (Triggered internally at /Users/runner/work/pytorch/pytorch/pytorch/aten/src/ATen/native/Copy.cpp:276.)\n",
      "  return res.type(x.dtype)\n"
     ]
    },
    {
     "name": "stdout",
     "output_type": "stream",
     "text": [
      "Without NQE Expressibility Train Data: 0.052167652072541655\n",
      "Without NQE Expressibility Test Data: 0.07725036157046712\n",
      "PCA-NQE Expressibility Train Data: 0.15043277265932112\n",
      "PCA-NQE Expressibility Test Data: 0.15482814396728897\n"
     ]
    }
   ],
   "source": [
    "model0 = exp0()\n",
    "model2 = exp2()\n",
    "model2.load_state_dict(torch.load(\"PCA-NQE1000.pt\"))\n",
    "exp_model0_train = model0(X_train)\n",
    "exp_model0_test = model0(X_test)\n",
    "print(f\"Without NQE Expressibility Train Data: {exp_model0_train}\")\n",
    "print(f\"Without NQE Expressibility Test Data: {exp_model0_test}\")\n",
    "exp_model2_train = model2(X_train)\n",
    "exp_model2_test = model2(X_test)\n",
    "print(f\"PCA-NQE Expressibility Train Data: {exp_model2_train}\")\n",
    "print(f\"PCA-NQE Expressibility Test Data: {exp_model2_test}\")"
   ]
  },
  {
   "cell_type": "code",
   "execution_count": 20,
   "metadata": {},
   "outputs": [],
   "source": [
    "feature_reduction = False\n",
    "classes = [0,1]\n",
    "X_train, X_test, Y_train, Y_test = data.data_load_and_process('kmnist', feature_reduction=feature_reduction, classes=classes)\n",
    "X_train, X_test = torch.tensor(X_train).to(torch.float32), torch.tensor(X_test).to(torch.float32)\n",
    "X_train, X_test = X_train.permute(0, 3, 1, 2), X_test.permute(0, 3, 1, 2)"
   ]
  },
  {
   "cell_type": "code",
   "execution_count": 21,
   "metadata": {},
   "outputs": [
    {
     "name": "stdout",
     "output_type": "stream",
     "text": [
      "PCA-NQE Expressibility Train Data: 0.09994459511854943\n",
      "PCA-NQE Expressibility Test Data: 0.1011217715983945\n"
     ]
    }
   ],
   "source": [
    "model3 = exp3()\n",
    "model3.load_state_dict(torch.load(\"NQE1000.pt\"))\n",
    "exp_model3_train = model3(X_train)\n",
    "exp_model3_test = model3(X_test)\n",
    "print(f\"PCA-NQE Expressibility Train Data: {exp_model3_train}\")\n",
    "print(f\"PCA-NQE Expressibility Test Data: {exp_model3_test}\")"
   ]
  },
  {
   "cell_type": "code",
   "execution_count": 25,
   "metadata": {},
   "outputs": [
    {
     "name": "stdout",
     "output_type": "stream",
     "text": [
      "0.22840239068919935 0.27793949264267415 0.3878566393131889 0.3934820757890872 0.31614015106997945 0.3179964962045879\n"
     ]
    }
   ],
   "source": [
    "Kernel0_variance = [0.03008492324217116, 0.02882257691285288, 0.029073124980717353, 0.031193958450468372, 0.030468064992801098]\n",
    "Kernel2_variance = [0.14103059515556013, 0.14022778977096162, 0.14546284259459374, 0.1457525376883299, 0.14651542659692296]\n",
    "Kernel3_variance = [0.15126299791131445, 0.14810507088107816, 0.14477452702241136, 0.14562901777887657, 0.14612072854382496]\n",
    "\n",
    "Kernel0_variance = np.array(Kernel0_variance)\n",
    "Kernel2_variance = np.array(Kernel2_variance)\n",
    "Kernel3_variance = np.array(Kernel3_variance)\n",
    "\n",
    "exp0_train = 0.052167652072541655\n",
    "exp0_test = 0.07725036157046712\n",
    "exp2_train = 0.15043277265932112\n",
    "exp2_test = 0.15482814396728897\n",
    "exp3_train = 0.09994459511854943\n",
    "exp3_test = 0.1011217715983945\n",
    "\n",
    "print(np.sqrt(exp0_train), np.sqrt(exp0_test), np.sqrt(exp2_train), np.sqrt(exp2_test), np.sqrt(exp3_train), np.sqrt(exp3_test), )"
   ]
  },
  {
   "cell_type": "code",
   "execution_count": 27,
   "metadata": {},
   "outputs": [
    {
     "data": {
      "image/png": "[encoded data removed]",
      "text/plain": [
       "<Figure size 1300x500 with 2 Axes>"
      ]
     },
     "metadata": {},
     "output_type": "display_data"
    }
   ],
   "source": [
    "import seaborn as sns\n",
    "import matplotlib.pyplot as plt\n",
    "plt.rcParams['figure.figsize'] = [13, 5]\n",
    "plt.rcParams.update({'font.size': 16})\n",
    "fig, (ax1, ax2) = plt.subplots(1,2)\n",
    "clrs = sns.color_palette(\"husl\", 3)\n",
    "with sns.axes_style(\"darkgrid\"):\n",
    "    X = (\"PCA-NQE\", \"NQE\", \"Without NQE\",)\n",
    "    expressibility = {\n",
    "        'Train data': (0.150, 0.100, 0.052),\n",
    "        'Test data': (0.155, 0.101, 0.077),\n",
    "    }\n",
    "    Kernel_Variance = {\n",
    "        'Kernel_Variance': (Kernel0_variance.mean(), Kernel2_variance.mean(), \n",
    "                            Kernel3_variance.mean())\n",
    "    }\n",
    "\n",
    "x = np.arange(len(X))  # the label locations\n",
    "width = 0.4  # the width of the bars\n",
    "multiplier = 0\n",
    "\n",
    "\n",
    "for attribute, measurement in expressibility.items():\n",
    "    if attribute == 'Train data':\n",
    "        color = \"black\"\n",
    "    else:\n",
    "        color = \"white\"\n",
    "    offset = width * multiplier\n",
    "    rects = ax1.bar(x + offset, measurement, width, label=attribute, color=color, edgecolor='black')\n",
    "    ax1.bar_label(rects, padding=3, fontsize=14)\n",
    "    multiplier += 1\n",
    "\n",
    "#x = np.arange(len(X))  # the label locations\n",
    "#width = 0.25 # the width of the bars\n",
    "#multiplier = 0\n",
    "\n",
    "#for attribute, measurement in Kernel_Variance.items():\n",
    "#    if attribute == 'Kernel_Variance':\n",
    "#        color = \"white\"\n",
    "#    else:\n",
    "#        color = \"white\"\n",
    "#    offset = width * multiplier\n",
    "#    rects = ax2.bar(x + offset, measurement, width, label=attribute, color=color, edgecolor='black')\n",
    "#    ax2.bar_label(rects,padding=3, fontsize=10)\n",
    "#    multiplier += 1\n",
    "\n",
    "# Add some text for labels, title and custom x-axis tick labels, etc.\n",
    "ax1.set_ylabel('Deviation from 2-design')\n",
    "#ax1.set_title('Expressibility')\n",
    "ax1.set_xticks(x + width - 0.2, X)\n",
    "ax1.legend(loc='upper left', ncols=1, fontsize=13)\n",
    "ax1.set_ylim(0, 0.5)\n",
    "\n",
    "x_pos = np.arange(3)\n",
    "y = [Kernel2_variance.mean(), Kernel3_variance.mean(), Kernel0_variance.mean()]\n",
    "error = [Kernel2_variance.std(), Kernel3_variance.std(), Kernel0_variance.std()]\n",
    "ax2.bar(x_pos, y, yerr=error, align='center', alpha=0.5, color='black', edgecolor='black',ecolor='black', capsize=10)\n",
    "ax2.set_ylabel('Kernel Variance')\n",
    "ax2.set_xticks(x_pos)\n",
    "ax2.set_xticklabels(X)\n",
    "#ax2.set_title('Kernel Variance')\n",
    "ax2.set_yticks([0,0.05,0.1,0.15, 0.2])\n",
    "ax2.yaxis.grid(True)\n",
    "#ax2.set_ylabel('Kernel Variance')\n",
    "#ax2.set_title('Kernel Variance')\n",
    "#ax2.set_xticks(x + width - 0.25, X)\n",
    "#ax2.set_ylim(0, 0.5)\n",
    "\n",
    "plt.savefig(\"Expressibility.pdf\")\n",
    "plt.show()"
   ]
  },
  {
   "cell_type": "code",
   "execution_count": null,
   "metadata": {},
   "outputs": [],
   "source": []
  }
 ],
 "metadata": {
  "kernelspec": {
   "display_name": "QC",
   "language": "python",
   "name": "python3"
  },
  "language_info": {
   "codemirror_mode": {
    "name": "ipython",
    "version": 3
   },
   "file_extension": ".py",
   "mimetype": "text/x-python",
   "name": "python",
   "nbconvert_exporter": "python",
   "pygments_lexer": "ipython3",
   "version": "3.11.4"
  },
  "vscode": {
   "interpreter": {
    "hash": "c5108ee98eb47f7e6b2eeb3f4fcfe8c3b821806f46f3b96ac0193b078633d3d2"
   }
  }
 },
 "nbformat": 4,
 "nbformat_minor": 2
}
