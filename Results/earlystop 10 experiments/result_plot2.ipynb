{
 "cells": [
  {
   "cell_type": "code",
   "execution_count": 1,
   "metadata": {},
   "outputs": [],
   "source": [
    "import numpy as np"
   ]
  },
  {
   "cell_type": "code",
   "execution_count": 7,
   "metadata": {},
   "outputs": [],
   "source": [
    "PATH = '/Users/tak/Github/QEmbedding/Results/earlystop 10 experiments/experiment1/Model1 Fidelity/'\n",
    "f = open(PATH + 'Training_Loss_History.txt', 'r')"
   ]
  },
  {
   "cell_type": "code",
   "execution_count": 2,
   "metadata": {},
   "outputs": [],
   "source": [
    "while True:\n",
    "    line = f.readline()\n",
    "    if line == \"Loss History:\\n\":\n",
    "        Training_Loss_History = f.readline()\n",
    "    if line == \"Validation Loss History:\\n\":\n",
    "        Validation_Loss_History = f.readline()\n",
    "    if line == (\"Validation Accuracy90 History:\\n\"):\n",
    "        Validation_Accuracy90_History = f.readline()\n",
    "    if line == (\"Validation Accuracy80 History:\\n\"):\n",
    "        Validation_Accuracy80_History = f.readline()\n",
    "    if not line: break\n",
    "    "
   ]
  }
 ],
 "metadata": {
  "kernelspec": {
   "display_name": "QC",
   "language": "python",
   "name": "python3"
  },
  "language_info": {
   "codemirror_mode": {
    "name": "ipython",
    "version": 3
   },
   "file_extension": ".py",
   "mimetype": "text/x-python",
   "name": "python",
   "nbconvert_exporter": "python",
   "pygments_lexer": "ipython3",
   "version": "3.7.15"
  },
  "orig_nbformat": 4,
  "vscode": {
   "interpreter": {
    "hash": "18c4b2c9b6e0880abfbec0f1d78bbd37383c13120437ebae8d1a7afe7b354d80"
   }
  }
 },
 "nbformat": 4,
 "nbformat_minor": 2
}
