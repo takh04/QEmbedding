{
 "cells": [
  {
   "cell_type": "code",
   "execution_count": 1,
   "metadata": {},
   "outputs": [],
   "source": [
    "import numpy as np\n",
    "import matplotlib.pyplot as plt\n",
    "import matplotlib as mpl\n",
    "import sys\n",
    "sys.path.insert(0, '/Users/tak/Github/QEmbedding/')\n",
    "import Hybrid_nn\n",
    "import torch\n",
    "from torch import nn\n",
    "import data\n",
    "import pennylane as qml\n",
    "import embedding"
   ]
  },
  {
   "attachments": {},
   "cell_type": "markdown",
   "metadata": {},
   "source": [
    "## 0. Getting Started"
   ]
  },
  {
   "attachments": {},
   "cell_type": "markdown",
   "metadata": {},
   "source": [
    "Load the MNIST Datasets"
   ]
  },
  {
   "cell_type": "code",
   "execution_count": 2,
   "metadata": {},
   "outputs": [
    {
     "name": "stderr",
     "output_type": "stream",
     "text": [
      "2022-12-13 04:37:24.300366: I tensorflow/core/platform/cpu_feature_guard.cc:145] This TensorFlow binary is optimized with Intel(R) MKL-DNN to use the following CPU instructions in performance critical operations:  SSE4.1 SSE4.2\n",
      "To enable them in non-MKL-DNN operations, rebuild TensorFlow with the appropriate compiler flags.\n",
      "2022-12-13 04:37:24.301679: I tensorflow/core/common_runtime/process_util.cc:115] Creating new thread pool with default inter op setting: 10. Tune using inter_op_parallelism_threads for best performance.\n",
      "/opt/anaconda3/envs/QC/lib/python3.7/site-packages/ipykernel_launcher.py:10: UserWarning: Creating a tensor from a list of numpy.ndarrays is extremely slow. Please consider converting the list to a single numpy.ndarray with numpy.array() before converting to a tensor. (Triggered internally at /Users/runner/work/_temp/anaconda/conda-bld/pytorch_1666646835196/work/torch/csrc/utils/tensor_new.cpp:233.)\n",
      "  # Remove the CWD from sys.path while we load stuff.\n"
     ]
    }
   ],
   "source": [
    "feature_reduction = 'PCA8'\n",
    "classes = [0,1]\n",
    "X_train, X_test, Y_train, Y_test = data.data_load_and_process('mnist', '2', feature_reduction=feature_reduction, classes=classes)\n",
    "X1_test, X0_test = [], []\n",
    "for i in range(len(X_test)):\n",
    "    if Y_test[i] == 1:\n",
    "        X1_test.append(X_test[i])\n",
    "    else:\n",
    "        X0_test.append(X_test[i])\n",
    "X1_test, X0_test = torch.tensor(X1_test), torch.tensor(X0_test)"
   ]
  },
  {
   "attachments": {},
   "cell_type": "markdown",
   "metadata": {},
   "source": [
    "Calculate the Trace Distance Before training the embedding"
   ]
  },
  {
   "cell_type": "code",
   "execution_count": 3,
   "metadata": {},
   "outputs": [
    {
     "name": "stderr",
     "output_type": "stream",
     "text": [
      "/opt/anaconda3/envs/QC/lib/python3.7/site-packages/pennylane/qnn/torch.py:328: UserWarning: Casting complex values to real discards the imaginary part (Triggered internally at /Users/runner/work/_temp/anaconda/conda-bld/pytorch_1666646835196/work/aten/src/ATen/native/Copy.cpp:250.)\n",
      "  return self.qnode(**kwargs).type(x.dtype)\n"
     ]
    },
    {
     "name": "stdout",
     "output_type": "stream",
     "text": [
      "Trace Distance before: 0.3561354875564575\n",
      "\n",
      "Hilbert Schmidt distance before: 0.002418074058368802\n"
     ]
    }
   ],
   "source": [
    "dev = qml.device('default.qubit', wires=8)\n",
    "\n",
    "@qml.qnode(dev, interface=\"torch\")\n",
    "def distance_circuit1(inputs): \n",
    "    embedding.QuantumEmbedding1(inputs[0:8])\n",
    "    return qml.density_matrix(wires=range(8))\n",
    "\n",
    "class Distance(torch.nn.Module):\n",
    "    def __init__(self):\n",
    "        super().__init__()\n",
    "        self.qlayer1_distance = qml.qnn.TorchLayer(distance_circuit1, weight_shapes={})\n",
    "    \n",
    "    def forward(self, x1, x0, measure):\n",
    "        rhos1 = self.qlayer1_distance(x1)\n",
    "        rhos0 = self.qlayer1_distance(x0)\n",
    "        rho1 = torch.sum(rhos1, dim=0) / len(x1)\n",
    "        rho0 = torch.sum(rhos0, dim=0) / len(x0)\n",
    "        rho_diff = rho1 - rho0\n",
    "\n",
    "        if measure == \"Trace\":\n",
    "            eigvals = torch.linalg.eigvals(rho_diff)\n",
    "            return 0.5 * torch.real(torch.sum(torch.abs(eigvals)))\n",
    "        elif measure == \"Hilbert-Schmidt\":\n",
    "            return 0.5 * torch.real(torch.trace(rho_diff @ rho_diff))\n",
    "        \n",
    "\n",
    "D = Distance()\n",
    "D_trace = D(X1_test, X0_test, \"Trace\")\n",
    "D_HS = D(X1_test, X0_test, \"Hilbert-Schmidt\")\n",
    "print(f\"Trace Distance before: {D_trace}\\n\")\n",
    "print(f\"Hilbert Schmidt distance before: {D_HS}\")"
   ]
  },
  {
   "attachments": {},
   "cell_type": "markdown",
   "metadata": {},
   "source": [
    "## 1. Distances After the Training"
   ]
  },
  {
   "attachments": {},
   "cell_type": "markdown",
   "metadata": {},
   "source": [
    "Model1 Fidelity"
   ]
  },
  {
   "cell_type": "code",
   "execution_count": 7,
   "metadata": {},
   "outputs": [
    {
     "name": "stdout",
     "output_type": "stream",
     "text": [
      "Trace Distance After training with Model1_Fidelity: 0.9245068192481994 ± 0.007407519674209706\n",
      "Hilbert Schmidt distance After training with Model1_Fidelity: 0.42580925226211547 ± 0.016337088045579866\n"
     ]
    }
   ],
   "source": [
    "Model1_Fidelity_PATH = []\n",
    "for i in range(5):\n",
    "    Model1_Fidelity_PATH.append(f\"/Users/tak/Github/QEmbedding/Results/earlystop 10 experiments/experiment{i+1}/Model1 Fidelity/Model1_Fidelity.pt\")\n",
    "\n",
    "Model1_Fidelity_Trace_Distances, Model1_Fidelity_HS_Distances = np.array([]), np.array([])\n",
    "for path in Model1_Fidelity_PATH:\n",
    "    TraceModel = Hybrid_nn.get_model(\"DistanceModel1_Trace\")\n",
    "    HSModel = Hybrid_nn.get_model(\"DistanceModel1_HS\")\n",
    "    TraceModel.load_state_dict(torch.load(path, map_location=torch.device('cpu')))\n",
    "    HSModel.load_state_dict(torch.load(path, map_location=torch.device('cpu')))\n",
    "    with torch.no_grad():\n",
    "        trace_distance = -1 * TraceModel(X1_test, X0_test)\n",
    "        HS_distance = -1 * HSModel(X1_test, X0_test)\n",
    "    Model1_Fidelity_Trace_Distances = np.append(Model1_Fidelity_Trace_Distances, trace_distance)\n",
    "    Model1_Fidelity_HS_Distances = np.append(Model1_Fidelity_HS_Distances, HS_distance)\n",
    "\n",
    "print(f\"Trace Distance After training with Model1_Fidelity: {Model1_Fidelity_Trace_Distances.mean()} ± {Model1_Fidelity_Trace_Distances.std()}\")\n",
    "print(f\"Hilbert Schmidt distance After training with Model1_Fidelity: {Model1_Fidelity_HS_Distances.mean()} ± {Model1_Fidelity_HS_Distances.std()}\")\n"
   ]
  },
  {
   "attachments": {},
   "cell_type": "markdown",
   "metadata": {},
   "source": [
    "Model1 HSinner"
   ]
  },
  {
   "cell_type": "code",
   "execution_count": 9,
   "metadata": {},
   "outputs": [
    {
     "name": "stdout",
     "output_type": "stream",
     "text": [
      "Trace Distance After training with Model1_HSinner: 0.9513480186462402 ± 0.005406885768950933\n",
      "Hilbert Schmidt distance After training with Model1_HSinner: 0.4082879424095154 ± 0.006902721921856312\n"
     ]
    }
   ],
   "source": [
    "Model1_HSinner_PATH = []\n",
    "for i in range(5):\n",
    "    Model1_HSinner_PATH.append(f\"/Users/tak/Github/QEmbedding/Results/earlystop 10 experiments/experiment{i+1}/Model1 HSinner/Model1_HSinner.pt\")\n",
    "\n",
    "Model1_HSinner_Trace_Distances, Model1_HSinner_HS_Distances = np.array([]), np.array([])\n",
    "for path in Model1_HSinner_PATH:\n",
    "    TraceModel = Hybrid_nn.get_model(\"DistanceModel1_Trace\")\n",
    "    HSModel = Hybrid_nn.get_model(\"DistanceModel1_HS\")\n",
    "    TraceModel.load_state_dict(torch.load(path, map_location=torch.device('cpu')))\n",
    "    HSModel.load_state_dict(torch.load(path, map_location=torch.device('cpu')))\n",
    "    with torch.no_grad():\n",
    "        trace_distance = -1 * TraceModel(X1_test, X0_test)\n",
    "        HS_distance = -1 * HSModel(X1_test, X0_test)\n",
    "    Model1_HSinner_Trace_Distances = np.append(Model1_HSinner_Trace_Distances, trace_distance)\n",
    "    Model1_HSinner_HS_Distances = np.append(Model1_HSinner_HS_Distances, HS_distance)\n",
    "\n",
    "print(f\"Trace Distance After training with Model1_HSinner: {Model1_HSinner_Trace_Distances.mean()} ± {Model1_HSinner_Trace_Distances.std()}\")\n",
    "print(f\"Hilbert Schmidt distance After training with Model1_HSinner: {Model1_HSinner_HS_Distances.mean()} ± {Model1_HSinner_HS_Distances.std()}\")"
   ]
  },
  {
   "attachments": {},
   "cell_type": "markdown",
   "metadata": {},
   "source": [
    "Model2 Fidelity"
   ]
  },
  {
   "cell_type": "code",
   "execution_count": 11,
   "metadata": {},
   "outputs": [
    {
     "name": "stdout",
     "output_type": "stream",
     "text": [
      "Trace Distance After training with Model2_Fidelity: 0.9254536986351013 ± 0.0067062265567590824\n",
      "Hilbert Schmidt distance After training with Model2_Fidelity: 0.4021798253059387 ± 0.011320657015236626\n"
     ]
    }
   ],
   "source": [
    "Model2_Fidelity_PATH = []\n",
    "for i in range(5):\n",
    "    Model2_Fidelity_PATH.append(f\"/Users/tak/Github/QEmbedding/Results/earlystop 10 experiments/experiment{i+1}/Model2 Fidelity/Model2_Fidelity.pt\")\n",
    "\n",
    "Model2_Fidelity_Trace_Distances, Model2_Fidelity_HS_Distances = np.array([]), np.array([])\n",
    "for path in Model2_Fidelity_PATH:\n",
    "    TraceModel = Hybrid_nn.get_model(\"DistanceModel2_Trace\")\n",
    "    HSModel = Hybrid_nn.get_model(\"DistanceModel2_HS\")\n",
    "    TraceModel.load_state_dict(torch.load(path, map_location=torch.device('cpu')))\n",
    "    HSModel.load_state_dict(torch.load(path, map_location=torch.device('cpu')))\n",
    "    with torch.no_grad():\n",
    "        trace_distance = -1 * TraceModel(X1_test, X0_test)\n",
    "        HS_distance = -1 * HSModel(X1_test, X0_test)\n",
    "    Model2_Fidelity_Trace_Distances = np.append(Model2_Fidelity_Trace_Distances, trace_distance)\n",
    "    Model2_Fidelity_HS_Distances = np.append(Model2_Fidelity_HS_Distances, HS_distance)\n",
    "\n",
    "print(f\"Trace Distance After training with Model2_Fidelity: {Model2_Fidelity_Trace_Distances.mean()} ± {Model2_Fidelity_Trace_Distances.std()}\")\n",
    "print(f\"Hilbert Schmidt distance After training with Model2_Fidelity: {Model2_Fidelity_HS_Distances.mean()} ± {Model2_Fidelity_HS_Distances.std()}\")"
   ]
  },
  {
   "attachments": {},
   "cell_type": "markdown",
   "metadata": {},
   "source": [
    "Model2 HSinner"
   ]
  },
  {
   "cell_type": "code",
   "execution_count": 12,
   "metadata": {},
   "outputs": [
    {
     "name": "stdout",
     "output_type": "stream",
     "text": [
      "Trace Distance After training with Model2_HSinner: 0.9346812963485718 ± 0.023772653504941756\n",
      "Hilbert Schmidt distance After training with Model2_HSinner: 0.3949353039264679 ± 0.018281192484750082\n"
     ]
    }
   ],
   "source": [
    "Model2_HSinner_PATH = []\n",
    "for i in range(5):\n",
    "    Model2_HSinner_PATH.append(f\"/Users/tak/Github/QEmbedding/Results/earlystop 10 experiments/experiment{i+1}/Model2 HSinner/Model2_HSinner.pt\")\n",
    "\n",
    "Model2_HSinner_Trace_Distances, Model2_HSinner_HS_Distances = np.array([]), np.array([])\n",
    "for path in Model2_HSinner_PATH:\n",
    "    TraceModel = Hybrid_nn.get_model(\"DistanceModel2_Trace\")\n",
    "    HSModel = Hybrid_nn.get_model(\"DistanceModel2_HS\")\n",
    "    TraceModel.load_state_dict(torch.load(path, map_location=torch.device('cpu')))\n",
    "    HSModel.load_state_dict(torch.load(path, map_location=torch.device('cpu')))\n",
    "    with torch.no_grad():\n",
    "        trace_distance = -1 * TraceModel(X1_test, X0_test)\n",
    "        HS_distance = -1 * HSModel(X1_test, X0_test)\n",
    "    Model2_HSinner_Trace_Distances = np.append(Model2_HSinner_Trace_Distances, trace_distance)\n",
    "    Model2_HSinner_HS_Distances = np.append(Model2_HSinner_HS_Distances, HS_distance)\n",
    "\n",
    "print(f\"Trace Distance After training with Model2_HSinner: {Model2_HSinner_Trace_Distances.mean()} ± {Model2_HSinner_Trace_Distances.std()}\")\n",
    "print(f\"Hilbert Schmidt distance After training with Model2_HSinner: {Model2_HSinner_HS_Distances.mean()} ± {Model2_HSinner_HS_Distances.std()}\")"
   ]
  },
  {
   "cell_type": "code",
   "execution_count": null,
   "metadata": {},
   "outputs": [],
   "source": []
  }
 ],
 "metadata": {
  "kernelspec": {
   "display_name": "Python 3",
   "language": "python",
   "name": "python3"
  },
  "language_info": {
   "codemirror_mode": {
    "name": "ipython",
    "version": 3
   },
   "file_extension": ".py",
   "mimetype": "text/x-python",
   "name": "python",
   "nbconvert_exporter": "python",
   "pygments_lexer": "ipython3",
   "version": "3.7.15"
  },
  "orig_nbformat": 4,
  "vscode": {
   "interpreter": {
    "hash": "18c4b2c9b6e0880abfbec0f1d78bbd37383c13120437ebae8d1a7afe7b354d80"
   }
  }
 },
 "nbformat": 4,
 "nbformat_minor": 2
}
