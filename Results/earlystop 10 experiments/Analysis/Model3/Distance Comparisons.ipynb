{
 "cells": [
  {
   "cell_type": "code",
   "execution_count": 1,
   "metadata": {},
   "outputs": [],
   "source": [
    "import numpy as np\n",
    "import matplotlib.pyplot as plt\n",
    "import matplotlib as mpl\n",
    "import sys\n",
    "sys.path.insert(0, '/Users/tak/Github/QEmbedding/')\n",
    "import Hybrid_nn\n",
    "import torch\n",
    "from torch import nn\n",
    "import data\n",
    "import pennylane as qml\n",
    "import embedding"
   ]
  },
  {
   "attachments": {},
   "cell_type": "markdown",
   "metadata": {},
   "source": [
    "## 0. Getting Started"
   ]
  },
  {
   "attachments": {},
   "cell_type": "markdown",
   "metadata": {},
   "source": [
    "Load the MNIST Datasets"
   ]
  },
  {
   "cell_type": "code",
   "execution_count": 2,
   "metadata": {},
   "outputs": [
    {
     "name": "stderr",
     "output_type": "stream",
     "text": [
      "/var/folders/ym/ry24dhs911s7zbqfbhs5ns2m0000gn/T/ipykernel_2239/314870376.py:10: UserWarning: Creating a tensor from a list of numpy.ndarrays is extremely slow. Please consider converting the list to a single numpy.ndarray with numpy.array() before converting to a tensor. (Triggered internally at /Users/runner/work/_temp/anaconda/conda-bld/pytorch_1670525498485/work/torch/csrc/utils/tensor_new.cpp:233.)\n",
      "  X1_test, X0_test = torch.tensor(X1_test).to(torch.float32), torch.tensor(X0_test).to(torch.float32)\n"
     ]
    }
   ],
   "source": [
    "feature_reduction = False\n",
    "classes = [0,1]\n",
    "X_train, X_test, Y_train, Y_test = data.data_load_and_process('mnist', feature_reduction=feature_reduction, classes=classes)\n",
    "X1_test, X0_test = [], []\n",
    "for i in range(len(X_test)):\n",
    "    if Y_test[i] == 1:\n",
    "        X1_test.append(X_test[i])\n",
    "    else:\n",
    "        X0_test.append(X_test[i])\n",
    "X1_test, X0_test = torch.tensor(X1_test).to(torch.float32), torch.tensor(X0_test).to(torch.float32)\n",
    "X1_test, X0_test = X1_test.permute(0, 3, 1, 2), X0_test.permute(0, 3, 1, 2)"
   ]
  },
  {
   "attachments": {},
   "cell_type": "markdown",
   "metadata": {},
   "source": [
    "Distance Measuring Model"
   ]
  },
  {
   "cell_type": "code",
   "execution_count": 3,
   "metadata": {},
   "outputs": [],
   "source": [
    "dev = qml.device('default.qubit', wires=8)\n",
    "\n",
    "@qml.qnode(dev, interface=\"torch\")\n",
    "def distance_circuit3(inputs): \n",
    "    embedding.QuantumEmbedding2(inputs[0:16])\n",
    "    return qml.density_matrix(wires=range(8))\n",
    "\n",
    "class Distance(torch.nn.Module):\n",
    "    def __init__(self):\n",
    "        super().__init__()\n",
    "        self.qlayer3_distance = qml.qnn.TorchLayer(distance_circuit3, weight_shapes={})\n",
    "        self.layer1 = torch.nn.Sequential(\n",
    "            torch.nn.Conv2d(1, 1, kernel_size=3, stride=1, padding=1),\n",
    "            torch.nn.ReLU(),\n",
    "            torch.nn.MaxPool2d(kernel_size=2, stride=2)\n",
    "        )\n",
    "\n",
    "        # Layer2: 14 * 14 -> 7 * 7\n",
    "        self.layer2 = torch.nn.Sequential(\n",
    "            torch.nn.Conv2d(1, 1, kernel_size=3, stride=1, padding=1),\n",
    "            torch.nn.ReLU(),\n",
    "            torch.nn.MaxPool2d(kernel_size=2, stride=2)\n",
    "        )\n",
    "\n",
    "        # Fully connected Layers 7 * 7 -> 16\n",
    "        self.fc = torch.nn.Linear(7 * 7, 16, bias=True)\n",
    "    \n",
    "    def forward(self, x1, x0, measure):\n",
    "        x1 = self.layer1(x1)\n",
    "        x1 = self.layer2(x1)\n",
    "        x1 = x1.view(-1, 7 * 7)\n",
    "        x1 = self.fc(x1)\n",
    "\n",
    "        x0 = self.layer1(x0)\n",
    "        x0 = self.layer2(x0)\n",
    "        x0 = x0.view(-1, 7 * 7)\n",
    "        x0 = self.fc(x0)\n",
    "\n",
    "        rhos1 = self.qlayer3_distance(x1)\n",
    "        rhos0 = self.qlayer3_distance(x0)\n",
    "        rho1 = torch.sum(rhos1, dim=0) / len(x1)\n",
    "        rho0 = torch.sum(rhos0, dim=0) / len(x0)\n",
    "        rho_diff = rho1 - rho0\n",
    "\n",
    "        if measure == \"Trace\":\n",
    "            eigvals = torch.linalg.eigvals(rho_diff)\n",
    "            return 0.5 * torch.real(torch.sum(torch.abs(eigvals)))\n",
    "        elif measure == \"Hilbert-Schmidt\":\n",
    "            return 0.5 * torch.real(torch.trace(rho_diff @ rho_diff))"
   ]
  },
  {
   "attachments": {},
   "cell_type": "markdown",
   "metadata": {},
   "source": [
    "## 1. Distances After the Training"
   ]
  },
  {
   "attachments": {},
   "cell_type": "markdown",
   "metadata": {},
   "source": [
    "Model3 Fidelity"
   ]
  },
  {
   "cell_type": "code",
   "execution_count": 4,
   "metadata": {},
   "outputs": [
    {
     "name": "stderr",
     "output_type": "stream",
     "text": [
      "/Users/tak/miniforge3/envs/QC/lib/python3.10/site-packages/pennylane/qnn/torch.py:328: UserWarning: Casting complex values to real discards the imaginary part (Triggered internally at /Users/runner/work/_temp/anaconda/conda-bld/pytorch_1670525498485/work/aten/src/ATen/native/Copy.cpp:250.)\n",
      "  return self.qnode(**kwargs).type(x.dtype)\n"
     ]
    },
    {
     "name": "stdout",
     "output_type": "stream",
     "text": [
      "Trace Distance After training with Model3_Fidelity: 0.9386046648025512 ± 0.006687183471074778\n",
      "Hilbert Schmidt distance After training with Model3_Fidelity: 0.41108718514442444 ± 0.010013794751865836\n"
     ]
    }
   ],
   "source": [
    "Model3_Fidelity_PATH = []\n",
    "for i in range(5):\n",
    "    Model3_Fidelity_PATH.append(f\"/Users/tak/Github/QEmbedding/Results/earlystop 10 experiments/experiment{i+1}/Model3 Fidelity/Model3_Fidelity.pt\")\n",
    "\n",
    "Model3_Fidelity_Trace_Distances, Model3_Fidelity_HS_Distances = np.array([]), np.array([])\n",
    "for path in Model3_Fidelity_PATH:\n",
    "    Model = Distance()\n",
    "    Model.load_state_dict(torch.load(path, map_location=torch.device('cpu')))\n",
    "    with torch.no_grad():\n",
    "        trace_distance = Model(X1_test, X0_test, 'Trace')\n",
    "        HS_distance = Model(X1_test, X0_test, 'Hilbert-Schmidt')\n",
    "    Model3_Fidelity_Trace_Distances = np.append(Model3_Fidelity_Trace_Distances, trace_distance)\n",
    "    Model3_Fidelity_HS_Distances = np.append(Model3_Fidelity_HS_Distances, HS_distance)\n",
    "\n",
    "print(f\"Trace Distance After training with Model3_Fidelity: {Model3_Fidelity_Trace_Distances.mean()} ± {Model3_Fidelity_Trace_Distances.std()}\")\n",
    "print(f\"Hilbert Schmidt distance After training with Model3_Fidelity: {Model3_Fidelity_HS_Distances.mean()} ± {Model3_Fidelity_HS_Distances.std()}\")\n"
   ]
  },
  {
   "attachments": {},
   "cell_type": "markdown",
   "metadata": {},
   "source": [
    "Model3 HSinner"
   ]
  },
  {
   "cell_type": "code",
   "execution_count": 5,
   "metadata": {},
   "outputs": [
    {
     "name": "stdout",
     "output_type": "stream",
     "text": [
      "Trace Distance After training with Model3_HSinner: 0.9040618777275086 ± 0.054548215464094794\n",
      "Hilbert Schmidt distance After training with Model3_HSinner: 0.3668473720550537 ± 0.046893209401121225\n"
     ]
    }
   ],
   "source": [
    "Model3_HSinner_PATH = []\n",
    "for i in range(5):\n",
    "    Model3_HSinner_PATH.append(f\"/Users/tak/Github/QEmbedding/Results/earlystop 10 experiments/experiment{i+1}/Model3 HSinner/Model3_HSinner.pt\")\n",
    "\n",
    "Model3_HSinner_Trace_Distances, Model3_HSinner_HS_Distances = np.array([]), np.array([])\n",
    "for path in Model3_HSinner_PATH:\n",
    "    Model = Distance()\n",
    "    Model.load_state_dict(torch.load(path, map_location=torch.device('cpu')))\n",
    "    with torch.no_grad():\n",
    "        trace_distance = Model(X1_test, X0_test, 'Trace')\n",
    "        HS_distance = Model(X1_test, X0_test, 'Hilbert-Schmidt')\n",
    "    Model3_HSinner_Trace_Distances = np.append(Model3_HSinner_Trace_Distances, trace_distance)\n",
    "    Model3_HSinner_HS_Distances = np.append(Model3_HSinner_HS_Distances, HS_distance)\n",
    "\n",
    "print(f\"Trace Distance After training with Model3_HSinner: {Model3_HSinner_Trace_Distances.mean()} ± {Model3_HSinner_Trace_Distances.std()}\")\n",
    "print(f\"Hilbert Schmidt distance After training with Model3_HSinner: {Model3_HSinner_HS_Distances.mean()} ± {Model3_HSinner_HS_Distances.std()}\")"
   ]
  }
 ],
 "metadata": {
  "kernelspec": {
   "display_name": "QC",
   "language": "python",
   "name": "python3"
  },
  "language_info": {
   "codemirror_mode": {
    "name": "ipython",
    "version": 3
   },
   "file_extension": ".py",
   "mimetype": "text/x-python",
   "name": "python",
   "nbconvert_exporter": "python",
   "pygments_lexer": "ipython3",
   "version": "3.10.8"
  },
  "orig_nbformat": 4,
  "vscode": {
   "interpreter": {
    "hash": "0f8e2a2ca6259a6cab5ca53f758a7b3aaf50f8fc283f46719ccb9cbe78a7dc03"
   }
  }
 },
 "nbformat": 4,
 "nbformat_minor": 2
}
