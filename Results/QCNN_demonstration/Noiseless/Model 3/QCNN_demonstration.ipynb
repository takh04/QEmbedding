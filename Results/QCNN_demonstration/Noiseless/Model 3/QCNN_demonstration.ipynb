{
 "cells": [
  {
   "attachments": {},
   "cell_type": "markdown",
   "metadata": {},
   "source": [
    "# Noiseless QCNN demo for Model3"
   ]
  },
  {
   "attachments": {},
   "cell_type": "markdown",
   "metadata": {},
   "source": [
    "This is noiseless QCNN demonstration for Model 3. \n",
    "\n",
    "The objective of this demonstration is different from Model 1/2 QCNN demos.\n",
    "\n",
    "Model 1/2 QCNN demo compares QCNN performance with / without pre-training the quantum embedding.\n",
    "\n",
    "Instead for Model 3 (as Model 3 can't be used without pre-traing unlike Model 1), I will compare QCNN performances between\n",
    "\n",
    "1) Train CNN First with Model3_Fidelity. Then train parameterized QCNN.\n",
    "\n",
    "2) Train parameterized embedding + parameterized QCNN all together as one optimization problem.\n"
   ]
  },
  {
   "attachments": {},
   "cell_type": "markdown",
   "metadata": {},
   "source": [
    "# 1. Load Noiseless Device"
   ]
  },
  {
   "cell_type": "code",
   "execution_count": 1,
   "metadata": {},
   "outputs": [],
   "source": [
    "from pennylane import numpy as np\n",
    "import matplotlib.pyplot as plt\n",
    "import matplotlib as mpl\n",
    "import sys\n",
    "sys.path.insert(0, '/Users/tak/Github/QEmbedding/')\n",
    "import Hybrid_nn\n",
    "import torch\n",
    "from torch import nn\n",
    "import data\n",
    "import pennylane as qml\n",
    "import embedding\n",
    "\n",
    "dev = qml.device('default.qubit', wires=4)\n",
    "device = torch.device(\"cuda\" if torch.cuda.is_available() else \"cpu\")"
   ]
  },
  {
   "attachments": {},
   "cell_type": "markdown",
   "metadata": {},
   "source": [
    "# 2. Feature Mapping Circuit"
   ]
  },
  {
   "cell_type": "code",
   "execution_count": 2,
   "metadata": {},
   "outputs": [],
   "source": [
    "\n",
    "N_layers = 3\n",
    "\n",
    "# 8 Feature Encoding in 4 qubit circuits\n",
    "def Four_QuantumEmbedding2(input):\n",
    "    for i in range(N_layers):\n",
    "        for j in range(4):\n",
    "            qml.Hadamard(wires=j)\n",
    "            embedding.exp_Z(input[j], wires=j)\n",
    "        for k in range(3):\n",
    "            embedding.exp_ZZ1(input[4+k], wires=[k, k+1])\n",
    "        embedding.exp_ZZ1(input[7], wires=[3,0])                       \n",
    "\n",
    "def Four_QuantumEmbedding2_inverse(input):\n",
    "    for i in range(N_layers):\n",
    "        embedding.exp_ZZ1(input[7], wires=[3,0], inverse=True) \n",
    "        for k in reversed(range(3)):\n",
    "            embedding.exp_ZZ1(input[k+4], wires=[k,k+1], inverse=True)\n",
    "        qml.Barrier()\n",
    "        for j in range(4):\n",
    "            embedding.exp_Z(input[j], wires=j, inverse=True)\n",
    "            qml.Hadamard(wires=j)"
   ]
  },
  {
   "cell_type": "code",
   "execution_count": 3,
   "metadata": {},
   "outputs": [],
   "source": [
    "@qml.qnode(dev, interface=\"torch\")\n",
    "def circuit3(inputs): \n",
    "    Four_QuantumEmbedding2(inputs[0:8])\n",
    "    Four_QuantumEmbedding2_inverse(inputs[8:16])\n",
    "    return qml.probs(wires=range(4))\n",
    "\n",
    "\n",
    "class Four_Model3_Fidelity(torch.nn.Module):\n",
    "    def __init__(self):\n",
    "        super().__init__()\n",
    "        # Layer1: 28 * 28 -> 14 * 14\n",
    "        self.layer1 = torch.nn.Sequential(\n",
    "            torch.nn.Conv2d(1, 1, kernel_size=3, stride=1, padding=1),\n",
    "            torch.nn.ReLU(),\n",
    "            torch.nn.MaxPool2d(kernel_size=2, stride=2)\n",
    "        )\n",
    "\n",
    "        # Layer2: 14 * 14 -> 7 * 7\n",
    "        self.layer2 = torch.nn.Sequential(\n",
    "            torch.nn.Conv2d(1, 1, kernel_size=3, stride=1, padding=1),\n",
    "            torch.nn.ReLU(),\n",
    "            torch.nn.MaxPool2d(kernel_size=2, stride=2)\n",
    "        )\n",
    "\n",
    "        # Fully connected Layers 7 * 7 -> 8\n",
    "        self.fc = torch.nn.Linear(7 * 7, 8, bias=True)\n",
    "\n",
    "        self.qlayer3 = qml.qnn.TorchLayer(circuit3, weight_shapes={})\n",
    "\n",
    "    def forward(self, x1, x2):\n",
    "        x1 = self.layer1(x1)\n",
    "        x1 = self.layer2(x1)\n",
    "        x1 = x1.view(-1, 7 * 7)\n",
    "        x1 = self.fc(x1)\n",
    "\n",
    "        x2 = self.layer1(x2)\n",
    "        x2 = self.layer2(x2)\n",
    "        x2 = x2.view(-1, 7 * 7)\n",
    "        x2 = self.fc(x2)\n",
    "\n",
    "        x = torch.concat([x1, x2], 1)\n",
    "        x = self.qlayer3(x)\n",
    "        return x[:,0]\n",
    "\n",
    "class Four_Model3_HSinner(torch.nn.Module):\n",
    "    def __init__(self):\n",
    "        super().__init__()\n",
    "        self.matrix_fn3 = qml.matrix(circuit3)\n",
    "        # Layer1: 28 * 28 -> 14 * 14\n",
    "        self.layer1 = torch.nn.Sequential(\n",
    "            torch.nn.Conv2d(1, 1, kernel_size=3, stride=1, padding=1),\n",
    "            torch.nn.ReLU(),\n",
    "            torch.nn.MaxPool2d(kernel_size=2, stride=2)\n",
    "        )\n",
    "\n",
    "        # Layer2: 14 * 14 -> 7 * 7\n",
    "        self.layer2 = torch.nn.Sequential(\n",
    "            torch.nn.Conv2d(1, 1, kernel_size=3, stride=1, padding=1),\n",
    "            torch.nn.ReLU(),\n",
    "            torch.nn.MaxPool2d(kernel_size=2, stride=2)\n",
    "        )\n",
    "\n",
    "        # Fully connected Layers 7 * 7 -> 8\n",
    "        self.fc = torch.nn.Linear(7 * 7, 8, bias=True)\n",
    "\n",
    "\n",
    "    def forward(self, x1, x2):\n",
    "        x1 = self.layer1(x1)\n",
    "        x1 = self.layer2(x1)\n",
    "        x1 = x1.view(-1, 7 * 7)\n",
    "        x1 = self.fc(x1)\n",
    "\n",
    "        x2 = self.layer1(x2)\n",
    "        x2 = self.layer2(x2)\n",
    "        x2 = x2.view(-1, 7 * 7)\n",
    "        x2 = self.fc(x2)\n",
    "\n",
    "        \n",
    "        x = torch.concat([x1, x2], 1).to(\"cpu\")\n",
    "        x = [torch.real(torch.trace(self.matrix_fn3(a))) for a in x]\n",
    "        x = torch.stack(x, dim=0).to(device)\n",
    "        return x / 2**4"
   ]
  },
  {
   "attachments": {},
   "cell_type": "markdown",
   "metadata": {},
   "source": [
    "Draw the circuit and check if everything is alright."
   ]
  },
  {
   "cell_type": "code",
   "execution_count": 4,
   "metadata": {},
   "outputs": [
    {
     "name": "stdout",
     "output_type": "stream",
     "text": [
      "Circuit3: \n",
      "\n",
      "0: ──H──RZ(-2.00)─╭●─────────────╭●─────────────────────────────────────╭X──RZ(-16.00)─╭X──H\n",
      "1: ──H──RZ(-4.00)─╰X──RZ(-10.00)─╰X─╭●─────────────╭●───────────────────│──────────────│───H\n",
      "2: ──H──RZ(-6.00)───────────────────╰X──RZ(-12.00)─╰X─╭●─────────────╭●─│──────────────│───H\n",
      "3: ──H──RZ(-8.00)─────────────────────────────────────╰X──RZ(-14.00)─╰X─╰●─────────────╰●──H\n",
      "\n",
      "───RZ(-2.00)─╭●─────────────╭●─────────────────────────────────────╭X──RZ(-16.00)─╭X──H──RZ(-2.00)\n",
      "───RZ(-4.00)─╰X──RZ(-10.00)─╰X─╭●─────────────╭●───────────────────│──────────────│───H──RZ(-4.00)\n",
      "───RZ(-6.00)───────────────────╰X──RZ(-12.00)─╰X─╭●─────────────╭●─│──────────────│───H──RZ(-6.00)\n",
      "───RZ(-8.00)─────────────────────────────────────╰X──RZ(-14.00)─╰X─╰●─────────────╰●──H──RZ(-8.00)\n",
      "\n",
      "──╭●─────────────╭●─────────────────────────────────────╭X──RZ(-16.00)─╭X─╭X──RZ(16.00)─╭X───\n",
      "──╰X──RZ(-10.00)─╰X─╭●─────────────╭●───────────────────│──────────────│──│─────────────│────\n",
      "────────────────────╰X──RZ(-12.00)─╰X─╭●─────────────╭●─│──────────────│──│─────────────│──╭●\n",
      "──────────────────────────────────────╰X──RZ(-14.00)─╰X─╰●─────────────╰●─╰●────────────╰●─╰X\n",
      "\n",
      "────────────────────────────────────────╭●───────────────────╭●──RZ(2.00)──H─╭X──RZ(16.00)─╭X───\n",
      "────────────────╭●───────────────────╭●─╰X─────────RZ(10.00)─╰X──RZ(4.00)──H─│─────────────│────\n",
      "─────────────╭●─╰X─────────RZ(12.00)─╰X──RZ(6.00)──H─────────────────────────│─────────────│──╭●\n",
      "───RZ(14.00)─╰X──RZ(8.00)──H─────────────────────────────────────────────────╰●────────────╰●─╰X\n",
      "\n",
      "────────────────────────────────────────╭●───────────────────╭●──RZ(2.00)──H─╭X──RZ(16.00)─╭X───\n",
      "────────────────╭●───────────────────╭●─╰X─────────RZ(10.00)─╰X──RZ(4.00)──H─│─────────────│────\n",
      "─────────────╭●─╰X─────────RZ(12.00)─╰X──RZ(6.00)──H─────────────────────────│─────────────│──╭●\n",
      "───RZ(14.00)─╰X──RZ(8.00)──H─────────────────────────────────────────────────╰●────────────╰●─╰X\n",
      "\n",
      "────────────────────────────────────────╭●───────────────────╭●──RZ(2.00)──H─┤ ╭Probs\n",
      "────────────────╭●───────────────────╭●─╰X─────────RZ(10.00)─╰X──RZ(4.00)──H─┤ ├Probs\n",
      "─────────────╭●─╰X─────────RZ(12.00)─╰X──RZ(6.00)──H─────────────────────────┤ ├Probs\n",
      "───RZ(14.00)─╰X──RZ(8.00)──H─────────────────────────────────────────────────┤ ╰Probs\n"
     ]
    }
   ],
   "source": [
    "\n",
    "print(\"Circuit3: \\n\")\n",
    "print(\n",
    "    qml.draw(\n",
    "        circuit3,\n",
    "        expansion_strategy=\"device\",\n",
    "        show_matrices=False\n",
    "    )([1,2,3,4,5,6,7,8,1,2,3,4,5,6,7,8])\n",
    ")"
   ]
  },
  {
   "attachments": {},
   "cell_type": "markdown",
   "metadata": {},
   "source": [
    "# 3. Load Datasets"
   ]
  },
  {
   "cell_type": "code",
   "execution_count": 5,
   "metadata": {},
   "outputs": [
    {
     "name": "stderr",
     "output_type": "stream",
     "text": [
      "/opt/anaconda3/envs/QC/lib/python3.7/site-packages/ipykernel_launcher.py:15: UserWarning: Creating a tensor from a list of numpy.ndarrays is extremely slow. Please consider converting the list to a single numpy.ndarray with numpy.array() before converting to a tensor. (Triggered internally at /Users/runner/work/_temp/anaconda/conda-bld/pytorch_1666646835196/work/torch/csrc/utils/tensor_new.cpp:233.)\n",
      "  from ipykernel import kernelapp as app\n"
     ]
    }
   ],
   "source": [
    "feature_reduction = False\n",
    "classes = [0,1]\n",
    "X_train, X_test, Y_train, Y_test = data.data_load_and_process('mnist', feature_reduction=feature_reduction, classes=classes)\n",
    "def new_data(batch_size, X, Y):\n",
    "    X1_new, X2_new, Y_new = [], [], []\n",
    "    for i in range(batch_size):\n",
    "        n, m = np.random.randint(len(X)), np.random.randint(len(X))\n",
    "        X1_new.append(X[n])\n",
    "        X2_new.append(X[m])\n",
    "        if Y[n] == Y[m]:\n",
    "            Y_new.append(1)\n",
    "        else:\n",
    "            Y_new.append(0)\n",
    "\n",
    "    X1_new, X2_new, Y_new = torch.tensor(X1_new).to(torch.float32), torch.tensor(X2_new).to(torch.float32), torch.tensor(Y_new).to(torch.float32)\n",
    "    if feature_reduction == False:\n",
    "        X1_new = X1_new.permute(0, 3, 1, 2)\n",
    "        X2_new = X2_new.permute(0, 3, 1, 2)\n",
    "    return X1_new.to(device), X2_new.to(device), Y_new.to(device)\n",
    "\n",
    "N_valid, N_test = 500, 1000\n",
    "X1_new_valid, X2_new_valid, Y_new_valid = new_data(N_valid, X_test, Y_test)\n",
    "X1_new_test, X2_new_test, Y_new_test = new_data(N_test, X_test, Y_test)"
   ]
  },
  {
   "attachments": {},
   "cell_type": "markdown",
   "metadata": {},
   "source": [
    "# 4. Train Models"
   ]
  },
  {
   "attachments": {},
   "cell_type": "markdown",
   "metadata": {},
   "source": [
    "Train Model3_Fidelity and Model3_HSinner"
   ]
  },
  {
   "cell_type": "code",
   "execution_count": 6,
   "metadata": {},
   "outputs": [],
   "source": [
    "def train_models(model_name):\n",
    "    train_loss = []\n",
    "    if model_name == 'Four_Model3_Fidelity':\n",
    "        model = Four_Model3_Fidelity()\n",
    "        PATH = '/Users/tak/Github/QEmbedding/Results/QCNN_demonstration/Noiseless/Model 3/Four_Model3_Fidelity.pt'\n",
    "    elif model_name == 'Four_Model3_HSinner':\n",
    "        model = Four_Model3_HSinner()\n",
    "        PATH = '/Users/tak/Github/QEmbedding/Results/QCNN_demonstration/Noiseless/Model 3/Four_Model3_HSinner.pt'\n",
    "    model.train()\n",
    "\n",
    "    loss_fn = torch.nn.MSELoss()\n",
    "    opt = torch.optim.SGD(model.parameters(), lr=0.01)\n",
    "    for it in range(1000):\n",
    "        X1_batch, X2_batch, Y_batch = new_data(25, X_train, Y_train)\n",
    "        X1_batch, X2_batch, Y_batch = X1_batch, X2_batch, Y_batch\n",
    "\n",
    "        pred = model(X1_batch, X2_batch)\n",
    "        pred, Y_batch = pred.to(torch.float32), Y_batch.to(torch.float32)\n",
    "        loss = loss_fn(pred, Y_batch)\n",
    "        train_loss.append(loss.item())\n",
    "\n",
    "        opt.zero_grad()\n",
    "        loss.backward()\n",
    "        opt.step()\n",
    "\n",
    "        if it % 200 == 0:\n",
    "            print(f\"Iterations: {it} Loss: {loss.item()}\")\n",
    "    \n",
    "    torch.save(model.state_dict(), PATH)\n",
    "\n"
   ]
  },
  {
   "attachments": {},
   "cell_type": "markdown",
   "metadata": {},
   "source": [
    "Train Four_Model3_Fidelity"
   ]
  },
  {
   "cell_type": "code",
   "execution_count": null,
   "metadata": {},
   "outputs": [],
   "source": [
    "train_models('Four_Model3_Fidelity')"
   ]
  },
  {
   "attachments": {},
   "cell_type": "markdown",
   "metadata": {},
   "source": [
    "Train Four_Model3_HSinner"
   ]
  },
  {
   "cell_type": "code",
   "execution_count": 7,
   "metadata": {},
   "outputs": [
    {
     "name": "stdout",
     "output_type": "stream",
     "text": [
      "Iterations: 0 Loss: 0.472064733505249\n",
      "Iterations: 200 Loss: 0.03998862951993942\n",
      "Iterations: 400 Loss: 0.02271457202732563\n",
      "Iterations: 600 Loss: 0.026655469089746475\n",
      "Iterations: 800 Loss: 0.004530478268861771\n"
     ]
    }
   ],
   "source": [
    "train_models('Four_Model3_HSinner')"
   ]
  },
  {
   "attachments": {},
   "cell_type": "markdown",
   "metadata": {},
   "source": [
    "# 5. Check the distances before and after the training."
   ]
  },
  {
   "attachments": {},
   "cell_type": "markdown",
   "metadata": {},
   "source": [
    "Separate the data of two binary classes."
   ]
  },
  {
   "cell_type": "code",
   "execution_count": 8,
   "metadata": {},
   "outputs": [],
   "source": [
    "X1_test, X0_test = [], []\n",
    "for i in range(len(X_test)):\n",
    "    if Y_test[i] == 1:\n",
    "        X1_test.append(X_test[i])\n",
    "    else:\n",
    "        X0_test.append(X_test[i])\n",
    "X1_test, X0_test = torch.tensor(X1_test).to(torch.float32), torch.tensor(X0_test).to(torch.float32)\n",
    "X1_test, X0_test = X1_test.permute(0, 3, 1, 2), X0_test.permute(0, 3, 1, 2)\n",
    "\n",
    "X1_train, X0_train = [], []\n",
    "for i in range(len(X_train)):\n",
    "    if Y_train[i] == 1:\n",
    "        X1_train.append(X_train[i])\n",
    "    else:\n",
    "        X0_train.append(X_train[i])\n",
    "X1_train, X0_train = torch.tensor(X1_train).to(torch.float32), torch.tensor(X0_train).to(torch.float32)\n",
    "X1_train, X0_train = X1_train.permute(0, 3, 1, 2), X0_train.permute(0, 3, 1, 2)"
   ]
  },
  {
   "attachments": {},
   "cell_type": "markdown",
   "metadata": {},
   "source": [
    "Distance Measuring Models"
   ]
  },
  {
   "cell_type": "code",
   "execution_count": 9,
   "metadata": {},
   "outputs": [
    {
     "data": {
      "text/plain": [
       "<All keys matched successfully>"
      ]
     },
     "execution_count": 9,
     "metadata": {},
     "output_type": "execute_result"
    }
   ],
   "source": [
    "dev = qml.device('default.qubit', wires=4)\n",
    "@qml.qnode(dev, interface=\"torch\")\n",
    "def Four_Distance3(inputs): \n",
    "    Four_QuantumEmbedding2(inputs[0:8])\n",
    "    return qml.density_matrix(wires=range(4))\n",
    "\n",
    "\n",
    "class Distances(torch.nn.Module):\n",
    "    def __init__(self):\n",
    "        super().__init__()\n",
    "        # Layer1: 28 * 28 -> 14 * 14\n",
    "        self.layer1 = torch.nn.Sequential(\n",
    "            torch.nn.Conv2d(1, 1, kernel_size=3, stride=1, padding=1),\n",
    "            torch.nn.ReLU(),\n",
    "            torch.nn.MaxPool2d(kernel_size=2, stride=2)\n",
    "        )\n",
    "\n",
    "        # Layer2: 14 * 14 -> 7 * 7\n",
    "        self.layer2 = torch.nn.Sequential(\n",
    "            torch.nn.Conv2d(1, 1, kernel_size=3, stride=1, padding=1),\n",
    "            torch.nn.ReLU(),\n",
    "            torch.nn.MaxPool2d(kernel_size=2, stride=2)\n",
    "        )\n",
    "\n",
    "        # Fully connected Layers 7 * 7 -> 8\n",
    "        self.fc = torch.nn.Linear(7 * 7, 8, bias=True)\n",
    "        self.qlayer3_distance = qml.qnn.TorchLayer(Four_Distance3, weight_shapes={})\n",
    "\n",
    "    def forward(self, x1, x0):\n",
    "        x1 = self.layer1(x1)\n",
    "        x1 = self.layer2(x1)\n",
    "        x1 = x1.view(-1, 7 * 7)\n",
    "        x1 = self.fc(x1)\n",
    "\n",
    "        x0 = self.layer1(x0)\n",
    "        x0 = self.layer2(x0)\n",
    "        x0 = x0.view(-1, 7 * 7)\n",
    "        x0 = self.fc(x0)\n",
    "\n",
    "        rhos1 = self.qlayer3_distance(x1)\n",
    "        rhos0 = self.qlayer3_distance(x0)\n",
    "        \n",
    "        rho1 = torch.sum(rhos1, dim=0) / len(x1)\n",
    "        rho0 = torch.sum(rhos0, dim=0) / len(x0)\n",
    "        rho_diff = rho1 - rho0\n",
    "        eigvals = torch.linalg.eigvals(rho_diff)\n",
    "        return 0.5 * torch.real(torch.sum(torch.abs(eigvals)))\n",
    "\n",
    "\n",
    "PATH_Four_Model3_Fidelity = '/Users/tak/Github/QEmbedding/Results/QCNN_demonstration/Noiseless/Model 3/Four_Model3_Fidelity.pt'\n",
    "PATH_Four_Model3_HSinner = '/Users/tak/Github/QEmbedding/Results/QCNN_demonstration/Noiseless/Model 3/Four_Model3_HSinner.pt'\n",
    "\n",
    "D_Four_Model3_Fidelity = Distances()\n",
    "D_Four_Model3_Fidelity.load_state_dict(torch.load(PATH_Four_Model3_Fidelity))\n",
    "\n",
    "D_Four_Model3_HSinner = Distances()\n",
    "D_Four_Model3_HSinner.load_state_dict(torch.load(PATH_Four_Model3_HSinner))"
   ]
  },
  {
   "attachments": {},
   "cell_type": "markdown",
   "metadata": {},
   "source": [
    "Distance Measure after training with Four_Model3_Fidelity and Four_Model3_HSinner"
   ]
  },
  {
   "cell_type": "code",
   "execution_count": 10,
   "metadata": {},
   "outputs": [
    {
     "name": "stderr",
     "output_type": "stream",
     "text": [
      "/opt/anaconda3/envs/QC/lib/python3.7/site-packages/pennylane/qnn/torch.py:328: UserWarning: Casting complex values to real discards the imaginary part (Triggered internally at /Users/runner/work/_temp/anaconda/conda-bld/pytorch_1666646835196/work/aten/src/ATen/native/Copy.cpp:250.)\n",
      "  return self.qnode(**kwargs).type(x.dtype)\n"
     ]
    },
    {
     "name": "stdout",
     "output_type": "stream",
     "text": [
      "Trace Distance (Training Data) After Four_Model3_Fidelity: 0.9146187901496887\n",
      "Trace Distance (Training Data) After Four_Model3_HSinner: 0.6774505972862244\n",
      "Trace Distance (Test Data) After Four_Model3_Fidelity: 0.9234922528266907\n",
      "Trace Distance (Test Data) After Four_Model3_HSinner: 0.6806151866912842\n"
     ]
    }
   ],
   "source": [
    "D_Four_Model3_Fidelity_traindata = D_Four_Model3_Fidelity(X1_train, X0_train)\n",
    "D_Four_Model3_HSinner_traindata = D_Four_Model3_HSinner(X1_train, X0_train)\n",
    "print(f\"Trace Distance (Training Data) After Four_Model3_Fidelity: {D_Four_Model3_Fidelity_traindata}\")\n",
    "print(f\"Trace Distance (Training Data) After Four_Model3_HSinner: {D_Four_Model3_HSinner_traindata}\")\n",
    "\n",
    "D_Four_Model3_Fidelity_testdata = D_Four_Model3_Fidelity(X1_test, X0_test)\n",
    "D_Four_Model3_HSinner_testdata = D_Four_Model3_HSinner(X1_test, X0_test)\n",
    "print(f\"Trace Distance (Test Data) After Four_Model3_Fidelity: {D_Four_Model3_Fidelity_testdata}\")\n",
    "print(f\"Trace Distance (Test Data) After Four_Model3_HSinner: {D_Four_Model3_HSinner_testdata}\")"
   ]
  },
  {
   "attachments": {},
   "cell_type": "markdown",
   "metadata": {},
   "source": [
    "Calculate the lower bounds"
   ]
  },
  {
   "cell_type": "code",
   "execution_count": 11,
   "metadata": {},
   "outputs": [
    {
     "name": "stdout",
     "output_type": "stream",
     "text": [
      "Sample Loss Lower Bound After Four_Model3_Fidelity: 0.04269060492515564\n",
      "Sample Loss Lower Bound After Four_Model3_HSinner: 0.16127470135688782\n"
     ]
    }
   ],
   "source": [
    "LB_Four_Model3_Fidelity = 0.5 * (1 - D_Four_Model3_Fidelity_traindata.detach().numpy())\n",
    "LB_Four_Model3_HSinner = 0.5 * (1 - D_Four_Model3_HSinner_traindata.detach().numpy())\n",
    "\n",
    "print(f\"Sample Loss Lower Bound After Four_Model3_Fidelity: {LB_Four_Model3_Fidelity}\")\n",
    "print(f\"Sample Loss Lower Bound After Four_Model3_HSinner: {LB_Four_Model3_HSinner}\")"
   ]
  },
  {
   "attachments": {},
   "cell_type": "markdown",
   "metadata": {},
   "source": [
    "# 6. Training QCNN"
   ]
  },
  {
   "attachments": {},
   "cell_type": "markdown",
   "metadata": {},
   "source": [
    "Relabel the datasets"
   ]
  },
  {
   "cell_type": "code",
   "execution_count": 27,
   "metadata": {},
   "outputs": [],
   "source": [
    "X_train, X_test = torch.tensor(X_train).to(torch.float32), torch.tensor(X_test).to(torch.float32)\n",
    "X_train, X_test = X_train.permute(0, 3, 1, 2), X_test.permute(0, 3, 1, 2)\n",
    "Y_train = [-1 if y == 0 else 1 for y in Y_train]\n",
    "Y_test = [-1 if y == 0 else 1 for y in Y_test]"
   ]
  },
  {
   "cell_type": "code",
   "execution_count": 13,
   "metadata": {},
   "outputs": [
    {
     "data": {
      "text/plain": [
       "<All keys matched successfully>"
      ]
     },
     "execution_count": 13,
     "metadata": {},
     "output_type": "execute_result"
    }
   ],
   "source": [
    "class x_transform(torch.nn.Module):\n",
    "    def __init__(self):\n",
    "        super().__init__()\n",
    "        self.layer1 = torch.nn.Sequential(\n",
    "            torch.nn.Conv2d(1, 1, kernel_size=3, stride=1, padding=1),\n",
    "            torch.nn.ReLU(),\n",
    "            torch.nn.MaxPool2d(kernel_size=2, stride=2)\n",
    "        )\n",
    "\n",
    "        # Layer2: 14 * 14 -> 7 * 7\n",
    "        self.layer2 = torch.nn.Sequential(\n",
    "            torch.nn.Conv2d(1, 1, kernel_size=3, stride=1, padding=1),\n",
    "            torch.nn.ReLU(),\n",
    "            torch.nn.MaxPool2d(kernel_size=2, stride=2)\n",
    "        )\n",
    "\n",
    "        # Fully connected Layers 7 * 7 -> 8\n",
    "        self.fc = torch.nn.Linear(7 * 7, 8, bias=True)\n",
    "        \n",
    "    def forward(self, x):\n",
    "        x = self.layer1(x)\n",
    "        x = self.layer2(x)\n",
    "        x = x.view(-1, 7 * 7)\n",
    "        x = self.fc(x)\n",
    "        return x.detach().numpy()\n",
    "\n",
    "x_transform_Four_Model3_Fidelity = x_transform()\n",
    "x_transform_Four_Model3_HSinner = x_transform()\n",
    "\n",
    "x_transform_Four_Model3_Fidelity.load_state_dict(torch.load(PATH_Four_Model3_Fidelity))\n",
    "x_transform_Four_Model3_HSinner.load_state_dict(torch.load(PATH_Four_Model3_HSinner))"
   ]
  },
  {
   "attachments": {},
   "cell_type": "markdown",
   "metadata": {},
   "source": [
    "Prepare QCNN classifier circuits"
   ]
  },
  {
   "cell_type": "code",
   "execution_count": 16,
   "metadata": {},
   "outputs": [],
   "source": [
    "def statepreparation(x, Trained):\n",
    "\n",
    "    if Trained == 'Four_Model3_Fidelity':\n",
    "        x = x_transform_Four_Model3_Fidelity(torch.tensor(x))\n",
    "        Four_QuantumEmbedding2(x[0])\n",
    "\n",
    "\n",
    "    elif Trained == 'Four_Model3_HSinner':\n",
    "        x = x_transform_Four_Model3_HSinner(torch.tensor(x))\n",
    "        Four_QuantumEmbedding2(x[0])\n",
    "\n",
    "\n",
    "# Trainable Ansatze\n",
    "def SU_4(params, wires): # 15 params\n",
    "    qml.U3(params[0], params[1], params[2], wires=wires[0])\n",
    "    qml.U3(params[3], params[4], params[5], wires=wires[1])\n",
    "    qml.CNOT(wires=[wires[0], wires[1]])\n",
    "    qml.RY(params[6], wires=wires[0])\n",
    "    qml.RZ(params[7], wires=wires[1])\n",
    "    qml.CNOT(wires=[wires[1], wires[0]])\n",
    "    qml.RY(params[8], wires=wires[0])\n",
    "    qml.CNOT(wires=[wires[0], wires[1]])\n",
    "    qml.U3(params[9], params[10], params[11], wires=wires[0])\n",
    "    qml.U3(params[12], params[13], params[14], wires=wires[1])\n",
    "\n",
    "\n",
    "def QCNN_four(params):\n",
    "    param1 = params[0:15]\n",
    "    param2 = params[15:30]\n",
    "    SU_4(param1, wires=[0, 1])\n",
    "    SU_4(param1, wires=[2, 3])\n",
    "    SU_4(param1, wires=[1, 2])\n",
    "    SU_4(param1, wires=[3, 0])\n",
    "    SU_4(param2, wires=[0, 2])\n",
    "\n",
    "\n",
    "@qml.qnode(dev)\n",
    "def QCNN_classifier(params, x, Trained):\n",
    "    statepreparation(x, Trained)\n",
    "    qml.Barrier()\n",
    "    QCNN_four(params)\n",
    "    return qml.expval(qml.PauliZ(2))\n",
    "\n",
    "def Linear_Loss(labels, predictions):\n",
    "    loss = 0\n",
    "    for l,p in zip(labels, predictions):\n",
    "        loss += 0.5 * (1 - l * p)\n",
    "    return loss / len(labels)\n",
    "\n",
    "def cost(weights, X_batch, Y_batch, Trained):\n",
    "    preds = [QCNN_classifier(weights, x, Trained) for x in X_batch]\n",
    "    return Linear_Loss(Y_batch, preds)\n",
    "\n",
    "steps = 400\n",
    "learning_rate = 0.01\n",
    "batch_size = 25\n",
    "def circuit_training(X_train, Y_train, Trained):\n",
    "\n",
    "    weights = np.random.random(30, requires_grad = True)\n",
    "    opt = qml.NesterovMomentumOptimizer(stepsize=learning_rate)\n",
    "    loss_history = []\n",
    "    for it in range(steps):\n",
    "        batch_index = np.random.randint(0, len(X_train), (batch_size,))\n",
    "        X_batch = [X_train[i] for i in batch_index]\n",
    "        Y_batch = [Y_train[i] for i in batch_index]\n",
    "        weights, cost_new = opt.step_and_cost(lambda v: cost(v, X_batch, Y_batch, Trained),\n",
    "                                                     weights)\n",
    "        loss_history.append(cost_new)\n",
    "        if it % 10 == 0:\n",
    "            print(\"iteration: \", it, \" cost: \", cost_new)\n",
    "    return loss_history, weights"
   ]
  },
  {
   "cell_type": "code",
   "execution_count": 17,
   "metadata": {},
   "outputs": [
    {
     "name": "stderr",
     "output_type": "stream",
     "text": [
      "/opt/anaconda3/envs/QC/lib/python3.7/site-packages/ipykernel_launcher.py:4: UserWarning: To copy construct from a tensor, it is recommended to use sourceTensor.clone().detach() or sourceTensor.clone().detach().requires_grad_(True), rather than torch.tensor(sourceTensor).\n",
      "  after removing the cwd from sys.path.\n",
      "/opt/anaconda3/envs/QC/lib/python3.7/site-packages/autograd/numpy/numpy_vjps.py:698: ComplexWarning: Casting complex values to real discards the imaginary part\n",
      "  onp.add.at(A, idx, x)\n"
     ]
    },
    {
     "name": "stdout",
     "output_type": "stream",
     "text": [
      "iteration:  0  cost:  0.3892407804325442\n",
      "iteration:  10  cost:  0.2361084103024753\n",
      "iteration:  20  cost:  0.19874211855967963\n",
      "iteration:  30  cost:  0.1733100551631686\n",
      "iteration:  40  cost:  0.16942548512394726\n",
      "iteration:  50  cost:  0.1284207161745402\n",
      "iteration:  60  cost:  0.12794496283482232\n",
      "iteration:  70  cost:  0.12664463938816517\n",
      "iteration:  80  cost:  0.16903422527054965\n",
      "iteration:  90  cost:  0.11652691335720404\n",
      "iteration:  100  cost:  0.11868840094397942\n",
      "iteration:  110  cost:  0.12997130878108903\n",
      "iteration:  120  cost:  0.1125096979091214\n",
      "iteration:  130  cost:  0.12898261275560396\n",
      "iteration:  140  cost:  0.13214454366283102\n",
      "iteration:  150  cost:  0.1029915781304576\n",
      "iteration:  160  cost:  0.10898984048963359\n",
      "iteration:  170  cost:  0.1113539537007439\n",
      "iteration:  180  cost:  0.10241258265055259\n",
      "iteration:  190  cost:  0.12902960650797865\n",
      "iteration:  200  cost:  0.0955191184483434\n",
      "iteration:  210  cost:  0.09716350646377486\n",
      "iteration:  220  cost:  0.09135405157576541\n",
      "iteration:  230  cost:  0.09765202730785569\n",
      "iteration:  240  cost:  0.09144212769850331\n",
      "iteration:  250  cost:  0.08718313558605932\n",
      "iteration:  260  cost:  0.12961643747595486\n",
      "iteration:  270  cost:  0.10497858814216396\n",
      "iteration:  280  cost:  0.09954112619308521\n",
      "iteration:  290  cost:  0.09722596058955131\n",
      "iteration:  300  cost:  0.07742887220271666\n",
      "iteration:  310  cost:  0.12186242779220877\n",
      "iteration:  320  cost:  0.07498421144476125\n",
      "iteration:  330  cost:  0.08951762547302558\n",
      "iteration:  340  cost:  0.07768076670045873\n",
      "iteration:  350  cost:  0.10121202698506365\n",
      "iteration:  360  cost:  0.09882992032187782\n",
      "iteration:  370  cost:  0.10997722854657001\n",
      "iteration:  380  cost:  0.09056670368103555\n",
      "iteration:  390  cost:  0.07242881018973032\n"
     ]
    },
    {
     "name": "stderr",
     "output_type": "stream",
     "text": [
      "/opt/anaconda3/envs/QC/lib/python3.7/site-packages/ipykernel_launcher.py:9: UserWarning: To copy construct from a tensor, it is recommended to use sourceTensor.clone().detach() or sourceTensor.clone().detach().requires_grad_(True), rather than torch.tensor(sourceTensor).\n",
      "  if __name__ == \"__main__\":\n"
     ]
    },
    {
     "name": "stdout",
     "output_type": "stream",
     "text": [
      "iteration:  0  cost:  0.5641986618505034\n",
      "iteration:  10  cost:  0.48095957038697507\n",
      "iteration:  20  cost:  0.3847015910784266\n",
      "iteration:  30  cost:  0.37796480739249666\n",
      "iteration:  40  cost:  0.31792942559897575\n",
      "iteration:  50  cost:  0.325379312886849\n",
      "iteration:  60  cost:  0.26924258896394265\n",
      "iteration:  70  cost:  0.2338362091190049\n",
      "iteration:  80  cost:  0.22561699888561657\n",
      "iteration:  90  cost:  0.2093261274444318\n",
      "iteration:  100  cost:  0.22216003699778497\n",
      "iteration:  110  cost:  0.19705359463570943\n",
      "iteration:  120  cost:  0.21149943459049753\n",
      "iteration:  130  cost:  0.1918052832424574\n",
      "iteration:  140  cost:  0.19779572316518462\n",
      "iteration:  150  cost:  0.22485841424372707\n",
      "iteration:  160  cost:  0.22059893643904183\n",
      "iteration:  170  cost:  0.19156209420330633\n",
      "iteration:  180  cost:  0.18564454378853268\n",
      "iteration:  190  cost:  0.1633184724286378\n",
      "iteration:  200  cost:  0.1769022755759571\n",
      "iteration:  210  cost:  0.19794270209476747\n",
      "iteration:  220  cost:  0.2040146928649608\n",
      "iteration:  230  cost:  0.23097408445969148\n",
      "iteration:  240  cost:  0.1981678996355461\n",
      "iteration:  250  cost:  0.18060587393901467\n",
      "iteration:  260  cost:  0.16089696045775312\n",
      "iteration:  270  cost:  0.18355590219999826\n",
      "iteration:  280  cost:  0.18115607766053723\n",
      "iteration:  290  cost:  0.17248322558419305\n",
      "iteration:  300  cost:  0.19745266192695535\n",
      "iteration:  310  cost:  0.17269052954678052\n",
      "iteration:  320  cost:  0.1874880955444399\n",
      "iteration:  330  cost:  0.17773827850526544\n",
      "iteration:  340  cost:  0.15014268227468106\n",
      "iteration:  350  cost:  0.21383158905168473\n",
      "iteration:  360  cost:  0.1732776989917915\n",
      "iteration:  370  cost:  0.16819017077676857\n",
      "iteration:  380  cost:  0.16009750559342034\n",
      "iteration:  390  cost:  0.1643676288031492\n"
     ]
    }
   ],
   "source": [
    "loss_Four_Model3_Fidelity, weights_Four_Model3_Fidelity = circuit_training(X_train, Y_train, Trained='Four_Model3_Fidelity')\n",
    "loss_Four_Model3_HSinner, weights_Four_Model3_HSinner = circuit_training(X_train, Y_train, Trained='Four_Model3_HSinner')"
   ]
  },
  {
   "cell_type": "code",
   "execution_count": 44,
   "metadata": {},
   "outputs": [],
   "source": [
    "PATH = '/Users/tak/Github/QEmbedding/Results/QCNN_demonstration/Noiseless/Model 3/'\n",
    "\n",
    "f = open(PATH + 'loss_and_weight_Four_Model3_Fidelity.txt', 'w')\n",
    "f.write('loss history: \\n')\n",
    "f.write(str(loss_Four_Model3_Fidelity))\n",
    "f.write('\\n')\n",
    "f.write('weights: \\n')\n",
    "f.write(str(weights_Four_Model3_Fidelity))\n",
    "f.close()\n",
    "\n",
    "f = open(PATH + 'loss_and_weight_Four_Model3_HSinner.txt', 'w')\n",
    "f.write('loss history: \\n')\n",
    "f.write(str(loss_Four_Model3_HSinner))\n",
    "f.write('\\n')\n",
    "f.write('weights: \\n')\n",
    "f.write(str(weights_Four_Model3_HSinner))\n",
    "f.close()"
   ]
  },
  {
   "cell_type": "code",
   "execution_count": 19,
   "metadata": {},
   "outputs": [
    {
     "data": {
      "text/plain": [
       "<matplotlib.legend.Legend at 0x7f88ccb308d0>"
      ]
     },
     "execution_count": 19,
     "metadata": {},
     "output_type": "execute_result"
    },
    {
     "data": {
      "image/png": "[encoded data removed]",
      "text/plain": [
       "<Figure size 1000x500 with 1 Axes>"
      ]
     },
     "metadata": {},
     "output_type": "display_data"
    }
   ],
   "source": [
    "import seaborn as sns\n",
    "\n",
    "plt.rcParams['figure.figsize'] = [10, 5]\n",
    "fig, ax = plt.subplots()\n",
    "clrs = sns.color_palette(\"husl\", 4)\n",
    "with sns.axes_style(\"darkgrid\"):\n",
    "    ax.plot(range(len(loss_Four_Model3_Fidelity)), loss_Four_Model3_Fidelity, label=\"Four_Model3_Fidelity\", c=clrs[0])\n",
    "    ax.plot(range(len(loss_Four_Model3_HSinner)), loss_Four_Model3_HSinner, label=\"Four_Model3_HSinner\", c=clrs[1])\n",
    "\n",
    "    ax.plot(range(400), np.ones(400) * LB_Four_Model3_Fidelity, label=\"Lower Bound Four_Model3_Fidelity\", c=clrs[2])\n",
    "    ax.plot(range(400), np.ones(400) * LB_Four_Model3_HSinner, label=\"Lower Bound Four_Model3_HSinner\", c=clrs[3])\n",
    "\n",
    "ax.set_xlabel(\"Iteration\")\n",
    "ax.set_ylabel(\"Loss\")\n",
    "ax.set_title(\"QCNN Loss History Four_Model3\")\n",
    "ax.legend()"
   ]
  },
  {
   "attachments": {},
   "cell_type": "markdown",
   "metadata": {},
   "source": [
    "# 7. Comparison with one fully connected hybrid circuit"
   ]
  },
  {
   "cell_type": "code",
   "execution_count": 22,
   "metadata": {},
   "outputs": [],
   "source": [
    "weight_shapes = {\"weights\": (30)}\n",
    "@qml.qnode(dev)\n",
    "def Hybrid_QCNN_circuit(inputs, weights):\n",
    "    Four_QuantumEmbedding2(inputs)\n",
    "    QCNN_four(weights)\n",
    "    return qml.expval(qml.PauliZ(2))\n",
    "\n",
    "\n",
    "class Hybrid_Model3(torch.nn.Module):\n",
    "    def __init__(self):\n",
    "        super().__init__()\n",
    "        # Layer1: 28 * 28 -> 14 * 14\n",
    "        self.layer1 = torch.nn.Sequential(\n",
    "            torch.nn.Conv2d(1, 1, kernel_size=3, stride=1, padding=1),\n",
    "            torch.nn.ReLU(),\n",
    "            torch.nn.MaxPool2d(kernel_size=2, stride=2)\n",
    "        )\n",
    "\n",
    "        # Layer2: 14 * 14 -> 7 * 7\n",
    "        self.layer2 = torch.nn.Sequential(\n",
    "            torch.nn.Conv2d(1, 1, kernel_size=3, stride=1, padding=1),\n",
    "            torch.nn.ReLU(),\n",
    "            torch.nn.MaxPool2d(kernel_size=2, stride=2)\n",
    "        )\n",
    "\n",
    "        # Fully connected Layers 7 * 7 -> 8\n",
    "        self.fc = torch.nn.Linear(7 * 7, 8, bias=True)\n",
    "        self.qcnn = qml.qnn.TorchLayer(Hybrid_QCNN_circuit, weight_shapes)\n",
    "    \n",
    "    def forward(self, x):\n",
    "        x = self.layer1(x)\n",
    "        x = self.layer2(x)\n",
    "        x = x.view(-1, 7 * 7)\n",
    "        x = self.fc(x)\n",
    "        x = self.qcnn(x)\n",
    "        return x"
   ]
  },
  {
   "cell_type": "code",
   "execution_count": 37,
   "metadata": {},
   "outputs": [],
   "source": [
    "X_train, X_test, Y_train, Y_test = data.data_load_and_process('mnist', feature_reduction=feature_reduction, classes=classes)\n",
    "Y_train = [-1 if y == 0 else 1 for y in Y_train]\n",
    "Y_test = [-1 if y == 0 else 1 for y in Y_test]"
   ]
  },
  {
   "cell_type": "code",
   "execution_count": 43,
   "metadata": {},
   "outputs": [
    {
     "name": "stdout",
     "output_type": "stream",
     "text": [
      "Iterations: 0 Loss: 1.4361954927444458\n",
      "Iterations: 200 Loss: 0.9673902988433838\n",
      "Iterations: 400 Loss: 0.057698383927345276\n",
      "Iterations: 600 Loss: 0.028808098286390305\n",
      "Iterations: 800 Loss: 0.022165970876812935\n"
     ]
    }
   ],
   "source": [
    "def train_hybrid_models(model_name):\n",
    "    train_loss = []\n",
    "    if model_name == 'Hybrid_Model3':\n",
    "        model = Hybrid_Model3()\n",
    "        PATH = '/Users/tak/Github/QEmbedding/Results/QCNN_demonstration/Noiseless/Model 3/Hybrid_Model3.pt'\n",
    "    model.train()\n",
    "\n",
    "    loss_fn = torch.nn.MSELoss()\n",
    "    opt = torch.optim.SGD(model.parameters(), lr=0.01)\n",
    "    for it in range(1000):\n",
    "\n",
    "        batch_index = np.random.randint(0, len(X_train), (batch_size,))\n",
    "        X_batch = [X_train[i] for i in batch_index]\n",
    "        Y_batch = [Y_train[i] for i in batch_index]\n",
    "\n",
    "        X_batch = torch.tensor(X_batch).to(torch.float32)\n",
    "        Y_batch = torch.tensor(Y_batch).to(torch.float32)\n",
    "        X_batch = X_batch.permute(0, 3, 1, 2)\n",
    "\n",
    "\n",
    "        pred = model(X_batch)\n",
    "        loss = loss_fn(pred, Y_batch)\n",
    "        train_loss.append(loss.item())\n",
    "\n",
    "        opt.zero_grad()\n",
    "        loss.backward()\n",
    "        opt.step()\n",
    "\n",
    "        if it % 200 == 0:\n",
    "            print(f\"Iterations: {it} Loss: {loss.item()}\")\n",
    "    \n",
    "    torch.save(model.state_dict(), PATH)\n",
    "    return train_loss\n",
    "\n",
    "loss_Hybrid_Model3 = train_hybrid_models('Hybrid_Model3')"
   ]
  },
  {
   "cell_type": "code",
   "execution_count": 45,
   "metadata": {},
   "outputs": [],
   "source": [
    "PATH = '/Users/tak/Github/QEmbedding/Results/QCNN_demonstration/Noiseless/Model 3/'\n",
    "\n",
    "f = open(PATH + 'loss_Hybrid_Model3.txt', 'w')\n",
    "f.write('loss history: \\n')\n",
    "f.write(str(loss_Hybrid_Model3))\n",
    "f.close()"
   ]
  },
  {
   "cell_type": "code",
   "execution_count": 46,
   "metadata": {},
   "outputs": [
    {
     "data": {
      "text/plain": [
       "<matplotlib.legend.Legend at 0x7f88e8ddfb10>"
      ]
     },
     "execution_count": 46,
     "metadata": {},
     "output_type": "execute_result"
    },
    {
     "data": {
      "image/png": "[encoded data removed]",
      "text/plain": [
       "<Figure size 1000x500 with 1 Axes>"
      ]
     },
     "metadata": {},
     "output_type": "display_data"
    }
   ],
   "source": [
    "import seaborn as sns\n",
    "\n",
    "plt.rcParams['figure.figsize'] = [10, 5]\n",
    "fig, ax = plt.subplots()\n",
    "clrs = sns.color_palette(\"husl\", 4)\n",
    "with sns.axes_style(\"darkgrid\"):\n",
    "    ax.plot(range(len(loss_Hybrid_Model3)), loss_Hybrid_Model3, label=\"Four_Model3_Fidelity\", c=clrs[0])\n",
    "\n",
    "ax.set_xlabel(\"Iteration\")\n",
    "ax.set_ylabel(\"Loss\")\n",
    "ax.set_title(\"QCNN Loss History Hybrid Model3\")\n",
    "ax.legend()"
   ]
  },
  {
   "cell_type": "markdown",
   "metadata": {},
   "source": []
  }
 ],
 "metadata": {
  "kernelspec": {
   "display_name": "Python 3 (ipykernel)",
   "language": "python",
   "name": "python3"
  },
  "language_info": {
   "codemirror_mode": {
    "name": "ipython",
    "version": 3
   },
   "file_extension": ".py",
   "mimetype": "text/x-python",
   "name": "python",
   "nbconvert_exporter": "python",
   "pygments_lexer": "ipython3",
   "version": "3.7.15 (default, Nov 24 2022, 12:02:37) \n[Clang 14.0.6 ]"
  },
  "vscode": {
   "interpreter": {
    "hash": "18c4b2c9b6e0880abfbec0f1d78bbd37383c13120437ebae8d1a7afe7b354d80"
   }
  }
 },
 "nbformat": 4,
 "nbformat_minor": 2
}
