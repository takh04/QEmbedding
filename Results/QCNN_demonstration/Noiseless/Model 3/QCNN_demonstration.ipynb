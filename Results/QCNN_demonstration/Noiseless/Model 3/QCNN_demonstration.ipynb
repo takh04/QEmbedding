{
 "cells": [
  {
   "attachments": {},
   "cell_type": "markdown",
   "metadata": {},
   "source": [
    "# Noiseless QCNN demo for Model3"
   ]
  },
  {
   "attachments": {},
   "cell_type": "markdown",
   "metadata": {},
   "source": [
    "This is noiseless QCNN demonstration for Model 3. \n",
    "\n",
    "The objective of this demonstration is different from Model 1/2 QCNN demos.\n",
    "\n",
    "Model 1/2 QCNN demo compares QCNN performance with / without pre-training the quantum embedding.\n",
    "\n",
    "Instead for Model 3 (as Model 3 can't be used without pre-traing unlike Model 1), I will compare QCNN performances between\n",
    "\n",
    "1) Train CNN First with Model3_Fidelity. Then train parameterized QCNN.\n",
    "\n",
    "2) Train parameterized embedding + parameterized QCNN all together as one optimization problem.\n"
   ]
  },
  {
   "attachments": {},
   "cell_type": "markdown",
   "metadata": {},
   "source": [
    "# 1. Load Noiseless Device"
   ]
  },
  {
   "cell_type": "code",
   "execution_count": 3,
   "metadata": {},
   "outputs": [],
   "source": [
    "from pennylane import numpy as np\n",
    "import matplotlib.pyplot as plt\n",
    "import matplotlib as mpl\n",
    "import sys\n",
    "sys.path.insert(0, '/Users/tak/Github/QEmbedding/')\n",
    "import Hybrid_nn\n",
    "import torch\n",
    "from torch import nn\n",
    "import data\n",
    "import pennylane as qml\n",
    "import embedding\n",
    "\n",
    "dev = qml.device('default.qubit', wires=4)"
   ]
  },
  {
   "attachments": {},
   "cell_type": "markdown",
   "metadata": {},
   "source": [
    "# 2. Feature Mapping Circuit"
   ]
  },
  {
   "cell_type": "code",
   "execution_count": 4,
   "metadata": {},
   "outputs": [],
   "source": [
    "\n",
    "N_layers = 3\n",
    "\n",
    "def Four_QuantumEmbedding2(input):\n",
    "    for i in range(N_layers):\n",
    "        for j in range(4):\n",
    "            qml.Hadamard(wires=j)\n",
    "            embedding.exp_Z(input[j], wires=j)\n",
    "        for k in range(3):\n",
    "            embedding.exp_ZZ1(input[4+k], wires=[k, k+1])\n",
    "        embedding.exp_ZZ1(input[7], wires=[3,0])                       \n",
    "\n",
    "def Four_QuantumEmbedding2_inverse(input):\n",
    "    for i in range(N_layers):\n",
    "        embedding.exp_ZZ1(input[7], wires=[3,0], inverse=True) \n",
    "        for k in reversed(range(3)):\n",
    "            embedding.exp_ZZ1(input[k+4], wires=[k,k+1], inverse=True)\n",
    "        qml.Barrier()\n",
    "        for j in range(4):\n",
    "            embedding.exp_Z(input[j], wires=j, inverse=True)\n",
    "            qml.Hadamard(wires=j)"
   ]
  },
  {
   "cell_type": "code",
   "execution_count": null,
   "metadata": {},
   "outputs": [],
   "source": [
    "@qml.qnode(dev, interface=\"torch\")\n",
    "def circuit3(inputs): \n",
    "    Four_QuantumEmbedding2(inputs[0:8])\n",
    "    Four_QuantumEmbedding2_inverse(inputs[8:16])\n",
    "    return qml.probs(wires=range(4))\n",
    "\n",
    "class Model3_Fidelity(torch.nn.Module):\n",
    "    def __init__(self):\n",
    "        super().__init__()\n",
    "        # Layer1: 28 * 28 -> 14 * 14\n",
    "        self.layer1 = torch.nn.Sequential(\n",
    "            torch.nn.Conv2d(1, 1, kernel_size=3, stride=1, padding=1),\n",
    "            torch.nn.ReLU(),\n",
    "            torch.nn.MaxPool2d(kernel_size=2, stride=2)\n",
    "        )\n",
    "\n",
    "        # Layer2: 14 * 14 -> 7 * 7\n",
    "        self.layer2 = torch.nn.Sequential(\n",
    "            torch.nn.Conv2d(1, 1, kernel_size=3, stride=1, padding=1),\n",
    "            torch.nn.ReLU(),\n",
    "            torch.nn.MaxPool2d(kernel_size=2, stride=2)\n",
    "        )\n",
    "\n",
    "        # Fully connected Layers 7 * 7 -> 8\n",
    "        self.fc = torch.nn.Linear(7 * 7, 8, bias=True)\n",
    "\n",
    "        self.qlayer3 = qml.qnn.TorchLayer(circuit3, weight_shapes={})\n",
    "\n",
    "    def forward(self, x1, x2):\n",
    "        x1 = self.layer1(x1)\n",
    "        x1 = self.layer2(x1)\n",
    "        x1 = x1.view(-1, 7 * 7)\n",
    "        x1 = self.fc(x1)\n",
    "\n",
    "        x2 = self.layer1(x2)\n",
    "        x2 = self.layer2(x2)\n",
    "        x2 = x2.view(-1, 7 * 7)\n",
    "        x2 = self.fc(x2)\n",
    "\n",
    "        x = torch.concat([x1, x2], 1)\n",
    "        x = self.qlayer3(x)\n",
    "        return x[:,0]\n",
    "\n",
    "class Model3_HSinner(torch.nn.Module):\n",
    "    def __init__(self):\n",
    "        super().__init__()\n",
    "        self.matrix_fn2 = qml.matrix(circuit2)\n",
    "        # Layer1: 28 * 28 -> 14 * 14\n",
    "        self.layer1 = torch.nn.Sequential(\n",
    "            torch.nn.Conv2d(1, 1, kernel_size=3, stride=1, padding=1),\n",
    "            torch.nn.ReLU(),\n",
    "            torch.nn.MaxPool2d(kernel_size=2, stride=2)\n",
    "        )\n",
    "\n",
    "        # Layer2: 14 * 14 -> 7 * 7\n",
    "        self.layer2 = torch.nn.Sequential(\n",
    "            torch.nn.Conv2d(1, 1, kernel_size=3, stride=1, padding=1),\n",
    "            torch.nn.ReLU(),\n",
    "            torch.nn.MaxPool2d(kernel_size=2, stride=2)\n",
    "        )\n",
    "\n",
    "        # Fully connected Layers 7 * 7 -> 16\n",
    "        self.fc = torch.nn.Linear(7 * 7, 16, bias=True)\n",
    "\n",
    "\n",
    "    def forward(self, x1, x2):\n",
    "        x1 = self.layer1(x1)\n",
    "        x1 = self.layer2(x1)\n",
    "        x1 = x1.view(-1, 7 * 7)\n",
    "        x1 = self.fc(x1)\n",
    "\n",
    "        x2 = self.layer1(x2)\n",
    "        x2 = self.layer2(x2)\n",
    "        x2 = x2.view(-1, 7 * 7)\n",
    "        x2 = self.fc(x2)\n",
    "\n",
    "        \n",
    "        x = torch.concat([x1, x2], 1).to(\"cpu\")\n",
    "        x = [torch.real(torch.trace(self.matrix_fn2(a))) for a in x]\n",
    "        x = torch.stack(x, dim=0).to(device)\n",
    "        return x / 2**8"
   ]
  },
  {
   "cell_type": "markdown",
   "metadata": {},
   "source": []
  }
 ],
 "metadata": {
  "kernelspec": {
   "display_name": "Python 3 (ipykernel)",
   "language": "python",
   "name": "python3"
  },
  "language_info": {
   "codemirror_mode": {
    "name": "ipython",
    "version": 3
   },
   "file_extension": ".py",
   "mimetype": "text/x-python",
   "name": "python",
   "nbconvert_exporter": "python",
   "pygments_lexer": "ipython3",
   "version": "3.7.15"
  },
  "vscode": {
   "interpreter": {
    "hash": "18c4b2c9b6e0880abfbec0f1d78bbd37383c13120437ebae8d1a7afe7b354d80"
   }
  }
 },
 "nbformat": 4,
 "nbformat_minor": 2
}
