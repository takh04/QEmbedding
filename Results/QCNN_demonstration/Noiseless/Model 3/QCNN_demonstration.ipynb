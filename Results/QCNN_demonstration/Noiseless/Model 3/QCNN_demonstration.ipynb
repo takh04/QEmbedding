{
 "cells": [
  {
   "attachments": {},
   "cell_type": "markdown",
   "metadata": {},
   "source": [
    "# Noiseless QCNN demo for Model3"
   ]
  },
  {
   "attachments": {},
   "cell_type": "markdown",
   "metadata": {},
   "source": [
    "This demo uses 4-qubit Quantum Convolutional Neural Network (QCNN) to see how pre-training the quantum embedding can be helpful for training a parameterized QML circuits for classfication tasks.\n",
    "\n",
    "If you are interested in detailed analysis of pre-training on 8-qubit device, check out \"/Result/earlystop 10 experiments/\" folder.\n",
    "\n",
    "If you are interested in the details about the QCNN used in this demo, check out https://arxiv.org/pdf/2108.00661.pdf.\n"
   ]
  },
  {
   "cell_type": "code",
   "execution_count": 1,
   "metadata": {},
   "outputs": [],
   "source": [
    "from pennylane import numpy as np\n",
    "import matplotlib.pyplot as plt\n",
    "import matplotlib as mpl\n",
    "import sys\n",
    "sys.path.insert(0, '/Users/tak/Github/QEmbedding/')\n",
    "import Hybrid_nn\n",
    "import torch\n",
    "from torch import nn\n",
    "import data\n",
    "import pennylane as qml\n",
    "import embedding"
   ]
  },
  {
   "attachments": {},
   "cell_type": "markdown",
   "metadata": {},
   "source": [
    "# 0. Getting Started"
   ]
  },
  {
   "attachments": {},
   "cell_type": "markdown",
   "metadata": {},
   "source": [
    "Load the dataset"
   ]
  },
  {
   "cell_type": "code",
   "execution_count": 2,
   "metadata": {},
   "outputs": [
    {
     "name": "stderr",
     "output_type": "stream",
     "text": [
      "/var/folders/ym/ry24dhs911s7zbqfbhs5ns2m0000gn/T/ipykernel_9215/1083009800.py:18: UserWarning: Creating a tensor from a list of numpy.ndarrays is extremely slow. Please consider converting the list to a single numpy.ndarray with numpy.array() before converting to a tensor. (Triggered internally at /Users/runner/work/_temp/anaconda/conda-bld/pytorch_1670525498485/work/torch/csrc/utils/tensor_new.cpp:233.)\n",
      "  X1_new, X2_new, Y_new = torch.tensor(X1_new).to(torch.float32), torch.tensor(X2_new).to(torch.float32), torch.tensor(Y_new).to(torch.float32)\n"
     ]
    }
   ],
   "source": [
    "dev = qml.device('default.qubit', wires=4)\n",
    "device = torch.device(\"cuda\" if torch.cuda.is_available() else \"cpu\")\n",
    "\n",
    "feature_reduction = False\n",
    "classes = [0,1]\n",
    "X_train, X_test, Y_train, Y_test = data.data_load_and_process('mnist', feature_reduction=feature_reduction, classes=classes)\n",
    "def new_data(batch_size, X, Y):\n",
    "    X1_new, X2_new, Y_new = [], [], []\n",
    "    for i in range(batch_size):\n",
    "        n, m = np.random.randint(len(X)), np.random.randint(len(X))\n",
    "        X1_new.append(X[n])\n",
    "        X2_new.append(X[m])\n",
    "        if Y[n] == Y[m]:\n",
    "            Y_new.append(1)\n",
    "        else:\n",
    "            Y_new.append(0)\n",
    "\n",
    "    X1_new, X2_new, Y_new = torch.tensor(X1_new).to(torch.float32), torch.tensor(X2_new).to(torch.float32), torch.tensor(Y_new).to(torch.float32)\n",
    "    if feature_reduction == False:\n",
    "        X1_new = X1_new.permute(0, 3, 1, 2)\n",
    "        X2_new = X2_new.permute(0, 3, 1, 2)\n",
    "    return X1_new.to(device), X2_new.to(device), Y_new.to(device)\n",
    "\n",
    "N_valid, N_test = 500, 1000\n",
    "X1_new_valid, X2_new_valid, Y_new_valid = new_data(N_valid, X_test, Y_test)\n",
    "X1_new_test, X2_new_test, Y_new_test = new_data(N_test, X_test, Y_test)"
   ]
  },
  {
   "attachments": {},
   "cell_type": "markdown",
   "metadata": {},
   "source": [
    "# Part1: Pre-training the embedding"
   ]
  },
  {
   "cell_type": "code",
   "execution_count": 3,
   "metadata": {},
   "outputs": [],
   "source": [
    "@qml.qnode(dev, interface=\"torch\")\n",
    "def Four_circuit3(inputs): \n",
    "    embedding.Four_QuantumEmbedding2(inputs[0:8])\n",
    "    embedding.Four_QuantumEmbedding2_inverse(inputs[8:16])\n",
    "    return qml.probs(wires=range(4))\n",
    "\n",
    "\n",
    "class Four_Model3_Fidelity(torch.nn.Module):\n",
    "    def __init__(self):\n",
    "        super().__init__()\n",
    "        # Layer1: 28 * 28 -> 14 * 14\n",
    "        self.layer1 = torch.nn.Sequential(\n",
    "            torch.nn.Conv2d(1, 1, kernel_size=3, stride=1, padding=1),\n",
    "            torch.nn.ReLU(),\n",
    "            torch.nn.MaxPool2d(kernel_size=2, stride=2)\n",
    "        )\n",
    "\n",
    "        # Layer2: 14 * 14 -> 7 * 7\n",
    "        self.layer2 = torch.nn.Sequential(\n",
    "            torch.nn.Conv2d(1, 1, kernel_size=3, stride=1, padding=1),\n",
    "            torch.nn.ReLU(),\n",
    "            torch.nn.MaxPool2d(kernel_size=2, stride=2)\n",
    "        )\n",
    "\n",
    "        # Fully connected Layers 7 * 7 -> 8\n",
    "        self.fc = torch.nn.Linear(7 * 7, 8, bias=True)\n",
    "\n",
    "        self.qlayer3 = qml.qnn.TorchLayer(Four_circuit3, weight_shapes={})\n",
    "\n",
    "    def forward(self, x1, x2):\n",
    "        x1 = self.layer1(x1)\n",
    "        x1 = self.layer2(x1)\n",
    "        x1 = x1.view(-1, 7 * 7)\n",
    "        x1 = self.fc(x1)\n",
    "\n",
    "        x2 = self.layer1(x2)\n",
    "        x2 = self.layer2(x2)\n",
    "        x2 = x2.view(-1, 7 * 7)\n",
    "        x2 = self.fc(x2)\n",
    "\n",
    "        x = torch.concat([x1, x2], 1)\n",
    "        x = self.qlayer3(x)\n",
    "        return x[:,0]\n",
    "\n",
    "class Four_Model3_HSinner(torch.nn.Module):\n",
    "    def __init__(self):\n",
    "        super().__init__()\n",
    "        self.matrix_fn3 = qml.matrix(Four_circuit3)\n",
    "        # Layer1: 28 * 28 -> 14 * 14\n",
    "        self.layer1 = torch.nn.Sequential(\n",
    "            torch.nn.Conv2d(1, 1, kernel_size=3, stride=1, padding=1),\n",
    "            torch.nn.ReLU(),\n",
    "            torch.nn.MaxPool2d(kernel_size=2, stride=2)\n",
    "        )\n",
    "\n",
    "        # Layer2: 14 * 14 -> 7 * 7\n",
    "        self.layer2 = torch.nn.Sequential(\n",
    "            torch.nn.Conv2d(1, 1, kernel_size=3, stride=1, padding=1),\n",
    "            torch.nn.ReLU(),\n",
    "            torch.nn.MaxPool2d(kernel_size=2, stride=2)\n",
    "        )\n",
    "\n",
    "        # Fully connected Layers 7 * 7 -> 8\n",
    "        self.fc = torch.nn.Linear(7 * 7, 8, bias=True)\n",
    "\n",
    "\n",
    "    def forward(self, x1, x2):\n",
    "        x1 = self.layer1(x1)\n",
    "        x1 = self.layer2(x1)\n",
    "        x1 = x1.view(-1, 7 * 7)\n",
    "        x1 = self.fc(x1)\n",
    "\n",
    "        x2 = self.layer1(x2)\n",
    "        x2 = self.layer2(x2)\n",
    "        x2 = x2.view(-1, 7 * 7)\n",
    "        x2 = self.fc(x2)\n",
    "\n",
    "        \n",
    "        x = torch.concat([x1, x2], 1).to(\"cpu\")\n",
    "        x = [torch.real(torch.trace(self.matrix_fn3(a))) for a in x]\n",
    "        x = torch.stack(x, dim=0).to(device)\n",
    "        return x / 2**4"
   ]
  },
  {
   "attachments": {},
   "cell_type": "markdown",
   "metadata": {},
   "source": [
    "(Skip the code below, Already trained)"
   ]
  },
  {
   "cell_type": "code",
   "execution_count": 4,
   "metadata": {},
   "outputs": [
    {
     "name": "stdout",
     "output_type": "stream",
     "text": [
      "Iterations: 0 Loss: 0.5999990105628967\n",
      "Iterations: 200 Loss: 0.6799989938735962\n",
      "Iterations: 400 Loss: 0.479999303817749\n",
      "Iterations: 600 Loss: 0.5599992871284485\n",
      "Iterations: 800 Loss: 0.39999961853027344\n"
     ]
    }
   ],
   "source": [
    "def train_models(model_name):\n",
    "    train_loss = []\n",
    "    if model_name == 'Model3_Fidelity':\n",
    "        model = Four_Model3_Fidelity()\n",
    "        PATH = '/Users/tak/Github/QEmbedding/Results/QCNN_demonstration/Noiseless/Model 3/Four_Model3_Fidelity.pt'\n",
    "    elif model_name == 'Model3_HSinner':\n",
    "        model = Four_Model3_HSinner()\n",
    "        PATH = '/Users/tak/Github/QEmbedding/Results/QCNN_demonstration/Noiseless/Model 3/Four_Model3_HSinner.pt'\n",
    "    model.train()\n",
    "\n",
    "    loss_fn = torch.nn.MSELoss()\n",
    "    opt = torch.optim.SGD(model.parameters(), lr=0.01)\n",
    "    for it in range(1000):\n",
    "        X1_batch, X2_batch, Y_batch = new_data(25, X_train, Y_train)\n",
    "        X1_batch, X2_batch, Y_batch = X1_batch, X2_batch, Y_batch\n",
    "\n",
    "        pred = model(X1_batch, X2_batch)\n",
    "        pred, Y_batch = pred.to(torch.float32), Y_batch.to(torch.float32)\n",
    "        loss = loss_fn(pred, Y_batch)\n",
    "        train_loss.append(loss.item())\n",
    "\n",
    "        opt.zero_grad()\n",
    "        loss.backward()\n",
    "        opt.step()\n",
    "\n",
    "        if it % 200 == 0:\n",
    "            print(f\"Iterations: {it} Loss: {loss.item()}\")\n",
    "    \n",
    "    torch.save(model.state_dict(), PATH)\n",
    "\n",
    "#train_models('Model3_Fidelity')\n",
    "train_models('Model3_HSinner')\n"
   ]
  },
  {
   "attachments": {},
   "cell_type": "markdown",
   "metadata": {},
   "source": [
    "Calculate the distances of Test dataset with the pre-trained quantum embeddings. From the calculated trace distance gain the lower bound of the linear loss function (with respect to the test data)."
   ]
  },
  {
   "cell_type": "code",
   "execution_count": 7,
   "metadata": {},
   "outputs": [
    {
     "name": "stdout",
     "output_type": "stream",
     "text": [
      "Trace Distance (Training Data) Before: 0.2734867334365845\n",
      "Trace Distance (Test Data) Before: 0.2723434865474701\n"
     ]
    },
    {
     "name": "stderr",
     "output_type": "stream",
     "text": [
      "/Users/tak/miniforge3/envs/QC/lib/python3.10/site-packages/pennylane/qnn/torch.py:328: UserWarning: Casting complex values to real discards the imaginary part (Triggered internally at /Users/runner/work/_temp/anaconda/conda-bld/pytorch_1670525498485/work/aten/src/ATen/native/Copy.cpp:250.)\n",
      "  return self.qnode(**kwargs).type(x.dtype)\n"
     ]
    },
    {
     "name": "stdout",
     "output_type": "stream",
     "text": [
      "Trace Distance (Training Data) After Model3 Fidelity: 0.914618194103241\n",
      "Trace Distance (Test Data) After Model3 Fidelity: 0.9234920740127563\n",
      "Trace Distance (Training Data) After Model3 HSinner: 1.1824748071376234e-05\n",
      "Trace Distance (Test Data) After Model3 HSinner: 1.2403033906593919e-05\n"
     ]
    }
   ],
   "source": [
    "X1_test, X0_test = [], []\n",
    "for i in range(len(X_test)):\n",
    "    if Y_test[i] == 1:\n",
    "        X1_test.append(X_test[i])\n",
    "    else:\n",
    "        X0_test.append(X_test[i])\n",
    "X1_test, X0_test = torch.tensor(X1_test).to(torch.float32), torch.tensor(X0_test).to(torch.float32)\n",
    "X1_test, X0_test = X1_test.permute(0, 3, 1, 2), X0_test.permute(0, 3, 1, 2)\n",
    "\n",
    "X1_train, X0_train = [], []\n",
    "for i in range(len(X_train)):\n",
    "    if Y_train[i] == 1:\n",
    "        X1_train.append(X_train[i])\n",
    "    else:\n",
    "        X0_train.append(X_train[i])\n",
    "X1_train, X0_train = torch.tensor(X1_train).to(torch.float32), torch.tensor(X0_train).to(torch.float32)\n",
    "X1_train, X0_train = X1_train.permute(0, 3, 1, 2), X0_train.permute(0, 3, 1, 2)\n",
    "\n",
    "\n",
    "@qml.qnode(dev, interface=\"torch\")\n",
    "def Four_Distance3(inputs): \n",
    "    embedding.Four_QuantumEmbedding2(inputs[0:8])\n",
    "    return qml.density_matrix(wires=range(4))\n",
    "\n",
    "\n",
    "class Distances3(torch.nn.Module):\n",
    "    def __init__(self):\n",
    "        super().__init__()\n",
    "        # Layer1: 28 * 28 -> 14 * 14\n",
    "        self.layer1 = torch.nn.Sequential(\n",
    "            torch.nn.Conv2d(1, 1, kernel_size=3, stride=1, padding=1),\n",
    "            torch.nn.ReLU(),\n",
    "            torch.nn.MaxPool2d(kernel_size=2, stride=2)\n",
    "        )\n",
    "\n",
    "        # Layer2: 14 * 14 -> 7 * 7\n",
    "        self.layer2 = torch.nn.Sequential(\n",
    "            torch.nn.Conv2d(1, 1, kernel_size=3, stride=1, padding=1),\n",
    "            torch.nn.ReLU(),\n",
    "            torch.nn.MaxPool2d(kernel_size=2, stride=2)\n",
    "        )\n",
    "\n",
    "        # Fully connected Layers 7 * 7 -> 8\n",
    "        self.fc = torch.nn.Linear(7 * 7, 8, bias=True)\n",
    "        self.qlayer3_distance = qml.qnn.TorchLayer(Four_Distance3, weight_shapes={})\n",
    "\n",
    "    def forward(self, x1, x0):\n",
    "        x1 = self.layer1(x1)\n",
    "        x1 = self.layer2(x1)\n",
    "        x1 = x1.view(-1, 7 * 7)\n",
    "        x1 = self.fc(x1)\n",
    "\n",
    "        x0 = self.layer1(x0)\n",
    "        x0 = self.layer2(x0)\n",
    "        x0 = x0.view(-1, 7 * 7)\n",
    "        x0 = self.fc(x0)\n",
    "\n",
    "        rhos1 = self.qlayer3_distance(x1)\n",
    "        rhos0 = self.qlayer3_distance(x0)\n",
    "        \n",
    "        rho1 = torch.sum(rhos1, dim=0) / len(x1)\n",
    "        rho0 = torch.sum(rhos0, dim=0) / len(x0)\n",
    "        rho_diff = rho1 - rho0\n",
    "        eigvals = torch.linalg.eigvals(rho_diff)\n",
    "        return 0.5 * torch.real(torch.sum(torch.abs(eigvals)))\n",
    "\n",
    "\n",
    "PATH_Model3_Fidelity = '/Users/tak/Github/QEmbedding/Results/QCNN_demonstration/Noiseless/Model 3/Four_Model3_Fidelity.pt'\n",
    "PATH_Model3_HSinner = '/Users/tak/Github/QEmbedding/Results/QCNN_demonstration/Noiseless/Model 3/Four_Model3_HSinner.pt'\n",
    "Model3_Fidelity_Distance = Distances3().to(device)\n",
    "Model3_Fidelity_Distance.load_state_dict(torch.load(PATH_Model3_Fidelity, map_location=device))\n",
    "Model3_HSinner_Distance = Distances3().to(device)\n",
    "Model3_HSinner_Distance.load_state_dict(torch.load(PATH_Model3_HSinner, map_location=device))\n",
    "\n",
    "# Calculated from Model1 \n",
    "Trace_before_traindata = 0.2734867334365845\n",
    "Trace_before_testdata = 0.2723434865474701\n",
    "LB_before_traindata = 0.5 * (1 - Trace_before_traindata)\n",
    "\n",
    "print(f\"Trace Distance (Training Data) Before: {Trace_before_traindata}\")\n",
    "print(f\"Trace Distance (Test Data) Before: {Trace_before_testdata}\")\n",
    "\n",
    "# Distances After training with Model2_Fidelity\n",
    "Trace_Fidelity_traindata = Model3_Fidelity_Distance(X1_train, X0_train)\n",
    "Trace_Fidelity_testdata = Model3_Fidelity_Distance(X1_test, X0_test)\n",
    "print(f\"Trace Distance (Training Data) After Model3 Fidelity: {Trace_Fidelity_traindata}\")\n",
    "print(f\"Trace Distance (Test Data) After Model3 Fidelity: {Trace_Fidelity_testdata}\")\n",
    "\n",
    "# Distances After training with Model2_HSinner\n",
    "Trace_HSinner_traindata = Model3_HSinner_Distance(X1_train, X0_train)\n",
    "Trace_HSinner_testdata = Model3_HSinner_Distance(X1_test, X0_test)\n",
    "print(f\"Trace Distance (Training Data) After Model3 HSinner: {Trace_HSinner_traindata}\")\n",
    "print(f\"Trace Distance (Test Data) After Model3 HSinner: {Trace_HSinner_testdata}\")\n",
    "\n",
    "# Lower Bounds\n",
    "LB_before_traindata = 0.5 * (1 - Trace_before_traindata)\n",
    "LB_Fidelity_traindata = 0.5 * (1 - Trace_Fidelity_traindata.detach().numpy())\n",
    "LB_HSinner_traindata = 0.5 * (1 - Trace_HSinner_traindata.detach().numpy())"
   ]
  },
  {
   "attachments": {},
   "cell_type": "markdown",
   "metadata": {},
   "source": [
    "# Part2: Training QCNN with/without Pre-trained embedding"
   ]
  },
  {
   "attachments": {},
   "cell_type": "markdown",
   "metadata": {},
   "source": [
    "Relabel the datasets"
   ]
  },
  {
   "cell_type": "code",
   "execution_count": 27,
   "metadata": {},
   "outputs": [],
   "source": [
    "X_train, X_test = torch.tensor(X_train).to(torch.float32), torch.tensor(X_test).to(torch.float32)\n",
    "X_train, X_test = X_train.permute(0, 3, 1, 2), X_test.permute(0, 3, 1, 2)\n",
    "Y_train = [-1 if y == 0 else 1 for y in Y_train]\n",
    "Y_test = [-1 if y == 0 else 1 for y in Y_test]"
   ]
  },
  {
   "cell_type": "code",
   "execution_count": 13,
   "metadata": {},
   "outputs": [
    {
     "data": {
      "text/plain": [
       "<All keys matched successfully>"
      ]
     },
     "execution_count": 13,
     "metadata": {},
     "output_type": "execute_result"
    }
   ],
   "source": [
    "class x_transform3(torch.nn.Module):\n",
    "    def __init__(self):\n",
    "        super().__init__()\n",
    "        self.layer1 = torch.nn.Sequential(\n",
    "            torch.nn.Conv2d(1, 1, kernel_size=3, stride=1, padding=1),\n",
    "            torch.nn.ReLU(),\n",
    "            torch.nn.MaxPool2d(kernel_size=2, stride=2)\n",
    "        )\n",
    "\n",
    "        # Layer2: 14 * 14 -> 7 * 7\n",
    "        self.layer2 = torch.nn.Sequential(\n",
    "            torch.nn.Conv2d(1, 1, kernel_size=3, stride=1, padding=1),\n",
    "            torch.nn.ReLU(),\n",
    "            torch.nn.MaxPool2d(kernel_size=2, stride=2)\n",
    "        )\n",
    "\n",
    "        # Fully connected Layers 7 * 7 -> 8\n",
    "        self.fc = torch.nn.Linear(7 * 7, 8, bias=True)\n",
    "        \n",
    "    def forward(self, x):\n",
    "        x = self.layer1(x)\n",
    "        x = self.layer2(x)\n",
    "        x = x.view(-1, 7 * 7)\n",
    "        x = self.fc(x)\n",
    "        return x.detach().numpy()\n",
    "\n",
    "model = x_transform3().to(device)"
   ]
  },
  {
   "attachments": {},
   "cell_type": "markdown",
   "metadata": {},
   "source": [
    "Tunable Hyperparameters"
   ]
  },
  {
   "cell_type": "code",
   "execution_count": null,
   "metadata": {},
   "outputs": [],
   "source": [
    "steps = 1000\n",
    "learning_rate = 0.01\n",
    "batch_size = 128\n",
    "ansatz = 'SU4'"
   ]
  },
  {
   "cell_type": "code",
   "execution_count": 16,
   "metadata": {},
   "outputs": [],
   "source": [
    "def statepreparation(x, Trained):\n",
    "    if Trained == 'Model3_Fidelity':\n",
    "        model.load_state_dict(torch.load(PATH_Model3_Fidelity, map_location=device))\n",
    "        x = model(torch.tensor(x))\n",
    "    elif Trained == 'Model3_HSinner':\n",
    "        model.load_state_dict(torch.load(PATH_Model3_HSinner, map_location=device))\n",
    "        x = model(torch.tensor(x))\n",
    "    embedding.Four_QuantumEmbedding2(x)\n",
    "\n",
    "\n",
    "@qml.qnode(dev)\n",
    "def QCNN_classifier(params, x, Trained):\n",
    "    statepreparation(x, Trained)\n",
    "    embedding.QCNN_four(params, ansatz)\n",
    "    return qml.expval(qml.PauliZ(2))\n",
    "\n",
    "\n",
    "def Linear_Loss(labels, predictions):\n",
    "    loss = 0\n",
    "    for l,p in zip(labels, predictions):\n",
    "        loss += 0.5 * (1 - l * p)\n",
    "    return loss / len(labels)\n",
    "\n",
    "\n",
    "def cost(weights, X_batch, Y_batch, Trained):\n",
    "    preds = [QCNN_classifier(weights, x, Trained) for x in X_batch]\n",
    "    return Linear_Loss(Y_batch, preds)\n",
    "\n",
    "\n",
    "def circuit_training(X_train, Y_train, Trained):\n",
    "\n",
    "    if ansatz == 'SU4':\n",
    "        num_weights = 30\n",
    "    elif ansatz == 'TTN':\n",
    "        num_weights = 2\n",
    "\n",
    "    weights = np.random.random(num_weights, requires_grad = True)\n",
    "    opt = qml.NesterovMomentumOptimizer(stepsize=learning_rate)\n",
    "    loss_history = []\n",
    "    for it in range(steps):\n",
    "        batch_index = np.random.randint(0, len(X_train), (batch_size,))\n",
    "        X_batch = [X_train[i] for i in batch_index]\n",
    "        Y_batch = [Y_train[i] for i in batch_index]\n",
    "        weights, cost_new = opt.step_and_cost(lambda v: cost(v, X_batch, Y_batch, Trained),\n",
    "                                                     weights)\n",
    "        loss_history.append(cost_new)\n",
    "        if it % 200 == 0:\n",
    "            print(\"iteration: \", it, \" cost: \", cost_new)\n",
    "    return loss_history, weights"
   ]
  },
  {
   "cell_type": "code",
   "execution_count": null,
   "metadata": {},
   "outputs": [],
   "source": [
    "Loss_histories_Model3_Fidelity, weights_Model3_Fidelity, Loss_histories_Model3_HSinner, weights_Model3_HSinner = [], [], [], []\n",
    "for i in range(5):\n",
    "    loss_Model3_Fidelity, weight_Model3_Fidelity = circuit_training(X_train, Y_train, 'Model3_Fidelity')\n",
    "    loss_Model3_HSinner, weight_Model3_HSinner = circuit_training(X_train, Y_train, 'Model3_HSinner')\n",
    "\n",
    "\n",
    "    Loss_histories_Model3_Fidelity.append(loss_Model3_Fidelity)\n",
    "    weights_Model3_Fidelity.append(weight_Model3_Fidelity)\n",
    "\n",
    "    Loss_histories_Model3_HSinner.append(loss_Model3_HSinner)\n",
    "    weights_Model3_HSinner.append(weight_Model3_HSinner)\n",
    "\n",
    "\n",
    "Loss_histories_Model3_Fidelity, Loss_histories_Model3_HSinner =  np.array(Loss_histories_Model3_Fidelity), np.array(Loss_histories_Model3_HSinner)\n",
    "\n",
    "Model3_Fidelity_mean, Model3_Fidelity_std = Loss_histories_Model3_Fidelity.mean(axis=0), Loss_histories_Model3_Fidelity.std(axis=0)\n",
    "Model3_HSinner_mean, Model3_HSinner_std = Loss_histories_Model3_HSinner.mean(axis=0), Loss_histories_Model3_HSinner.std(axis=0)"
   ]
  },
  {
   "cell_type": "code",
   "execution_count": null,
   "metadata": {},
   "outputs": [],
   "source": [
    "from numpy import genfromtxt\n",
    "\n",
    "Loss_histories_not_trained = []\n",
    "\n",
    "for i in range(5):\n",
    "    Loss_histories_not_trained_PATH = f'/Users/tak/Github/QEmbedding/Results/QCNN_demonstration/Noiseless/Model 1/Loss_histories_not_trained/Loss_histories_not_trained{i + 1}.txt'\n",
    "    textfile = open(Loss_histories_not_trained_PATH, 'r')\n",
    "    data = np.array([])\n",
    "    for line in textfile:\n",
    "        a = np.array([float(v) for v in line.strip().split(\" \")])\n",
    "        data = np.append(data, a)\n",
    "    Loss_histories_not_trained.append(data.tolist())\n",
    "\n",
    "\n",
    "Loss_histories_not_trained = np.array(Loss_histories_not_trained)\n",
    "Not_trained_mean, Not_trained_std = Loss_histories_not_trained.mean(axis=0), Loss_histories_not_trained.std(axis=0)"
   ]
  },
  {
   "cell_type": "code",
   "execution_count": null,
   "metadata": {},
   "outputs": [],
   "source": [
    "import seaborn as sns\n",
    "\n",
    "plt.rcParams['figure.figsize'] = [10, 5]\n",
    "fig, ax = plt.subplots()\n",
    "clrs = sns.color_palette(\"husl\", 3)\n",
    "with sns.axes_style(\"darkgrid\"):\n",
    "    ax.plot(range(len(Not_trained_mean)), Not_trained_mean, label=\"No Pre-training\", c=clrs[0])\n",
    "    ax.fill_between(range(len(Not_trained_mean)), Not_trained_mean-Not_trained_std, Not_trained_mean+Not_trained_std, alpha=0.3,facecolor=clrs[0])\n",
    "\n",
    "    ax.plot(range(len(Model3_Fidelity_mean)), Model3_Fidelity_mean, label=\"Model3 Fidelity Pre-training\", c=clrs[1])\n",
    "    ax.fill_between(range(len(Model3_Fidelity_mean)), Model3_Fidelity_mean-Model3_Fidelity_std, Model3_Fidelity_mean+Model3_Fidelity_std, alpha=0.3,facecolor=clrs[1])\n",
    "\n",
    "    ax.plot(range(len(Model3_HSinner_mean)), Model3_HSinner_mean, label=\"Model3 HSinner Pre-training\", c=clrs[2])\n",
    "    ax.fill_between(range(len(Model3_HSinner_mean)), Model3_HSinner_mean-Model3_HSinner_std, Model3_HSinner_mean+Model3_HSinner_std, alpha=0.3,facecolor=clrs[2])\n",
    "\n",
    "    ax.plot(range(1000), np.ones(1000) * LB_before_traindata, linestyle='dashed', linewidth=1.5, label=\"Lower Bound without Pre-training\", c=clrs[0])\n",
    "    ax.plot(range(1000), np.ones(1000) * LB_Fidelity_traindata, linestyle='dashed', linewidth=1.5, label=\"Lower Bound with Model3 Fidelity\", c=clrs[1])\n",
    "    ax.plot(range(1000), np.ones(1000) * LB_HSinner_traindata, linestyle='dashed', linewidth=1.5, label=\"Lower Bound with Model3 HSinner\", c=clrs[2])\n",
    "\n",
    "\n",
    "ax.set_xlabel(\"Iteration\")\n",
    "ax.set_ylabel(\"Loss\")\n",
    "ax.set_title(\"Model3 QCNN Loss History\")\n",
    "ax.legend()"
   ]
  },
  {
   "attachments": {},
   "cell_type": "markdown",
   "metadata": {},
   "source": [
    "Save the Loss Histories and Trained weights"
   ]
  },
  {
   "cell_type": "code",
   "execution_count": null,
   "metadata": {},
   "outputs": [],
   "source": [
    "f = open('/Users/tak/Github/QEmbedding/Results/QCNN_demonstration/Noiseless/Model 3/Loss_histories_and_weights.txt', 'w')\n",
    "\n",
    "for i in range(5):\n",
    "    f.write(f'Loss History Model3 Fidelity {i + 1}:')\n",
    "    f.write('\\n')\n",
    "    f.write(str(Loss_histories_Model3_Fidelity[i]))\n",
    "    f.write('\\n')\n",
    "for i in range(5):\n",
    "    f.write(f'Weights Model3 Fidelity {i + 1}:')\n",
    "    f.write('\\n')\n",
    "    f.write(str(weights_Model3_Fidelity[i]))\n",
    "    \n",
    "for i in range(5):\n",
    "    f.write(f'Loss History Model3 HSinner {i + 1}:')\n",
    "    f.write('\\n')\n",
    "    f.write(str(Loss_histories_Model3_HSinner[i]))\n",
    "    f.write('\\n')\n",
    "for i in range(5):\n",
    "    f.write(f'Weights Model3 HSinner {i + 1}:')\n",
    "    f.write('\\n')\n",
    "    f.write(str(weights_Model3_HSinner[i]))\n",
    "f.close()"
   ]
  },
  {
   "attachments": {},
   "cell_type": "markdown",
   "metadata": {},
   "source": [
    "Check the accuracies of QCNN classifiers"
   ]
  },
  {
   "cell_type": "code",
   "execution_count": null,
   "metadata": {},
   "outputs": [],
   "source": [
    "def accuracy_test(predictions, labels):\n",
    "    acc = 0\n",
    "    for l, p in zip(labels, predictions):\n",
    "        if np.abs(l - p) < 1:\n",
    "            acc = acc + 1\n",
    "    return acc / len(labels)\n",
    "\n",
    "\n",
    "#accuracies_not_trained = []\n",
    "accuracies_Model3_Fidelity, accuracies_Model3_HSinner = [], []\n",
    "\n",
    "for i in range(5):\n",
    "    #prediction_not_trained = [QCNN_classifier(weights_not_trained[i], x, Trained=False) for x in X_test]\n",
    "    prediction_Model3_Fidelity = [QCNN_classifier(weights_Model3_Fidelity[i], x, Trained='Model3_Fidelity') for x in X_test]\n",
    "    prediction_Model3_HSinner = [QCNN_classifier(weights_Model3_HSinner[i], x, Trained='Model3_HSinner') for x in X_test]\n",
    "    \n",
    "    #accuracy_not_trained = accuracy_test(prediction_not_trained, Y_test)\n",
    "    accuracy_Model3_Fidelity = accuracy_test(prediction_Model3_Fidelity, Y_test)\n",
    "    accuracy_Model3_HSinner = accuracy_test(prediction_Model3_HSinner, Y_test)\n",
    "\n",
    "    #accuracies_not_trained.append(accuracy_not_trained)\n",
    "    accuracies_Model3_Fidelity.append(accuracy_Model3_Fidelity)\n",
    "    accuracies_Model3_HSinner.append(accuracy_Model3_HSinner)\n",
    "\n",
    "#accuracies_not_trained = np.array(accuracies_not_trained),\n",
    "accuracies_Model3_Fidelity, accuracies_Model3_HSinner = np.array(accuracies_Model3_Fidelity), np.array(accuracies_Model3_HSinner)\n",
    "\n",
    "print(f\" Accuracy without pre-training: 0.6604255319148936 ± 0.01512233847372428\")\n",
    "print(f\" Accuracy after pre-training with Model2_Fidelity: {accuracies_Model3_Fidelity.mean()} ± {accuracies_Model3_Fidelity.std()}\")\n",
    "print(f\" Accuracy after pre-training with Model2_HSinner: {accuracies_Model3_HSinner.mean()} ± {accuracies_Model3_HSinner.std()}\")"
   ]
  }
 ],
 "metadata": {
  "kernelspec": {
   "display_name": "QC",
   "language": "python",
   "name": "python3"
  },
  "language_info": {
   "codemirror_mode": {
    "name": "ipython",
    "version": 3
   },
   "file_extension": ".py",
   "mimetype": "text/x-python",
   "name": "python",
   "nbconvert_exporter": "python",
   "pygments_lexer": "ipython3",
   "version": "3.10.8"
  },
  "vscode": {
   "interpreter": {
    "hash": "0f8e2a2ca6259a6cab5ca53f758a7b3aaf50f8fc283f46719ccb9cbe78a7dc03"
   }
  }
 },
 "nbformat": 4,
 "nbformat_minor": 2
}
