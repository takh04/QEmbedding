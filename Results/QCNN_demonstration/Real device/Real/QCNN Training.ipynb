{
 "cells": [
  {
   "cell_type": "markdown",
   "metadata": {},
   "source": [
    "# Real QCNN Training"
   ]
  },
  {
   "cell_type": "code",
   "execution_count": 1,
   "metadata": {},
   "outputs": [
    {
     "name": "stderr",
     "output_type": "stream",
     "text": [
      "2023-02-21 12:31:38.673164: I tensorflow/core/platform/cpu_feature_guard.cc:193] This TensorFlow binary is optimized with oneAPI Deep Neural Network Library (oneDNN) to use the following CPU instructions in performance-critical operations:  AVX2 FMA\n",
      "To enable them in other operations, rebuild TensorFlow with the appropriate compiler flags.\n"
     ]
    }
   ],
   "source": [
    "from pennylane import numpy as np\n",
    "import matplotlib.pyplot as plt\n",
    "import matplotlib as mpl\n",
    "import sys\n",
    "sys.path.insert(0, '/Users/tak/Github/QEmbedding/')\n",
    "import Hybrid_nn\n",
    "import torch\n",
    "from torch import nn\n",
    "import data\n",
    "import pennylane as qml\n",
    "import embedding"
   ]
  },
  {
   "cell_type": "code",
   "execution_count": 2,
   "metadata": {},
   "outputs": [
    {
     "name": "stderr",
     "output_type": "stream",
     "text": [
      "/var/folders/g3/xz_ycw3d0qdd8s4r2rdd6m940000gn/T/ipykernel_7375/3078564450.py:5: DeprecationWarning: The package qiskit.providers.ibmq is being deprecated. Please see https://ibm.biz/provider_migration_guide to get instructions on how to migrate to qiskit-ibm-provider (https://github.com/Qiskit/qiskit-ibm-provider) and qiskit-ibm-runtime (https://github.com/Qiskit/qiskit-ibm-runtime).\n",
      "  IBMQ.save_account(TOKEN, overwrite=True)\n",
      "/var/folders/g3/xz_ycw3d0qdd8s4r2rdd6m940000gn/T/ipykernel_7375/3078564450.py:5: DeprecationWarning: The qiskit.IBMQ entrypoint and the qiskit-ibmq-provider package (accessible from 'qiskit.providers.ibmq`) are deprecated and will be removed in a future release. Instead you should use the qiskit-ibm-provider package which is accessible from 'qiskit_ibm_provider'. You can install it with 'pip install qiskit_ibm_provider'. Just replace 'qiskit.IBMQ' with 'qiskit_ibm_provider.IBMProvider'\n",
      "  IBMQ.save_account(TOKEN, overwrite=True)\n"
     ]
    }
   ],
   "source": [
    "from qiskit import IBMQ\n",
    "\n",
    "# KQC Token\n",
    "TOKEN = \"b5b31be2bb5237d52e8bdef143913cd62425eadcbda5c56c6f8ed8d067573ac0e07aa41d23d0bfcc880882a4142e2f812dad876fb3208d5c5f8f321be6626cce\"\n",
    "IBMQ.save_account(TOKEN, overwrite=True)\n",
    "\n",
    "IBMQ.load_account() # Load account from disk\n",
    "provider = IBMQ.get_provider(hub='ibm-q-kqc', group='internal', project='reservations')\n",
    "#provider = IBMQ.get_provider(hub='ibm-q-kqc', group='kqc-research', project='trainable-kernel')\n",
    "\n",
    "\n",
    "backend = \"ibm_lagos\"\n",
    "\n",
    "dev = qml.device(\n",
    "    'qiskit.ibmq',\n",
    "    wires=4,\n",
    "    shots=1024,\n",
    "    backend=backend,\n",
    "    provider=provider\n",
    ")\n",
    "\n",
    "\n",
    "PATH_Model2 = '/Users/tak/Github/QEmbedding/Results/QCNN_demonstration/Real device/Real/Model2.pt'\n",
    "PATH_Model3 = '/Users/tak/Github/QEmbedding/Results/QCNN_demonstration/Real device/Real/Model3.pt'\n"
   ]
  },
  {
   "cell_type": "markdown",
   "metadata": {},
   "source": [
    "# Real QCNN"
   ]
  },
  {
   "cell_type": "markdown",
   "metadata": {},
   "source": [
    "Hyperparameters"
   ]
  },
  {
   "cell_type": "code",
   "execution_count": 16,
   "metadata": {},
   "outputs": [],
   "source": [
    "steps = 1\n",
    "learning_rate = 0.1\n",
    "batch_size = 1\n",
    "ansatz = 'TTN'"
   ]
  },
  {
   "cell_type": "markdown",
   "metadata": {},
   "source": [
    "QCNN"
   ]
  },
  {
   "cell_type": "code",
   "execution_count": 17,
   "metadata": {},
   "outputs": [],
   "source": [
    "class x_transform2(torch.nn.Module):\n",
    "    def __init__(self):\n",
    "        super().__init__()\n",
    "        self.linear_relu_stack2 = nn.Sequential(\n",
    "            nn.Linear(4, 12),\n",
    "            nn.ReLU(),\n",
    "            nn.Linear(12, 12),\n",
    "            nn.ReLU(),\n",
    "            nn.Linear(12, 7)\n",
    "        )\n",
    "        \n",
    "    def forward(self, x):\n",
    "        x = self.linear_relu_stack2(x)\n",
    "        return x.detach().numpy()\n",
    "\n",
    "\n",
    "class x_transform3(torch.nn.Module):\n",
    "    def __init__(self):\n",
    "        super().__init__()\n",
    "        self.layer1 = torch.nn.Sequential(\n",
    "            torch.nn.Conv2d(1, 1, kernel_size=3, stride=1, padding=1),\n",
    "            torch.nn.ReLU(),\n",
    "            torch.nn.MaxPool2d(kernel_size=2, stride=2)\n",
    "        )\n",
    "\n",
    "        # Layer2: 14 * 14 -> 7 * 7\n",
    "        self.layer2 = torch.nn.Sequential(\n",
    "            torch.nn.Conv2d(1, 1, kernel_size=3, stride=1, padding=1),\n",
    "            torch.nn.ReLU(),\n",
    "            torch.nn.MaxPool2d(kernel_size=2, stride=2)\n",
    "        )\n",
    "\n",
    "        # Fully connected Layers 7 * 7 -> 7\n",
    "        self.fc = torch.nn.Linear(7 * 7, 7, bias=True)\n",
    "        \n",
    "    def forward(self, x):\n",
    "        x = self.layer1(x)\n",
    "        x = self.layer2(x)\n",
    "        x = x.view(-1, 7 * 7)\n",
    "        x = self.fc(x)\n",
    "        return x.detach().numpy()\n",
    "\n",
    "model2 = x_transform2()\n",
    "model3 = x_transform3()"
   ]
  },
  {
   "cell_type": "code",
   "execution_count": 18,
   "metadata": {},
   "outputs": [],
   "source": [
    "def statepreparation(x, Trained):\n",
    "    if Trained == False:\n",
    "        embedding.Noisy_Four_QuantumEmbedding1(x)\n",
    "    elif Trained == 'Model2':\n",
    "        model2.load_state_dict(torch.load(PATH_Model2))\n",
    "        x = model2(torch.tensor(x))\n",
    "        embedding.Noisy_Four_QuantumEmbedding2(x)\n",
    "    elif Trained == 'Model3':\n",
    "        model3.load_state_dict(torch.load(PATH_Model3))\n",
    "        x = model3(torch.tensor(x))\n",
    "        embedding.Noisy_Four_QuantumEmbedding2(x[0])\n",
    "    \n",
    "\n",
    "@qml.qnode(dev, diff_method=\"parameter-shift\")\n",
    "def Noisy_QCNN_classifier(params, x, Trained):\n",
    "    param1 = params[0:2]\n",
    "    param2 = params[2:4]\n",
    "\n",
    "    statepreparation(x, Trained)\n",
    "    embedding.U_TTN(param1, wires=[0,1])\n",
    "    embedding.U_TTN(param1, wires=[3,2])\n",
    "    embedding.U_TTN(param2, wires=[1,2])\n",
    "    return qml.expval(qml.PauliZ(2))\n",
    "\n",
    "\n",
    "def Linear_Loss(labels, predictions):\n",
    "    loss = 0\n",
    "    for l,p in zip(labels, predictions):\n",
    "        loss += 0.5 * (1 - l * p)\n",
    "    return loss / len(labels)\n",
    "\n",
    "\n",
    "def cost(weights, X_batch, Y_batch, Trained):\n",
    "    preds = [Noisy_QCNN_classifier(weights, x, Trained) for x in X_batch]\n",
    "    return Linear_Loss(Y_batch, preds)\n",
    "\n",
    "\n",
    "def circuit_training(X_train, Y_train, Trained):\n",
    "\n",
    "    weights = np.random.random(4, requires_grad = True)\n",
    "    opt = qml.NesterovMomentumOptimizer(stepsize=learning_rate)\n",
    "    loss_history = []\n",
    "    for it in range(steps):\n",
    "        batch_index = np.random.randint(0, len(X_train), (batch_size,))\n",
    "        X_batch = [X_train[i] for i in batch_index]\n",
    "        Y_batch = [Y_train[i] for i in batch_index]\n",
    "        weights, cost_new = opt.step_and_cost(lambda v: cost(v, X_batch, Y_batch, Trained),\n",
    "                                                     weights)\n",
    "        loss_history.append(cost_new)\n",
    "        print(\"iteration: \", it, \" cost: \", cost_new)\n",
    "    return loss_history, weights"
   ]
  },
  {
   "cell_type": "markdown",
   "metadata": {},
   "source": [
    "# Model 2"
   ]
  },
  {
   "cell_type": "code",
   "execution_count": 14,
   "metadata": {},
   "outputs": [],
   "source": [
    "\n",
    "feature_reduction = 'PCA4'\n",
    "classes = [0,1]\n",
    "X_train, X_test, Y_train, Y_test = data.data_load_and_process('mnist', feature_reduction=feature_reduction, classes=classes)\n",
    "X_train, X_test = torch.tensor(X_train).to(torch.float32), torch.tensor(X_test).to(torch.float32)\n",
    "Y_train = [-1 if y == 0 else 1 for y in Y_train]\n",
    "Y_test = [-1 if y == 0 else 1 for y in Y_test]"
   ]
  },
  {
   "cell_type": "code",
   "execution_count": 8,
   "metadata": {},
   "outputs": [
    {
     "name": "stderr",
     "output_type": "stream",
     "text": [
      "/usr/local/anaconda3/envs/QC/lib/python3.10/site-packages/pennylane/math/utils.py:223: UserWarning: Contains tensors of types {'autograd', 'torch'}; dispatch will prioritize TensorFlow, PyTorch, and  Jax over Autograd. Consider replacing Autograd with vanilla NumPy.\n",
      "  warnings.warn(\n",
      "/usr/local/anaconda3/envs/QC/lib/python3.10/site-packages/autograd/tracer.py:14: UserWarning: Output seems independent of input.\n",
      "  warnings.warn(\"Output seems independent of input.\")\n"
     ]
    },
    {
     "name": "stdout",
     "output_type": "stream",
     "text": [
      "iteration:  0  cost:  0.5533854166666666\n",
      "iteration:  1  cost:  0.5325520833333334\n",
      "iteration:  2  cost:  0.4248046875\n",
      "iteration:  3  cost:  0.5595703125\n",
      "iteration:  4  cost:  0.5166015625\n",
      "iteration:  5  cost:  0.5045572916666666\n",
      "iteration:  6  cost:  0.4208984375\n",
      "iteration:  7  cost:  0.5944010416666666\n",
      "iteration:  8  cost:  0.4671223958333333\n",
      "iteration:  9  cost:  0.5559895833333334\n"
     ]
    },
    {
     "name": "stderr",
     "output_type": "stream",
     "text": [
      "/var/folders/g3/xz_ycw3d0qdd8s4r2rdd6m940000gn/T/ipykernel_7375/3053866874.py:6: UserWarning: To copy construct from a tensor, it is recommended to use sourceTensor.clone().detach() or sourceTensor.clone().detach().requires_grad_(True), rather than torch.tensor(sourceTensor).\n",
      "  x = model2(torch.tensor(x))\n"
     ]
    },
    {
     "name": "stdout",
     "output_type": "stream",
     "text": [
      "iteration:  0  cost:  0.4876302083333333\n",
      "iteration:  1  cost:  0.4527994791666667\n",
      "iteration:  2  cost:  0.4912109375\n",
      "iteration:  3  cost:  0.443359375\n",
      "iteration:  4  cost:  0.44921875\n",
      "iteration:  5  cost:  0.5660807291666666\n",
      "iteration:  6  cost:  0.5693359375\n",
      "iteration:  7  cost:  0.4619140625\n",
      "iteration:  8  cost:  0.4661458333333333\n",
      "iteration:  9  cost:  0.4853515625\n"
     ]
    }
   ],
   "source": [
    "\n",
    "Loss_histories_not_trained, weights_not_trained, Loss_histories_Model2, weights_Model2 = [], [], [], []\n",
    "\n",
    "for i in range(1):\n",
    "    loss_not_trained, weight_not_trained = circuit_training(X_train, Y_train, False)\n",
    "    loss_Model2, weight_Model2 = circuit_training(X_train, Y_train, 'Model2')\n",
    "\n",
    "    Loss_histories_not_trained.append(loss_not_trained)\n",
    "    Loss_histories_Model2.append(loss_Model2)\n",
    "\n",
    "    weights_not_trained.append(weight_not_trained)\n",
    "    weights_Model2.append(weight_Model2)\n",
    "\n",
    "Loss_histories_not_traiend, Loss_histories_Model2 =  np.array(Loss_histories_not_trained), np.array(Loss_histories_Model2)\n",
    "\n",
    "\n",
    "f = open('/Users/tak/Github/QEmbedding/Results/QCNN_demonstration/Real device/Real/Loss_not_trained.txt', 'a')\n",
    "f.write(str(Loss_histories_not_trained))\n",
    "f.close()\n",
    "\n",
    "f = open('/Users/tak/Github/QEmbedding/Results/QCNN_demonstration/Real device/Real/weights_not_trained.txt', 'a')\n",
    "f.write(str(weights_not_trained))\n",
    "f.close()\n",
    "\n",
    "\n",
    "f = open('/Users/tak/Github/QEmbedding/Results/QCNN_demonstration/Real device/Real/Loss_Model2.txt', 'a')\n",
    "f.write(str(Loss_histories_Model2))\n",
    "f.close()\n",
    "\n",
    "f = open('/Users/tak/Github/QEmbedding/Results/QCNN_demonstration/Real device/Real/weights_Model2.txt', 'a')\n",
    "f.write(str(weights_Model2))\n",
    "f.close()"
   ]
  },
  {
   "cell_type": "code",
   "execution_count": 19,
   "metadata": {},
   "outputs": [
    {
     "name": "stderr",
     "output_type": "stream",
     "text": [
      "/var/folders/g3/xz_ycw3d0qdd8s4r2rdd6m940000gn/T/ipykernel_7375/3615019608.py:6: UserWarning: To copy construct from a tensor, it is recommended to use sourceTensor.clone().detach() or sourceTensor.clone().detach().requires_grad_(True), rather than torch.tensor(sourceTensor).\n",
      "  x = model2(torch.tensor(x))\n"
     ]
    },
    {
     "name": "stdout",
     "output_type": "stream",
     "text": [
      "iteration:  0  cost:  0.4658203125\n"
     ]
    }
   ],
   "source": [
    "loss_Model2, weight_Model2 = circuit_training(X_train, Y_train, 'Model2')"
   ]
  },
  {
   "cell_type": "markdown",
   "metadata": {},
   "source": [
    "# Model3"
   ]
  },
  {
   "cell_type": "markdown",
   "metadata": {},
   "source": [
    "## 0. Getting Started"
   ]
  },
  {
   "cell_type": "code",
   "execution_count": null,
   "metadata": {},
   "outputs": [],
   "source": [
    "feature_reduction = False\n",
    "X_train, X_test, Y_train, Y_test = data.data_load_and_process('mnist', feature_reduction=feature_reduction, classes=classes)"
   ]
  },
  {
   "cell_type": "code",
   "execution_count": null,
   "metadata": {},
   "outputs": [],
   "source": [
    "X_train, X_test = torch.tensor(X_train).to(torch.float32), torch.tensor(X_test).to(torch.float32)\n",
    "X_train, X_test = X_train.permute(0, 3, 1, 2), X_test.permute(0, 3, 1, 2)\n",
    "Y_train = [-1 if y == 0 else 1 for y in Y_train]\n",
    "Y_test = [-1 if y == 0 else 1 for y in Y_test]"
   ]
  },
  {
   "cell_type": "code",
   "execution_count": null,
   "metadata": {},
   "outputs": [],
   "source": [
    "Loss_histories_Model3, weights_Model3 = [], []\n",
    "for i in range(3):\n",
    "\n",
    "    loss_Model3, weight_Model3 = circuit_training(X_train, Y_train, 'Model3')\n",
    "\n",
    "    Loss_histories_Model3.append(loss_Model3)\n",
    "    weights_Model3.append(weight_Model3)\n",
    "\n",
    "f = open('/Users/tak/Github/QEmbedding/Results/QCNN_demonstration/Real device/Real/Loss_Model3.txt', 'a')\n",
    "f.write(str(Loss_histories_Model3))\n",
    "f.close()\n",
    "\n",
    "f = open('/Users/tak/Github/QEmbedding/Results/QCNN_demonstration/Real device/Real/weights_Model3.txt', 'a')\n",
    "f.write(str(weights_Model3))\n",
    "f.close()"
   ]
  }
 ],
 "metadata": {
  "kernelspec": {
   "display_name": "QC",
   "language": "python",
   "name": "python3"
  },
  "language_info": {
   "codemirror_mode": {
    "name": "ipython",
    "version": 3
   },
   "file_extension": ".py",
   "mimetype": "text/x-python",
   "name": "python",
   "nbconvert_exporter": "python",
   "pygments_lexer": "ipython3",
   "version": "3.10.4"
  },
  "vscode": {
   "interpreter": {
    "hash": "c5108ee98eb47f7e6b2eeb3f4fcfe8c3b821806f46f3b96ac0193b078633d3d2"
   }
  }
 },
 "nbformat": 4,
 "nbformat_minor": 2
}
