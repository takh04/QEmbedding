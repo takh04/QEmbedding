{
 "cells": [
  {
   "cell_type": "markdown",
   "metadata": {},
   "source": [
    "# Real QCNN Training"
   ]
  },
  {
   "cell_type": "code",
   "execution_count": 1,
   "metadata": {},
   "outputs": [],
   "source": [
    "from pennylane import numpy as np\n",
    "import matplotlib.pyplot as plt\n",
    "import matplotlib as mpl\n",
    "import sys\n",
    "sys.path.insert(0, '/Users/tak/Github/QEmbedding/')\n",
    "import Hybrid_nn\n",
    "import torch\n",
    "from torch import nn\n",
    "import data\n",
    "import pennylane as qml\n",
    "import embedding"
   ]
  },
  {
   "cell_type": "code",
   "execution_count": 2,
   "metadata": {},
   "outputs": [],
   "source": [
    "from qiskit import IBMQ\n",
    "\n",
    "# KQC Token\n",
    "#TOKEN = \"b5b31be2bb5237d52e8bdef143913cd62425eadcbda5c56c6f8ed8d067573ac0e07aa41d23d0bfcc880882a4142e2f812dad876fb3208d5c5f8f321be6626cce\"\n",
    "# Yonsei Token\n",
    "TOKEN = \"41bc5ff592064fefedbb4e5f949e42a9ded7835d2b14e69147aaab22b911ea16e1d95f6929e9b1fadf6c8e412253d50f820c25cd6c45be588d31910f2c4fd96b\"\n",
    "\n",
    "\n",
    "IBMQ.save_account(TOKEN, overwrite=True)\n",
    "IBMQ.load_account() # Load account from disk\n",
    "\n",
    "\n",
    "#KQC Provider\n",
    "#provider = IBMQ.get_provider(hub='ibm-q-kqc', group='internal', project='reservations')\n",
    "#provider = IBMQ.get_provider(hub='ibm-q-kqc', group='kqc-research', project='kernel-experimen')\n",
    "\n",
    "#Yonsei Provider\n",
    "provider = IBMQ.get_provider(hub='ibm-q-yonsei', group='internal', project='reservations')\n",
    "\n",
    "\n",
    "\n",
    "\n",
    "backend = \"ibmq_kolkata\"\n",
    "\n",
    "dev = qml.device(\n",
    "    'qiskit.ibmq',\n",
    "    wires=4,\n",
    "    shots=1024,\n",
    "    backend=backend,\n",
    "    provider=provider\n",
    ")\n",
    "\n",
    "\n",
    "PATH_Model2 = '/Users/tak/Github/QEmbedding/Results/QCNN_demonstration/Real device/Real/Model2 pre-train/Model2_48.pt'\n",
    "PATH_Model3 = '/Users/tak/Github/QEmbedding/Results/QCNN_demonstration/Real device/Real/Model3 pre-train/Model3_48.pt'\n"
   ]
  },
  {
   "cell_type": "markdown",
   "metadata": {},
   "source": [
    "# Real QCNN"
   ]
  },
  {
   "cell_type": "markdown",
   "metadata": {},
   "source": [
    "Hyperparameters"
   ]
  },
  {
   "cell_type": "code",
   "execution_count": 3,
   "metadata": {},
   "outputs": [],
   "source": [
    "steps = 50\n",
    "learning_rate = 0.1\n",
    "batch_size = 10\n",
    "ansatz = 'TTN'"
   ]
  },
  {
   "cell_type": "markdown",
   "metadata": {},
   "source": [
    "QCNN"
   ]
  },
  {
   "cell_type": "code",
   "execution_count": 4,
   "metadata": {},
   "outputs": [],
   "source": [
    "class x_transform2(torch.nn.Module):\n",
    "    def __init__(self):\n",
    "        super().__init__()\n",
    "        self.linear_relu_stack2 = nn.Sequential(\n",
    "            nn.Linear(4, 12),\n",
    "            nn.ReLU(),\n",
    "            nn.Linear(12, 12),\n",
    "            nn.ReLU(),\n",
    "            nn.Linear(12, 7)\n",
    "        )\n",
    "        \n",
    "    def forward(self, x):\n",
    "        x = self.linear_relu_stack2(x)\n",
    "        return x.detach().numpy()\n",
    "\n",
    "\n",
    "class x_transform3(torch.nn.Module):\n",
    "    def __init__(self):\n",
    "        super().__init__()\n",
    "        self.layer1 = torch.nn.Sequential(\n",
    "            torch.nn.Conv2d(1, 1, kernel_size=3, stride=1, padding=1),\n",
    "            torch.nn.ReLU(),\n",
    "            torch.nn.MaxPool2d(kernel_size=2, stride=2)\n",
    "        )\n",
    "\n",
    "        # Layer2: 14 * 14 -> 7 * 7\n",
    "        self.layer2 = torch.nn.Sequential(\n",
    "            torch.nn.Conv2d(1, 1, kernel_size=3, stride=1, padding=1),\n",
    "            torch.nn.ReLU(),\n",
    "            torch.nn.MaxPool2d(kernel_size=2, stride=2)\n",
    "        )\n",
    "\n",
    "        # Fully connected Layers 7 * 7 -> 7\n",
    "        self.fc = torch.nn.Linear(7 * 7, 7, bias=True)\n",
    "        \n",
    "    def forward(self, x):\n",
    "        x = self.layer1(x)\n",
    "        x = self.layer2(x)\n",
    "        x = x.view(-1, 7 * 7)\n",
    "        x = self.fc(x)\n",
    "        return x.detach().numpy()\n",
    "\n",
    "model2 = x_transform2()\n",
    "model3 = x_transform3()"
   ]
  },
  {
   "cell_type": "code",
   "execution_count": 5,
   "metadata": {},
   "outputs": [],
   "source": [
    "def statepreparation(x, Trained):\n",
    "    if Trained == False:\n",
    "        embedding.Noisy_Four_QuantumEmbedding1(x)\n",
    "    elif Trained == 'Model2':\n",
    "        model2.load_state_dict(torch.load(PATH_Model2))\n",
    "        x = model2(torch.tensor(x))\n",
    "        embedding.Noisy_Four_QuantumEmbedding2(x)\n",
    "    elif Trained == 'Model3':\n",
    "        model3.load_state_dict(torch.load(PATH_Model3))\n",
    "        x = model3(torch.tensor(x))\n",
    "        embedding.Noisy_Four_QuantumEmbedding2(x[0])\n",
    "    \n",
    "@qml.qnode(dev)\n",
    "def Noisy_QCNN_classifier(params, x, Trained):\n",
    "    param1 = params[0:2]\n",
    "    param2 = params[2:4]\n",
    "\n",
    "    statepreparation(x, Trained)\n",
    "    embedding.U_TTN(param1, wires=[0,1])\n",
    "    embedding.U_TTN(param1, wires=[3,2])\n",
    "    embedding.U_TTN(param2, wires=[1,2])\n",
    "    return qml.expval(qml.PauliZ(2))\n",
    "\n",
    "\n",
    "def Linear_Loss(labels, predictions):\n",
    "    loss = 0\n",
    "    for l,p in zip(labels, predictions):\n",
    "        loss += 0.5 * (1 - l * p)\n",
    "    return loss / len(labels)\n",
    "\n",
    "\n",
    "def cost(weights, X_batch, Y_batch, Trained):\n",
    "    preds = [Noisy_QCNN_classifier(weights, x, Trained) for x in X_batch]\n",
    "    return Linear_Loss(Y_batch, preds)\n",
    "\n",
    "\n",
    "def circuit_training(X_train, Y_train, Trained, preweights):\n",
    "\n",
    "    if preweights == None:\n",
    "        weights = np.random.random(4, requires_grad = True)\n",
    "    else:\n",
    "        weights = preweights\n",
    "\n",
    "    opt = qml.NesterovMomentumOptimizer(stepsize=learning_rate)\n",
    "    loss_history, weights_history = [], []\n",
    "    for it in range(steps):\n",
    "        batch_index = np.random.randint(0, len(X_train), (batch_size,))\n",
    "        X_batch = [X_train[i] for i in batch_index]\n",
    "        Y_batch = [Y_train[i] for i in batch_index]\n",
    "        weights, cost_new = opt.step_and_cost(lambda v: cost(v, X_batch, Y_batch, Trained),\n",
    "                                                     weights)\n",
    "        loss_history.append(cost_new)\n",
    "        weights_history.append(weights)\n",
    "        print(\"iteration: \", it)\n",
    "        print(\"-----------------\")\n",
    "        print(\"cost: \", cost_new)\n",
    "        print(\"weights: \", weights)\n",
    "        #print(\"iteration: \", it, \" cost: \", cost_new)\n",
    "    return loss_history, weights_history"
   ]
  },
  {
   "cell_type": "markdown",
   "metadata": {},
   "source": [
    "# Model 2"
   ]
  },
  {
   "cell_type": "code",
   "execution_count": 6,
   "metadata": {},
   "outputs": [
    {
     "name": "stderr",
     "output_type": "stream",
     "text": [
      "/var/folders/ym/ry24dhs911s7zbqfbhs5ns2m0000gn/T/ipykernel_8192/461388107.py:4: UserWarning: Creating a tensor from a list of numpy.ndarrays is extremely slow. Please consider converting the list to a single numpy.ndarray with numpy.array() before converting to a tensor. (Triggered internally at /Users/runner/work/_temp/anaconda/conda-bld/pytorch_1670525498485/work/torch/csrc/utils/tensor_new.cpp:233.)\n",
      "  X_train, X_test = torch.tensor(X_train).to(torch.float32), torch.tensor(X_test).to(torch.float32)\n"
     ]
    }
   ],
   "source": [
    "\n",
    "feature_reduction = 'PCA4'\n",
    "classes = [0,1]\n",
    "X_train, X_test, Y_train, Y_test = data.data_load_and_process('mnist', feature_reduction=feature_reduction, classes=classes)\n",
    "X_train, X_test = torch.tensor(X_train).to(torch.float32), torch.tensor(X_test).to(torch.float32)\n",
    "Y_train = [-1 if y == 0 else 1 for y in Y_train]\n",
    "Y_test = [-1 if y == 0 else 1 for y in Y_test]"
   ]
  },
  {
   "attachments": {},
   "cell_type": "markdown",
   "metadata": {},
   "source": [
    "Not pre-trained"
   ]
  },
  {
   "cell_type": "code",
   "execution_count": null,
   "metadata": {},
   "outputs": [],
   "source": [
    "loss_not_trained, weight_not_trained = circuit_training(X_train, Y_train, False, None)"
   ]
  },
  {
   "cell_type": "code",
   "execution_count": null,
   "metadata": {},
   "outputs": [],
   "source": [
    "f = open('/Users/tak/Github/QEmbedding/Results/QCNN_demonstration/Real device/Real/Loss_not_trained.txt', 'a')\n",
    "f.write(str(loss_not_trained))\n",
    "f.close()\n",
    "\n",
    "f = open('/Users/tak/Github/QEmbedding/Results/QCNN_demonstration/Real device/Real/weights_not_trained.txt', 'a')\n",
    "f.write(str(weight_not_trained))\n",
    "f.close()"
   ]
  },
  {
   "attachments": {},
   "cell_type": "markdown",
   "metadata": {},
   "source": [
    "Model 2"
   ]
  },
  {
   "cell_type": "code",
   "execution_count": 8,
   "metadata": {},
   "outputs": [
    {
     "name": "stderr",
     "output_type": "stream",
     "text": [
      "/var/folders/ym/ry24dhs911s7zbqfbhs5ns2m0000gn/T/ipykernel_8192/4251703138.py:6: UserWarning: To copy construct from a tensor, it is recommended to use sourceTensor.clone().detach() or sourceTensor.clone().detach().requires_grad_(True), rather than torch.tensor(sourceTensor).\n",
      "  x = model2(torch.tensor(x))\n"
     ]
    },
    {
     "name": "stdout",
     "output_type": "stream",
     "text": [
      "iteration:  0\n",
      "-----------------\n",
      "cost:  0.5736328125\n",
      "weights:  [0.12366592 0.83211342 0.51337996 0.91862694]\n"
     ]
    },
    {
     "name": "stderr",
     "output_type": "stream",
     "text": [
      "WARNING:urllib3.connectionpool:Retrying (PostForcelistRetry(total=4, connect=3, read=None, redirect=None, status=None)) after connection broken by 'ProtocolError('Connection aborted.', RemoteDisconnected('Remote end closed connection without response'))': /api/Network/ibm-q-yonsei/Groups/internal/Projects/reservations/Jobs/64257ec07f265c04d5972516/v/1\n",
      "WARNING:urllib3.connectionpool:Retrying (PostForcelistRetry(total=4, connect=3, read=None, redirect=None, status=None)) after connection broken by 'ProtocolError('Connection aborted.', RemoteDisconnected('Remote end closed connection without response'))': /api/Network/ibm-q-yonsei/Groups/internal/Projects/reservations/Jobs/6425811f9517ff45cf3e5c34/v/1\n"
     ]
    },
    {
     "name": "stdout",
     "output_type": "stream",
     "text": [
      "iteration:  1\n",
      "-----------------\n",
      "cost:  0.59326171875\n",
      "weights:  [0.12320938 0.80179799 0.50390731 0.92174901]\n",
      "iteration:  2\n",
      "-----------------\n",
      "cost:  0.55400390625\n",
      "weights:  [0.12335513 0.76274653 0.4897618  0.92757157]\n",
      "iteration:  3\n",
      "-----------------\n",
      "cost:  0.5591796875\n",
      "weights:  [0.12186033 0.7132838  0.47481893 0.93472105]\n"
     ]
    },
    {
     "ename": "IBMQJobFailureError",
     "evalue": "'Unable to retrieve result for job 64258bf97f265c6ce09725fb. Job has failed: Internal Error. Error code: 9999.'",
     "output_type": "error",
     "traceback": [
      "\u001b[0;31m---------------------------------------------------------------------------\u001b[0m",
      "\u001b[0;31mIBMQJobFailureError\u001b[0m                       Traceback (most recent call last)",
      "Cell \u001b[0;32mIn[8], line 1\u001b[0m\n\u001b[0;32m----> 1\u001b[0m loss_Model2, weight_Model2 \u001b[39m=\u001b[39m circuit_training(X_train, Y_train, \u001b[39m'\u001b[39;49m\u001b[39mModel2\u001b[39;49m\u001b[39m'\u001b[39;49m, \u001b[39mNone\u001b[39;49;00m)\n",
      "Cell \u001b[0;32mIn[5], line 50\u001b[0m, in \u001b[0;36mcircuit_training\u001b[0;34m(X_train, Y_train, Trained, preweights)\u001b[0m\n\u001b[1;32m     48\u001b[0m X_batch \u001b[39m=\u001b[39m [X_train[i] \u001b[39mfor\u001b[39;00m i \u001b[39min\u001b[39;00m batch_index]\n\u001b[1;32m     49\u001b[0m Y_batch \u001b[39m=\u001b[39m [Y_train[i] \u001b[39mfor\u001b[39;00m i \u001b[39min\u001b[39;00m batch_index]\n\u001b[0;32m---> 50\u001b[0m weights, cost_new \u001b[39m=\u001b[39m opt\u001b[39m.\u001b[39;49mstep_and_cost(\u001b[39mlambda\u001b[39;49;00m v: cost(v, X_batch, Y_batch, Trained),\n\u001b[1;32m     51\u001b[0m                                              weights)\n\u001b[1;32m     52\u001b[0m loss_history\u001b[39m.\u001b[39mappend(cost_new)\n\u001b[1;32m     53\u001b[0m weights_history\u001b[39m.\u001b[39mappend(weights)\n",
      "File \u001b[0;32m~/miniforge3/envs/QC/lib/python3.10/site-packages/pennylane/optimize/gradient_descent.py:59\u001b[0m, in \u001b[0;36mGradientDescentOptimizer.step_and_cost\u001b[0;34m(self, objective_fn, grad_fn, *args, **kwargs)\u001b[0m\n\u001b[1;32m     39\u001b[0m \u001b[39mdef\u001b[39;00m \u001b[39mstep_and_cost\u001b[39m(\u001b[39mself\u001b[39m, objective_fn, \u001b[39m*\u001b[39margs, grad_fn\u001b[39m=\u001b[39m\u001b[39mNone\u001b[39;00m, \u001b[39m*\u001b[39m\u001b[39m*\u001b[39mkwargs):\n\u001b[1;32m     40\u001b[0m     \u001b[39m\"\"\"Update trainable arguments with one step of the optimizer and return the corresponding\u001b[39;00m\n\u001b[1;32m     41\u001b[0m \u001b[39m    objective function value prior to the step.\u001b[39;00m\n\u001b[1;32m     42\u001b[0m \n\u001b[0;32m   (...)\u001b[0m\n\u001b[1;32m     56\u001b[0m \u001b[39m        If single arg is provided, list [array] is replaced by array.\u001b[39;00m\n\u001b[1;32m     57\u001b[0m \u001b[39m    \"\"\"\u001b[39;00m\n\u001b[0;32m---> 59\u001b[0m     g, forward \u001b[39m=\u001b[39m \u001b[39mself\u001b[39;49m\u001b[39m.\u001b[39;49mcompute_grad(objective_fn, args, kwargs, grad_fn\u001b[39m=\u001b[39;49mgrad_fn)\n\u001b[1;32m     60\u001b[0m     new_args \u001b[39m=\u001b[39m \u001b[39mself\u001b[39m\u001b[39m.\u001b[39mapply_grad(g, args)\n\u001b[1;32m     62\u001b[0m     \u001b[39mif\u001b[39;00m forward \u001b[39mis\u001b[39;00m \u001b[39mNone\u001b[39;00m:\n",
      "File \u001b[0;32m~/miniforge3/envs/QC/lib/python3.10/site-packages/pennylane/optimize/nesterov_momentum.py:71\u001b[0m, in \u001b[0;36mNesterovMomentumOptimizer.compute_grad\u001b[0;34m(self, objective_fn, args, kwargs, grad_fn)\u001b[0m\n\u001b[1;32m     68\u001b[0m         shifted_args[index] \u001b[39m=\u001b[39m args[index] \u001b[39m-\u001b[39m \u001b[39mself\u001b[39m\u001b[39m.\u001b[39mmomentum \u001b[39m*\u001b[39m \u001b[39mself\u001b[39m\u001b[39m.\u001b[39maccumulation[index]\n\u001b[1;32m     70\u001b[0m g \u001b[39m=\u001b[39m get_gradient(objective_fn) \u001b[39mif\u001b[39;00m grad_fn \u001b[39mis\u001b[39;00m \u001b[39mNone\u001b[39;00m \u001b[39melse\u001b[39;00m grad_fn\n\u001b[0;32m---> 71\u001b[0m grad \u001b[39m=\u001b[39m g(\u001b[39m*\u001b[39;49mshifted_args, \u001b[39m*\u001b[39;49m\u001b[39m*\u001b[39;49mkwargs)\n\u001b[1;32m     72\u001b[0m forward \u001b[39m=\u001b[39m \u001b[39mgetattr\u001b[39m(g, \u001b[39m\"\u001b[39m\u001b[39mforward\u001b[39m\u001b[39m\"\u001b[39m, \u001b[39mNone\u001b[39;00m)\n\u001b[1;32m     74\u001b[0m grad \u001b[39m=\u001b[39m (grad,) \u001b[39mif\u001b[39;00m \u001b[39mlen\u001b[39m(trainable_indices) \u001b[39m==\u001b[39m \u001b[39m1\u001b[39m \u001b[39melse\u001b[39;00m grad\n",
      "File \u001b[0;32m~/miniforge3/envs/QC/lib/python3.10/site-packages/pennylane/_grad.py:115\u001b[0m, in \u001b[0;36mgrad.__call__\u001b[0;34m(self, *args, **kwargs)\u001b[0m\n\u001b[1;32m    112\u001b[0m     \u001b[39mself\u001b[39m\u001b[39m.\u001b[39m_forward \u001b[39m=\u001b[39m \u001b[39mself\u001b[39m\u001b[39m.\u001b[39m_fun(\u001b[39m*\u001b[39margs, \u001b[39m*\u001b[39m\u001b[39m*\u001b[39mkwargs)\n\u001b[1;32m    113\u001b[0m     \u001b[39mreturn\u001b[39;00m ()\n\u001b[0;32m--> 115\u001b[0m grad_value, ans \u001b[39m=\u001b[39m grad_fn(\u001b[39m*\u001b[39;49margs, \u001b[39m*\u001b[39;49m\u001b[39m*\u001b[39;49mkwargs)\n\u001b[1;32m    116\u001b[0m \u001b[39mself\u001b[39m\u001b[39m.\u001b[39m_forward \u001b[39m=\u001b[39m ans\n\u001b[1;32m    118\u001b[0m \u001b[39mreturn\u001b[39;00m grad_value\n",
      "File \u001b[0;32m~/miniforge3/envs/QC/lib/python3.10/site-packages/autograd/wrap_util.py:20\u001b[0m, in \u001b[0;36munary_to_nary.<locals>.nary_operator.<locals>.nary_f\u001b[0;34m(*args, **kwargs)\u001b[0m\n\u001b[1;32m     18\u001b[0m \u001b[39melse\u001b[39;00m:\n\u001b[1;32m     19\u001b[0m     x \u001b[39m=\u001b[39m \u001b[39mtuple\u001b[39m(args[i] \u001b[39mfor\u001b[39;00m i \u001b[39min\u001b[39;00m argnum)\n\u001b[0;32m---> 20\u001b[0m \u001b[39mreturn\u001b[39;00m unary_operator(unary_f, x, \u001b[39m*\u001b[39;49mnary_op_args, \u001b[39m*\u001b[39;49m\u001b[39m*\u001b[39;49mnary_op_kwargs)\n",
      "File \u001b[0;32m~/miniforge3/envs/QC/lib/python3.10/site-packages/pennylane/_grad.py:133\u001b[0m, in \u001b[0;36mgrad._grad_with_forward\u001b[0;34m(fun, x)\u001b[0m\n\u001b[1;32m    127\u001b[0m \u001b[39m@staticmethod\u001b[39m\n\u001b[1;32m    128\u001b[0m \u001b[39m@unary_to_nary\u001b[39m\n\u001b[1;32m    129\u001b[0m \u001b[39mdef\u001b[39;00m \u001b[39m_grad_with_forward\u001b[39m(fun, x):\n\u001b[1;32m    130\u001b[0m     \u001b[39m\"\"\"This function is a replica of ``autograd.grad``, with the only\u001b[39;00m\n\u001b[1;32m    131\u001b[0m \u001b[39m    difference being that it returns both the gradient *and* the forward pass\u001b[39;00m\n\u001b[1;32m    132\u001b[0m \u001b[39m    value.\"\"\"\u001b[39;00m\n\u001b[0;32m--> 133\u001b[0m     vjp, ans \u001b[39m=\u001b[39m _make_vjp(fun, x)\n\u001b[1;32m    135\u001b[0m     \u001b[39mif\u001b[39;00m \u001b[39mnot\u001b[39;00m vspace(ans)\u001b[39m.\u001b[39msize \u001b[39m==\u001b[39m \u001b[39m1\u001b[39m:\n\u001b[1;32m    136\u001b[0m         \u001b[39mraise\u001b[39;00m \u001b[39mTypeError\u001b[39;00m(\n\u001b[1;32m    137\u001b[0m             \u001b[39m\"\u001b[39m\u001b[39mGrad only applies to real scalar-output functions. \u001b[39m\u001b[39m\"\u001b[39m\n\u001b[1;32m    138\u001b[0m             \u001b[39m\"\u001b[39m\u001b[39mTry jacobian, elementwise_grad or holomorphic_grad.\u001b[39m\u001b[39m\"\u001b[39m\n\u001b[1;32m    139\u001b[0m         )\n",
      "File \u001b[0;32m~/miniforge3/envs/QC/lib/python3.10/site-packages/autograd/core.py:10\u001b[0m, in \u001b[0;36mmake_vjp\u001b[0;34m(fun, x)\u001b[0m\n\u001b[1;32m      8\u001b[0m \u001b[39mdef\u001b[39;00m \u001b[39mmake_vjp\u001b[39m(fun, x):\n\u001b[1;32m      9\u001b[0m     start_node \u001b[39m=\u001b[39m VJPNode\u001b[39m.\u001b[39mnew_root()\n\u001b[0;32m---> 10\u001b[0m     end_value, end_node \u001b[39m=\u001b[39m  trace(start_node, fun, x)\n\u001b[1;32m     11\u001b[0m     \u001b[39mif\u001b[39;00m end_node \u001b[39mis\u001b[39;00m \u001b[39mNone\u001b[39;00m:\n\u001b[1;32m     12\u001b[0m         \u001b[39mdef\u001b[39;00m \u001b[39mvjp\u001b[39m(g): \u001b[39mreturn\u001b[39;00m vspace(x)\u001b[39m.\u001b[39mzeros()\n",
      "File \u001b[0;32m~/miniforge3/envs/QC/lib/python3.10/site-packages/autograd/tracer.py:10\u001b[0m, in \u001b[0;36mtrace\u001b[0;34m(start_node, fun, x)\u001b[0m\n\u001b[1;32m      8\u001b[0m \u001b[39mwith\u001b[39;00m trace_stack\u001b[39m.\u001b[39mnew_trace() \u001b[39mas\u001b[39;00m t:\n\u001b[1;32m      9\u001b[0m     start_box \u001b[39m=\u001b[39m new_box(x, t, start_node)\n\u001b[0;32m---> 10\u001b[0m     end_box \u001b[39m=\u001b[39m fun(start_box)\n\u001b[1;32m     11\u001b[0m     \u001b[39mif\u001b[39;00m isbox(end_box) \u001b[39mand\u001b[39;00m end_box\u001b[39m.\u001b[39m_trace \u001b[39m==\u001b[39m start_box\u001b[39m.\u001b[39m_trace:\n\u001b[1;32m     12\u001b[0m         \u001b[39mreturn\u001b[39;00m end_box\u001b[39m.\u001b[39m_value, end_box\u001b[39m.\u001b[39m_node\n",
      "File \u001b[0;32m~/miniforge3/envs/QC/lib/python3.10/site-packages/autograd/wrap_util.py:15\u001b[0m, in \u001b[0;36munary_to_nary.<locals>.nary_operator.<locals>.nary_f.<locals>.unary_f\u001b[0;34m(x)\u001b[0m\n\u001b[1;32m     13\u001b[0m \u001b[39melse\u001b[39;00m:\n\u001b[1;32m     14\u001b[0m     subargs \u001b[39m=\u001b[39m subvals(args, \u001b[39mzip\u001b[39m(argnum, x))\n\u001b[0;32m---> 15\u001b[0m \u001b[39mreturn\u001b[39;00m fun(\u001b[39m*\u001b[39;49msubargs, \u001b[39m*\u001b[39;49m\u001b[39m*\u001b[39;49mkwargs)\n",
      "Cell \u001b[0;32mIn[5], line 50\u001b[0m, in \u001b[0;36mcircuit_training.<locals>.<lambda>\u001b[0;34m(v)\u001b[0m\n\u001b[1;32m     48\u001b[0m X_batch \u001b[39m=\u001b[39m [X_train[i] \u001b[39mfor\u001b[39;00m i \u001b[39min\u001b[39;00m batch_index]\n\u001b[1;32m     49\u001b[0m Y_batch \u001b[39m=\u001b[39m [Y_train[i] \u001b[39mfor\u001b[39;00m i \u001b[39min\u001b[39;00m batch_index]\n\u001b[0;32m---> 50\u001b[0m weights, cost_new \u001b[39m=\u001b[39m opt\u001b[39m.\u001b[39mstep_and_cost(\u001b[39mlambda\u001b[39;00m v: cost(v, X_batch, Y_batch, Trained),\n\u001b[1;32m     51\u001b[0m                                              weights)\n\u001b[1;32m     52\u001b[0m loss_history\u001b[39m.\u001b[39mappend(cost_new)\n\u001b[1;32m     53\u001b[0m weights_history\u001b[39m.\u001b[39mappend(weights)\n",
      "Cell \u001b[0;32mIn[5], line 33\u001b[0m, in \u001b[0;36mcost\u001b[0;34m(weights, X_batch, Y_batch, Trained)\u001b[0m\n\u001b[1;32m     32\u001b[0m \u001b[39mdef\u001b[39;00m \u001b[39mcost\u001b[39m(weights, X_batch, Y_batch, Trained):\n\u001b[0;32m---> 33\u001b[0m     preds \u001b[39m=\u001b[39m [Noisy_QCNN_classifier(weights, x, Trained) \u001b[39mfor\u001b[39;00m x \u001b[39min\u001b[39;00m X_batch]\n\u001b[1;32m     34\u001b[0m     \u001b[39mreturn\u001b[39;00m Linear_Loss(Y_batch, preds)\n",
      "Cell \u001b[0;32mIn[5], line 33\u001b[0m, in \u001b[0;36m<listcomp>\u001b[0;34m(.0)\u001b[0m\n\u001b[1;32m     32\u001b[0m \u001b[39mdef\u001b[39;00m \u001b[39mcost\u001b[39m(weights, X_batch, Y_batch, Trained):\n\u001b[0;32m---> 33\u001b[0m     preds \u001b[39m=\u001b[39m [Noisy_QCNN_classifier(weights, x, Trained) \u001b[39mfor\u001b[39;00m x \u001b[39min\u001b[39;00m X_batch]\n\u001b[1;32m     34\u001b[0m     \u001b[39mreturn\u001b[39;00m Linear_Loss(Y_batch, preds)\n",
      "File \u001b[0;32m~/miniforge3/envs/QC/lib/python3.10/site-packages/pennylane/qnode.py:847\u001b[0m, in \u001b[0;36mQNode.__call__\u001b[0;34m(self, *args, **kwargs)\u001b[0m\n\u001b[1;32m    843\u001b[0m     \u001b[39mself\u001b[39m\u001b[39m.\u001b[39m_update_original_device()\n\u001b[1;32m    845\u001b[0m     \u001b[39mreturn\u001b[39;00m res\n\u001b[0;32m--> 847\u001b[0m res \u001b[39m=\u001b[39m qml\u001b[39m.\u001b[39;49mexecute(\n\u001b[1;32m    848\u001b[0m     [\u001b[39mself\u001b[39;49m\u001b[39m.\u001b[39;49mtape],\n\u001b[1;32m    849\u001b[0m     device\u001b[39m=\u001b[39;49m\u001b[39mself\u001b[39;49m\u001b[39m.\u001b[39;49mdevice,\n\u001b[1;32m    850\u001b[0m     gradient_fn\u001b[39m=\u001b[39;49m\u001b[39mself\u001b[39;49m\u001b[39m.\u001b[39;49mgradient_fn,\n\u001b[1;32m    851\u001b[0m     interface\u001b[39m=\u001b[39;49m\u001b[39mself\u001b[39;49m\u001b[39m.\u001b[39;49minterface,\n\u001b[1;32m    852\u001b[0m     gradient_kwargs\u001b[39m=\u001b[39;49m\u001b[39mself\u001b[39;49m\u001b[39m.\u001b[39;49mgradient_kwargs,\n\u001b[1;32m    853\u001b[0m     override_shots\u001b[39m=\u001b[39;49moverride_shots,\n\u001b[1;32m    854\u001b[0m     \u001b[39m*\u001b[39;49m\u001b[39m*\u001b[39;49m\u001b[39mself\u001b[39;49m\u001b[39m.\u001b[39;49mexecute_kwargs,\n\u001b[1;32m    855\u001b[0m )\n\u001b[1;32m    857\u001b[0m \u001b[39mif\u001b[39;00m old_interface \u001b[39m==\u001b[39m \u001b[39m\"\u001b[39m\u001b[39mauto\u001b[39m\u001b[39m\"\u001b[39m:\n\u001b[1;32m    858\u001b[0m     \u001b[39mself\u001b[39m\u001b[39m.\u001b[39minterface \u001b[39m=\u001b[39m \u001b[39m\"\u001b[39m\u001b[39mauto\u001b[39m\u001b[39m\"\u001b[39m\n",
      "File \u001b[0;32m~/miniforge3/envs/QC/lib/python3.10/site-packages/pennylane/interfaces/execution.py:724\u001b[0m, in \u001b[0;36mexecute\u001b[0;34m(tapes, device, gradient_fn, interface, mode, gradient_kwargs, cache, cachesize, max_diff, override_shots, expand_fn, max_expansion, device_batch_transform)\u001b[0m\n\u001b[1;32m    718\u001b[0m \u001b[39mexcept\u001b[39;00m \u001b[39mImportError\u001b[39;00m \u001b[39mas\u001b[39;00m e:\n\u001b[1;32m    719\u001b[0m     \u001b[39mraise\u001b[39;00m qml\u001b[39m.\u001b[39mQuantumFunctionError(\n\u001b[1;32m    720\u001b[0m         \u001b[39mf\u001b[39m\u001b[39m\"\u001b[39m\u001b[39m{\u001b[39;00mmapped_interface\u001b[39m}\u001b[39;00m\u001b[39m not found. Please install the latest \u001b[39m\u001b[39m\"\u001b[39m\n\u001b[1;32m    721\u001b[0m         \u001b[39mf\u001b[39m\u001b[39m\"\u001b[39m\u001b[39mversion of \u001b[39m\u001b[39m{\u001b[39;00mmapped_interface\u001b[39m}\u001b[39;00m\u001b[39m to enable the \u001b[39m\u001b[39m'\u001b[39m\u001b[39m{\u001b[39;00mmapped_interface\u001b[39m}\u001b[39;00m\u001b[39m'\u001b[39m\u001b[39m interface.\u001b[39m\u001b[39m\"\u001b[39m\n\u001b[1;32m    722\u001b[0m     ) \u001b[39mfrom\u001b[39;00m \u001b[39me\u001b[39;00m\n\u001b[0;32m--> 724\u001b[0m res \u001b[39m=\u001b[39m _execute(\n\u001b[1;32m    725\u001b[0m     tapes, device, execute_fn, gradient_fn, gradient_kwargs, _n\u001b[39m=\u001b[39;49m\u001b[39m1\u001b[39;49m, max_diff\u001b[39m=\u001b[39;49mmax_diff, mode\u001b[39m=\u001b[39;49m_mode\n\u001b[1;32m    726\u001b[0m )\n\u001b[1;32m    728\u001b[0m \u001b[39mreturn\u001b[39;00m batch_fn(res)\n",
      "File \u001b[0;32m~/miniforge3/envs/QC/lib/python3.10/site-packages/pennylane/interfaces/autograd.py:81\u001b[0m, in \u001b[0;36mexecute\u001b[0;34m(tapes, device, execute_fn, gradient_fn, gradient_kwargs, _n, max_diff, mode)\u001b[0m\n\u001b[1;32m     75\u001b[0m \u001b[39m# pylint misidentifies autograd.builtins as a dict\u001b[39;00m\n\u001b[1;32m     76\u001b[0m \u001b[39m# pylint: disable=no-member\u001b[39;00m\n\u001b[1;32m     77\u001b[0m parameters \u001b[39m=\u001b[39m autograd\u001b[39m.\u001b[39mbuiltins\u001b[39m.\u001b[39mtuple(\n\u001b[1;32m     78\u001b[0m     [autograd\u001b[39m.\u001b[39mbuiltins\u001b[39m.\u001b[39mlist(t\u001b[39m.\u001b[39mget_parameters()) \u001b[39mfor\u001b[39;00m t \u001b[39min\u001b[39;00m tapes]\n\u001b[1;32m     79\u001b[0m )\n\u001b[0;32m---> 81\u001b[0m \u001b[39mreturn\u001b[39;00m _execute(\n\u001b[1;32m     82\u001b[0m     parameters,\n\u001b[1;32m     83\u001b[0m     tapes\u001b[39m=\u001b[39;49mtapes,\n\u001b[1;32m     84\u001b[0m     device\u001b[39m=\u001b[39;49mdevice,\n\u001b[1;32m     85\u001b[0m     execute_fn\u001b[39m=\u001b[39;49mexecute_fn,\n\u001b[1;32m     86\u001b[0m     gradient_fn\u001b[39m=\u001b[39;49mgradient_fn,\n\u001b[1;32m     87\u001b[0m     gradient_kwargs\u001b[39m=\u001b[39;49mgradient_kwargs,\n\u001b[1;32m     88\u001b[0m     _n\u001b[39m=\u001b[39;49m_n,\n\u001b[1;32m     89\u001b[0m     max_diff\u001b[39m=\u001b[39;49mmax_diff,\n\u001b[1;32m     90\u001b[0m )[\u001b[39m0\u001b[39m]\n",
      "File \u001b[0;32m~/miniforge3/envs/QC/lib/python3.10/site-packages/autograd/tracer.py:44\u001b[0m, in \u001b[0;36mprimitive.<locals>.f_wrapped\u001b[0;34m(*args, **kwargs)\u001b[0m\n\u001b[1;32m     42\u001b[0m parents \u001b[39m=\u001b[39m \u001b[39mtuple\u001b[39m(box\u001b[39m.\u001b[39m_node \u001b[39mfor\u001b[39;00m _     , box \u001b[39min\u001b[39;00m boxed_args)\n\u001b[1;32m     43\u001b[0m argnums \u001b[39m=\u001b[39m \u001b[39mtuple\u001b[39m(argnum    \u001b[39mfor\u001b[39;00m argnum, _   \u001b[39min\u001b[39;00m boxed_args)\n\u001b[0;32m---> 44\u001b[0m ans \u001b[39m=\u001b[39m f_wrapped(\u001b[39m*\u001b[39;49margvals, \u001b[39m*\u001b[39;49m\u001b[39m*\u001b[39;49mkwargs)\n\u001b[1;32m     45\u001b[0m node \u001b[39m=\u001b[39m node_constructor(ans, f_wrapped, argvals, kwargs, argnums, parents)\n\u001b[1;32m     46\u001b[0m \u001b[39mreturn\u001b[39;00m new_box(ans, trace, node)\n",
      "File \u001b[0;32m~/miniforge3/envs/QC/lib/python3.10/site-packages/autograd/tracer.py:48\u001b[0m, in \u001b[0;36mprimitive.<locals>.f_wrapped\u001b[0;34m(*args, **kwargs)\u001b[0m\n\u001b[1;32m     46\u001b[0m     \u001b[39mreturn\u001b[39;00m new_box(ans, trace, node)\n\u001b[1;32m     47\u001b[0m \u001b[39melse\u001b[39;00m:\n\u001b[0;32m---> 48\u001b[0m     \u001b[39mreturn\u001b[39;00m f_raw(\u001b[39m*\u001b[39;49margs, \u001b[39m*\u001b[39;49m\u001b[39m*\u001b[39;49mkwargs)\n",
      "File \u001b[0;32m~/miniforge3/envs/QC/lib/python3.10/site-packages/pennylane/interfaces/autograd.py:125\u001b[0m, in \u001b[0;36m_execute\u001b[0;34m(parameters, tapes, device, execute_fn, gradient_fn, gradient_kwargs, _n, max_diff)\u001b[0m\n\u001b[1;32m    104\u001b[0m \u001b[39m\"\"\"Autodifferentiable wrapper around ``Device.batch_execute``.\u001b[39;00m\n\u001b[1;32m    105\u001b[0m \n\u001b[1;32m    106\u001b[0m \u001b[39mThe signature of this function is designed to work around Autograd restrictions.\u001b[39;00m\n\u001b[0;32m   (...)\u001b[0m\n\u001b[1;32m    122\u001b[0m \u001b[39munderstand the consequences!\u001b[39;00m\n\u001b[1;32m    123\u001b[0m \u001b[39m\"\"\"\u001b[39;00m\n\u001b[1;32m    124\u001b[0m \u001b[39mwith\u001b[39;00m qml\u001b[39m.\u001b[39mtape\u001b[39m.\u001b[39mUnwrap(\u001b[39m*\u001b[39mtapes):\n\u001b[0;32m--> 125\u001b[0m     res, jacs \u001b[39m=\u001b[39m execute_fn(tapes, \u001b[39m*\u001b[39;49m\u001b[39m*\u001b[39;49mgradient_kwargs)\n\u001b[1;32m    127\u001b[0m \u001b[39mfor\u001b[39;00m i, r \u001b[39min\u001b[39;00m \u001b[39menumerate\u001b[39m(res):\n\u001b[1;32m    128\u001b[0m     \u001b[39mif\u001b[39;00m \u001b[39many\u001b[39m(\u001b[39misinstance\u001b[39m(m, CountsMP) \u001b[39mfor\u001b[39;00m m \u001b[39min\u001b[39;00m tapes[i]\u001b[39m.\u001b[39mmeasurements):\n",
      "File \u001b[0;32m~/miniforge3/envs/QC/lib/python3.10/site-packages/pennylane/interfaces/execution.py:206\u001b[0m, in \u001b[0;36mcache_execute.<locals>.wrapper\u001b[0;34m(tapes, **kwargs)\u001b[0m\n\u001b[1;32m    202\u001b[0m         \u001b[39mreturn\u001b[39;00m (res, []) \u001b[39mif\u001b[39;00m return_tuple \u001b[39melse\u001b[39;00m res\n\u001b[1;32m    204\u001b[0m \u001b[39melse\u001b[39;00m:\n\u001b[1;32m    205\u001b[0m     \u001b[39m# execute all unique tapes that do not exist in the cache\u001b[39;00m\n\u001b[0;32m--> 206\u001b[0m     res \u001b[39m=\u001b[39m fn(execution_tapes\u001b[39m.\u001b[39;49mvalues(), \u001b[39m*\u001b[39;49m\u001b[39m*\u001b[39;49mkwargs)\n\u001b[1;32m    208\u001b[0m final_res \u001b[39m=\u001b[39m []\n\u001b[1;32m    210\u001b[0m \u001b[39mfor\u001b[39;00m i, tape \u001b[39min\u001b[39;00m \u001b[39menumerate\u001b[39m(tapes):\n",
      "File \u001b[0;32m~/miniforge3/envs/QC/lib/python3.10/site-packages/pennylane/interfaces/execution.py:131\u001b[0m, in \u001b[0;36mcache_execute.<locals>.fn\u001b[0;34m(tapes, **kwargs)\u001b[0m\n\u001b[1;32m    129\u001b[0m \u001b[39mdef\u001b[39;00m \u001b[39mfn\u001b[39m(tapes: Sequence[QuantumTape], \u001b[39m*\u001b[39m\u001b[39m*\u001b[39mkwargs):  \u001b[39m# pylint: disable=function-redefined\u001b[39;00m\n\u001b[1;32m    130\u001b[0m     tapes \u001b[39m=\u001b[39m [expand_fn(tape) \u001b[39mfor\u001b[39;00m tape \u001b[39min\u001b[39;00m tapes]\n\u001b[0;32m--> 131\u001b[0m     \u001b[39mreturn\u001b[39;00m original_fn(tapes, \u001b[39m*\u001b[39;49m\u001b[39m*\u001b[39;49mkwargs)\n",
      "File \u001b[0;32m~/miniforge3/envs/QC/lib/python3.10/contextlib.py:79\u001b[0m, in \u001b[0;36mContextDecorator.__call__.<locals>.inner\u001b[0;34m(*args, **kwds)\u001b[0m\n\u001b[1;32m     76\u001b[0m \u001b[39m@wraps\u001b[39m(func)\n\u001b[1;32m     77\u001b[0m \u001b[39mdef\u001b[39;00m \u001b[39minner\u001b[39m(\u001b[39m*\u001b[39margs, \u001b[39m*\u001b[39m\u001b[39m*\u001b[39mkwds):\n\u001b[1;32m     78\u001b[0m     \u001b[39mwith\u001b[39;00m \u001b[39mself\u001b[39m\u001b[39m.\u001b[39m_recreate_cm():\n\u001b[0;32m---> 79\u001b[0m         \u001b[39mreturn\u001b[39;00m func(\u001b[39m*\u001b[39;49margs, \u001b[39m*\u001b[39;49m\u001b[39m*\u001b[39;49mkwds)\n",
      "File \u001b[0;32m~/miniforge3/envs/QC/lib/python3.10/site-packages/pennylane_qiskit/ibmq.py:78\u001b[0m, in \u001b[0;36mIBMQDevice.batch_execute\u001b[0;34m(self, circuits)\u001b[0m\n\u001b[1;32m     77\u001b[0m \u001b[39mdef\u001b[39;00m \u001b[39mbatch_execute\u001b[39m(\u001b[39mself\u001b[39m, circuits):  \u001b[39m# pragma: no cover\u001b[39;00m\n\u001b[0;32m---> 78\u001b[0m     res \u001b[39m=\u001b[39m \u001b[39msuper\u001b[39;49m()\u001b[39m.\u001b[39;49mbatch_execute(circuits)\n\u001b[1;32m     79\u001b[0m     \u001b[39mif\u001b[39;00m \u001b[39mself\u001b[39m\u001b[39m.\u001b[39mtracker\u001b[39m.\u001b[39mactive:\n\u001b[1;32m     80\u001b[0m         \u001b[39mself\u001b[39m\u001b[39m.\u001b[39m_track_run()\n",
      "File \u001b[0;32m~/miniforge3/envs/QC/lib/python3.10/site-packages/pennylane_qiskit/qiskit_device.py:449\u001b[0m, in \u001b[0;36mQiskitDevice.batch_execute\u001b[0;34m(self, circuits)\u001b[0m\n\u001b[1;32m    447\u001b[0m \u001b[39m# Send the batch of circuit objects using backend.run\u001b[39;00m\n\u001b[1;32m    448\u001b[0m \u001b[39mself\u001b[39m\u001b[39m.\u001b[39m_current_job \u001b[39m=\u001b[39m \u001b[39mself\u001b[39m\u001b[39m.\u001b[39mbackend\u001b[39m.\u001b[39mrun(compiled_circuits, shots\u001b[39m=\u001b[39m\u001b[39mself\u001b[39m\u001b[39m.\u001b[39mshots, \u001b[39m*\u001b[39m\u001b[39m*\u001b[39m\u001b[39mself\u001b[39m\u001b[39m.\u001b[39mrun_args)\n\u001b[0;32m--> 449\u001b[0m result \u001b[39m=\u001b[39m \u001b[39mself\u001b[39;49m\u001b[39m.\u001b[39;49m_current_job\u001b[39m.\u001b[39;49mresult()\n\u001b[1;32m    451\u001b[0m \u001b[39m# Compute statistics using the state and/or samples\u001b[39;00m\n\u001b[1;32m    452\u001b[0m results \u001b[39m=\u001b[39m []\n",
      "File \u001b[0;32m~/miniforge3/envs/QC/lib/python3.10/site-packages/qiskit/providers/ibmq/job/ibmqjob.py:290\u001b[0m, in \u001b[0;36mIBMQJob.result\u001b[0;34m(self, timeout, wait, partial, refresh)\u001b[0m\n\u001b[1;32m    288\u001b[0m         \u001b[39melse\u001b[39;00m:\n\u001b[1;32m    289\u001b[0m             error_message \u001b[39m=\u001b[39m \u001b[39m\"\u001b[39m\u001b[39m: \u001b[39m\u001b[39m\"\u001b[39m \u001b[39m+\u001b[39m error_message\n\u001b[0;32m--> 290\u001b[0m         \u001b[39mraise\u001b[39;00m IBMQJobFailureError(\n\u001b[1;32m    291\u001b[0m             \u001b[39m'\u001b[39m\u001b[39mUnable to retrieve result for job \u001b[39m\u001b[39m{}\u001b[39;00m\u001b[39m. Job has failed\u001b[39m\u001b[39m{}\u001b[39;00m\u001b[39m'\u001b[39m\u001b[39m.\u001b[39mformat(\n\u001b[1;32m    292\u001b[0m                 \u001b[39mself\u001b[39m\u001b[39m.\u001b[39mjob_id(), error_message))\n\u001b[1;32m    293\u001b[0m \u001b[39melse\u001b[39;00m:\n\u001b[1;32m    294\u001b[0m     \u001b[39mself\u001b[39m\u001b[39m.\u001b[39m_retrieve_result(refresh\u001b[39m=\u001b[39mrefresh)\n",
      "\u001b[0;31mIBMQJobFailureError\u001b[0m: 'Unable to retrieve result for job 64258bf97f265c6ce09725fb. Job has failed: Internal Error. Error code: 9999.'"
     ]
    }
   ],
   "source": [
    "loss_Model2, weight_Model2 = circuit_training(X_train, Y_train, 'Model2', None)"
   ]
  },
  {
   "cell_type": "code",
   "execution_count": null,
   "metadata": {},
   "outputs": [],
   "source": [
    "f = open('/Users/tak/Github/QEmbedding/Results/QCNN_demonstration/Real device/Real/Loss_Model2.txt', 'a')\n",
    "f.write(str(loss_Model2))\n",
    "f.close()\n",
    "\n",
    "f = open('/Users/tak/Github/QEmbedding/Results/QCNN_demonstration/Real device/Real/weights_Model2.txt', 'a')\n",
    "f.write(str(weight_Model2))\n",
    "f.close()"
   ]
  },
  {
   "attachments": {},
   "cell_type": "markdown",
   "metadata": {},
   "source": [
    "Model3"
   ]
  },
  {
   "cell_type": "code",
   "execution_count": null,
   "metadata": {},
   "outputs": [],
   "source": [
    "feature_reduction = False\n",
    "classes = [0,1]\n",
    "X_train, X_test, Y_train, Y_test = data.data_load_and_process('mnist', feature_reduction=feature_reduction, classes=classes)\n",
    "\n",
    "X_train, X_test = torch.tensor(X_train).to(torch.float32), torch.tensor(X_test).to(torch.float32)\n",
    "X_train, X_test = X_train.permute(0, 3, 1, 2), X_test.permute(0, 3, 1, 2)\n",
    "Y_train = [-1 if y == 0 else 1 for y in Y_train]\n",
    "Y_test = [-1 if y == 0 else 1 for y in Y_test]"
   ]
  },
  {
   "cell_type": "code",
   "execution_count": null,
   "metadata": {},
   "outputs": [],
   "source": [
    "loss_Model3, weight_Model3 = circuit_training(X_train, Y_train, 'Model3', None)"
   ]
  },
  {
   "cell_type": "code",
   "execution_count": null,
   "metadata": {},
   "outputs": [],
   "source": [
    "f = open('/Users/tak/Github/QEmbedding/Results/QCNN_demonstration/Real device/Real/Loss_Model3.txt', 'a')\n",
    "f.write(str(loss_Model3))\n",
    "f.close()\n",
    "\n",
    "f = open('/Users/tak/Github/QEmbedding/Results/QCNN_demonstration/Real device/Real/weights_Model3.txt', 'a')\n",
    "f.write(str(weight_Model3))\n",
    "f.close()"
   ]
  }
 ],
 "metadata": {
  "kernelspec": {
   "display_name": "QC",
   "language": "python",
   "name": "python3"
  },
  "language_info": {
   "codemirror_mode": {
    "name": "ipython",
    "version": 3
   },
   "file_extension": ".py",
   "mimetype": "text/x-python",
   "name": "python",
   "nbconvert_exporter": "python",
   "pygments_lexer": "ipython3",
   "version": "3.10.8"
  },
  "vscode": {
   "interpreter": {
    "hash": "0f8e2a2ca6259a6cab5ca53f758a7b3aaf50f8fc283f46719ccb9cbe78a7dc03"
   }
  }
 },
 "nbformat": 4,
 "nbformat_minor": 2
}
