{
 "cells": [
  {
   "attachments": {},
   "cell_type": "markdown",
   "metadata": {},
   "source": [
    "# Real QCNN Training"
   ]
  },
  {
   "cell_type": "code",
   "execution_count": 1,
   "metadata": {},
   "outputs": [],
   "source": [
    "from pennylane import numpy as np\n",
    "import matplotlib.pyplot as plt\n",
    "import matplotlib as mpl\n",
    "import sys\n",
    "sys.path.insert(0, '/Users/tak/Github/QEmbedding/')\n",
    "import Hybrid_nn\n",
    "import torch\n",
    "from torch import nn\n",
    "import data\n",
    "import pennylane as qml\n",
    "import embedding"
   ]
  },
  {
   "cell_type": "code",
   "execution_count": 2,
   "metadata": {},
   "outputs": [
    {
     "name": "stderr",
     "output_type": "stream",
     "text": [
      "C:\\Users\\tak\\AppData\\Local\\Temp\\ipykernel_10712\\4102231440.py:9: DeprecationWarning: The package qiskit.providers.ibmq is being deprecated. Please see https://ibm.biz/provider_migration_guide to get instructions on how to migrate to qiskit-ibm-provider (https://github.com/Qiskit/qiskit-ibm-provider) and qiskit-ibm-runtime (https://github.com/Qiskit/qiskit-ibm-runtime).\n",
      "  IBMQ.save_account(TOKEN, overwrite=True)\n",
      "C:\\Users\\tak\\AppData\\Local\\Temp\\ipykernel_10712\\4102231440.py:9: DeprecationWarning: The qiskit.IBMQ entrypoint and the qiskit-ibmq-provider package (accessible from 'qiskit.providers.ibmq`) are deprecated and will be removed in a future release. Instead you should use the qiskit-ibm-provider package which is accessible from 'qiskit_ibm_provider'. You can install it with 'pip install qiskit_ibm_provider'. Just replace 'qiskit.IBMQ' with 'qiskit_ibm_provider.IBMProvider'\n",
      "  IBMQ.save_account(TOKEN, overwrite=True)\n"
     ]
    }
   ],
   "source": [
    "from qiskit import IBMQ\n",
    "\n",
    "# KQC Token\n",
    "#TOKEN = \"b5b31be2bb5237d52e8bdef143913cd62425eadcbda5c56c6f8ed8d067573ac0e07aa41d23d0bfcc880882a4142e2f812dad876fb3208d5c5f8f321be6626cce\"\n",
    "# Yonsei Token\n",
    "TOKEN = \"41bc5ff592064fefedbb4e5f949e42a9ded7835d2b14e69147aaab22b911ea16e1d95f6929e9b1fadf6c8e412253d50f820c25cd6c45be588d31910f2c4fd96b\"\n",
    "\n",
    "\n",
    "IBMQ.save_account(TOKEN, overwrite=True)\n",
    "IBMQ.load_account() # Load account from disk\n",
    "\n",
    "\n",
    "#KQC Provider\n",
    "#provider = IBMQ.get_provider(hub='ibm-q-kqc', group='internal', project='reservations')\n",
    "#provider = IBMQ.get_provider(hub='ibm-q-kqc', group='kqc-research', project='kernel-experimen')\n",
    "\n",
    "#Yonsei Provider\n",
    "provider = IBMQ.get_provider(hub='ibm-q-yonsei', group='internal', project='reservations')\n",
    "\n",
    "\n",
    "\n",
    "\n",
    "backend = \"ibm_perth\"\n",
    "\n",
    "dev = qml.device(\n",
    "    'qiskit.ibmq',\n",
    "    wires=4,\n",
    "    shots=1024,\n",
    "    backend=backend,\n",
    "    provider=provider\n",
    ")\n",
    "\n",
    "\n",
    "PATH_Model2 = '/Users/tak/Github/QEmbedding/Results/QCNN_demonstration/Real device/Real/Model2 pre-train/Model2_48.pt'\n",
    "PATH_Model3 = '/Users/tak/Github/QEmbedding/Results/QCNN_demonstration/Real device/Real/Model3 pre-train/Model3_48.pt'\n"
   ]
  },
  {
   "attachments": {},
   "cell_type": "markdown",
   "metadata": {},
   "source": [
    "# Real QCNN"
   ]
  },
  {
   "attachments": {},
   "cell_type": "markdown",
   "metadata": {},
   "source": [
    "Hyperparameters"
   ]
  },
  {
   "cell_type": "code",
   "execution_count": 3,
   "metadata": {},
   "outputs": [],
   "source": [
    "steps = 50\n",
    "learning_rate = 0.1\n",
    "batch_size = 10\n",
    "ansatz = 'TTN'"
   ]
  },
  {
   "attachments": {},
   "cell_type": "markdown",
   "metadata": {},
   "source": [
    "QCNN"
   ]
  },
  {
   "cell_type": "code",
   "execution_count": 4,
   "metadata": {},
   "outputs": [],
   "source": [
    "class x_transform2(torch.nn.Module):\n",
    "    def __init__(self):\n",
    "        super().__init__()\n",
    "        self.linear_relu_stack2 = nn.Sequential(\n",
    "            nn.Linear(4, 12),\n",
    "            nn.ReLU(),\n",
    "            nn.Linear(12, 12),\n",
    "            nn.ReLU(),\n",
    "            nn.Linear(12, 7)\n",
    "        )\n",
    "        \n",
    "    def forward(self, x):\n",
    "        x = self.linear_relu_stack2(x)\n",
    "        return x.detach().numpy()\n",
    "\n",
    "\n",
    "class x_transform3(torch.nn.Module):\n",
    "    def __init__(self):\n",
    "        super().__init__()\n",
    "        self.layer1 = torch.nn.Sequential(\n",
    "            torch.nn.Conv2d(1, 1, kernel_size=3, stride=1, padding=1),\n",
    "            torch.nn.ReLU(),\n",
    "            torch.nn.MaxPool2d(kernel_size=2, stride=2)\n",
    "        )\n",
    "\n",
    "        # Layer2: 14 * 14 -> 7 * 7\n",
    "        self.layer2 = torch.nn.Sequential(\n",
    "            torch.nn.Conv2d(1, 1, kernel_size=3, stride=1, padding=1),\n",
    "            torch.nn.ReLU(),\n",
    "            torch.nn.MaxPool2d(kernel_size=2, stride=2)\n",
    "        )\n",
    "\n",
    "        # Fully connected Layers 7 * 7 -> 7\n",
    "        self.fc = torch.nn.Linear(7 * 7, 7, bias=True)\n",
    "        \n",
    "    def forward(self, x):\n",
    "        x = self.layer1(x)\n",
    "        x = self.layer2(x)\n",
    "        x = x.view(-1, 7 * 7)\n",
    "        x = self.fc(x)\n",
    "        return x.detach().numpy()\n",
    "\n",
    "model2 = x_transform2()\n",
    "model3 = x_transform3()"
   ]
  },
  {
   "cell_type": "code",
   "execution_count": 5,
   "metadata": {},
   "outputs": [],
   "source": [
    "def statepreparation(x, Trained):\n",
    "    if Trained == False:\n",
    "        embedding.Noisy_Four_QuantumEmbedding1(x)\n",
    "    elif Trained == 'Model2':\n",
    "        model2.load_state_dict(torch.load(PATH_Model2))\n",
    "        x = model2(torch.tensor(x))\n",
    "        embedding.Noisy_Four_QuantumEmbedding2(x)\n",
    "    elif Trained == 'Model3':\n",
    "        model3.load_state_dict(torch.load(PATH_Model3))\n",
    "        x = model3(torch.tensor(x))\n",
    "        embedding.Noisy_Four_QuantumEmbedding2(x[0])\n",
    "    \n",
    "    \n",
    "@qml.qnode(dev)\n",
    "def Noisy_QCNN_classifier(params, x, Trained):\n",
    "    param1 = params[0:2]\n",
    "    param2 = params[2:4]\n",
    "\n",
    "    statepreparation(x, Trained)\n",
    "    embedding.U_TTN(param1, wires=[0,1])\n",
    "    embedding.U_TTN(param1, wires=[3,2])\n",
    "    embedding.U_TTN(param2, wires=[1,2])\n",
    "    return qml.expval(qml.PauliZ(2))\n",
    "\n",
    "\n",
    "def Linear_Loss(labels, predictions):\n",
    "    loss = 0\n",
    "    for l,p in zip(labels, predictions):\n",
    "        loss += 0.5 * (1 - l * p)\n",
    "    return loss / len(labels)\n",
    "\n",
    "\n",
    "def cost(weights, X_batch, Y_batch, Trained):\n",
    "    preds = [Noisy_QCNN_classifier(weights, x, Trained) for x in X_batch]\n",
    "    out = Linear_Loss(Y_batch, preds)\n",
    "    return out\n",
    "\n",
    "\n",
    "def circuit_training(X_train, Y_train, Trained):\n",
    "\n",
    "    weights = np.random.random(4, requires_grad = True)\n",
    "    opt = qml.NesterovMomentumOptimizer(stepsize=learning_rate)\n",
    "    loss_history, weights_history = [], []\n",
    "    for it in range(steps):\n",
    "        batch_index = np.random.randint(0, len(X_train), (batch_size,))\n",
    "        X_batch = [X_train[i] for i in batch_index]\n",
    "        Y_batch = [Y_train[i] for i in batch_index]\n",
    "        weights, cost_new = opt.step_and_cost(lambda v: cost(v, X_batch, Y_batch, Trained),\n",
    "                                                     weights)\n",
    "        loss_history.append(cost_new)\n",
    "        weights_history.append(weights)\n",
    "        print(\"iteration: \", it)\n",
    "        print(\"-----------------\")\n",
    "        print(\"cost: \", cost_new)\n",
    "        print(\"weights: \", weights)\n",
    "        #print(\"iteration: \", it, \" cost: \", cost_new)\n",
    "    return loss_history, weights_history"
   ]
  },
  {
   "attachments": {},
   "cell_type": "markdown",
   "metadata": {},
   "source": [
    "# Model 2"
   ]
  },
  {
   "cell_type": "code",
   "execution_count": null,
   "metadata": {},
   "outputs": [],
   "source": [
    "\n",
    "feature_reduction = 'PCA4'\n",
    "classes = [0,1]\n",
    "X_train, X_test, Y_train, Y_test = data.data_load_and_process('mnist', feature_reduction=feature_reduction, classes=classes)\n",
    "#X_train, X_test = torch.tensor(X_train).to(torch.float32), torch.tensor(X_test).to(torch.float32)\n",
    "Y_train = [-1 if y == 0 else 1 for y in Y_train]\n",
    "Y_test = [-1 if y == 0 else 1 for y in Y_test]"
   ]
  },
  {
   "attachments": {},
   "cell_type": "markdown",
   "metadata": {},
   "source": [
    "Not pre-trained"
   ]
  },
  {
   "cell_type": "code",
   "execution_count": null,
   "metadata": {},
   "outputs": [],
   "source": [
    "\n",
    "loss_not_trained, weight_not_trained = circuit_training(X_train, Y_train, False)"
   ]
  },
  {
   "cell_type": "code",
   "execution_count": null,
   "metadata": {},
   "outputs": [],
   "source": [
    "f = open('/Users/tak/Github/QEmbedding/Results/QCNN_demonstration/Real device/Real/Loss_not_trained.txt', 'a')\n",
    "f.write(str(loss_not_trained))\n",
    "f.close()\n",
    "\n",
    "f = open('/Users/tak/Github/QEmbedding/Results/QCNN_demonstration/Real device/Real/weights_not_trained.txt', 'a')\n",
    "f.write(str(weight_not_trained))\n",
    "f.close()"
   ]
  },
  {
   "attachments": {},
   "cell_type": "markdown",
   "metadata": {},
   "source": [
    "Model 2"
   ]
  },
  {
   "cell_type": "code",
   "execution_count": null,
   "metadata": {},
   "outputs": [],
   "source": [
    "loss_Model2, weight_Model2 = circuit_training(X_train, Y_train, 'Model2')"
   ]
  },
  {
   "cell_type": "code",
   "execution_count": null,
   "metadata": {},
   "outputs": [],
   "source": [
    "f = open('/Users/tak/Github/QEmbedding/Results/QCNN_demonstration/Real device/Real/Loss_Model2.txt', 'a')\n",
    "f.write(str(loss_Model2))\n",
    "f.close()\n",
    "\n",
    "f = open('/Users/tak/Github/QEmbedding/Results/QCNN_demonstration/Real device/Real/weights_Model2.txt', 'a')\n",
    "f.write(str(weight_Model2))\n",
    "f.close()"
   ]
  },
  {
   "attachments": {},
   "cell_type": "markdown",
   "metadata": {},
   "source": [
    "Model3"
   ]
  },
  {
   "cell_type": "code",
   "execution_count": 6,
   "metadata": {},
   "outputs": [],
   "source": [
    "feature_reduction = False\n",
    "classes = [0,1]\n",
    "X_train, X_test, Y_train, Y_test = data.data_load_and_process('mnist', feature_reduction=feature_reduction, classes=classes)\n",
    "\n",
    "X_train, X_test = torch.tensor(X_train).to(torch.float32), torch.tensor(X_test).to(torch.float32)\n",
    "X_train, X_test = X_train.permute(0, 3, 1, 2).detach().numpy(), X_test.permute(0, 3, 1, 2).detach().numpy()\n",
    "\n",
    "Y_train = [-1 if y == 0 else 1 for y in Y_train]\n",
    "Y_test = [-1 if y == 0 else 1 for y in Y_test]"
   ]
  },
  {
   "cell_type": "code",
   "execution_count": 7,
   "metadata": {},
   "outputs": [
    {
     "name": "stdout",
     "output_type": "stream",
     "text": [
      "iteration:  0\n",
      "-----------------\n",
      "cost:  0.51748046875\n",
      "weights:  [0.11296174 0.17128544 0.9829941  0.26328529]\n",
      "iteration:  1\n",
      "-----------------\n",
      "cost:  0.519921875\n",
      "weights:  [0.12949836 0.15842215 0.98110347 0.24881703]\n",
      "iteration:  2\n",
      "-----------------\n",
      "cost:  0.509375\n",
      "weights:  [0.14763816 0.14348094 0.97876714 0.2310788 ]\n",
      "iteration:  3\n",
      "-----------------\n",
      "cost:  0.5044921875\n",
      "weights:  [0.17439854 0.12213835 0.97684023 0.207214  ]\n",
      "iteration:  4\n",
      "-----------------\n",
      "cost:  0.50732421875\n",
      "weights:  [0.20898094 0.09233919 0.97608745 0.17493978]\n",
      "iteration:  5\n",
      "-----------------\n",
      "cost:  0.47880859375\n",
      "weights:  [0.25139904 0.05624748 0.97716288 0.14067814]\n",
      "iteration:  6\n",
      "-----------------\n",
      "cost:  0.45380859375\n",
      "weights:  [0.29904798 0.01436065 0.98051358 0.10317762]\n",
      "iteration:  7\n",
      "-----------------\n",
      "cost:  0.456640625\n",
      "weights:  [ 0.34646817 -0.02804941  0.98679581  0.06478849]\n",
      "iteration:  8\n",
      "-----------------\n",
      "cost:  0.48359375\n",
      "weights:  [ 0.39066489 -0.07023213  0.99411974  0.02554588]\n",
      "iteration:  9\n",
      "-----------------\n",
      "cost:  0.44638671875\n",
      "weights:  [ 0.43613041 -0.1126253   1.00628257 -0.0150459 ]\n",
      "iteration:  10\n",
      "-----------------\n",
      "cost:  0.423046875\n",
      "weights:  [ 0.48136579 -0.15409946  1.02429454 -0.05887342]\n",
      "iteration:  11\n",
      "-----------------\n",
      "cost:  0.4125\n",
      "weights:  [ 0.52779053 -0.19329144  1.04640375 -0.10265413]\n"
     ]
    },
    {
     "ename": "IBMQJobApiError",
     "evalue": "\"Unable to retrieve result for job chq7r7s2b9sdqn3dbbp0: 'results'\"",
     "output_type": "error",
     "traceback": [
      "\u001b[1;31m---------------------------------------------------------------------------\u001b[0m",
      "\u001b[1;31mKeyError\u001b[0m                                  Traceback (most recent call last)",
      "File \u001b[1;32mc:\\Users\\tak\\anaconda3\\envs\\QC\\Lib\\site-packages\\qiskit\\providers\\ibmq\\job\\ibmqjob.py:979\u001b[0m, in \u001b[0;36mIBMQJob._set_result\u001b[1;34m(self, raw_data)\u001b[0m\n\u001b[0;32m    978\u001b[0m \u001b[39mtry\u001b[39;00m:\n\u001b[1;32m--> 979\u001b[0m     \u001b[39mself\u001b[39m\u001b[39m.\u001b[39m_result \u001b[39m=\u001b[39m Result\u001b[39m.\u001b[39;49mfrom_dict(raw_data)\n\u001b[0;32m    980\u001b[0m \u001b[39mexcept\u001b[39;00m (\u001b[39mKeyError\u001b[39;00m, \u001b[39mTypeError\u001b[39;00m) \u001b[39mas\u001b[39;00m err:\n",
      "File \u001b[1;32mc:\\Users\\tak\\anaconda3\\envs\\QC\\Lib\\site-packages\\qiskit\\result\\result.py:133\u001b[0m, in \u001b[0;36mResult.from_dict\u001b[1;34m(cls, data)\u001b[0m\n\u001b[0;32m    132\u001b[0m in_data \u001b[39m=\u001b[39m copy\u001b[39m.\u001b[39mcopy(data)\n\u001b[1;32m--> 133\u001b[0m in_data[\u001b[39m\"\u001b[39m\u001b[39mresults\u001b[39m\u001b[39m\"\u001b[39m] \u001b[39m=\u001b[39m [ExperimentResult\u001b[39m.\u001b[39mfrom_dict(x) \u001b[39mfor\u001b[39;00m x \u001b[39min\u001b[39;00m in_data\u001b[39m.\u001b[39mpop(\u001b[39m\"\u001b[39m\u001b[39mresults\u001b[39m\u001b[39m\"\u001b[39m)]\n\u001b[0;32m    134\u001b[0m \u001b[39mif\u001b[39;00m in_data\u001b[39m.\u001b[39mget(\u001b[39m\"\u001b[39m\u001b[39mheader\u001b[39m\u001b[39m\"\u001b[39m) \u001b[39mis\u001b[39;00m \u001b[39mnot\u001b[39;00m \u001b[39mNone\u001b[39;00m:\n",
      "\u001b[1;31mKeyError\u001b[0m: 'results'",
      "\nThe above exception was the direct cause of the following exception:\n",
      "\u001b[1;31mIBMQJobApiError\u001b[0m                           Traceback (most recent call last)",
      "Cell \u001b[1;32mIn[7], line 1\u001b[0m\n\u001b[1;32m----> 1\u001b[0m loss_Model3, weight_Model3 \u001b[39m=\u001b[39m circuit_training(X_train, Y_train, \u001b[39m'\u001b[39;49m\u001b[39mModel3\u001b[39;49m\u001b[39m'\u001b[39;49m)\n",
      "Cell \u001b[1;32mIn[5], line 48\u001b[0m, in \u001b[0;36mcircuit_training\u001b[1;34m(X_train, Y_train, Trained)\u001b[0m\n\u001b[0;32m     46\u001b[0m X_batch \u001b[39m=\u001b[39m [X_train[i] \u001b[39mfor\u001b[39;00m i \u001b[39min\u001b[39;00m batch_index]\n\u001b[0;32m     47\u001b[0m Y_batch \u001b[39m=\u001b[39m [Y_train[i] \u001b[39mfor\u001b[39;00m i \u001b[39min\u001b[39;00m batch_index]\n\u001b[1;32m---> 48\u001b[0m weights, cost_new \u001b[39m=\u001b[39m opt\u001b[39m.\u001b[39;49mstep_and_cost(\u001b[39mlambda\u001b[39;49;00m v: cost(v, X_batch, Y_batch, Trained),\n\u001b[0;32m     49\u001b[0m                                              weights)\n\u001b[0;32m     50\u001b[0m loss_history\u001b[39m.\u001b[39mappend(cost_new)\n\u001b[0;32m     51\u001b[0m weights_history\u001b[39m.\u001b[39mappend(weights)\n",
      "File \u001b[1;32mc:\\Users\\tak\\anaconda3\\envs\\QC\\Lib\\site-packages\\pennylane\\optimize\\gradient_descent.py:59\u001b[0m, in \u001b[0;36mGradientDescentOptimizer.step_and_cost\u001b[1;34m(self, objective_fn, grad_fn, *args, **kwargs)\u001b[0m\n\u001b[0;32m     39\u001b[0m \u001b[39mdef\u001b[39;00m \u001b[39mstep_and_cost\u001b[39m(\u001b[39mself\u001b[39m, objective_fn, \u001b[39m*\u001b[39margs, grad_fn\u001b[39m=\u001b[39m\u001b[39mNone\u001b[39;00m, \u001b[39m*\u001b[39m\u001b[39m*\u001b[39mkwargs):\n\u001b[0;32m     40\u001b[0m \u001b[39m    \u001b[39m\u001b[39m\"\"\"Update trainable arguments with one step of the optimizer and return the corresponding\u001b[39;00m\n\u001b[0;32m     41\u001b[0m \u001b[39m    objective function value prior to the step.\u001b[39;00m\n\u001b[0;32m     42\u001b[0m \n\u001b[1;32m   (...)\u001b[0m\n\u001b[0;32m     56\u001b[0m \u001b[39m        If single arg is provided, list [array] is replaced by array.\u001b[39;00m\n\u001b[0;32m     57\u001b[0m \u001b[39m    \"\"\"\u001b[39;00m\n\u001b[1;32m---> 59\u001b[0m     g, forward \u001b[39m=\u001b[39m \u001b[39mself\u001b[39;49m\u001b[39m.\u001b[39;49mcompute_grad(objective_fn, args, kwargs, grad_fn\u001b[39m=\u001b[39;49mgrad_fn)\n\u001b[0;32m     60\u001b[0m     new_args \u001b[39m=\u001b[39m \u001b[39mself\u001b[39m\u001b[39m.\u001b[39mapply_grad(g, args)\n\u001b[0;32m     62\u001b[0m     \u001b[39mif\u001b[39;00m forward \u001b[39mis\u001b[39;00m \u001b[39mNone\u001b[39;00m:\n",
      "File \u001b[1;32mc:\\Users\\tak\\anaconda3\\envs\\QC\\Lib\\site-packages\\pennylane\\optimize\\nesterov_momentum.py:71\u001b[0m, in \u001b[0;36mNesterovMomentumOptimizer.compute_grad\u001b[1;34m(self, objective_fn, args, kwargs, grad_fn)\u001b[0m\n\u001b[0;32m     68\u001b[0m         shifted_args[index] \u001b[39m=\u001b[39m args[index] \u001b[39m-\u001b[39m \u001b[39mself\u001b[39m\u001b[39m.\u001b[39mmomentum \u001b[39m*\u001b[39m \u001b[39mself\u001b[39m\u001b[39m.\u001b[39maccumulation[index]\n\u001b[0;32m     70\u001b[0m g \u001b[39m=\u001b[39m get_gradient(objective_fn) \u001b[39mif\u001b[39;00m grad_fn \u001b[39mis\u001b[39;00m \u001b[39mNone\u001b[39;00m \u001b[39melse\u001b[39;00m grad_fn\n\u001b[1;32m---> 71\u001b[0m grad \u001b[39m=\u001b[39m g(\u001b[39m*\u001b[39;49mshifted_args, \u001b[39m*\u001b[39;49m\u001b[39m*\u001b[39;49mkwargs)\n\u001b[0;32m     72\u001b[0m forward \u001b[39m=\u001b[39m \u001b[39mgetattr\u001b[39m(g, \u001b[39m\"\u001b[39m\u001b[39mforward\u001b[39m\u001b[39m\"\u001b[39m, \u001b[39mNone\u001b[39;00m)\n\u001b[0;32m     74\u001b[0m grad \u001b[39m=\u001b[39m (grad,) \u001b[39mif\u001b[39;00m \u001b[39mlen\u001b[39m(trainable_indices) \u001b[39m==\u001b[39m \u001b[39m1\u001b[39m \u001b[39melse\u001b[39;00m grad\n",
      "File \u001b[1;32mc:\\Users\\tak\\anaconda3\\envs\\QC\\Lib\\site-packages\\pennylane\\_grad.py:115\u001b[0m, in \u001b[0;36mgrad.__call__\u001b[1;34m(self, *args, **kwargs)\u001b[0m\n\u001b[0;32m    112\u001b[0m     \u001b[39mself\u001b[39m\u001b[39m.\u001b[39m_forward \u001b[39m=\u001b[39m \u001b[39mself\u001b[39m\u001b[39m.\u001b[39m_fun(\u001b[39m*\u001b[39margs, \u001b[39m*\u001b[39m\u001b[39m*\u001b[39mkwargs)\n\u001b[0;32m    113\u001b[0m     \u001b[39mreturn\u001b[39;00m ()\n\u001b[1;32m--> 115\u001b[0m grad_value, ans \u001b[39m=\u001b[39m grad_fn(\u001b[39m*\u001b[39;49margs, \u001b[39m*\u001b[39;49m\u001b[39m*\u001b[39;49mkwargs)\n\u001b[0;32m    116\u001b[0m \u001b[39mself\u001b[39m\u001b[39m.\u001b[39m_forward \u001b[39m=\u001b[39m ans\n\u001b[0;32m    118\u001b[0m \u001b[39mreturn\u001b[39;00m grad_value\n",
      "File \u001b[1;32mc:\\Users\\tak\\anaconda3\\envs\\QC\\Lib\\site-packages\\autograd\\wrap_util.py:20\u001b[0m, in \u001b[0;36munary_to_nary.<locals>.nary_operator.<locals>.nary_f\u001b[1;34m(*args, **kwargs)\u001b[0m\n\u001b[0;32m     18\u001b[0m \u001b[39melse\u001b[39;00m:\n\u001b[0;32m     19\u001b[0m     x \u001b[39m=\u001b[39m \u001b[39mtuple\u001b[39m(args[i] \u001b[39mfor\u001b[39;00m i \u001b[39min\u001b[39;00m argnum)\n\u001b[1;32m---> 20\u001b[0m \u001b[39mreturn\u001b[39;00m unary_operator(unary_f, x, \u001b[39m*\u001b[39;49mnary_op_args, \u001b[39m*\u001b[39;49m\u001b[39m*\u001b[39;49mnary_op_kwargs)\n",
      "File \u001b[1;32mc:\\Users\\tak\\anaconda3\\envs\\QC\\Lib\\site-packages\\pennylane\\_grad.py:141\u001b[0m, in \u001b[0;36mgrad._grad_with_forward\u001b[1;34m(fun, x)\u001b[0m\n\u001b[0;32m    135\u001b[0m \u001b[39mif\u001b[39;00m \u001b[39mnot\u001b[39;00m vspace(ans)\u001b[39m.\u001b[39msize \u001b[39m==\u001b[39m \u001b[39m1\u001b[39m:\n\u001b[0;32m    136\u001b[0m     \u001b[39mraise\u001b[39;00m \u001b[39mTypeError\u001b[39;00m(\n\u001b[0;32m    137\u001b[0m         \u001b[39m\"\u001b[39m\u001b[39mGrad only applies to real scalar-output functions. \u001b[39m\u001b[39m\"\u001b[39m\n\u001b[0;32m    138\u001b[0m         \u001b[39m\"\u001b[39m\u001b[39mTry jacobian, elementwise_grad or holomorphic_grad.\u001b[39m\u001b[39m\"\u001b[39m\n\u001b[0;32m    139\u001b[0m     )\n\u001b[1;32m--> 141\u001b[0m grad_value \u001b[39m=\u001b[39m vjp(vspace(ans)\u001b[39m.\u001b[39;49mones())\n\u001b[0;32m    142\u001b[0m \u001b[39mreturn\u001b[39;00m grad_value, ans\n",
      "File \u001b[1;32mc:\\Users\\tak\\anaconda3\\envs\\QC\\Lib\\site-packages\\autograd\\core.py:14\u001b[0m, in \u001b[0;36mmake_vjp.<locals>.vjp\u001b[1;34m(g)\u001b[0m\n\u001b[1;32m---> 14\u001b[0m \u001b[39mdef\u001b[39;00m \u001b[39mvjp\u001b[39m(g): \u001b[39mreturn\u001b[39;00m backward_pass(g, end_node)\n",
      "File \u001b[1;32mc:\\Users\\tak\\anaconda3\\envs\\QC\\Lib\\site-packages\\autograd\\core.py:21\u001b[0m, in \u001b[0;36mbackward_pass\u001b[1;34m(g, end_node)\u001b[0m\n\u001b[0;32m     19\u001b[0m \u001b[39mfor\u001b[39;00m node \u001b[39min\u001b[39;00m toposort(end_node):\n\u001b[0;32m     20\u001b[0m     outgrad \u001b[39m=\u001b[39m outgrads\u001b[39m.\u001b[39mpop(node)\n\u001b[1;32m---> 21\u001b[0m     ingrads \u001b[39m=\u001b[39m node\u001b[39m.\u001b[39;49mvjp(outgrad[\u001b[39m0\u001b[39;49m])\n\u001b[0;32m     22\u001b[0m     \u001b[39mfor\u001b[39;00m parent, ingrad \u001b[39min\u001b[39;00m \u001b[39mzip\u001b[39m(node\u001b[39m.\u001b[39mparents, ingrads):\n\u001b[0;32m     23\u001b[0m         outgrads[parent] \u001b[39m=\u001b[39m add_outgrads(outgrads\u001b[39m.\u001b[39mget(parent), ingrad)\n",
      "File \u001b[1;32mc:\\Users\\tak\\anaconda3\\envs\\QC\\Lib\\site-packages\\autograd\\core.py:67\u001b[0m, in \u001b[0;36mdefvjp.<locals>.vjp_argnums.<locals>.<lambda>\u001b[1;34m(g)\u001b[0m\n\u001b[0;32m     64\u001b[0m         \u001b[39mraise\u001b[39;00m \u001b[39mNotImplementedError\u001b[39;00m(\n\u001b[0;32m     65\u001b[0m             \u001b[39m\"\u001b[39m\u001b[39mVJP of \u001b[39m\u001b[39m{}\u001b[39;00m\u001b[39m wrt argnum 0 not defined\u001b[39m\u001b[39m\"\u001b[39m\u001b[39m.\u001b[39mformat(fun\u001b[39m.\u001b[39m\u001b[39m__name__\u001b[39m))\n\u001b[0;32m     66\u001b[0m     vjp \u001b[39m=\u001b[39m vjpfun(ans, \u001b[39m*\u001b[39margs, \u001b[39m*\u001b[39m\u001b[39m*\u001b[39mkwargs)\n\u001b[1;32m---> 67\u001b[0m     \u001b[39mreturn\u001b[39;00m \u001b[39mlambda\u001b[39;00m g: (vjp(g),)\n\u001b[0;32m     68\u001b[0m \u001b[39melif\u001b[39;00m L \u001b[39m==\u001b[39m \u001b[39m2\u001b[39m:\n\u001b[0;32m     69\u001b[0m     argnum_0, argnum_1 \u001b[39m=\u001b[39m argnums\n",
      "File \u001b[1;32mc:\\Users\\tak\\anaconda3\\envs\\QC\\Lib\\site-packages\\pennylane\\interfaces\\autograd.py:210\u001b[0m, in \u001b[0;36mvjp.<locals>.grad_fn\u001b[1;34m(dy)\u001b[0m\n\u001b[0;32m    208\u001b[0m computing_jacobian \u001b[39m=\u001b[39m _n \u001b[39m==\u001b[39m max_diff\n\u001b[0;32m    209\u001b[0m \u001b[39mif\u001b[39;00m gradient_fn \u001b[39mand\u001b[39;00m gradient_fn\u001b[39m.\u001b[39m\u001b[39m__name__\u001b[39m \u001b[39m==\u001b[39m \u001b[39m\"\u001b[39m\u001b[39mparam_shift\u001b[39m\u001b[39m\"\u001b[39m \u001b[39mand\u001b[39;00m computing_jacobian:\n\u001b[1;32m--> 210\u001b[0m     jacs \u001b[39m=\u001b[39m _get_jac_with_caching()\n\u001b[0;32m    211\u001b[0m \u001b[39melse\u001b[39;00m:\n\u001b[0;32m    212\u001b[0m     jacs \u001b[39m=\u001b[39m ans[\u001b[39m1\u001b[39m]\n",
      "File \u001b[1;32mc:\\Users\\tak\\anaconda3\\envs\\QC\\Lib\\site-packages\\pennylane\\interfaces\\autograd.py:196\u001b[0m, in \u001b[0;36mvjp.<locals>._get_jac_with_caching\u001b[1;34m()\u001b[0m\n\u001b[0;32m    193\u001b[0m     g_tapes, fn \u001b[39m=\u001b[39m gradient_fn(t, \u001b[39m*\u001b[39m\u001b[39m*\u001b[39mgradient_kwargs)\n\u001b[0;32m    195\u001b[0m     \u001b[39mwith\u001b[39;00m qml\u001b[39m.\u001b[39mtape\u001b[39m.\u001b[39mUnwrap(\u001b[39m*\u001b[39mg_tapes):\n\u001b[1;32m--> 196\u001b[0m         res, _ \u001b[39m=\u001b[39m execute_fn(g_tapes, \u001b[39m*\u001b[39;49m\u001b[39m*\u001b[39;49mgradient_kwargs)\n\u001b[0;32m    197\u001b[0m         jacs\u001b[39m.\u001b[39mappend(fn(res))\n\u001b[0;32m    199\u001b[0m cached_jac[\u001b[39m\"\u001b[39m\u001b[39mjacobian\u001b[39m\u001b[39m\"\u001b[39m] \u001b[39m=\u001b[39m jacs\n",
      "File \u001b[1;32mc:\\Users\\tak\\anaconda3\\envs\\QC\\Lib\\site-packages\\pennylane\\interfaces\\execution.py:205\u001b[0m, in \u001b[0;36mcache_execute.<locals>.wrapper\u001b[1;34m(tapes, **kwargs)\u001b[0m\n\u001b[0;32m    201\u001b[0m         \u001b[39mreturn\u001b[39;00m (res, []) \u001b[39mif\u001b[39;00m return_tuple \u001b[39melse\u001b[39;00m res\n\u001b[0;32m    203\u001b[0m \u001b[39melse\u001b[39;00m:\n\u001b[0;32m    204\u001b[0m     \u001b[39m# execute all unique tapes that do not exist in the cache\u001b[39;00m\n\u001b[1;32m--> 205\u001b[0m     res \u001b[39m=\u001b[39m fn(execution_tapes\u001b[39m.\u001b[39;49mvalues(), \u001b[39m*\u001b[39;49m\u001b[39m*\u001b[39;49mkwargs)\n\u001b[0;32m    207\u001b[0m final_res \u001b[39m=\u001b[39m []\n\u001b[0;32m    209\u001b[0m \u001b[39mfor\u001b[39;00m i, tape \u001b[39min\u001b[39;00m \u001b[39menumerate\u001b[39m(tapes):\n",
      "File \u001b[1;32mc:\\Users\\tak\\anaconda3\\envs\\QC\\Lib\\site-packages\\pennylane\\interfaces\\execution.py:131\u001b[0m, in \u001b[0;36mcache_execute.<locals>.fn\u001b[1;34m(tapes, **kwargs)\u001b[0m\n\u001b[0;32m    129\u001b[0m \u001b[39mdef\u001b[39;00m \u001b[39mfn\u001b[39m(tapes: Sequence[QuantumTape], \u001b[39m*\u001b[39m\u001b[39m*\u001b[39mkwargs):  \u001b[39m# pylint: disable=function-redefined\u001b[39;00m\n\u001b[0;32m    130\u001b[0m     tapes \u001b[39m=\u001b[39m [expand_fn(tape) \u001b[39mfor\u001b[39;00m tape \u001b[39min\u001b[39;00m tapes]\n\u001b[1;32m--> 131\u001b[0m     \u001b[39mreturn\u001b[39;00m original_fn(tapes, \u001b[39m*\u001b[39;49m\u001b[39m*\u001b[39;49mkwargs)\n",
      "File \u001b[1;32mc:\\Users\\tak\\anaconda3\\envs\\QC\\Lib\\contextlib.py:81\u001b[0m, in \u001b[0;36mContextDecorator.__call__.<locals>.inner\u001b[1;34m(*args, **kwds)\u001b[0m\n\u001b[0;32m     78\u001b[0m \u001b[39m@wraps\u001b[39m(func)\n\u001b[0;32m     79\u001b[0m \u001b[39mdef\u001b[39;00m \u001b[39minner\u001b[39m(\u001b[39m*\u001b[39margs, \u001b[39m*\u001b[39m\u001b[39m*\u001b[39mkwds):\n\u001b[0;32m     80\u001b[0m     \u001b[39mwith\u001b[39;00m \u001b[39mself\u001b[39m\u001b[39m.\u001b[39m_recreate_cm():\n\u001b[1;32m---> 81\u001b[0m         \u001b[39mreturn\u001b[39;00m func(\u001b[39m*\u001b[39;49margs, \u001b[39m*\u001b[39;49m\u001b[39m*\u001b[39;49mkwds)\n",
      "File \u001b[1;32mc:\\Users\\tak\\anaconda3\\envs\\QC\\Lib\\site-packages\\pennylane_qiskit\\ibmq.py:77\u001b[0m, in \u001b[0;36mIBMQDevice.batch_execute\u001b[1;34m(self, circuits)\u001b[0m\n\u001b[0;32m     76\u001b[0m \u001b[39mdef\u001b[39;00m \u001b[39mbatch_execute\u001b[39m(\u001b[39mself\u001b[39m, circuits):  \u001b[39m# pragma: no cover\u001b[39;00m\n\u001b[1;32m---> 77\u001b[0m     res \u001b[39m=\u001b[39m \u001b[39msuper\u001b[39;49m()\u001b[39m.\u001b[39;49mbatch_execute(circuits)\n\u001b[0;32m     78\u001b[0m     \u001b[39mif\u001b[39;00m \u001b[39mself\u001b[39m\u001b[39m.\u001b[39mtracker\u001b[39m.\u001b[39mactive:\n\u001b[0;32m     79\u001b[0m         \u001b[39mself\u001b[39m\u001b[39m.\u001b[39m_track_run()\n",
      "File \u001b[1;32mc:\\Users\\tak\\anaconda3\\envs\\QC\\Lib\\site-packages\\pennylane_qiskit\\qiskit_device.py:462\u001b[0m, in \u001b[0;36mQiskitDevice.batch_execute\u001b[1;34m(self, circuits)\u001b[0m\n\u001b[0;32m    460\u001b[0m \u001b[39m# Send the batch of circuit objects using backend.run\u001b[39;00m\n\u001b[0;32m    461\u001b[0m \u001b[39mself\u001b[39m\u001b[39m.\u001b[39m_current_job \u001b[39m=\u001b[39m \u001b[39mself\u001b[39m\u001b[39m.\u001b[39mbackend\u001b[39m.\u001b[39mrun(compiled_circuits, shots\u001b[39m=\u001b[39m\u001b[39mself\u001b[39m\u001b[39m.\u001b[39mshots, \u001b[39m*\u001b[39m\u001b[39m*\u001b[39m\u001b[39mself\u001b[39m\u001b[39m.\u001b[39mrun_args)\n\u001b[1;32m--> 462\u001b[0m result \u001b[39m=\u001b[39m \u001b[39mself\u001b[39;49m\u001b[39m.\u001b[39;49m_current_job\u001b[39m.\u001b[39;49mresult()\n\u001b[0;32m    464\u001b[0m \u001b[39m# increment counter for number of executions of qubit device\u001b[39;00m\n\u001b[0;32m    465\u001b[0m \u001b[39mself\u001b[39m\u001b[39m.\u001b[39m_num_executions \u001b[39m+\u001b[39m\u001b[39m=\u001b[39m \u001b[39m1\u001b[39m\n",
      "File \u001b[1;32mc:\\Users\\tak\\anaconda3\\envs\\QC\\Lib\\site-packages\\qiskit\\providers\\ibmq\\job\\ibmqjob.py:285\u001b[0m, in \u001b[0;36mIBMQJob.result\u001b[1;34m(self, timeout, wait, partial, refresh)\u001b[0m\n\u001b[0;32m    283\u001b[0m     \u001b[39mself\u001b[39m\u001b[39m.\u001b[39m_retrieve_result(refresh\u001b[39m=\u001b[39mrefresh)\n\u001b[0;32m    284\u001b[0m \u001b[39mif\u001b[39;00m \u001b[39mnot\u001b[39;00m partial \u001b[39mor\u001b[39;00m \u001b[39mnot\u001b[39;00m \u001b[39mself\u001b[39m\u001b[39m.\u001b[39m_result \u001b[39mor\u001b[39;00m \u001b[39mnot\u001b[39;00m \u001b[39mself\u001b[39m\u001b[39m.\u001b[39m_result\u001b[39m.\u001b[39mresults:\n\u001b[1;32m--> 285\u001b[0m     error_message \u001b[39m=\u001b[39m \u001b[39mself\u001b[39;49m\u001b[39m.\u001b[39;49merror_message()\n\u001b[0;32m    286\u001b[0m     \u001b[39mif\u001b[39;00m \u001b[39m'\u001b[39m\u001b[39m\\n\u001b[39;00m\u001b[39m'\u001b[39m \u001b[39min\u001b[39;00m error_message:\n\u001b[0;32m    287\u001b[0m         error_message \u001b[39m=\u001b[39m \u001b[39m\"\u001b[39m\u001b[39m. Use the error_message() method to get more details\u001b[39m\u001b[39m\"\u001b[39m\n",
      "File \u001b[1;32mc:\\Users\\tak\\anaconda3\\envs\\QC\\Lib\\site-packages\\qiskit\\providers\\ibmq\\job\\ibmqjob.py:525\u001b[0m, in \u001b[0;36mIBMQJob.error_message\u001b[1;34m(self)\u001b[0m\n\u001b[0;32m    521\u001b[0m     \u001b[39mreturn\u001b[39;00m \u001b[39mNone\u001b[39;00m\n\u001b[0;32m    523\u001b[0m \u001b[39mif\u001b[39;00m \u001b[39mnot\u001b[39;00m \u001b[39mself\u001b[39m\u001b[39m.\u001b[39m_job_error_msg:\n\u001b[0;32m    524\u001b[0m     \u001b[39m# First try getting error messages from the result.\u001b[39;00m\n\u001b[1;32m--> 525\u001b[0m     \u001b[39mself\u001b[39;49m\u001b[39m.\u001b[39;49m_retrieve_result()\n\u001b[0;32m    527\u001b[0m \u001b[39mif\u001b[39;00m \u001b[39mnot\u001b[39;00m \u001b[39mself\u001b[39m\u001b[39m.\u001b[39m_job_error_msg:\n\u001b[0;32m    528\u001b[0m     \u001b[39m# Then try refreshing the job\u001b[39;00m\n\u001b[0;32m    529\u001b[0m     \u001b[39mif\u001b[39;00m \u001b[39mnot\u001b[39;00m \u001b[39mself\u001b[39m\u001b[39m.\u001b[39m_error:\n",
      "File \u001b[1;32mc:\\Users\\tak\\anaconda3\\envs\\QC\\Lib\\site-packages\\qiskit\\providers\\ibmq\\job\\ibmqjob.py:952\u001b[0m, in \u001b[0;36mIBMQJob._retrieve_result\u001b[1;34m(self, refresh)\u001b[0m\n\u001b[0;32m    949\u001b[0m \u001b[39mtry\u001b[39;00m:\n\u001b[0;32m    950\u001b[0m     result_response \u001b[39m=\u001b[39m \u001b[39mself\u001b[39m\u001b[39m.\u001b[39m_api_client\u001b[39m.\u001b[39mjob_result(\n\u001b[0;32m    951\u001b[0m         \u001b[39mself\u001b[39m\u001b[39m.\u001b[39mjob_id(), \u001b[39mself\u001b[39m\u001b[39m.\u001b[39m_use_object_storage)\n\u001b[1;32m--> 952\u001b[0m     \u001b[39mself\u001b[39;49m\u001b[39m.\u001b[39;49m_set_result(result_response)\n\u001b[0;32m    953\u001b[0m     \u001b[39mif\u001b[39;00m \u001b[39mself\u001b[39m\u001b[39m.\u001b[39m_status \u001b[39mis\u001b[39;00m JobStatus\u001b[39m.\u001b[39mERROR:\n\u001b[0;32m    954\u001b[0m         \u001b[39m# Look for error message in result response.\u001b[39;00m\n\u001b[0;32m    955\u001b[0m         \u001b[39mself\u001b[39m\u001b[39m.\u001b[39m_check_for_error_message(result_response)\n",
      "File \u001b[1;32mc:\\Users\\tak\\anaconda3\\envs\\QC\\Lib\\site-packages\\qiskit\\providers\\ibmq\\job\\ibmqjob.py:985\u001b[0m, in \u001b[0;36mIBMQJob._set_result\u001b[1;34m(self, raw_data)\u001b[0m\n\u001b[0;32m    981\u001b[0m \u001b[39mif\u001b[39;00m \u001b[39mnot\u001b[39;00m \u001b[39mself\u001b[39m\u001b[39m.\u001b[39m_kind:\n\u001b[0;32m    982\u001b[0m     \u001b[39mraise\u001b[39;00m IBMQJobInvalidStateError(\n\u001b[0;32m    983\u001b[0m         \u001b[39m'\u001b[39m\u001b[39mUnable to retrieve result for job \u001b[39m\u001b[39m{}\u001b[39;00m\u001b[39m. Job result \u001b[39m\u001b[39m'\u001b[39m\n\u001b[0;32m    984\u001b[0m         \u001b[39m'\u001b[39m\u001b[39mis in an unsupported format.\u001b[39m\u001b[39m'\u001b[39m\u001b[39m.\u001b[39mformat(\u001b[39mself\u001b[39m\u001b[39m.\u001b[39mjob_id())) \u001b[39mfrom\u001b[39;00m \u001b[39merr\u001b[39;00m\n\u001b[1;32m--> 985\u001b[0m \u001b[39mraise\u001b[39;00m IBMQJobApiError(\n\u001b[0;32m    986\u001b[0m     \u001b[39m'\u001b[39m\u001b[39mUnable to retrieve result for \u001b[39m\u001b[39m'\u001b[39m\n\u001b[0;32m    987\u001b[0m     \u001b[39m'\u001b[39m\u001b[39mjob \u001b[39m\u001b[39m{}\u001b[39;00m\u001b[39m: \u001b[39m\u001b[39m{}\u001b[39;00m\u001b[39m'\u001b[39m\u001b[39m.\u001b[39mformat(\u001b[39mself\u001b[39m\u001b[39m.\u001b[39mjob_id(), \u001b[39mstr\u001b[39m(err))) \u001b[39mfrom\u001b[39;00m \u001b[39merr\u001b[39;00m\n",
      "\u001b[1;31mIBMQJobApiError\u001b[0m: \"Unable to retrieve result for job chq7r7s2b9sdqn3dbbp0: 'results'\""
     ]
    }
   ],
   "source": [
    "loss_Model3, weight_Model3 = circuit_training(X_train, Y_train, 'Model3')"
   ]
  },
  {
   "cell_type": "code",
   "execution_count": null,
   "metadata": {},
   "outputs": [],
   "source": [
    "f = open('/Users/tak/Github/QEmbedding/Results/QCNN_demonstration/Real device/Real/Loss_Model3.txt', 'a')\n",
    "f.write(str(loss_Model3))\n",
    "f.close()\n",
    "\n",
    "f = open('/Users/tak/Github/QEmbedding/Results/QCNN_demonstration/Real device/Real/weights_Model3.txt', 'a')\n",
    "f.write(str(weight_Model3))\n",
    "f.close()"
   ]
  },
  {
   "cell_type": "code",
   "execution_count": null,
   "metadata": {},
   "outputs": [],
   "source": []
  }
 ],
 "metadata": {
  "kernelspec": {
   "display_name": "Python 3 (ipykernel)",
   "language": "python",
   "name": "python3"
  },
  "language_info": {
   "codemirror_mode": {
    "name": "ipython",
    "version": 3
   },
   "file_extension": ".py",
   "mimetype": "text/x-python",
   "name": "python",
   "nbconvert_exporter": "python",
   "pygments_lexer": "ipython3",
   "version": "3.11.3"
  },
  "vscode": {
   "interpreter": {
    "hash": "0f8e2a2ca6259a6cab5ca53f758a7b3aaf50f8fc283f46719ccb9cbe78a7dc03"
   }
  }
 },
 "nbformat": 4,
 "nbformat_minor": 2
}
