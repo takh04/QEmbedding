{
 "cells": [
  {
   "cell_type": "code",
   "execution_count": 1,
   "metadata": {},
   "outputs": [],
   "source": [
    "from pennylane import numpy as np\n",
    "import matplotlib.pyplot as plt\n",
    "import matplotlib as mpl\n",
    "import sys\n",
    "sys.path.insert(0, '/Users/tak/Github/QEmbedding/')\n",
    "import Hybrid_nn\n",
    "import torch\n",
    "from torch import nn\n",
    "import data\n",
    "import pennylane as qml\n",
    "import embedding"
   ]
  },
  {
   "cell_type": "code",
   "execution_count": 2,
   "metadata": {},
   "outputs": [],
   "source": [
    "dev = qml.device('default.mixed', wires=4)"
   ]
  },
  {
   "cell_type": "code",
   "execution_count": 3,
   "metadata": {},
   "outputs": [],
   "source": [
    "\n",
    "PATH_Model2 = '/Users/tak/Github/QEmbedding/Results/QCNN_demonstration/Real device/Real/Model2 pre-train/Model2_48.pt'\n",
    "PATH_Model3 = '/Users/tak/Github/QEmbedding/Results/QCNN_demonstration/Real device/Real/Model3 pre-train/Model3_48.pt'"
   ]
  },
  {
   "cell_type": "code",
   "execution_count": 4,
   "metadata": {},
   "outputs": [],
   "source": [
    "class x_transform2(torch.nn.Module):\n",
    "    def __init__(self):\n",
    "        super().__init__()\n",
    "        self.linear_relu_stack2 = nn.Sequential(\n",
    "            nn.Linear(4, 12),\n",
    "            nn.ReLU(),\n",
    "            nn.Linear(12, 12),\n",
    "            nn.ReLU(),\n",
    "            nn.Linear(12, 7)\n",
    "        )\n",
    "        \n",
    "    def forward(self, x):\n",
    "        x = self.linear_relu_stack2(x)\n",
    "        return x.detach().numpy()\n",
    "\n",
    "\n",
    "class x_transform3(torch.nn.Module):\n",
    "    def __init__(self):\n",
    "        super().__init__()\n",
    "        self.layer1 = torch.nn.Sequential(\n",
    "            torch.nn.Conv2d(1, 1, kernel_size=3, stride=1, padding=1),\n",
    "            torch.nn.ReLU(),\n",
    "            torch.nn.MaxPool2d(kernel_size=2, stride=2)\n",
    "        )\n",
    "\n",
    "        # Layer2: 14 * 14 -> 7 * 7\n",
    "        self.layer2 = torch.nn.Sequential(\n",
    "            torch.nn.Conv2d(1, 1, kernel_size=3, stride=1, padding=1),\n",
    "            torch.nn.ReLU(),\n",
    "            torch.nn.MaxPool2d(kernel_size=2, stride=2)\n",
    "        )\n",
    "\n",
    "        # Fully connected Layers 7 * 7 -> 7\n",
    "        self.fc = torch.nn.Linear(7 * 7, 7, bias=True)\n",
    "        \n",
    "    def forward(self, x):\n",
    "        x = self.layer1(x)\n",
    "        x = self.layer2(x)\n",
    "        x = x.view(-1, 7 * 7)\n",
    "        x = self.fc(x)\n",
    "        return x.detach().numpy()\n",
    "\n",
    "model2 = x_transform2()\n",
    "model3 = x_transform3()"
   ]
  },
  {
   "cell_type": "code",
   "execution_count": 38,
   "metadata": {},
   "outputs": [],
   "source": [
    "@qml.qnode(dev)\n",
    "def overlap_circuit1(x1,x2):\n",
    "    embedding.Noisy_Four_QuantumEmbedding1(x1)\n",
    "    embedding.Noisy_Four_QuantumEmbedding1_inverse(x2)\n",
    "    return qml.probs(wires=range(4))\n",
    "\n",
    "@qml.qnode(dev)\n",
    "def overlap_circuit2(x1,x2):\n",
    "    embedding.Noisy_Four_QuantumEmbedding2(x1)\n",
    "    embedding.Noisy_Four_QuantumEmbedding2_inverse(x2)\n",
    "    return qml.probs(wires=range(4))\n",
    "\n",
    "def kernel(x1, x2, NQE):\n",
    "    if NQE == False:\n",
    "        kernel = overlap_circuit1(x1,x2)\n",
    "    \n",
    "    \n",
    "    elif NQE == 'PCA-NQE':\n",
    "        model2.load_state_dict(torch.load(PATH_Model2))\n",
    "        x1 = model2(torch.tensor(x1))\n",
    "        x2 = model2(torch.tensor(x2))\n",
    "        kernel = overlap_circuit2(x1, x2)\n",
    "\n",
    "    elif NQE == 'NQE':\n",
    "        model3.load_state_dict(torch.load(PATH_Model3))\n",
    "        x1 = model3(torch.tensor(x1))\n",
    "        x2 = model3(torch.tensor(x2))\n",
    "        kernel = overlap_circuit2(x1,x2)\n",
    "    \n",
    "    return kernel\n",
    "\n",
    "  "
   ]
  },
  {
   "cell_type": "code",
   "execution_count": 72,
   "metadata": {},
   "outputs": [],
   "source": [
    "feature_reduction = 'PCA4'\n",
    "classes = [0,1]\n",
    "X_train, X_test, Y_train, Y_test = data.data_load_and_process('mnist', feature_reduction=feature_reduction, classes=classes)\n",
    "#X_train, X_test = torch.tensor(X_train).to(torch.float32), torch.tensor(X_test).to(torch.float32)\n",
    "Y_train = [-1 if y == 0 else 1 for y in Y_train]\n",
    "Y_test = [-1 if y == 0 else 1 for y in Y_test]"
   ]
  },
  {
   "cell_type": "code",
   "execution_count": 73,
   "metadata": {},
   "outputs": [],
   "source": [
    "X_train = X_train[:200]\n",
    "Y_train = Y_train[:200]"
   ]
  },
  {
   "cell_type": "code",
   "execution_count": 74,
   "metadata": {},
   "outputs": [],
   "source": [
    "N = len(X_train)"
   ]
  },
  {
   "cell_type": "code",
   "execution_count": 75,
   "metadata": {},
   "outputs": [],
   "source": [
    "Kernel_without_NQE = np.zeros((N,N))\n",
    "Kernel_PCA_NQE = np.zeros((N,N))\n",
    "Kernel_NQE = np.zeros((N,N))"
   ]
  },
  {
   "cell_type": "code",
   "execution_count": 76,
   "metadata": {},
   "outputs": [],
   "source": [
    "for i in range(N):\n",
    "    for j in range(i,N):\n",
    "        x = kernel(X_train[i], X_train[j], False)\n",
    "        Kernel_without_NQE[i][j] = x[0]\n",
    "        Kernel_without_NQE[j][i] = x[0]\n",
    "\n",
    "        x = kernel(X_train[i], X_train[j], \"PCA-NQE\")\n",
    "        Kernel_PCA_NQE[i][j] = x[0]\n",
    "        Kernel_PCA_NQE[j][i] = x[0]"
   ]
  },
  {
   "cell_type": "code",
   "execution_count": 63,
   "metadata": {},
   "outputs": [
    {
     "name": "stdout",
     "output_type": "stream",
     "text": [
      "276692.438709325\n",
      "2534.0521965742473\n"
     ]
    }
   ],
   "source": [
    "Kernel0_MP = np.linalg.pinv(Kernel_without_NQE, hermitian = True)\n",
    "Kernel2_MP = np.linalg.pinv(Kernel_PCA_NQE ,hermitian = True)\n",
    "\n",
    "Y_train = np.array(Y_train)\n",
    "\n",
    "print(np.sqrt(Y_train @ Kernel0_MP @ Y_train.T / N))\n",
    "print(np.sqrt(Y_train @ Kernel2_MP @ Y_train.T / N))\n",
    "\n"
   ]
  },
  {
   "cell_type": "code",
   "execution_count": null,
   "metadata": {},
   "outputs": [],
   "source": []
  }
 ],
 "metadata": {
  "kernelspec": {
   "display_name": "QC",
   "language": "python",
   "name": "python3"
  },
  "language_info": {
   "codemirror_mode": {
    "name": "ipython",
    "version": 3
   },
   "file_extension": ".py",
   "mimetype": "text/x-python",
   "name": "python",
   "nbconvert_exporter": "python",
   "pygments_lexer": "ipython3",
   "version": "3.11.4"
  }
 },
 "nbformat": 4,
 "nbformat_minor": 2
}
