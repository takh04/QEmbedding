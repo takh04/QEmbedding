{
 "cells": [
  {
   "cell_type": "code",
   "execution_count": 1,
   "metadata": {},
   "outputs": [],
   "source": [
    "from pennylane import numpy as np\n",
    "import sys\n",
    "sys.path.insert(0, '/home/tak/Github/QEmbedding/')\n",
    "import torch\n",
    "from torch import nn\n",
    "import data\n",
    "import pennylane as qml\n",
    "import embedding"
   ]
  },
  {
   "cell_type": "code",
   "execution_count": 2,
   "metadata": {},
   "outputs": [],
   "source": [
    "dev = qml.device('default.qubit', wires=4)"
   ]
  },
  {
   "cell_type": "code",
   "execution_count": 3,
   "metadata": {},
   "outputs": [],
   "source": [
    "\n",
    "PATH_Model2 = '/home/tak/Github/QEmbedding/Results/QCNN_demonstration/Real device/Real/Model2 pre-train/Model2_48.pt'\n",
    "PATH_Model3 = '/home/tak/Github/QEmbedding/Results/QCNN_demonstration/Real device/Real/Model3 pre-train/Model3_48.pt'"
   ]
  },
  {
   "cell_type": "code",
   "execution_count": 4,
   "metadata": {},
   "outputs": [
    {
     "data": {
      "text/plain": [
       "<All keys matched successfully>"
      ]
     },
     "execution_count": 4,
     "metadata": {},
     "output_type": "execute_result"
    }
   ],
   "source": [
    "class x_transform2(torch.nn.Module):\n",
    "    def __init__(self):\n",
    "        super().__init__()\n",
    "        self.linear_relu_stack2 = nn.Sequential(\n",
    "            nn.Linear(4, 12),\n",
    "            nn.ReLU(),\n",
    "            nn.Linear(12, 12),\n",
    "            nn.ReLU(),\n",
    "            nn.Linear(12, 7)\n",
    "        )\n",
    "        \n",
    "    def forward(self, x):\n",
    "        x = self.linear_relu_stack2(x)\n",
    "        return x.detach().numpy()\n",
    "\n",
    "\n",
    "class x_transform3(torch.nn.Module):\n",
    "    def __init__(self):\n",
    "        super().__init__()\n",
    "        self.layer1 = torch.nn.Sequential(\n",
    "            torch.nn.Conv2d(1, 1, kernel_size=3, stride=1, padding=1),\n",
    "            torch.nn.ReLU(),\n",
    "            torch.nn.MaxPool2d(kernel_size=2, stride=2)\n",
    "        )\n",
    "\n",
    "        # Layer2: 14 * 14 -> 7 * 7\n",
    "        self.layer2 = torch.nn.Sequential(\n",
    "            torch.nn.Conv2d(1, 1, kernel_size=3, stride=1, padding=1),\n",
    "            torch.nn.ReLU(),\n",
    "            torch.nn.MaxPool2d(kernel_size=2, stride=2)\n",
    "        )\n",
    "\n",
    "        # Fully connected Layers 7 * 7 -> 7\n",
    "        self.fc = torch.nn.Linear(7 * 7, 7, bias=True)\n",
    "        \n",
    "    def forward(self, x):\n",
    "        x = self.layer1(x)\n",
    "        x = self.layer2(x)\n",
    "        x = x.view(-1, 7 * 7)\n",
    "        x = self.fc(x)\n",
    "        return x.detach().numpy()\n",
    "\n",
    "model2 = x_transform2()\n",
    "model3 = x_transform3()\n",
    "\n",
    "model2.load_state_dict(torch.load(PATH_Model2))\n",
    "model3.load_state_dict(torch.load(PATH_Model3))"
   ]
  },
  {
   "cell_type": "code",
   "execution_count": 5,
   "metadata": {},
   "outputs": [],
   "source": [
    "@qml.qnode(dev)\n",
    "def overlap_circuit1(x1,x2):\n",
    "    embedding.Noisy_Four_QuantumEmbedding1(x1)\n",
    "    embedding.Noisy_Four_QuantumEmbedding1_inverse(x2)\n",
    "    return qml.probs(wires=range(4))\n",
    "\n",
    "@qml.qnode(dev)\n",
    "def overlap_circuit2(x1,x2):\n",
    "    embedding.Noisy_Four_QuantumEmbedding2(x1)\n",
    "    embedding.Noisy_Four_QuantumEmbedding2_inverse(x2)\n",
    "    return qml.probs(wires=range(4))\n",
    "\n",
    "def kernel(x1, x2, NQE):\n",
    "    if NQE == False:\n",
    "        kernel = overlap_circuit1(x1,x2)\n",
    "    \n",
    "    \n",
    "    elif NQE == 'PCA-NQE':\n",
    "        x1 = model2(torch.tensor(x1))\n",
    "        x2 = model2(torch.tensor(x2))\n",
    "        kernel = overlap_circuit2(x1, x2)\n",
    "\n",
    "    elif NQE == 'NQE':\n",
    "        x1 = model3(torch.tensor(x1))[0]\n",
    "        x2 = model3(torch.tensor(x2))[0]\n",
    "        kernel = overlap_circuit2(x1,x2)\n",
    "    \n",
    "    return kernel\n",
    "\n",
    "  "
   ]
  },
  {
   "cell_type": "code",
   "execution_count": 6,
   "metadata": {},
   "outputs": [],
   "source": [
    "def get_error_bound(weights, Kernel):\n",
    "    error_list = []\n",
    "    for weight in weights:\n",
    "        Kernel_MP = np.linalg.pinv(Kernel + weight * np.eye(N), hermitian = True)\n",
    "        error_list.append(np.sqrt(Y_train @ Kernel_MP @ Kernel @ Kernel_MP @ Y_train.T / N))\n",
    "        \n",
    "    error_list = np.array(error_list)\n",
    "\n",
    "    return error_list"
   ]
  },
  {
   "cell_type": "markdown",
   "metadata": {},
   "source": [
    "QKM without NQE"
   ]
  },
  {
   "cell_type": "code",
   "execution_count": null,
   "metadata": {},
   "outputs": [],
   "source": [
    "feature_reduction = 'PCA4'\n",
    "classes = [0,1]\n",
    "X_train, X_test, Y_train, Y_test = data.data_load_and_process('mnist', feature_reduction=feature_reduction, classes=classes)\n",
    "Y_train = [-1 if y == 0 else 1 for y in Y_train]\n",
    "Y_test = [-1 if y == 0 else 1 for y in Y_test]\n",
    "Y_train = np.array(Y_train)\n",
    "\n",
    "k = 4\n",
    "N = 1000\n",
    "X_train = X_train[k * N: (k + 1) * N]\n",
    "Y_train = Y_train[k * N: (k + 1) * N]\n",
    "\n",
    "Kernel0 = np.zeros((N,N))\n",
    "for i in range(N):\n",
    "    for j in range(i,N):\n",
    "        x = kernel(X_train[i], X_train[j], False)\n",
    "        Kernel0[i][j] = x[0]\n",
    "        Kernel0[j][i] = x[0]"
   ]
  },
  {
   "cell_type": "code",
   "execution_count": null,
   "metadata": {},
   "outputs": [],
   "source": [
    "weights = np.arange(0.1 , 1, 0.1)\n",
    "error_list = get_error_bound(weights, Kernel0)\n",
    "f = open(\"generalization.txt\", 'a')\n",
    "f.write(\"\\n\")\n",
    "f.write(f\"Generalization Error bounds list {k}\\n\")\n",
    "f.write(str(error_list))\n",
    "f.close()"
   ]
  },
  {
   "cell_type": "markdown",
   "metadata": {},
   "source": [
    "QKM with PCA-NQE"
   ]
  },
  {
   "cell_type": "code",
   "execution_count": null,
   "metadata": {},
   "outputs": [],
   "source": [
    "feature_reduction = 'PCA4'\n",
    "classes = [0,1]\n",
    "X_train, X_test, Y_train, Y_test = data.data_load_and_process('mnist', feature_reduction=feature_reduction, classes=classes)\n",
    "Y_train = [-1 if y == 0 else 1 for y in Y_train]\n",
    "Y_test = [-1 if y == 0 else 1 for y in Y_test]\n",
    "Y_train = np.array(Y_train)\n",
    "\n",
    "k = 4\n",
    "N = 1000\n",
    "X_train = X_train[k * N: (k + 1) * N]\n",
    "Y_train = Y_train[k * N: (k + 1) * N]\n",
    "\n",
    "Kernel2 = np.zeros((N,N))\n",
    "for i in range(N):\n",
    "    for j in range(i,N):\n",
    "        x = kernel(X_train[i], X_train[j], \"PCA-NQE\")\n",
    "        Kernel2[i][j] = x[0]\n",
    "        Kernel2[j][i] = x[0]"
   ]
  },
  {
   "cell_type": "code",
   "execution_count": null,
   "metadata": {},
   "outputs": [],
   "source": [
    "weights = np.arange(0.1 , 1, 0.1)\n",
    "error_list = get_error_bound(weights, Kernel2)\n",
    "f = open(\"generalization.txt\", 'a')\n",
    "f.write(\"\\n\")\n",
    "f.write(f\"Generalization Error bounds list (PCA-NQE) {k}\\n\")\n",
    "f.write(str(error_list))\n",
    "f.close()"
   ]
  },
  {
   "cell_type": "markdown",
   "metadata": {},
   "source": [
    "QKM with NQE"
   ]
  },
  {
   "cell_type": "code",
   "execution_count": 7,
   "metadata": {},
   "outputs": [],
   "source": [
    "classes = [0,1]\n",
    "feature_reduction = False\n",
    "X_train, X_test, Y_train, Y_test = data.data_load_and_process('mnist', feature_reduction=feature_reduction, classes=classes)\n",
    "X_train, X_test = torch.tensor(X_train).to(torch.float32), torch.tensor(X_test).to(torch.float32)\n",
    "X_train, X_test = X_train.permute(0,3,1,2).detach().numpy(), X_test.permute(0,3,1,2).detach().numpy()\n",
    "Y_train = [-1 if y == 0 else 1 for y in Y_train]\n",
    "Y_test = [-1 if y == 0 else 1 for y in Y_test]\n",
    "Y_train = np.array(Y_train)\n",
    "\n",
    "k = 4\n",
    "N = 1000\n",
    "X_train = X_train[k * N: (k + 1) * N]\n",
    "Y_train = Y_train[k * N: (k + 1) * N]\n",
    "\n",
    "Kernel3 = np.zeros((N,N))\n",
    "for i in range(N):\n",
    "    for j in range(i,N):\n",
    "        x = kernel(X_train[i], X_train[j], \"NQE\")\n",
    "        Kernel3[i][j] = x[0]\n",
    "        Kernel3[j][i] = x[0]"
   ]
  },
  {
   "cell_type": "code",
   "execution_count": 9,
   "metadata": {},
   "outputs": [],
   "source": [
    "weights = np.arange(0.1 , 1, 0.1)\n",
    "error_list = get_error_bound(weights, Kernel3)\n",
    "f = open(\"generalization.txt\", 'a')\n",
    "f.write(\"\\n\")\n",
    "f.write(f\"Generalization Error bounds list (NQE) {k}\\n\")\n",
    "f.write(str(error_list))\n",
    "f.close()"
   ]
  },
  {
   "cell_type": "code",
   "execution_count": 15,
   "metadata": {},
   "outputs": [],
   "source": [
    "error_list0 = [0.34393266, 0.3082718,  0.28615057, 0.27019661, 0.25775887, 0.24758652,\n",
    " 0.23899382, 0.23156545, 0.22503119, 0.33555984, 0.30042451, 0.27925508, 0.26401796, 0.25213952, 0.24243317,\n",
    " 0.23424739, 0.22718457, 0.22098395, 0.2938239,  0.26978253, 0.2543934,  0.24307162, 0.2341128,  0.22669507,\n",
    " 0.22036074, 0.2148296,  0.20991798, 0.33641911, 0.2985513,  0.27665165, 0.26151103, 0.24998878, 0.24068802,\n",
    " 0.23288086, 0.22614489, 0.22021499, 0.2870103,  0.26489876, 0.25186444, 0.2421597,  0.2342479,  0.22749316,\n",
    " 0.22156572, 0.21626896, 0.21147415]\n",
    "error_list2 = [0.11897228, 0.08360172, 0.07040789, 0.06364774, 0.05961526, 0.05697837,\n",
    " 0.05514254, 0.05380414, 0.05279297, 0.10985471, 0.08340547, 0.07305445, 0.06728415, 0.06353561, 0.06088208,\n",
    " 0.05889713, 0.05735387, 0.05611915, 0.18553939, 0.13942256, 0.1174671,  0.10422798, 0.09522823, 0.08864113,\n",
    " 0.08357342, 0.0795333,  0.07622588, 0.13406684, 0.10570568, 0.0927502,  0.08484072, 0.07934844, 0.07524718,\n",
    " 0.07203892, 0.069447,   0.06730279, 0.12008767, 0.09039785, 0.07776098, 0.07069721, 0.06619806, 0.06309225,\n",
    " 0.0608252,  0.0591004,  0.05774527]\n",
    "error_list3 = [0.17405978, 0.1337729,  0.11411599, 0.10209667, 0.09396508, 0.0881059,\n",
    " 0.08369099, 0.08024945, 0.07749358, 0.19925095, 0.15287096, 0.13000134, 0.11597427, 0.10643205, 0.09950458,\n",
    " 0.09423934, 0.09009722, 0.08674961, 0.18286738, 0.13999793, 0.11886864, 0.10608277, 0.09753247, 0.09143492,\n",
    " 0.0868799,  0.0833537,  0.08054514, 0.199743,   0.15488275, 0.13263743, 0.11875099, 0.10913969, 0.10205793,\n",
    " 0.09660969, 0.09228165, 0.08875673, 0.17802737, 0.137504,   0.11821129, 0.10634961, 0.09820145, 0.09222266,\n",
    " 0.08763362, 0.08399268, 0.08102928]\n",
    "\n",
    "error_list0, error_list2, error_list3 = np.array(error_list0), np.array(error_list2), np.array(error_list3)\n",
    "error_list0 = error_list0.reshape(5,9)\n",
    "error_list2 = error_list2.reshape(5,9)\n",
    "error_list3 = error_list3.reshape(5,9)\n",
    "\n",
    "error_list0_mean, error_list0_std = error_list0.mean(axis=0), error_list0.std(axis=0)\n",
    "error_list2_mean, error_list2_std = error_list2.mean(axis=0), error_list2.std(axis=0)\n",
    "error_list3_mean, error_list3_std = error_list3.mean(axis=0), error_list3.std(axis=0)"
   ]
  },
  {
   "cell_type": "code",
   "execution_count": 22,
   "metadata": {},
   "outputs": [
    {
     "name": "stderr",
     "output_type": "stream",
     "text": [
      "/tmp/ipykernel_49897/2175098122.py:10: UserWarning: *c* argument looks like a single numeric RGB or RGBA sequence, which should be avoided as value-mapping will have precedence in case its length matches with *x* & *y*.  Please use the *color* keyword-argument or provide a 2D array with a single row if you intend to specify the same RGB or RGBA value for all points.\n",
      "  ax.scatter(weights, error_list2_mean, label=\"PCA-NQE\", marker=\"s\", c=clrs[0])\n",
      "/tmp/ipykernel_49897/2175098122.py:11: UserWarning: *c* argument looks like a single numeric RGB or RGBA sequence, which should be avoided as value-mapping will have precedence in case its length matches with *x* & *y*.  Please use the *color* keyword-argument or provide a 2D array with a single row if you intend to specify the same RGB or RGBA value for all points.\n",
      "  ax.scatter(weights, error_list3_mean, label=\"NQE\", marker=\"^\", c=clrs[1])\n",
      "/tmp/ipykernel_49897/2175098122.py:12: UserWarning: *c* argument looks like a single numeric RGB or RGBA sequence, which should be avoided as value-mapping will have precedence in case its length matches with *x* & *y*.  Please use the *color* keyword-argument or provide a 2D array with a single row if you intend to specify the same RGB or RGBA value for all points.\n",
      "  ax.scatter(weights, error_list0_mean, label=\"Without NQE\", marker=\"o\", c=clrs[2])\n"
     ]
    },
    {
     "data": {
      "image/png": "[encoded data removed]",
      "text/plain": [
       "<Figure size 1000x500 with 1 Axes>"
      ]
     },
     "metadata": {},
     "output_type": "display_data"
    }
   ],
   "source": [
    "import seaborn as sns\n",
    "import matplotlib.pyplot as plt\n",
    "\n",
    "plt.rcParams['figure.figsize'] = [10, 5]\n",
    "plt.rcParams.update({'font.size': 13})\n",
    "fig, ax = plt.subplots()\n",
    "clrs = sns.color_palette(\"husl\", 3)\n",
    "with sns.axes_style(\"darkgrid\"):\n",
    "    \n",
    "    ax.scatter(weights, error_list2_mean, label=\"PCA-NQE\", marker=\"s\", c=clrs[0])\n",
    "    ax.scatter(weights, error_list3_mean, label=\"NQE\", marker=\"^\", c=clrs[1])\n",
    "    ax.scatter(weights, error_list0_mean, label=\"Without NQE\", marker=\"o\", c=clrs[2])\n",
    "    \n",
    "    \n",
    "    ax.errorbar(weights, error_list2_mean, yerr=error_list2_std, fmt=\"s\", c=clrs[0])\n",
    "    ax.errorbar(weights, error_list3_mean, yerr=error_list3_std, fmt=\"^\", c=clrs[1])\n",
    "    ax.errorbar(weights, error_list0_mean, yerr=error_list0_std, fmt=\"o\", c=clrs[2])\n",
    "\n",
    "ax.set_xlabel(\"Regularization Weight (λ)\")\n",
    "ax.set_ylabel(\"Generalization Error Bound (G)\")\n",
    "ax.set_title(\"Generalization Error Bounds against Regularization Weights\")\n",
    "ax.legend(fontsize=16)\n",
    "plt.savefig(\"QKM Generalization.pdf\")"
   ]
  },
  {
   "cell_type": "code",
   "execution_count": null,
   "metadata": {},
   "outputs": [],
   "source": []
  }
 ],
 "metadata": {
  "kernelspec": {
   "display_name": "Python 3 (ipykernel)",
   "language": "python",
   "name": "python3"
  },
  "language_info": {
   "codemirror_mode": {
    "name": "ipython",
    "version": 3
   },
   "file_extension": ".py",
   "mimetype": "text/x-python",
   "name": "python",
   "nbconvert_exporter": "python",
   "pygments_lexer": "ipython3",
   "version": "3.11.5"
  }
 },
 "nbformat": 4,
 "nbformat_minor": 2
}
