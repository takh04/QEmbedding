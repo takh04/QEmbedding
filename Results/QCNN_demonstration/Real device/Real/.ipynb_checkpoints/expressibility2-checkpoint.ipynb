{
 "cells": [
  {
   "cell_type": "code",
   "execution_count": 1,
   "id": "e48ec4f1",
   "metadata": {},
   "outputs": [
    {
     "name": "stderr",
     "output_type": "stream",
     "text": [
      "2023-11-07 16:49:57.016500: I tensorflow/core/platform/cpu_feature_guard.cc:182] This TensorFlow binary is optimized to use available CPU instructions in performance-critical operations.\n",
      "To enable the following instructions: SSE4.1 SSE4.2 AVX AVX2 AVX_VNNI FMA, in other operations, rebuild TensorFlow with the appropriate compiler flags.\n"
     ]
    }
   ],
   "source": [
    "from pennylane import numpy as np\n",
    "import matplotlib.pyplot as plt\n",
    "import matplotlib as mpl\n",
    "import sys\n",
    "sys.path.insert(0, '/home/tak/Github/QEmbedding/')\n",
    "import Hybrid_nn\n",
    "import torch\n",
    "from torch import nn\n",
    "import data\n",
    "import pennylane as qml\n",
    "import embedding"
   ]
  },
  {
   "cell_type": "code",
   "execution_count": 2,
   "id": "d536d179",
   "metadata": {},
   "outputs": [],
   "source": [
    "PATHs_Model2, PATHs_Model3 = [], []\n",
    "\n",
    "for i in range(49):\n",
    "    PATH_Model2 = f'/home/tak/Github/QEmbedding/Results/QCNN_demonstration/Real device/Real/Model2 pre-train/Model2_{i}.pt'\n",
    "    PATH_Model3 = f'/home/tak/Github/QEmbedding/Results/QCNN_demonstration/Real device/Real/Model3 pre-train/Model3_{i}.pt'\n",
    "\n",
    "    PATHs_Model2.append(PATH_Model2)\n",
    "    PATHs_Model3.append(PATH_Model3)"
   ]
  },
  {
   "cell_type": "code",
   "execution_count": 3,
   "id": "d1728993",
   "metadata": {},
   "outputs": [],
   "source": [
    "def random_unitary(n):\n",
    "    \"\"\"\n",
    "        Return a Haar distributed random unitary from U(N)\n",
    "    \"\"\"\n",
    "\n",
    "    Z = np.random.randn(2**n, 2**n) + 1.0j * np.random.randn(2**n, 2**n)\n",
    "    [Q, R] = np.linalg.qr(Z)\n",
    "    D = np.diag(np.diagonal(R) / np.abs(np.diagonal(R)))\n",
    "    return np.dot(Q, D)\n",
    "\n",
    "def haar_integral(num_qubits, samples):\n",
    "    \"\"\"\n",
    "        Return calculation of Haar Integral for a specified number of samples.\n",
    "    \"\"\"\n",
    "\n",
    "    n \n",
    "    randunit_density = np.zeros((N, N), dtype=complex)\n",
    "\n",
    "    \n",
    "    zero_state = np.zeros(N, dtype=complex)\n",
    "    zero_state[0] = 1\n",
    "    \n",
    "    for _ in range(samples):\n",
    "        A = np.matmul(zero_state, random_unitary(N)).reshape(-1,1)\n",
    "        randunit_density += np.kron(A, A.conj().T) \n",
    "\n",
    "    randunit_density/=samples\n",
    "\n",
    "    return randunit_density"
   ]
  },
  {
   "cell_type": "code",
   "execution_count": 4,
   "id": "febebb45",
   "metadata": {},
   "outputs": [],
   "source": [
    "dev_sim = qml.device('default.qubit', wires=4)\n",
    "@qml.qnode(dev_sim, interface=\"torch\")\n",
    "def circuit2(inputs): \n",
    "    embedding.Noisy_Four_QuantumEmbedding2(inputs)\n",
    "    return qml.density_matrix(wires=range(4))\n",
    "\n",
    "@qml.qnode(dev_sim, interface=\"torch\")\n",
    "def circuit1(inputs): \n",
    "    embedding.Noisy_Four_QuantumEmbedding1(inputs)\n",
    "    return qml.density_matrix(wires=range(4))\n",
    "\n",
    "\n",
    "class exp0(torch.nn.Module):\n",
    "    def __init__(self):\n",
    "        super().__init__()\n",
    "        self.qlayer0 = qml.qnn.TorchLayer(circuit1, weight_shapes={})\n",
    "\n",
    "    def forward(self, x):\n",
    "        rhos = self.qlayer0(x)\n",
    "        rho = torch.sum(rhos, dim=0) / len(x)\n",
    "        rho = rho.detach().numpy()\n",
    "        exp = np.linalg.norm(rho - haar_integral(4, len(x)))\n",
    "        return exp**2\n",
    "    \n",
    "    \n",
    "class exp2(torch.nn.Module):\n",
    "    def __init__(self):\n",
    "        super().__init__()\n",
    "        self.qlayer2 = qml.qnn.TorchLayer(circuit2, weight_shapes={})\n",
    "        self.linear_relu_stack2 = nn.Sequential(\n",
    "            nn.Linear(4, 12),\n",
    "            nn.ReLU(),\n",
    "            nn.Linear(12, 12),\n",
    "            nn.ReLU(),\n",
    "            nn.Linear(12, 7)\n",
    "        )\n",
    "    def forward(self, x):\n",
    "        x = self.linear_relu_stack2(x)\n",
    "        rhos = self.qlayer2(x)\n",
    "        rho = torch.sum(rhos, dim=0) / len(x)\n",
    "        rho = rho.detach().numpy()\n",
    "        exp = np.linalg.norm(rho - haar_integral(4, len(x)))\n",
    "        return exp**2\n",
    "\n",
    "\n",
    "class exp3(torch.nn.Module):\n",
    "    def __init__(self):\n",
    "        super().__init__()\n",
    "        self.qlayer3 = qml.qnn.TorchLayer(circuit2, weight_shapes={})\n",
    "        self.layer1 = torch.nn.Sequential(\n",
    "            torch.nn.Conv2d(1, 1, kernel_size=3, stride=1, padding=1),\n",
    "            torch.nn.ReLU(),\n",
    "            torch.nn.MaxPool2d(kernel_size=2, stride=2)\n",
    "        )\n",
    "\n",
    "        # Layer2: 14 * 14 -> 7 * 7\n",
    "        self.layer2 = torch.nn.Sequential(\n",
    "            torch.nn.Conv2d(1, 1, kernel_size=3, stride=1, padding=1),\n",
    "            torch.nn.ReLU(),\n",
    "            torch.nn.MaxPool2d(kernel_size=2, stride=2)\n",
    "        )\n",
    "\n",
    "        # Fully connected Layers 7 * 7 -> 7\n",
    "        self.fc = torch.nn.Linear(7 * 7, 7, bias=True)\n",
    "    \n",
    "    def forward(self, x):\n",
    "        x = self.layer1(x)\n",
    "        x = self.layer2(x)\n",
    "        x = x.view(-1, 7 * 7)\n",
    "        x = self.fc(x)\n",
    "        rhos = self.qlayer3(x)\n",
    "        rho = torch.sum(rhos, dim=0) / len(x)\n",
    "        rho = rho.detach().numpy()\n",
    "        exp = np.linalg.norm(rho - haar_integral(4, len(x)))\n",
    "        return exp**2"
   ]
  },
  {
   "cell_type": "code",
   "execution_count": 5,
   "id": "16e6a301",
   "metadata": {},
   "outputs": [],
   "source": [
    "def expressibility(PATH, Model, X):\n",
    "    if Model == 'Model2':\n",
    "        model = exp2()\n",
    "    elif Model == 'Model3':\n",
    "        model = exp3()\n",
    "    \n",
    "    model.load_state_dict(torch.load(PATH))\n",
    "    return model(X)"
   ]
  },
  {
   "cell_type": "markdown",
   "id": "9da2249e",
   "metadata": {},
   "source": [
    "Expressibility without NQE"
   ]
  },
  {
   "cell_type": "code",
   "execution_count": 6,
   "id": "99b67223",
   "metadata": {},
   "outputs": [
    {
     "name": "stderr",
     "output_type": "stream",
     "text": [
      "2023-11-07 15:23:29.271493: I tensorflow/core/common_runtime/process_util.cc:146] Creating new thread pool with default inter op setting: 2. Tune using inter_op_parallelism_threads for best performance.\n",
      "/tmp/ipykernel_32709/2852941814.py:4: UserWarning: Creating a tensor from a list of numpy.ndarrays is extremely slow. Please consider converting the list to a single numpy.ndarray with numpy.array() before converting to a tensor. (Triggered internally at ../torch/csrc/utils/tensor_new.cpp:245.)\n",
      "  X_test =  torch.tensor(X_test).to(torch.float32)\n"
     ]
    }
   ],
   "source": [
    "feature_reduction = 'PCA4'\n",
    "classes = [0,1]\n",
    "X_train, X_test, Y_train, Y_test = data.data_load_and_process('mnist', feature_reduction=feature_reduction, classes=classes)\n",
    "X_test =  torch.tensor(X_test).to(torch.float32)\n",
    "X_train = torch.tensor(X_train).to(torch.float32)"
   ]
  },
  {
   "cell_type": "code",
   "execution_count": 7,
   "id": "bf072b9a",
   "metadata": {},
   "outputs": [
    {
     "name": "stderr",
     "output_type": "stream",
     "text": [
      "/home/tak/anaconda3/envs/QC/lib/python3.11/site-packages/pennylane/qnn/torch.py:328: UserWarning: Casting complex values to real discards the imaginary part (Triggered internally at ../aten/src/ATen/native/Copy.cpp:276.)\n",
      "  return self.qnode(**kwargs).type(x.dtype)\n"
     ]
    },
    {
     "name": "stdout",
     "output_type": "stream",
     "text": [
      "Expressibility Train Data: 0.03261077642979354\n",
      "Expressibility Test Data: 0.036739822140866234\n"
     ]
    }
   ],
   "source": [
    "model0 = exp0()\n",
    "exp_model0_train = model0(X_train)\n",
    "exp_model0_test = model0(X_test)\n",
    "print(f\"Expressibility Train Data: {exp_model0_train}\")\n",
    "print(f\"Expressibility Test Data: {exp_model0_test}\")"
   ]
  },
  {
   "cell_type": "markdown",
   "id": "6e7ba4b5",
   "metadata": {},
   "source": [
    "Expressibility with PCA-NQE"
   ]
  },
  {
   "cell_type": "code",
   "execution_count": 8,
   "id": "1725428f",
   "metadata": {},
   "outputs": [],
   "source": [
    "feature_reduction = 'PCA4'\n",
    "classes = [0,1]\n",
    "X_train, X_test, Y_train, Y_test = data.data_load_and_process('mnist', feature_reduction=feature_reduction, classes=classes)\n",
    "X_test =  torch.tensor(X_test).to(torch.float32)\n",
    "X_train = torch.tensor(X_train).to(torch.float32)"
   ]
  },
  {
   "cell_type": "code",
   "execution_count": 10,
   "id": "655356e4",
   "metadata": {},
   "outputs": [],
   "source": [
    "Exp_history_Model2_Train = [expressibility(PATH=p, Model='Model2', X=X_train) for p in PATHs_Model2]\n",
    "Exp_history_Model2_Test = [expressibility(PATH=p, Model='Model2', X=X_test) for p in PATHs_Model2]"
   ]
  },
  {
   "cell_type": "markdown",
   "id": "253279c0",
   "metadata": {},
   "source": [
    "Expressibility with NQE"
   ]
  },
  {
   "cell_type": "code",
   "execution_count": 13,
   "id": "ac833014",
   "metadata": {},
   "outputs": [],
   "source": [
    "feature_reduction = False\n",
    "classes = [0,1]\n",
    "X_train, X_test, Y_train, Y_test = data.data_load_and_process('mnist', feature_reduction=feature_reduction, classes=classes)\n",
    "X_train, X_test = torch.tensor(X_train).to(torch.float32), torch.tensor(X_test).to(torch.float32)\n",
    "X_train, X_test = X_train.permute(0, 3, 1, 2), X_test.permute(0, 3, 1, 2)"
   ]
  },
  {
   "cell_type": "code",
   "execution_count": 14,
   "id": "ec2103e1",
   "metadata": {},
   "outputs": [],
   "source": [
    "Exp_history_Model3_Train = [expressibility(PATH=p, Model='Model3', X=X_train) for p in PATHs_Model3]\n",
    "Exp_history_Model3_Test = [expressibility(PATH=p, Model='Model3', X=X_test) for p in PATHs_Model3]"
   ]
  },
  {
   "cell_type": "code",
   "execution_count": 17,
   "id": "a8d55587",
   "metadata": {},
   "outputs": [
    {
     "name": "stderr",
     "output_type": "stream",
     "text": [
      "/tmp/ipykernel_32709/1406104028.py:8: UserWarning: *c* argument looks like a single numeric RGB or RGBA sequence, which should be avoided as value-mapping will have precedence in case its length matches with *x* & *y*.  Please use the *color* keyword-argument or provide a 2D array with a single row if you intend to specify the same RGB or RGBA value for all points.\n",
      "  ax1.scatter(range(49), Exp_history_Model2_Train, marker=\"o\", label=\"PCA-NQE\", c=clrs[0])\n",
      "/tmp/ipykernel_32709/1406104028.py:9: UserWarning: *c* argument looks like a single numeric RGB or RGBA sequence, which should be avoided as value-mapping will have precedence in case its length matches with *x* & *y*.  Please use the *color* keyword-argument or provide a 2D array with a single row if you intend to specify the same RGB or RGBA value for all points.\n",
      "  ax1.scatter(range(49), Exp_history_Model3_Train, marker=\"^\", label=\"NQE\", c=clrs[1])\n",
      "/tmp/ipykernel_32709/1406104028.py:12: UserWarning: *c* argument looks like a single numeric RGB or RGBA sequence, which should be avoided as value-mapping will have precedence in case its length matches with *x* & *y*.  Please use the *color* keyword-argument or provide a 2D array with a single row if you intend to specify the same RGB or RGBA value for all points.\n",
      "  ax2.scatter(range(49), Exp_history_Model2_Test, marker=\"o\", label=\"PCA-NQE\", c=clrs[0])\n",
      "/tmp/ipykernel_32709/1406104028.py:13: UserWarning: *c* argument looks like a single numeric RGB or RGBA sequence, which should be avoided as value-mapping will have precedence in case its length matches with *x* & *y*.  Please use the *color* keyword-argument or provide a 2D array with a single row if you intend to specify the same RGB or RGBA value for all points.\n",
      "  ax2.scatter(range(49), Exp_history_Model3_Test, marker=\"^\", label=\"NQE\", c=clrs[1])\n"
     ]
    },
    {
     "data": {
      "image/png": "[encoded data removed]",
      "text/plain": [
       "<Figure size 1000x500 with 2 Axes>"
      ]
     },
     "metadata": {},
     "output_type": "display_data"
    }
   ],
   "source": [
    "import seaborn as sns\n",
    "\n",
    "plt.rcParams['figure.figsize'] = [10, 5]\n",
    "plt.rcParams.update({'font.size': 13})\n",
    "fig, (ax1, ax2) = plt.subplots(1,2)\n",
    "clrs = sns.color_palette(\"husl\", 3)\n",
    "with sns.axes_style(\"darkgrid\"):\n",
    "    ax1.scatter(range(49), Exp_history_Model2_Train, marker=\"o\", label=\"PCA-NQE\", c=clrs[0])\n",
    "    ax1.scatter(range(49), Exp_history_Model3_Train, marker=\"^\", label=\"NQE\", c=clrs[1])\n",
    "    ax1.plot(range(49), np.ones(49) * exp_model0_train, linestyle='dashed', linewidth=1.5, label=\"Without NQE\", c=clrs[2])\n",
    "    \n",
    "    ax2.scatter(range(49), Exp_history_Model2_Test, marker=\"o\", label=\"PCA-NQE\", c=clrs[0])\n",
    "    ax2.scatter(range(49), Exp_history_Model3_Test, marker=\"^\", label=\"NQE\", c=clrs[1])\n",
    "    ax2.plot(range(49), np.ones(49) * exp_model0_test, linestyle='dashed', linewidth=1.5, label=\"Without NQE\", c=clrs[2])\n",
    "\n",
    "ax1.set_xlabel(\"Iteration\")\n",
    "ax1.set_ylabel(\"Expressibility\")\n",
    "ax1.set_title(\"Training data\")\n",
    "ax1.legend(fontsize=12)\n",
    "\n",
    "ax2.set_xlabel(\"Iteration\")\n",
    "ax2.set_ylabel(\"Expressibility\")\n",
    "ax2.set_title(\"Test data\")\n",
    "ax2.legend(fontsize=12)\n",
    "\n",
    "plt.savefig(\"Expressibility.pdf\")"
   ]
  },
  {
   "cell_type": "code",
   "execution_count": 15,
   "id": "3ef94e5e",
   "metadata": {},
   "outputs": [],
   "source": [
    "f = open(\"Expressibility.txt\", \"w\")\n",
    "f.write(f\"Expressibility without NQE (Train): {exp_model0_train}\\n\")\n",
    "f.write(f\"Expressibility without NQE (Test): {exp_model0_test}\\n\")\n",
    "f.write(\"\\n\")\n",
    "f.write(f\"Expressibility with PCA-NQE (Train):\\n\")\n",
    "f.write(str(Exp_history_Model2_Train))\n",
    "f.write(\"\\n\")\n",
    "f.write(f\"Expressibility with PCA-NQE (Test):\\n\")\n",
    "f.write(str(Exp_history_Model2_Test))\n",
    "f.write(\"\\n\")\n",
    "f.write(f\"Expressibility with NQE (Train):\\n\")\n",
    "f.write(str(Exp_history_Model3_Train))\n",
    "f.write(\"\\n\")\n",
    "f.write(f\"Expressibility with NQE (Test):\\n\")\n",
    "f.write(str(Exp_history_Model3_Test))\n",
    "f.write(\"\\n\")\n",
    "f.close()"
   ]
  },
  {
   "cell_type": "code",
   "execution_count": null,
   "id": "e9e8eef6",
   "metadata": {},
   "outputs": [],
   "source": []
  }
 ],
 "metadata": {
  "kernelspec": {
   "display_name": "Python 3 (ipykernel)",
   "language": "python",
   "name": "python3"
  },
  "language_info": {
   "codemirror_mode": {
    "name": "ipython",
    "version": 3
   },
   "file_extension": ".py",
   "mimetype": "text/x-python",
   "name": "python",
   "nbconvert_exporter": "python",
   "pygments_lexer": "ipython3",
   "version": "3.11.5"
  }
 },
 "nbformat": 4,
 "nbformat_minor": 5
}
