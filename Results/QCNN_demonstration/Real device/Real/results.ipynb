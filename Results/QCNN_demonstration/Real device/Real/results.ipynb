{
 "cells": [
  {
   "cell_type": "markdown",
   "metadata": {},
   "source": [
    "# Real QCNN Loss History"
   ]
  },
  {
   "cell_type": "code",
   "execution_count": 1,
   "metadata": {},
   "outputs": [],
   "source": [
    "from pennylane import numpy as np\n",
    "import matplotlib.pyplot as plt\n",
    "import matplotlib as mpl\n",
    "import sys\n",
    "sys.path.insert(0, '/Users/tak/Github/QEmbedding/')\n",
    "import Hybrid_nn\n",
    "import torch\n",
    "from torch import nn\n",
    "import data\n",
    "import pennylane as qml\n",
    "import embedding"
   ]
  },
  {
   "attachments": {},
   "cell_type": "markdown",
   "metadata": {},
   "source": [
    "# QCNN Loss History"
   ]
  },
  {
   "cell_type": "code",
   "execution_count": 33,
   "metadata": {},
   "outputs": [],
   "source": [
    "PATH_Model2 = '/Users/tak/Github/QEmbedding/Results/QCNN_demonstration/Real device/Real/Model2 pre-train/Model2_48.pt'\n",
    "PATH_Model3 = '/Users/tak/Github/QEmbedding/Results/QCNN_demonstration/Real device/Real/Model3 pre-train/Model3_48.pt'\n",
    "\n",
    "#PATH_LH0_Jakarta = '/Users/tak/Github/QEmbedding/Results/QCNN_demonstration/Real device/Real/QCNN train (Jakarta)/Model2/Loss_Model2.txt'\n",
    "PATH_LH2_Jakarta = '/Users/tak/Github/QEmbedding/Results/QCNN_demonstration/Real device/Real/QCNN train (Jakarta)/Model2/Loss_Model2.txt'\n",
    "PATH_LH3_Jakarta = '/Users/tak/Github/QEmbedding/Results/QCNN_demonstration/Real device/Real/QCNN train (Jakarta)/Model3/Loss_Model3.txt'\n",
    "\n",
    "#PATH_LH0_Perth = '/Users/tak/Github/QEmbedding/Results/QCNN_demonstration/Real device/Real/Loss_not_trained.txt'\n",
    "PATH_LH2_Perth = '/Users/tak/Github/QEmbedding/Results/QCNN_demonstration/Real device/Real/QCNN train (Perth)/Model2/Loss_Model2.txt'\n",
    "#PATH_LH3_Perth = '/Users/tak/Github/QEmbedding/Results/QCNN_demonstration/Real device/Real/Loss_Model3.txt'\n",
    "\n",
    "#PATH_LH0_Toronto = '/Users/tak/Github/QEmbedding/Results/QCNN_demonstration/Real device/Real/Loss_not_trained.txt'\n",
    "PATH_LH2_Toronto = '/Users/tak/Github/QEmbedding/Results/QCNN_demonstration/Real device/Real/QCNN train (Toronto)/Model2/Loss_Model2.txt'\n",
    "#PATH_LH3_Toronto = '/Users/tak/Github/QEmbedding/Results/QCNN_demonstration/Real device/Real/Loss_Model3.txt'\n",
    "\n",
    "#PATH_w0_Jakarta = '/Users/tak/Github/QEmbedding/Results/QCNN_demonstration/Real device/Real/QCNN train (Jakarta)/Model2/weights_Model2.txt'\n",
    "PATH_w2_Jakarta = '/Users/tak/Github/QEmbedding/Results/QCNN_demonstration/Real device/Real/QCNN train (Jakarta)/Model2/weights_Model2.txt'\n",
    "PATH_w3_Jakarta = '/Users/tak/Github/QEmbedding/Results/QCNN_demonstration/Real device/Real/QCNN train (Jakarta)/Model3/weights_Model3.txt'\n",
    "\n",
    "#PATH_w0_Perth = '/Users/tak/Github/QEmbedding/Results/QCNN_demonstration/Real device/Real/weights_not_trained.txt'\n",
    "PATH_w2_Perth = '/Users/tak/Github/QEmbedding/Results/QCNN_demonstration/Real device/Real/QCNN train (Perth)/Model2/weights_Model2.txt'\n",
    "#PATH_w3_Perth = '/Users/tak/Github/QEmbedding/Results/QCNN_demonstration/Real device/Real/weights_Model3.txt'\n",
    "\n",
    "#PATH_w0_Toronto = '/Users/tak/Github/QEmbedding/Results/QCNN_demonstration/Real device/Real/weights_not_trained.txt'\n",
    "PATH_w2_Toronto = '/Users/tak/Github/QEmbedding/Results/QCNN_demonstration/Real device/Real/QCNN train (Toronto)/Model2/weights_Model2.txt'\n",
    "#PATH_w3_Toronto = '/Users/tak/Github/QEmbedding/Results/QCNN_demonstration/Real device/Real/weights_Model3.txt'\n",
    "\n",
    "def data_read(PATH):\n",
    "  textfile = open(PATH, 'r')\n",
    "  data = np.array([])\n",
    "  for line in textfile:\n",
    "    a = np.array([float(v) for v in line.strip().split(\" \")])\n",
    "    data = np.append(data, a)\n",
    "  return data\n",
    "\n",
    "#Loss_histories0_Jakarta = data_read(PATH_LH0_Jakarta)\n",
    "Loss_histories2_Jakarta = data_read(PATH_LH2_Jakarta)\n",
    "Loss_histories3_Jakarta = data_read(PATH_LH3_Jakarta)\n",
    "\n",
    "#Loss_histories0_Perth = data_read(PATH_LH0_Perth)\n",
    "Loss_histories2_Perth = data_read(PATH_LH2_Perth)\n",
    "#Loss_histories3_Perth = data_read(PATH_LH3_Perth)\n",
    "\n",
    "#Loss_histories0_Toronto = data_read(PATH_LH0_Toronto)\n",
    "Loss_histories2_Toronto = data_read(PATH_LH2_Toronto)\n",
    "#Loss_histories3_Toronto = data_read(PATH_LH3_Toronto)\n",
    "\n",
    "#weights_histories0_Jakarta = data_read(PATH_w0_Jakarta).reshape(50,4)\n",
    "weights_histories2_Jakarta = data_read(PATH_w2_Jakarta).reshape(50,4)\n",
    "weights_histories3_Jakarta = data_read(PATH_w3_Jakarta).reshape(50,4)\n",
    "\n",
    "#weights_histories0_Perth = data_read(PATH_w0_Perth).reshape(50,4)\n",
    "weights_histories2_Perth = data_read(PATH_w2_Perth).reshape(50,4)\n",
    "#weights_histories3_Perth = data_read(PATH_w3_Perth).reshape(50,4)\n",
    "\n",
    "#weights_histories0_Toronto = data_read(PATH_w0_Toronto).reshape(50,4)\n",
    "weights_histories2_Toronto = data_read(PATH_w2_Toronto).reshape(50,4)\n",
    "#weights_histories3_Toronto = data_read(PATH_w3_Toronto).reshape(50,4)\n",
    "\n",
    "#Loss_histories0 = np.array([Loss_histories0_Jakarta, Loss_histories0_Perth, Loss_histories0_Toronto])\n",
    "#Loss_histories2 = np.array([Loss_histories2_Jakarta, Loss_histories2_Perth, Loss_histories2_Toronto])\n",
    "#Loss_histories3 = np.array([Loss_histories3_Jakarta, Loss_histories3_Perth, Loss_histories3_Toronto])\n",
    "\n",
    "#LH0_mean, LH0_std = Loss_histories0.mean(axis=0), Loss_histories0.std(axis=0)\n",
    "#LH2_mean, LH2_std = Loss_histories2.mean(axis=0), Loss_histories2.std(axis=0)\n",
    "#LH3_mean, LH3_std = Loss_histories3.mean(axis=0), Loss_histories3.std(axis=0)\n"
   ]
  },
  {
   "cell_type": "code",
   "execution_count": 5,
   "metadata": {},
   "outputs": [],
   "source": [
    "LB_before_traindata = 0.5 * (1 - 0.2734)\n",
    "LB_Model2_traindata = 0.5 * (1 - 0.7801)\n",
    "LB_Model3_traindata = 0"
   ]
  },
  {
   "cell_type": "code",
   "execution_count": null,
   "metadata": {},
   "outputs": [],
   "source": [
    "import seaborn as sns\n",
    "\n",
    "plt.rcParams['figure.figsize'] = [10, 5]\n",
    "fig, ax = plt.subplots()\n",
    "clrs = sns.color_palette(\"husl\", 3)\n",
    "with sns.axes_style(\"darkgrid\"):\n",
    "    ax.plot(range(len(LH0_mean)), LH0_mean, label=\"No Pre-training\", c=clrs[0])\n",
    "    ax.fill_between(range(len(LH0_mean)), LH0_mean-LH0_std, LH0_mean+LH0_std, alpha=0.3,facecolor=clrs[0])\n",
    "    \n",
    "    ax.plot(range(len(LH2_mean)), LH2_mean, label=\"Noisy Model2 Pre-training\", c=clrs[1])\n",
    "    ax.fill_between(range(len(LH2_mean)), LH2_mean-LH2_std, LH2_mean+LH2_std, alpha=0.3,facecolor=clrs[1])\n",
    "\n",
    "    ax.plot(range(len(LH3_mean)), LH3_mean, label=\"Noisy Model2 Pre-training\", c=clrs[2])\n",
    "    ax.fill_between(range(len(LH3_mean)),LH3_mean-LH3_std, LH3_mean+LH3_std, alpha=0.3,facecolor=clrs[2])\n",
    "\n",
    "\n",
    "    ax.plot(range(50), np.ones(50) * LB_before_traindata, linestyle='dashed', linewidth=1.5, label=\"Lower Bound without Pre-training\", c=clrs[0])\n",
    "    ax.plot(range(50), np.ones(50) * LB_Model2_traindata, linestyle='dashed', linewidth=1.5, label=\"Lower Bound with Noisy Model2\", c=clrs[1])\n",
    "    ax.plot(range(50), np.ones(50) * LB_Model3_traindata, linestyle='dashed', linewidth=1.5, label=\"Lower Bound with Noisy Model3\", c=clrs[2])\n",
    "\n",
    "\n",
    "ax.set_xlabel(\"Iteration\")\n",
    "ax.set_ylabel(\"Loss\")\n",
    "ax.set_title(\"Noisy QCNN Loss History\")\n",
    "ax.legend()"
   ]
  },
  {
   "attachments": {},
   "cell_type": "markdown",
   "metadata": {},
   "source": [
    "# QCNN Accuracy (Sim)"
   ]
  },
  {
   "cell_type": "code",
   "execution_count": 6,
   "metadata": {},
   "outputs": [],
   "source": [
    "class x_transform2(torch.nn.Module):\n",
    "    def __init__(self):\n",
    "        super().__init__()\n",
    "        self.linear_relu_stack2 = nn.Sequential(\n",
    "            nn.Linear(4, 12),\n",
    "            nn.ReLU(),\n",
    "            nn.Linear(12, 12),\n",
    "            nn.ReLU(),\n",
    "            nn.Linear(12, 7)\n",
    "        )\n",
    "        \n",
    "    def forward(self, x):\n",
    "        x = self.linear_relu_stack2(x)\n",
    "        return x.detach().numpy()\n",
    "\n",
    "\n",
    "class x_transform3(torch.nn.Module):\n",
    "    def __init__(self):\n",
    "        super().__init__()\n",
    "        self.layer1 = torch.nn.Sequential(\n",
    "            torch.nn.Conv2d(1, 1, kernel_size=3, stride=1, padding=1),\n",
    "            torch.nn.ReLU(),\n",
    "            torch.nn.MaxPool2d(kernel_size=2, stride=2)\n",
    "        )\n",
    "\n",
    "        # Layer2: 14 * 14 -> 7 * 7\n",
    "        self.layer2 = torch.nn.Sequential(\n",
    "            torch.nn.Conv2d(1, 1, kernel_size=3, stride=1, padding=1),\n",
    "            torch.nn.ReLU(),\n",
    "            torch.nn.MaxPool2d(kernel_size=2, stride=2)\n",
    "        )\n",
    "\n",
    "        # Fully connected Layers 7 * 7 -> 7\n",
    "        self.fc = torch.nn.Linear(7 * 7, 7, bias=True)\n",
    "        \n",
    "    def forward(self, x):\n",
    "        x = self.layer1(x)\n",
    "        x = self.layer2(x)\n",
    "        x = x.view(-1, 7 * 7)\n",
    "        x = self.fc(x)\n",
    "        return x.detach().numpy()\n",
    "\n",
    "model2 = x_transform2()\n",
    "model3 = x_transform3()\n",
    "\n",
    "def statepreparation(x, Trained):\n",
    "    if Trained == False:\n",
    "        embedding.Noisy_Four_QuantumEmbedding1(x)\n",
    "    elif Trained == 'Model2':\n",
    "        model2.load_state_dict(torch.load(PATH_Model2))\n",
    "        x = model2(torch.tensor(x))\n",
    "        embedding.Noisy_Four_QuantumEmbedding2(x)\n",
    "    elif Trained == 'Model3':\n",
    "        model3.load_state_dict(torch.load(PATH_Model3))\n",
    "        x = model3(torch.tensor(x))\n",
    "        embedding.Noisy_Four_QuantumEmbedding2(x[0])\n",
    "        \n",
    "\n",
    "dev_sim = qml.device('default.qubit', wires=4)\n",
    "@qml.qnode(dev_sim)\n",
    "def QCNN_classifier(params, x, Trained):\n",
    "    param1 = params[0:2]\n",
    "    param2 = params[2:4]\n",
    "\n",
    "    statepreparation(x, Trained)\n",
    "    embedding.U_TTN(param1, wires=[0,1])\n",
    "    embedding.U_TTN(param1, wires=[3,2])\n",
    "    embedding.U_TTN(param2, wires=[1,2])\n",
    "    return qml.expval(qml.PauliZ(2))"
   ]
  },
  {
   "attachments": {},
   "cell_type": "markdown",
   "metadata": {},
   "source": [
    "Model2"
   ]
  },
  {
   "cell_type": "code",
   "execution_count": 28,
   "metadata": {},
   "outputs": [],
   "source": [
    "\n",
    "feature_reduction = 'PCA4'\n",
    "classes = [0,1]\n",
    "X_train, X_test, Y_train, Y_test = data.data_load_and_process('mnist', feature_reduction=feature_reduction, classes=classes)\n",
    "X_train, X_test = torch.tensor(X_train).to(torch.float32), torch.tensor(X_test).to(torch.float32)\n",
    "Y_train = [-1 if y == 0 else 1 for y in Y_train]\n",
    "Y_test = [-1 if y == 0 else 1 for y in Y_test]"
   ]
  },
  {
   "cell_type": "code",
   "execution_count": 29,
   "metadata": {},
   "outputs": [
    {
     "name": "stderr",
     "output_type": "stream",
     "text": [
      "/var/folders/ym/ry24dhs911s7zbqfbhs5ns2m0000gn/T/ipykernel_2597/2299359915.py:51: UserWarning: To copy construct from a tensor, it is recommended to use sourceTensor.clone().detach() or sourceTensor.clone().detach().requires_grad_(True), rather than torch.tensor(sourceTensor).\n",
      "  x = model2(torch.tensor(x))\n"
     ]
    }
   ],
   "source": [
    "def accuracy_test(predictions, labels):\n",
    "    acc = 0\n",
    "    for l, p in zip(labels, predictions):\n",
    "        if np.abs(l - p) < 1:\n",
    "            acc = acc + 1\n",
    "    return acc / len(labels)\n",
    "\n",
    "\n",
    "prediction2_Jakarta = [QCNN_classifier(weights_histories2_Jakarta[-1], x, Trained='Model2') for x in X_test]\n",
    "prediction2_Perth = [QCNN_classifier(weights_histories2_Perth[-1], x, Trained='Model2') for x in X_test]\n",
    "prediction2_Toronto = [QCNN_classifier(weights_histories2_Toronto[-1], x, Trained='Model2') for x in X_test]\n",
    "\n",
    "accuracy2_Jakarta = accuracy_test(prediction2_Jakarta, Y_test)\n",
    "accuracy2_Perth = accuracy_test(prediction2_Perth, Y_test)\n",
    "accuracy2_Toronto = accuracy_test(prediction2_Toronto, Y_test)"
   ]
  },
  {
   "cell_type": "code",
   "execution_count": 30,
   "metadata": {},
   "outputs": [
    {
     "name": "stdout",
     "output_type": "stream",
     "text": [
      "Accuracies for Model 2\n",
      "-----------------------\n",
      "\n",
      "IBM_Jakarta: 0.9725768321513002\n",
      "IBM_Perth: 0.9735224586288416\n",
      "IBM_Toronto: 0.968321513002364\n"
     ]
    }
   ],
   "source": [
    "print(\"Accuracies for Model 2\")\n",
    "print(\"-----------------------\\n\")\n",
    "print(f\"IBM_Jakarta: {accuracy2_Jakarta}\")\n",
    "print(f\"IBM_Perth: {accuracy2_Perth}\")\n",
    "print(f\"IBM_Toronto: {accuracy2_Toronto}\")\n"
   ]
  },
  {
   "cell_type": "markdown",
   "metadata": {},
   "source": [
    "Model3"
   ]
  },
  {
   "cell_type": "code",
   "execution_count": 31,
   "metadata": {},
   "outputs": [],
   "source": [
    "feature_reduction = False\n",
    "X_train, X_test, Y_train, Y_test = data.data_load_and_process('mnist', feature_reduction=feature_reduction, classes=classes)\n",
    "X_train, X_test = torch.tensor(X_train).to(torch.float32), torch.tensor(X_test).to(torch.float32)\n",
    "X_train, X_test = X_train.permute(0, 3, 1, 2), X_test.permute(0, 3, 1, 2)\n",
    "Y_train = [-1 if y == 0 else 1 for y in Y_train]\n",
    "Y_test = [-1 if y == 0 else 1 for y in Y_test]\n"
   ]
  },
  {
   "cell_type": "code",
   "execution_count": 34,
   "metadata": {},
   "outputs": [
    {
     "name": "stderr",
     "output_type": "stream",
     "text": [
      "/var/folders/ym/ry24dhs911s7zbqfbhs5ns2m0000gn/T/ipykernel_2597/2299359915.py:55: UserWarning: To copy construct from a tensor, it is recommended to use sourceTensor.clone().detach() or sourceTensor.clone().detach().requires_grad_(True), rather than torch.tensor(sourceTensor).\n",
      "  x = model3(torch.tensor(x))\n"
     ]
    }
   ],
   "source": [
    "\n",
    "prediction3_Jakarta = [QCNN_classifier(weights_histories3_Jakarta[-1], x, Trained='Model3') for x in X_test]\n",
    "#prediction3_Perth = [QCNN_classifier(weights_histories3_Perth[-1], x, Trained='Model2') for x in X_test]\n",
    "#prediction3_Toronto = [QCNN_classifier(weights_histories3_Toronto[-1], x, Trained='Model2') for x in X_test]\n",
    "\n",
    "accuracy3_Jakarta = accuracy_test(prediction3_Jakarta, Y_test)\n",
    "#accuracy3_Perth = accuracy_test(prediction3_Perth, Y_test)\n",
    "#accuracy3_Toronto = accuracy_test(prediction3_Toronto, Y_test)"
   ]
  },
  {
   "cell_type": "code",
   "execution_count": 35,
   "metadata": {},
   "outputs": [
    {
     "name": "stdout",
     "output_type": "stream",
     "text": [
      "Accuracies for Model 3\n",
      "-----------------------\n",
      "\n",
      "IBM_Jakarta: 0.840661938534279\n"
     ]
    }
   ],
   "source": [
    "print(\"Accuracies for Model 3\")\n",
    "print(\"-----------------------\\n\")\n",
    "print(f\"IBM_Jakarta: {accuracy3_Jakarta}\")\n",
    "#print(f\"IBM_Perth: {accuracy3_Perth}\")\n",
    "#print(f\"IBM_Toronto: {accuracy3_Toronto}\")"
   ]
  },
  {
   "cell_type": "code",
   "execution_count": null,
   "metadata": {},
   "outputs": [],
   "source": []
  }
 ],
 "metadata": {
  "kernelspec": {
   "display_name": "QC",
   "language": "python",
   "name": "python3"
  },
  "language_info": {
   "codemirror_mode": {
    "name": "ipython",
    "version": 3
   },
   "file_extension": ".py",
   "mimetype": "text/x-python",
   "name": "python",
   "nbconvert_exporter": "python",
   "pygments_lexer": "ipython3",
   "version": "3.10.8"
  },
  "vscode": {
   "interpreter": {
    "hash": "0f8e2a2ca6259a6cab5ca53f758a7b3aaf50f8fc283f46719ccb9cbe78a7dc03"
   }
  }
 },
 "nbformat": 4,
 "nbformat_minor": 2
}
