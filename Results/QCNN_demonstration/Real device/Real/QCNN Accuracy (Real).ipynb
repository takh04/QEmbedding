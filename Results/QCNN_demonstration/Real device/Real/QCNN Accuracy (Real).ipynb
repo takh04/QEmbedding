{
 "cells": [
  {
   "cell_type": "code",
   "execution_count": 1,
   "metadata": {},
   "outputs": [],
   "source": [
    "from pennylane import numpy as np\n",
    "import matplotlib.pyplot as plt\n",
    "import matplotlib as mpl\n",
    "import sys\n",
    "sys.path.insert(0, '/Users/tak/Github/QEmbedding/')\n",
    "import Hybrid_nn\n",
    "import torch\n",
    "from torch import nn\n",
    "import data\n",
    "import pennylane as qml\n",
    "import embedding"
   ]
  },
  {
   "cell_type": "code",
   "execution_count": null,
   "metadata": {},
   "outputs": [],
   "source": [
    "from qiskit import IBMQ\n",
    "\n",
    "# KQC Token\n",
    "TOKEN = \"b5b31be2bb5237d52e8bdef143913cd62425eadcbda5c56c6f8ed8d067573ac0e07aa41d23d0bfcc880882a4142e2f812dad876fb3208d5c5f8f321be6626cce\"\n",
    "IBMQ.save_account(TOKEN, overwrite=True)\n",
    "\n",
    "IBMQ.load_account() # Load account from disk\n",
    "provider = IBMQ.get_provider(hub='ibm-q-kqc', group='internal', project='reservations')\n",
    "#provider = IBMQ.get_provider(hub='ibm-q-kqc', group='kqc-research', project='trainable-kernel')\n",
    "\n",
    "\n",
    "backend = \"ibm_lagos\"\n",
    "\n",
    "dev = qml.device(\n",
    "    'qiskit.ibmq',\n",
    "    wires=4,\n",
    "    shots=1024,\n",
    "    backend=backend,\n",
    "    provider=provider\n",
    ")\n",
    "\n",
    "\n",
    "PATH_Model2 = '/Users/tak/Github/QEmbedding/Results/QCNN_demonstration/Real device/Real/Model2.pt'\n",
    "PATH_Model3 = '/Users/tak/Github/QEmbedding/Results/QCNN_demonstration/Real device/Real/Model3.pt'"
   ]
  },
  {
   "cell_type": "code",
   "execution_count": 2,
   "metadata": {},
   "outputs": [],
   "source": [
    "class x_transform2(torch.nn.Module):\n",
    "    def __init__(self):\n",
    "        super().__init__()\n",
    "        self.linear_relu_stack2 = nn.Sequential(\n",
    "            nn.Linear(4, 12),\n",
    "            nn.ReLU(),\n",
    "            nn.Linear(12, 12),\n",
    "            nn.ReLU(),\n",
    "            nn.Linear(12, 7)\n",
    "        )\n",
    "        \n",
    "    def forward(self, x):\n",
    "        x = self.linear_relu_stack2(x)\n",
    "        return x.detach().numpy()\n",
    "\n",
    "\n",
    "class x_transform3(torch.nn.Module):\n",
    "    def __init__(self):\n",
    "        super().__init__()\n",
    "        self.layer1 = torch.nn.Sequential(\n",
    "            torch.nn.Conv2d(1, 1, kernel_size=3, stride=1, padding=1),\n",
    "            torch.nn.ReLU(),\n",
    "            torch.nn.MaxPool2d(kernel_size=2, stride=2)\n",
    "        )\n",
    "\n",
    "        # Layer2: 14 * 14 -> 7 * 7\n",
    "        self.layer2 = torch.nn.Sequential(\n",
    "            torch.nn.Conv2d(1, 1, kernel_size=3, stride=1, padding=1),\n",
    "            torch.nn.ReLU(),\n",
    "            torch.nn.MaxPool2d(kernel_size=2, stride=2)\n",
    "        )\n",
    "\n",
    "        # Fully connected Layers 7 * 7 -> 7\n",
    "        self.fc = torch.nn.Linear(7 * 7, 7, bias=True)\n",
    "        \n",
    "    def forward(self, x):\n",
    "        x = self.layer1(x)\n",
    "        x = self.layer2(x)\n",
    "        x = x.view(-1, 7 * 7)\n",
    "        x = self.fc(x)\n",
    "        return x.detach().numpy()\n",
    "\n",
    "model2 = x_transform2()\n",
    "model3 = x_transform3()"
   ]
  },
  {
   "cell_type": "code",
   "execution_count": null,
   "metadata": {},
   "outputs": [],
   "source": [
    "def statepreparation(x, Trained):\n",
    "    if Trained == False:\n",
    "        embedding.Noisy_Four_QuantumEmbedding1(x)\n",
    "    elif Trained == 'Model2':\n",
    "        model2.load_state_dict(torch.load(PATH_Model2))\n",
    "        x = model2(torch.tensor(x))\n",
    "        embedding.Noisy_Four_QuantumEmbedding2(x)\n",
    "    elif Trained == 'Model3':\n",
    "        model3.load_state_dict(torch.load(PATH_Model3))\n",
    "        x = model3(torch.tensor(x))\n",
    "        embedding.Noisy_Four_QuantumEmbedding2(x[0])\n",
    "    \n",
    "\n",
    "@qml.qnode(dev)\n",
    "def Noisy_QCNN_classifier(params, x, Trained):\n",
    "    param1 = params[0:2]\n",
    "    param2 = params[2:4]\n",
    "\n",
    "    statepreparation(x, Trained)\n",
    "    embedding.U_TTN(param1, wires=[0,1])\n",
    "    embedding.U_TTN(param1, wires=[3,2])\n",
    "    embedding.U_TTN(param2, wires=[1,2])\n",
    "    return qml.expval(qml.PauliZ(2))"
   ]
  },
  {
   "attachments": {},
   "cell_type": "markdown",
   "metadata": {},
   "source": [
    "Model2"
   ]
  },
  {
   "cell_type": "code",
   "execution_count": 3,
   "metadata": {},
   "outputs": [
    {
     "name": "stderr",
     "output_type": "stream",
     "text": [
      "/var/folders/ym/ry24dhs911s7zbqfbhs5ns2m0000gn/T/ipykernel_1882/1049846405.py:5: UserWarning: Creating a tensor from a list of numpy.ndarrays is extremely slow. Please consider converting the list to a single numpy.ndarray with numpy.array() before converting to a tensor. (Triggered internally at /Users/runner/work/_temp/anaconda/conda-bld/pytorch_1670525498485/work/torch/csrc/utils/tensor_new.cpp:233.)\n",
      "  X_train, X_test = torch.tensor(X_train).to(torch.float32), torch.tensor(X_test).to(torch.float32)\n"
     ]
    }
   ],
   "source": [
    "feature_reduction = 'PCA4'\n",
    "classes = [0,1]\n",
    "X_train, X_test, Y_train, Y_test = data.data_load_and_process('mnist', feature_reduction=feature_reduction, classes=classes)\n",
    "X_train, X_test, Y_train, Y_test = X_train[:30], X_test[:30], Y_train[:30], Y_test[:30]\n",
    "X_train, X_test = torch.tensor(X_train).to(torch.float32), torch.tensor(X_test).to(torch.float32)\n",
    "Y_train = [-1 if y == 0 else 1 for y in Y_train]\n",
    "Y_test = [-1 if y == 0 else 1 for y in Y_test]"
   ]
  },
  {
   "cell_type": "code",
   "execution_count": null,
   "metadata": {},
   "outputs": [],
   "source": []
  }
 ],
 "metadata": {
  "kernelspec": {
   "display_name": "QC",
   "language": "python",
   "name": "python3"
  },
  "language_info": {
   "codemirror_mode": {
    "name": "ipython",
    "version": 3
   },
   "file_extension": ".py",
   "mimetype": "text/x-python",
   "name": "python",
   "nbconvert_exporter": "python",
   "pygments_lexer": "ipython3",
   "version": "3.10.8"
  },
  "orig_nbformat": 4
 },
 "nbformat": 4,
 "nbformat_minor": 2
}
