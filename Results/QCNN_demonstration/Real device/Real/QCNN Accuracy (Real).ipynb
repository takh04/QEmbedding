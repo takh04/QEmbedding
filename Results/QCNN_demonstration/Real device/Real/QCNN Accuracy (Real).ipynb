{
 "cells": [
  {
   "cell_type": "code",
   "execution_count": 1,
   "metadata": {},
   "outputs": [],
   "source": [
    "from pennylane import numpy as np\n",
    "import matplotlib.pyplot as plt\n",
    "import matplotlib as mpl\n",
    "import sys\n",
    "sys.path.insert(0, '/Users/tak/Github/QEmbedding/')\n",
    "import Hybrid_nn\n",
    "import torch\n",
    "from torch import nn\n",
    "import data\n",
    "import pennylane as qml\n",
    "import embedding"
   ]
  },
  {
   "cell_type": "code",
   "execution_count": 2,
   "metadata": {},
   "outputs": [
    {
     "name": "stderr",
     "output_type": "stream",
     "text": [
      "C:\\Users\\tak\\AppData\\Local\\Temp\\ipykernel_6852\\50494149.py:9: DeprecationWarning: The package qiskit.providers.ibmq is being deprecated. Please see https://ibm.biz/provider_migration_guide to get instructions on how to migrate to qiskit-ibm-provider (https://github.com/Qiskit/qiskit-ibm-provider) and qiskit-ibm-runtime (https://github.com/Qiskit/qiskit-ibm-runtime).\n",
      "  IBMQ.save_account(TOKEN, overwrite=True)\n",
      "C:\\Users\\tak\\AppData\\Local\\Temp\\ipykernel_6852\\50494149.py:9: DeprecationWarning: The qiskit.IBMQ entrypoint and the qiskit-ibmq-provider package (accessible from 'qiskit.providers.ibmq`) are deprecated and will be removed in a future release. Instead you should use the qiskit-ibm-provider package which is accessible from 'qiskit_ibm_provider'. You can install it with 'pip install qiskit_ibm_provider'. Just replace 'qiskit.IBMQ' with 'qiskit_ibm_provider.IBMProvider'\n",
      "  IBMQ.save_account(TOKEN, overwrite=True)\n"
     ]
    }
   ],
   "source": [
    "from qiskit import IBMQ\n",
    "\n",
    "# KQC Token\n",
    "#TOKEN = \"b5b31be2bb5237d52e8bdef143913cd62425eadcbda5c56c6f8ed8d067573ac0e07aa41d23d0bfcc880882a4142e2f812dad876fb3208d5c5f8f321be6626cce\"\n",
    "# Yonsei Token\n",
    "TOKEN = \"41bc5ff592064fefedbb4e5f949e42a9ded7835d2b14e69147aaab22b911ea16e1d95f6929e9b1fadf6c8e412253d50f820c25cd6c45be588d31910f2c4fd96b\"\n",
    "\n",
    "\n",
    "IBMQ.save_account(TOKEN, overwrite=True)\n",
    "IBMQ.load_account() # Load account from disk\n",
    "\n",
    "\n",
    "#KQC Provider\n",
    "#provider = IBMQ.get_provider(hub='ibm-q-kqc', group='internal', project='reservations')\n",
    "#provider = IBMQ.get_provider(hub='ibm-q-kqc', group='kqc-research', project='kernel-experimen')\n",
    "\n",
    "#Yonsei Provider\n",
    "provider = IBMQ.get_provider(hub='ibm-q-yonsei', group='internal', project='reservations')\n",
    "\n",
    "\n",
    "\n",
    "\n",
    "backend = \"ibmq_kolkata\"\n",
    "\n",
    "dev = qml.device(\n",
    "    'qiskit.ibmq',\n",
    "    wires=27,\n",
    "    shots=1024,\n",
    "    backend=backend,\n",
    "    provider=provider\n",
    ")\n",
    "\n",
    "\n",
    "PATH_Model2 = '/Users/tak/Github/QEmbedding/Results/QCNN_demonstration/Real device/Real/Model2 pre-train/Model2_48.pt'\n",
    "PATH_Model3 = '/Users/tak/Github/QEmbedding/Results/QCNN_demonstration/Real device/Real/Model3 pre-train/Model3_48.pt'\n"
   ]
  },
  {
   "cell_type": "code",
   "execution_count": 3,
   "metadata": {},
   "outputs": [],
   "source": [
    "class x_transform2(torch.nn.Module):\n",
    "    def __init__(self):\n",
    "        super().__init__()\n",
    "        self.linear_relu_stack2 = nn.Sequential(\n",
    "            nn.Linear(4, 12),\n",
    "            nn.ReLU(),\n",
    "            nn.Linear(12, 12),\n",
    "            nn.ReLU(),\n",
    "            nn.Linear(12, 7)\n",
    "        )\n",
    "        \n",
    "    def forward(self, x):\n",
    "        x = self.linear_relu_stack2(x)\n",
    "        return x.detach().numpy()\n",
    "\n",
    "\n",
    "class x_transform3(torch.nn.Module):\n",
    "    def __init__(self):\n",
    "        super().__init__()\n",
    "        self.layer1 = torch.nn.Sequential(\n",
    "            torch.nn.Conv2d(1, 1, kernel_size=3, stride=1, padding=1),\n",
    "            torch.nn.ReLU(),\n",
    "            torch.nn.MaxPool2d(kernel_size=2, stride=2)\n",
    "        )\n",
    "\n",
    "        # Layer2: 14 * 14 -> 7 * 7\n",
    "        self.layer2 = torch.nn.Sequential(\n",
    "            torch.nn.Conv2d(1, 1, kernel_size=3, stride=1, padding=1),\n",
    "            torch.nn.ReLU(),\n",
    "            torch.nn.MaxPool2d(kernel_size=2, stride=2)\n",
    "        )\n",
    "\n",
    "        # Fully connected Layers 7 * 7 -> 7\n",
    "        self.fc = torch.nn.Linear(7 * 7, 7, bias=True)\n",
    "        \n",
    "    def forward(self, x):\n",
    "        x = self.layer1(x)\n",
    "        x = self.layer2(x)\n",
    "        x = x.view(-1, 7 * 7)\n",
    "        x = self.fc(x)\n",
    "        return x.detach().numpy()\n",
    "\n",
    "model2 = x_transform2()\n",
    "model3 = x_transform3()"
   ]
  },
  {
   "cell_type": "code",
   "execution_count": 4,
   "metadata": {},
   "outputs": [],
   "source": [
    "def statepreparation(x, Trained):\n",
    "    if Trained == False:\n",
    "        embedding.Noisy_Four_QuantumEmbedding1(x)\n",
    "    elif Trained == 'Model2':\n",
    "        model2.load_state_dict(torch.load(PATH_Model2))\n",
    "        x = model2(torch.tensor(x))\n",
    "        embedding.Noisy_Four_QuantumEmbedding2(x)\n",
    "    elif Trained == 'Model3':\n",
    "        model3.load_state_dict(torch.load(PATH_Model3))\n",
    "        x = model3(torch.tensor(x))\n",
    "        embedding.Noisy_Four_QuantumEmbedding2(x[0])\n",
    "    \n",
    "\n",
    "@qml.qnode(dev)\n",
    "def Noisy_QCNN_classifier(params, x, Trained):\n",
    "    param1 = params[0:2]\n",
    "    param2 = params[2:4]\n",
    "\n",
    "    statepreparation(x, Trained)\n",
    "    embedding.U_TTN(param1, wires=[12,15])\n",
    "    embedding.U_TTN(param1, wires=[21,18])\n",
    "    embedding.U_TTN(param2, wires=[15,18])\n",
    "    return qml.expval(qml.PauliZ(18))\n",
    "\n",
    "def accuracy_test(predictions, labels):\n",
    "    acc = 0\n",
    "    for l, p in zip(labels, predictions):\n",
    "        if np.abs(l - p) < 1:\n",
    "            acc = acc + 1\n",
    "    return acc / len(labels)"
   ]
  },
  {
   "attachments": {},
   "cell_type": "markdown",
   "metadata": {},
   "source": [
    "# IBMQ_Jakarta\n",
    "\n",
    "\n",
    "NQE trained on:          ibmq_toronto\n",
    "\n",
    "QCNN trained on:         ibmq_jakarta\n",
    "\n",
    "QCNN evaluated on:       ibmq_lagos"
   ]
  },
  {
   "attachments": {},
   "cell_type": "markdown",
   "metadata": {},
   "source": [
    "### Model 0"
   ]
  },
  {
   "cell_type": "code",
   "execution_count": null,
   "metadata": {},
   "outputs": [],
   "source": [
    "feature_reduction = 'PCA4'\n",
    "classes = [0,1]\n",
    "X_train, X_test, Y_train, Y_test = data.data_load_and_process('mnist', feature_reduction=feature_reduction, classes=classes)\n",
    "X_train, X_test, Y_train, Y_test = X_train[:500], X_test[:500], Y_train[:500], Y_test[:500]\n",
    "X_train, X_test = torch.tensor(X_train).to(torch.float32), torch.tensor(X_test).to(torch.float32)\n",
    "Y_train = [-1 if y == 0 else 1 for y in Y_train]\n",
    "Y_test = [-1 if y == 0 else 1 for y in Y_test]\n",
    "\n",
    "\n",
    "weights_Model0_Jakarta = [0.98390774, 0.14981093, 0.41799519, 0.82769965 ]\n",
    "prediction_Model0_Jakarta = []\n",
    "for x in X_test:\n",
    "    prediction = Noisy_QCNN_classifier(weights_Model0_Jakarta, x, Trained=False)\n",
    "    print(prediction)\n",
    "    prediction_Model0_Jakarta.append(prediction)\n",
    "accuracy_Model0_Jakarta = accuracy_test(prediction_Model0_Jakarta, Y_test)"
   ]
  },
  {
   "cell_type": "code",
   "execution_count": null,
   "metadata": {},
   "outputs": [],
   "source": [
    "print(f\"Accuracy with Model0_Jakarta pre-training: {accuracy_Model0_Jakarta}\")"
   ]
  },
  {
   "attachments": {},
   "cell_type": "markdown",
   "metadata": {},
   "source": [
    "Accuracy: 0.528"
   ]
  },
  {
   "attachments": {},
   "cell_type": "markdown",
   "metadata": {},
   "source": [
    "### Model 2"
   ]
  },
  {
   "cell_type": "code",
   "execution_count": null,
   "metadata": {},
   "outputs": [],
   "source": [
    "\n",
    "feature_reduction = 'PCA4'\n",
    "classes = [0,1]\n",
    "X_train, X_test, Y_train, Y_test = data.data_load_and_process('mnist', feature_reduction=feature_reduction, classes=classes)\n",
    "X_train, X_test, Y_train, Y_test = X_train[:500], X_test[:500], Y_train[:500], Y_test[:500]\n",
    "X_train, X_test = torch.tensor(X_train).to(torch.float32), torch.tensor(X_test).to(torch.float32)\n",
    "Y_train = [-1 if y == 0 else 1 for y in Y_train]\n",
    "Y_test = [-1 if y == 0 else 1 for y in Y_test]"
   ]
  },
  {
   "cell_type": "code",
   "execution_count": null,
   "metadata": {},
   "outputs": [],
   "source": [
    "prediction_Model2_Jakarta = []\n",
    "weights_Model2_Jakarta = [-0.01100251, 1.22128094, -1.86724874, 0.11109528 ]\n",
    "for i in range(len(X_test)):\n",
    "    x = X_test[i]\n",
    "    prediction = Noisy_QCNN_classifier(weights_Model2_Jakarta, x, Trained='Model2')\n",
    "    print(prediction)\n",
    "    prediction_Model2_Jakarta.append(prediction)\n",
    "accuracy_Model2_Jakarta = accuracy_test(prediction_Model2_Jakarta, Y_test)"
   ]
  },
  {
   "cell_type": "code",
   "execution_count": null,
   "metadata": {},
   "outputs": [],
   "source": [
    "print(f\"Accuracy with Model2_Jakarta pre-training: {accuracy_Model2_Jakarta}\")"
   ]
  },
  {
   "attachments": {},
   "cell_type": "markdown",
   "metadata": {},
   "source": [
    "Accuracy: 0.964"
   ]
  },
  {
   "attachments": {},
   "cell_type": "markdown",
   "metadata": {},
   "source": [
    "### Model 3"
   ]
  },
  {
   "cell_type": "code",
   "execution_count": null,
   "metadata": {},
   "outputs": [],
   "source": [
    "feature_reduction = False\n",
    "classes = [0,1]\n",
    "X_train, X_test, Y_train, Y_test = data.data_load_and_process('mnist', feature_reduction=feature_reduction, classes=classes)\n",
    "X_train, X_test, Y_train, Y_test = X_train[:500], X_test[:500], Y_train[:500], Y_test[:500]\n",
    "X_train, X_test = torch.tensor(X_train).to(torch.float32), torch.tensor(X_test).to(torch.float32)\n",
    "X_train, X_test = X_train.permute(0, 3, 1, 2), X_test.permute(0, 3, 1, 2)\n",
    "Y_train = [-1 if y == 0 else 1 for y in Y_train]\n",
    "Y_test = [-1 if y == 0 else 1 for y in Y_test]\n",
    "\n",
    "\n",
    "weights_Model3_Jakarta = [2.01256055, 0.51212296, 2.11959629, -0.46627558]\n",
    "prediction_Model3_Jakarta = [Noisy_QCNN_classifier(weights_Model3_Jakarta, x, Trained='Model3') for x in X_test]\n",
    "accuracy_Model3_Jakarta = accuracy_test(prediction_Model3_Jakarta, Y_test)"
   ]
  },
  {
   "cell_type": "code",
   "execution_count": null,
   "metadata": {},
   "outputs": [],
   "source": [
    "print(f\"Accuracy with Model3_Jakarta pre-training: {accuracy_Model3_Jakarta}\")"
   ]
  },
  {
   "attachments": {},
   "cell_type": "markdown",
   "metadata": {},
   "source": [
    "Accuracy: 0.92"
   ]
  },
  {
   "attachments": {},
   "cell_type": "markdown",
   "metadata": {},
   "source": [
    "# IBMQ_Toronto\n",
    "\n",
    "NQE trained on: ibmq_toronto\n",
    "\n",
    "QCNN trained on: ibmq_toronto\n",
    "\n",
    "QCNN evaluated on: ibmq_kolkata"
   ]
  },
  {
   "attachments": {},
   "cell_type": "markdown",
   "metadata": {},
   "source": [
    "### Model 0"
   ]
  },
  {
   "cell_type": "code",
   "execution_count": null,
   "metadata": {},
   "outputs": [],
   "source": [
    "feature_reduction = 'PCA4'\n",
    "classes = [0,1]\n",
    "X_train, X_test, Y_train, Y_test = data.data_load_and_process('mnist', feature_reduction=feature_reduction, classes=classes)\n",
    "X_train, X_test, Y_train, Y_test = X_train[:500], X_test[:500], Y_train[:500], Y_test[:500]\n",
    "X_train, X_test = torch.tensor(X_train).to(torch.float32), torch.tensor(X_test).to(torch.float32)\n",
    "Y_train = [-1 if y == 0 else 1 for y in Y_train]\n",
    "Y_test = [-1 if y == 0 else 1 for y in Y_test]\n",
    "\n",
    "prediction_Model0_Toronto = []\n",
    "weights_Model0_Toronto = [ 0.37168039, 0.30243094, 0.74561994, 0.63088322]\n",
    "for i in range(500):\n",
    "    x = X_test[i]\n",
    "    prediction = Noisy_QCNN_classifier(weights_Model0_Toronto, x, Trained=False)\n",
    "    print(prediction)\n",
    "    prediction_Model0_Toronto.append(prediction)\n",
    "accuracy_Model0_Toronto = accuracy_test(prediction_Model0_Toronto, Y_test)"
   ]
  },
  {
   "cell_type": "code",
   "execution_count": null,
   "metadata": {},
   "outputs": [],
   "source": [
    "print(f\"Accuracy with Model0_Toronto pre-training: {accuracy_Model0_Toronto}\")"
   ]
  },
  {
   "attachments": {},
   "cell_type": "markdown",
   "metadata": {},
   "source": [
    "### Model 2"
   ]
  },
  {
   "cell_type": "code",
   "execution_count": null,
   "metadata": {},
   "outputs": [],
   "source": [
    "feature_reduction = 'PCA4'\n",
    "classes = [0,1]\n",
    "X_train, X_test, Y_train, Y_test = data.data_load_and_process('mnist', feature_reduction=feature_reduction, classes=classes)\n",
    "X_train, X_test, Y_train, Y_test = X_train[:500], X_test[:500], Y_train[:500], Y_test[:500]\n",
    "X_train, X_test = torch.tensor(X_train).to(torch.float32), torch.tensor(X_test).to(torch.float32)\n",
    "Y_train = [-1 if y == 0 else 1 for y in Y_train]\n",
    "Y_test = [-1 if y == 0 else 1 for y in Y_test]\n"
   ]
  },
  {
   "cell_type": "code",
   "execution_count": null,
   "metadata": {},
   "outputs": [],
   "source": [
    "prediction_Model2_Toronto = []\n",
    "weights_Model2_Toronto = [1.03388823, -0.14285616, 1.67144357, 1.13041186  ]\n",
    "for i in range(21):\n",
    "    x = X_test[i + 479]\n",
    "    prediction = Noisy_QCNN_classifier(weights_Model2_Toronto, x, Trained='Model2')\n",
    "    print(prediction)\n",
    "    prediction_Model2_Toronto.append(prediction)\n",
    "accuracy_Model2_Toronto = accuracy_test(prediction_Model2_Toronto, Y_test)"
   ]
  },
  {
   "cell_type": "code",
   "execution_count": null,
   "metadata": {},
   "outputs": [],
   "source": [
    "print(f\"Accuracy with Model2_Toronto pre-training: {accuracy_Model2_Toronto}\")"
   ]
  },
  {
   "cell_type": "code",
   "execution_count": null,
   "metadata": {},
   "outputs": [],
   "source": [
    "print(Y_test)"
   ]
  },
  {
   "attachments": {},
   "cell_type": "markdown",
   "metadata": {},
   "source": [
    "### Model3"
   ]
  },
  {
   "cell_type": "code",
   "execution_count": 5,
   "metadata": {},
   "outputs": [],
   "source": [
    "feature_reduction = False\n",
    "classes = [0,1]\n",
    "X_train, X_test, Y_train, Y_test = data.data_load_and_process('mnist', feature_reduction=feature_reduction, classes=classes)\n",
    "X_train, X_test, Y_train, Y_test = X_train[:500], X_test[:500], Y_train[:500], Y_test[:500]\n",
    "X_train, X_test = torch.tensor(X_train).to(torch.float32), torch.tensor(X_test).to(torch.float32)\n",
    "X_train, X_test = X_train.permute(0, 3, 1, 2), X_test.permute(0, 3, 1, 2)\n",
    "Y_train = [-1 if y == 0 else 1 for y in Y_train]\n",
    "Y_test = [-1 if y == 0 else 1 for y in Y_test]"
   ]
  },
  {
   "cell_type": "code",
   "execution_count": 7,
   "metadata": {},
   "outputs": [
    {
     "name": "stderr",
     "output_type": "stream",
     "text": [
      "C:\\Users\\tak\\AppData\\Local\\Temp\\ipykernel_6852\\1893121398.py:10: UserWarning: To copy construct from a tensor, it is recommended to use sourceTensor.clone().detach() or sourceTensor.clone().detach().requires_grad_(True), rather than torch.tensor(sourceTensor).\n",
      "  x = model3(torch.tensor(x))\n"
     ]
    },
    {
     "name": "stdout",
     "output_type": "stream",
     "text": [
      "tensor(0.2891, dtype=torch.float64)\n",
      "tensor(-0.0352, dtype=torch.float64)\n",
      "tensor(0.2852, dtype=torch.float64)\n",
      "tensor(-0.0645, dtype=torch.float64)\n",
      "tensor(-0.0469, dtype=torch.float64)\n",
      "tensor(0.3535, dtype=torch.float64)\n",
      "tensor(-0.1406, dtype=torch.float64)\n",
      "tensor(0.0234, dtype=torch.float64)\n",
      "tensor(0.3320, dtype=torch.float64)\n",
      "tensor(0.3418, dtype=torch.float64)\n",
      "tensor(0.3750, dtype=torch.float64)\n",
      "tensor(0.3242, dtype=torch.float64)\n",
      "tensor(0.3691, dtype=torch.float64)\n",
      "tensor(0.5078, dtype=torch.float64)\n",
      "tensor(0.0039, dtype=torch.float64)\n",
      "tensor(0.3008, dtype=torch.float64)\n",
      "tensor(-0.0332, dtype=torch.float64)\n",
      "tensor(-0.1855, dtype=torch.float64)\n",
      "tensor(0.3145, dtype=torch.float64)\n",
      "tensor(0.3516, dtype=torch.float64)\n",
      "tensor(0.4180, dtype=torch.float64)\n",
      "tensor(0.3906, dtype=torch.float64)\n",
      "tensor(-0.0586, dtype=torch.float64)\n",
      "tensor(0.4785, dtype=torch.float64)\n",
      "tensor(0.1211, dtype=torch.float64)\n",
      "tensor(0.3027, dtype=torch.float64)\n",
      "tensor(0.0684, dtype=torch.float64)\n",
      "tensor(0.3789, dtype=torch.float64)\n",
      "tensor(0.2227, dtype=torch.float64)\n",
      "tensor(0.3555, dtype=torch.float64)\n",
      "tensor(0.1445, dtype=torch.float64)\n",
      "tensor(0.3730, dtype=torch.float64)\n",
      "tensor(0.2148, dtype=torch.float64)\n",
      "tensor(0.3711, dtype=torch.float64)\n",
      "tensor(0.2676, dtype=torch.float64)\n",
      "tensor(0.3867, dtype=torch.float64)\n",
      "tensor(0.3711, dtype=torch.float64)\n",
      "tensor(-0.1914, dtype=torch.float64)\n",
      "tensor(-0.3086, dtype=torch.float64)\n",
      "tensor(0.4219, dtype=torch.float64)\n",
      "tensor(0.4844, dtype=torch.float64)\n",
      "tensor(0.4512, dtype=torch.float64)\n",
      "tensor(0.1055, dtype=torch.float64)\n",
      "tensor(0.0098, dtype=torch.float64)\n",
      "tensor(0.2773, dtype=torch.float64)\n",
      "tensor(0.3555, dtype=torch.float64)\n",
      "tensor(0.3047, dtype=torch.float64)\n",
      "tensor(0.3457, dtype=torch.float64)\n",
      "tensor(0.0430, dtype=torch.float64)\n",
      "tensor(0.2461, dtype=torch.float64)\n",
      "tensor(0.3438, dtype=torch.float64)\n",
      "tensor(0.3750, dtype=torch.float64)\n"
     ]
    }
   ],
   "source": [
    "prediction_Model3_Toronto = []\n",
    "weights_Model3_Toronto = [1.15000724, -0.29707071, 1.56612213, -0.27187334 ]\n",
    "for i in range(len(X_test)):\n",
    "    x = X_test[i]\n",
    "    prediction = Noisy_QCNN_classifier(weights_Model3_Toronto, x, Trained='Model3')\n",
    "    print(prediction)\n",
    "    prediction_Model3_Toronto.append(prediction)\n",
    "accuracy_Model3_Toronto = accuracy_test(prediction_Model3_Toronto, Y_test)"
   ]
  },
  {
   "cell_type": "code",
   "execution_count": null,
   "metadata": {},
   "outputs": [],
   "source": [
    "print(f\"Accuracy with Model3_Toronto pre-training: {accuracy_Model3_Toronto}\")"
   ]
  },
  {
   "attachments": {},
   "cell_type": "markdown",
   "metadata": {},
   "source": [
    "# IBMQ Perth\n",
    "\n",
    "NQE trained on: ibmq_toronto\n",
    "\n",
    "QCNN trained on: ibmq_perth\n",
    "\n",
    "QCNN evaluated on: ibmq_jakarta"
   ]
  },
  {
   "attachments": {},
   "cell_type": "markdown",
   "metadata": {},
   "source": [
    "### Model 0"
   ]
  },
  {
   "cell_type": "code",
   "execution_count": null,
   "metadata": {},
   "outputs": [],
   "source": [
    "feature_reduction = 'PCA4'\n",
    "classes = [0,1]\n",
    "X_train, X_test, Y_train, Y_test = data.data_load_and_process('mnist', feature_reduction=feature_reduction, classes=classes)\n",
    "X_train, X_test, Y_train, Y_test = X_train[:500], X_test[:500], Y_train[:500], Y_test[:500]\n",
    "X_train, X_test = torch.tensor(X_train).to(torch.float32), torch.tensor(X_test).to(torch.float32)\n",
    "Y_train = [-1 if y == 0 else 1 for y in Y_train]\n",
    "Y_test = [-1 if y == 0 else 1 for y in Y_test]\n",
    "\n",
    "prediction_Model0_Perth = []\n",
    "weights_Model0_Perth = [0.19449887, 0.82027649, 0.40379336, 0.18254816]\n",
    "for i in range(500):\n",
    "    x = X_test[i]\n",
    "    prediction = Noisy_QCNN_classifier(weights_Model0_Perth, x, Trained=False)\n",
    "    print(prediction)\n",
    "    prediction_Model0_Perth.append(prediction)\n",
    "accuracy_Model0_Perth = accuracy_test(prediction_Model0_Perth, Y_test)"
   ]
  },
  {
   "attachments": {},
   "cell_type": "markdown",
   "metadata": {},
   "source": [
    "### Model 2"
   ]
  },
  {
   "cell_type": "code",
   "execution_count": null,
   "metadata": {},
   "outputs": [],
   "source": [
    "feature_reduction = 'PCA4'\n",
    "classes = [0,1]\n",
    "X_train, X_test, Y_train, Y_test = data.data_load_and_process('mnist', feature_reduction=feature_reduction, classes=classes)\n",
    "X_train, X_test, Y_train, Y_test = X_train[:500], X_test[:500], Y_train[:500], Y_test[:500]\n",
    "X_train, X_test = torch.tensor(X_train).to(torch.float32), torch.tensor(X_test).to(torch.float32)\n",
    "Y_train = [-1 if y == 0 else 1 for y in Y_train]\n",
    "Y_test = [-1 if y == 0 else 1 for y in Y_test]"
   ]
  },
  {
   "cell_type": "code",
   "execution_count": null,
   "metadata": {},
   "outputs": [],
   "source": [
    "prediction_Model2_Perth = []\n",
    "weights_Model2_Toronto = [1.25502256 -0.30062048 1.50211541 1.22376432]\n",
    "for i in range(500):\n",
    "    x = X_test[i]\n",
    "    prediction = Noisy_QCNN_classifier(weights_Model2_Perth, x, Trained='Model2')\n",
    "    print(prediction)\n",
    "    prediction_Model2_Perth.append(prediction)\n",
    "accuracy_Model2_Perth = accuracy_test(prediction_Model2_Perth, Y_test)"
   ]
  },
  {
   "attachments": {},
   "cell_type": "markdown",
   "metadata": {},
   "source": [
    "### Model 3"
   ]
  },
  {
   "cell_type": "code",
   "execution_count": null,
   "metadata": {},
   "outputs": [],
   "source": [
    "feature_reduction = False\n",
    "classes = [0,1]\n",
    "X_train, X_test, Y_train, Y_test = data.data_load_and_process('mnist', feature_reduction=feature_reduction, classes=classes)\n",
    "X_train, X_test, Y_train, Y_test = X_train[:500], X_test[:500], Y_train[:500], Y_test[:500]\n",
    "X_train, X_test = torch.tensor(X_train).to(torch.float32), torch.tensor(X_test).to(torch.float32)\n",
    "X_train, X_test = X_train.permute(0, 3, 1, 2), X_test.permute(0, 3, 1, 2)\n",
    "Y_train = [-1 if y == 0 else 1 for y in Y_train]\n",
    "Y_test = [-1 if y == 0 else 1 for y in Y_test]"
   ]
  },
  {
   "cell_type": "code",
   "execution_count": null,
   "metadata": {},
   "outputs": [],
   "source": [
    "prediction_Model3_Perth = []\n",
    "weights_Model3_Toronto = [ ]\n",
    "for i in range(500):\n",
    "    x = X_test[i]\n",
    "    prediction = Noisy_QCNN_classifier(weights_Model3_Perth, x, Trained='Model3')\n",
    "    print(prediction)\n",
    "    prediction_Model3_Perth.append(prediction)\n",
    "accuracy_Model3_Perth = accuracy_test(prediction_Model3_Perth, Y_test)"
   ]
  },
  {
   "attachments": {},
   "cell_type": "markdown",
   "metadata": {},
   "source": []
  }
 ],
 "metadata": {
  "kernelspec": {
   "display_name": "QC",
   "language": "python",
   "name": "python3"
  },
  "language_info": {
   "codemirror_mode": {
    "name": "ipython",
    "version": 3
   },
   "file_extension": ".py",
   "mimetype": "text/x-python",
   "name": "python",
   "nbconvert_exporter": "python",
   "pygments_lexer": "ipython3",
   "version": "3.11.3"
  },
  "orig_nbformat": 4,
  "vscode": {
   "interpreter": {
    "hash": "0f8e2a2ca6259a6cab5ca53f758a7b3aaf50f8fc283f46719ccb9cbe78a7dc03"
   }
  }
 },
 "nbformat": 4,
 "nbformat_minor": 2
}
