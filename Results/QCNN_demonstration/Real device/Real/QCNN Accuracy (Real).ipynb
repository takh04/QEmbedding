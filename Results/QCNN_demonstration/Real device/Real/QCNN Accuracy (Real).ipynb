{
 "cells": [
  {
   "cell_type": "code",
   "execution_count": 1,
   "metadata": {},
   "outputs": [],
   "source": [
    "from pennylane import numpy as np\n",
    "import matplotlib.pyplot as plt\n",
    "import matplotlib as mpl\n",
    "import sys\n",
    "sys.path.insert(0, '/Users/tak/Github/QEmbedding/')\n",
    "import Hybrid_nn\n",
    "import torch\n",
    "from torch import nn\n",
    "import data\n",
    "import pennylane as qml\n",
    "import embedding"
   ]
  },
  {
   "cell_type": "code",
   "execution_count": 2,
   "metadata": {},
   "outputs": [],
   "source": [
    "from qiskit import IBMQ\n",
    "\n",
    "# KQC Token\n",
    "#TOKEN = \"b5b31be2bb5237d52e8bdef143913cd62425eadcbda5c56c6f8ed8d067573ac0e07aa41d23d0bfcc880882a4142e2f812dad876fb3208d5c5f8f321be6626cce\"\n",
    "# Yonsei Token\n",
    "TOKEN = \"41bc5ff592064fefedbb4e5f949e42a9ded7835d2b14e69147aaab22b911ea16e1d95f6929e9b1fadf6c8e412253d50f820c25cd6c45be588d31910f2c4fd96b\"\n",
    "\n",
    "\n",
    "IBMQ.save_account(TOKEN, overwrite=True)\n",
    "IBMQ.load_account() # Load account from disk\n",
    "\n",
    "\n",
    "#KQC Provider\n",
    "#provider = IBMQ.get_provider(hub='ibm-q-kqc', group='internal', project='reservations')\n",
    "#provider = IBMQ.get_provider(hub='ibm-q-kqc', group='kqc-research', project='kernel-experimen')\n",
    "\n",
    "#Yonsei Provider\n",
    "provider = IBMQ.get_provider(hub='ibm-q-yonsei', group='internal', project='reservations')\n",
    "\n",
    "\n",
    "\n",
    "\n",
    "backend = \"ibm_lagos\"\n",
    "\n",
    "dev = qml.device(\n",
    "    'qiskit.ibmq',\n",
    "    wires=4,\n",
    "    shots=1024,\n",
    "    backend=backend,\n",
    "    provider=provider\n",
    ")\n",
    "\n",
    "\n",
    "PATH_Model2 = '/Users/tak/Github/QEmbedding/Results/QCNN_demonstration/Real device/Real/Model2 pre-train/Model2_48.pt'\n",
    "PATH_Model3 = '/Users/tak/Github/QEmbedding/Results/QCNN_demonstration/Real device/Real/Model3 pre-train/Model3_48.pt'\n"
   ]
  },
  {
   "cell_type": "code",
   "execution_count": 3,
   "metadata": {},
   "outputs": [],
   "source": [
    "class x_transform2(torch.nn.Module):\n",
    "    def __init__(self):\n",
    "        super().__init__()\n",
    "        self.linear_relu_stack2 = nn.Sequential(\n",
    "            nn.Linear(4, 12),\n",
    "            nn.ReLU(),\n",
    "            nn.Linear(12, 12),\n",
    "            nn.ReLU(),\n",
    "            nn.Linear(12, 7)\n",
    "        )\n",
    "        \n",
    "    def forward(self, x):\n",
    "        x = self.linear_relu_stack2(x)\n",
    "        return x.detach().numpy()\n",
    "\n",
    "\n",
    "class x_transform3(torch.nn.Module):\n",
    "    def __init__(self):\n",
    "        super().__init__()\n",
    "        self.layer1 = torch.nn.Sequential(\n",
    "            torch.nn.Conv2d(1, 1, kernel_size=3, stride=1, padding=1),\n",
    "            torch.nn.ReLU(),\n",
    "            torch.nn.MaxPool2d(kernel_size=2, stride=2)\n",
    "        )\n",
    "\n",
    "        # Layer2: 14 * 14 -> 7 * 7\n",
    "        self.layer2 = torch.nn.Sequential(\n",
    "            torch.nn.Conv2d(1, 1, kernel_size=3, stride=1, padding=1),\n",
    "            torch.nn.ReLU(),\n",
    "            torch.nn.MaxPool2d(kernel_size=2, stride=2)\n",
    "        )\n",
    "\n",
    "        # Fully connected Layers 7 * 7 -> 7\n",
    "        self.fc = torch.nn.Linear(7 * 7, 7, bias=True)\n",
    "        \n",
    "    def forward(self, x):\n",
    "        x = self.layer1(x)\n",
    "        x = self.layer2(x)\n",
    "        x = x.view(-1, 7 * 7)\n",
    "        x = self.fc(x)\n",
    "        return x.detach().numpy()\n",
    "\n",
    "model2 = x_transform2()\n",
    "model3 = x_transform3()"
   ]
  },
  {
   "cell_type": "code",
   "execution_count": 4,
   "metadata": {},
   "outputs": [],
   "source": [
    "def statepreparation(x, Trained):\n",
    "    if Trained == False:\n",
    "        embedding.Noisy_Four_QuantumEmbedding1(x)\n",
    "    elif Trained == 'Model2':\n",
    "        model2.load_state_dict(torch.load(PATH_Model2))\n",
    "        x = model2(torch.tensor(x))\n",
    "        embedding.Noisy_Four_QuantumEmbedding2(x)\n",
    "    elif Trained == 'Model3':\n",
    "        model3.load_state_dict(torch.load(PATH_Model3))\n",
    "        x = model3(torch.tensor(x))\n",
    "        embedding.Noisy_Four_QuantumEmbedding2(x[0])\n",
    "    \n",
    "\n",
    "@qml.qnode(dev)\n",
    "def Noisy_QCNN_classifier(params, x, Trained):\n",
    "    param1 = params[0:2]\n",
    "    param2 = params[2:4]\n",
    "\n",
    "    statepreparation(x, Trained)\n",
    "    embedding.U_TTN(param1, wires=[0,1])\n",
    "    embedding.U_TTN(param1, wires=[3,2])\n",
    "    embedding.U_TTN(param2, wires=[1,2])\n",
    "    return qml.expval(qml.PauliZ(2))\n",
    "\n",
    "def accuracy_test(predictions, labels):\n",
    "    acc = 0\n",
    "    for l, p in zip(labels, predictions):\n",
    "        if np.abs(l - p) < 1:\n",
    "            acc = acc + 1\n",
    "    return acc / len(labels)"
   ]
  },
  {
   "attachments": {},
   "cell_type": "markdown",
   "metadata": {},
   "source": [
    "# QCNN accuracy / Model2 IBMQ_Jakarta\n",
    "\n",
    "QCNN accuracy is experimented on ibm_lagos."
   ]
  },
  {
   "cell_type": "code",
   "execution_count": 7,
   "metadata": {},
   "outputs": [
    {
     "name": "stderr",
     "output_type": "stream",
     "text": [
      "/var/folders/ym/ry24dhs911s7zbqfbhs5ns2m0000gn/T/ipykernel_8182/1434021917.py:6: UserWarning: To copy construct from a tensor, it is recommended to use sourceTensor.clone().detach() or sourceTensor.clone().detach().requires_grad_(True), rather than torch.tensor(sourceTensor).\n",
      "  x = model2(torch.tensor(x))\n",
      "WARNING:urllib3.connectionpool:Retrying (PostForcelistRetry(total=4, connect=3, read=None, redirect=None, status=None)) after connection broken by 'ProtocolError('Connection aborted.', RemoteDisconnected('Remote end closed connection without response'))': /api/Network/ibm-q-yonsei/Groups/internal/Projects/reservations/Jobs/64250df8aa905e5d274aad67/v/1\n",
      "WARNING:urllib3.connectionpool:Retrying (PostForcelistRetry(total=4, connect=3, read=None, redirect=None, status=None)) after connection broken by 'ProtocolError('Connection aborted.', RemoteDisconnected('Remote end closed connection without response'))': /api/Network/ibm-q-yonsei/Groups/internal/Projects/reservations/Jobs/64251475d13096125f728752/v/1\n",
      "WARNING:urllib3.connectionpool:Retrying (PostForcelistRetry(total=4, connect=3, read=None, redirect=None, status=None)) after connection broken by 'ProtocolError('Connection aborted.', RemoteDisconnected('Remote end closed connection without response'))': /api/Network/ibm-q-yonsei/Groups/internal/Projects/reservations/Jobs/64252068472d12774080372a/v/1\n",
      "WARNING:urllib3.connectionpool:Retrying (PostForcelistRetry(total=4, connect=3, read=None, redirect=None, status=None)) after connection broken by 'ProtocolError('Connection aborted.', RemoteDisconnected('Remote end closed connection without response'))': /api/Network/ibm-q-yonsei/Groups/internal/Projects/reservations/Jobs/64252978992f608692b9da33/v/1\n",
      "WARNING:urllib3.connectionpool:Retrying (PostForcelistRetry(total=4, connect=3, read=None, redirect=None, status=None)) after connection broken by 'ProtocolError('Connection aborted.', RemoteDisconnected('Remote end closed connection without response'))': /api/Network/ibm-q-yonsei/Groups/internal/Projects/reservations/Jobs/64252a721e787ad5661a1fe7/v/1\n",
      "WARNING:urllib3.connectionpool:Retrying (PostForcelistRetry(total=4, connect=3, read=None, redirect=None, status=None)) after connection broken by 'ProtocolError('Connection aborted.', RemoteDisconnected('Remote end closed connection without response'))': /api/Network/ibm-q-yonsei/Groups/internal/Projects/reservations/Jobs/64252eb4472d1203bd80375c/v/1\n",
      "WARNING:urllib3.connectionpool:Retrying (PostForcelistRetry(total=4, connect=3, read=None, redirect=None, status=None)) after connection broken by 'ProtocolError('Connection aborted.', RemoteDisconnected('Remote end closed connection without response'))': /api/Network/ibm-q-yonsei/Groups/internal/Projects/reservations/Jobs/64252f86c366f64ecbc5921b/v/1\n",
      "WARNING:urllib3.connectionpool:Retrying (PostForcelistRetry(total=4, connect=3, read=None, redirect=None, status=None)) after connection broken by 'ProtocolError('Connection aborted.', RemoteDisconnected('Remote end closed connection without response'))': /api/Network/ibm-q-yonsei/Groups/internal/Projects/reservations/Jobs/6425347c992f60f929b9da54/v/1\n"
     ]
    }
   ],
   "source": [
    "\n",
    "feature_reduction = 'PCA4'\n",
    "classes = [0,1]\n",
    "X_train, X_test, Y_train, Y_test = data.data_load_and_process('mnist', feature_reduction=feature_reduction, classes=classes)\n",
    "X_train, X_test, Y_train, Y_test = X_train[:500], X_test[:500], Y_train[:500], Y_test[:500]\n",
    "X_train, X_test = torch.tensor(X_train).to(torch.float32), torch.tensor(X_test).to(torch.float32)\n",
    "Y_train = [-1 if y == 0 else 1 for y in Y_train]\n",
    "Y_test = [-1 if y == 0 else 1 for y in Y_test]\n",
    "\n",
    "\n",
    "weights_Model2_Jakarta = [-0.01100251, 1.22128094, -1.86724874, 0.11109528 ]\n",
    "prediction_Model2_Jakarta = [Noisy_QCNN_classifier(weights_Model2_Jakarta, x, Trained='Model2') for x in X_test]\n",
    "accuracy_Model2_Jakarta = accuracy_test(prediction_Model2_Jakarta, Y_test)"
   ]
  },
  {
   "cell_type": "code",
   "execution_count": 10,
   "metadata": {},
   "outputs": [
    {
     "name": "stdout",
     "output_type": "stream",
     "text": [
      "Accuracy with Model2_Jakarta pre-training: 0.964\n"
     ]
    }
   ],
   "source": [
    "print(f\"Accuracy with Model2_Jakarta pre-training: {accuracy_Model2_Jakarta}\")"
   ]
  },
  {
   "attachments": {},
   "cell_type": "markdown",
   "metadata": {},
   "source": [
    "# QCNN accuracy / Model3 IBMQ_Jakarta\n",
    "\n",
    "QCNN accuracy is experimented on ibm_lagos"
   ]
  },
  {
   "cell_type": "code",
   "execution_count": 5,
   "metadata": {},
   "outputs": [
    {
     "name": "stderr",
     "output_type": "stream",
     "text": [
      "/var/folders/ym/ry24dhs911s7zbqfbhs5ns2m0000gn/T/ipykernel_8522/1760356466.py:10: UserWarning: To copy construct from a tensor, it is recommended to use sourceTensor.clone().detach() or sourceTensor.clone().detach().requires_grad_(True), rather than torch.tensor(sourceTensor).\n",
      "  x = model3(torch.tensor(x))\n",
      "WARNING:urllib3.connectionpool:Retrying (PostForcelistRetry(total=4, connect=3, read=None, redirect=None, status=None)) after connection broken by 'ProtocolError('Connection aborted.', RemoteDisconnected('Remote end closed connection without response'))': /api/Network/ibm-q-yonsei/Groups/internal/Projects/reservations/Jobs/642545adcd4c9420806de68e/v/1\n",
      "WARNING:urllib3.connectionpool:Retrying (PostForcelistRetry(total=4, connect=3, read=None, redirect=None, status=None)) after connection broken by 'ProtocolError('Connection aborted.', RemoteDisconnected('Remote end closed connection without response'))': /api/Network/ibm-q-yonsei/Groups/internal/Projects/reservations/Jobs/6425495df756ea719003d3b7/v/1\n",
      "WARNING:urllib3.connectionpool:Retrying (PostForcelistRetry(total=4, connect=3, read=None, redirect=None, status=None)) after connection broken by 'ProtocolError('Connection aborted.', RemoteDisconnected('Remote end closed connection without response'))': /api/Network/ibm-q-yonsei/Groups/internal/Projects/reservations/Jobs/64254dcd9d33ce301f64c91e/v/1\n",
      "WARNING:urllib3.connectionpool:Retrying (PostForcelistRetry(total=4, connect=3, read=None, redirect=None, status=None)) after connection broken by 'ProtocolError('Connection aborted.', RemoteDisconnected('Remote end closed connection without response'))': /api/Network/ibm-q-yonsei/Groups/internal/Projects/reservations/Jobs/64254eef0a860583a3b9deea/v/1\n"
     ]
    }
   ],
   "source": [
    "feature_reduction = False\n",
    "classes = [0,1]\n",
    "X_train, X_test, Y_train, Y_test = data.data_load_and_process('mnist', feature_reduction=feature_reduction, classes=classes)\n",
    "X_train, X_test, Y_train, Y_test = X_train[:500], X_test[:500], Y_train[:500], Y_test[:500]\n",
    "X_train, X_test = torch.tensor(X_train).to(torch.float32), torch.tensor(X_test).to(torch.float32)\n",
    "X_train, X_test = X_train.permute(0, 3, 1, 2), X_test.permute(0, 3, 1, 2)\n",
    "Y_train = [-1 if y == 0 else 1 for y in Y_train]\n",
    "Y_test = [-1 if y == 0 else 1 for y in Y_test]\n",
    "\n",
    "\n",
    "weights_Model3_Jakarta = [2.01256055, 0.51212296, 2.11959629, -0.46627558]\n",
    "prediction_Model3_Jakarta = [Noisy_QCNN_classifier(weights_Model3_Jakarta, x, Trained='Model3') for x in X_test]\n",
    "accuracy_Model3_Jakarta = accuracy_test(prediction_Model3_Jakarta, Y_test)"
   ]
  },
  {
   "cell_type": "code",
   "execution_count": 7,
   "metadata": {},
   "outputs": [
    {
     "name": "stdout",
     "output_type": "stream",
     "text": [
      "Accuracy with Model3_Jakarta pre-training: 0.92\n"
     ]
    }
   ],
   "source": [
    "print(f\"Accuracy with Model3_Jakarta pre-training: {accuracy_Model3_Jakarta}\")"
   ]
  },
  {
   "cell_type": "code",
   "execution_count": null,
   "metadata": {},
   "outputs": [],
   "source": []
  }
 ],
 "metadata": {
  "kernelspec": {
   "display_name": "QC",
   "language": "python",
   "name": "python3"
  },
  "language_info": {
   "codemirror_mode": {
    "name": "ipython",
    "version": 3
   },
   "file_extension": ".py",
   "mimetype": "text/x-python",
   "name": "python",
   "nbconvert_exporter": "python",
   "pygments_lexer": "ipython3",
   "version": "3.10.8"
  },
  "orig_nbformat": 4
 },
 "nbformat": 4,
 "nbformat_minor": 2
}
