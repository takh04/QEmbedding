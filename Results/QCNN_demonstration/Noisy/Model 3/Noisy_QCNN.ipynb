{
 "cells": [
  {
   "attachments": {},
   "cell_type": "markdown",
   "metadata": {},
   "source": [
    "# Model 3 QCNN demonstration with Noisy Devices"
   ]
  },
  {
   "attachments": {},
   "cell_type": "markdown",
   "metadata": {},
   "source": [
    "# 1. Load Noisy Model with IBMQ"
   ]
  },
  {
   "attachments": {},
   "cell_type": "markdown",
   "metadata": {},
   "source": [
    "IBMQ Fake provider"
   ]
  },
  {
   "cell_type": "code",
   "execution_count": 1,
   "metadata": {},
   "outputs": [],
   "source": [
    "import matplotlib.pyplot as plt\n",
    "import matplotlib as mpl\n",
    "import sys\n",
    "sys.path.insert(0, '/Users/tak/Github/QEmbedding/')\n",
    "import data\n",
    "import embedding\n",
    "\n",
    "n_qubits = 4"
   ]
  },
  {
   "cell_type": "code",
   "execution_count": 2,
   "metadata": {},
   "outputs": [],
   "source": [
    "import pennylane as qml\n",
    "from pennylane import numpy as np\n",
    "from qiskit import IBMQ\n",
    "from qiskit.providers.aer.backends import AerSimulator\n",
    "from qiskit.providers.fake_provider import FakeJakarta, FakeMontreal\n",
    "from qiskit_aer.noise import NoiseModel\n",
    "\n",
    "IBMQ.load_account()\n",
    "noisy = FakeJakarta()\n",
    "\n",
    "noise_model = NoiseModel.from_backend(noisy)\n",
    "coupling_map = noisy.configuration().coupling_map\n",
    "basis_gates = noise_model.basis_gates\n",
    "\n",
    "dev_fake = qml.device(\n",
    "    'qiskit.aer',\n",
    "    wires=n_qubits,\n",
    "    shots=1024,\n",
    "    noise_model=noise_model,\n",
    "    coupling_map=coupling_map,\n",
    "    basis_gates=basis_gates\n",
    ")"
   ]
  },
  {
   "attachments": {},
   "cell_type": "markdown",
   "metadata": {},
   "source": [
    "Real Device (Skip below when using simulated noise model)"
   ]
  },
  {
   "cell_type": "code",
   "execution_count": null,
   "metadata": {},
   "outputs": [],
   "source": [
    "TOKEN_tak = \"798c4f141e8fa071c14823a956f816c8dda622f9f00b95cae62cc5b1a3105b4fe4845a234d661f20281f6b77ac0299e3c4367f6a3b58db16c36bcde3a9cb1151\"\n",
    "TOKEN_dkp = \"3ae7ac10f40eb88c7ebb0eca20aa0788e7a96da729e2c3848d9864684362aaf50dfdda7cb3ec1ffd75eb7ed5b44f7c14f2f17419cf600ce14437ee7cd00ac75b\"\n",
    "\n",
    "IBMQ.save_account(token=TOKEN_dkp, overwrite=True)\n",
    "IBMQ.load_account()\n",
    "provider = IBMQ.get_provider(hub='ibm-q-skku')\n",
    "backend = \"ibmq_jakarta\"\n",
    "\n",
    "dev_jakarta = qml.device(\n",
    "    'qiskit.ibmq',\n",
    "    wires=4,\n",
    "    shots=1024,\n",
    "    backend=backend,\n",
    "    provider=provider\n",
    ")"
   ]
  },
  {
   "attachments": {},
   "cell_type": "markdown",
   "metadata": {},
   "source": [
    "# 2. Feature Mapping Circuit"
   ]
  },
  {
   "attachments": {},
   "cell_type": "markdown",
   "metadata": {},
   "source": [
    "Create Feature Mapping Circuits. \n",
    "\n",
    "Note: This is 4 qubit feature mapping circuits used for demonstration.\n",
    "\n",
    "Unlike noiseless simulation, last to first qubit CNOT gates are omitted for connectivity.\n",
    "\n",
    "Also number of layers is set to 1 (N_layers = 3 for noiseless simulation)."
   ]
  },
  {
   "cell_type": "code",
   "execution_count": 3,
   "metadata": {},
   "outputs": [],
   "source": [
    "# Quantum Embedding 2 for model 2\n",
    "def Noisy_Four_QuantumEmbedding3(input):\n",
    "    for j in range(4):\n",
    "        qml.Hadamard(wires=j)\n",
    "        embedding.exp_Z(input[j], wires=j)\n",
    "    for k in range(3):\n",
    "        embedding.exp_ZZ1(input[4+k], wires=[k, k+1])\n",
    "    #exp_ZZ1(input[15], wires=[7,0])                        Removed for connectivity\n",
    "\n",
    "def Noisy_Four_QuantumEmbedding3_inverse(input):\n",
    "    #embedding.exp_ZZ1(input[15], wires=[7,0], inverse=True) Removed for connectivity\n",
    "    for k in reversed(range(3)):\n",
    "        embedding.exp_ZZ1(input[k+4], wires=[k,k+1], inverse=True)\n",
    "    qml.Barrier()\n",
    "    for j in range(4):\n",
    "        embedding.exp_Z(input[j], wires=j, inverse=True)\n",
    "        qml.Hadamard(wires=j)"
   ]
  },
  {
   "attachments": {},
   "cell_type": "markdown",
   "metadata": {},
   "source": [
    "Make Noisy_Model3_Fidelity "
   ]
  },
  {
   "cell_type": "code",
   "execution_count": 4,
   "metadata": {},
   "outputs": [],
   "source": [
    "import torch\n",
    "from torch import nn\n",
    "\n",
    "# Model3\n",
    "@qml.qnode(dev_fake, interface=\"torch\")\n",
    "def circuit3(inputs): \n",
    "    Noisy_Four_QuantumEmbedding3(inputs[0:7])\n",
    "    Noisy_Four_QuantumEmbedding3_inverse(inputs[7:14])\n",
    "    return qml.probs(wires=range(4))\n",
    "\n",
    "class Noisy_Model3_Fidelity(torch.nn.Module):\n",
    "    def __init__(self):\n",
    "        super().__init__()\n",
    "        self.qlayer3 = qml.qnn.TorchLayer(circuit3, weight_shapes={})\n",
    "        self.layer1 = torch.nn.Sequential(\n",
    "            torch.nn.Conv2d(1, 1, kernel_size=3, stride=1, padding=1),\n",
    "            torch.nn.ReLU(),\n",
    "            torch.nn.MaxPool2d(kernel_size=2, stride=2)\n",
    "        )\n",
    "\n",
    "        # Layer2: 14 * 14 -> 7 * 7\n",
    "        self.layer2 = torch.nn.Sequential(\n",
    "            torch.nn.Conv2d(1, 1, kernel_size=3, stride=1, padding=1),\n",
    "            torch.nn.ReLU(),\n",
    "            torch.nn.MaxPool2d(kernel_size=2, stride=2)\n",
    "        )\n",
    "\n",
    "        # Fully connected Layers 7 * 7 -> 7\n",
    "        self.fc = torch.nn.Linear(7 * 7, 7, bias=True)\n",
    "        \n",
    "    def forward(self, x1, x2):\n",
    "        x1 = self.layer1(x1)\n",
    "        x1 = self.layer2(x1)\n",
    "        x1 = x1.view(-1, 7 * 7)\n",
    "        x1 = self.fc(x1)\n",
    "\n",
    "        x2 = self.layer1(x2)\n",
    "        x2 = self.layer2(x2)\n",
    "        x2 = x2.view(-1, 7 * 7)\n",
    "        x2 = self.fc(x2)\n",
    "\n",
    "        x = torch.concat([x1, x2], 1)\n",
    "        x = self.qlayer3(x)\n",
    "        return x[:,0]"
   ]
  },
  {
   "attachments": {},
   "cell_type": "markdown",
   "metadata": {},
   "source": [
    "Draw the circuit and check if everything is right"
   ]
  },
  {
   "cell_type": "code",
   "execution_count": 5,
   "metadata": {},
   "outputs": [
    {
     "name": "stdout",
     "output_type": "stream",
     "text": [
      "Circuit3: \n",
      "\n",
      "0: ──H──RZ(-2.00)─╭●─────────────╭●───────────────────────────────────────────────────────────────\n",
      "1: ──H──RZ(-4.00)─╰X──RZ(-10.00)─╰X─╭●─────────────╭●────────────────────────────────────╭●───────\n",
      "2: ──H──RZ(-6.00)───────────────────╰X──RZ(-12.00)─╰X─╭●─────────────╭●─╭●────────────╭●─╰X───────\n",
      "3: ──H──RZ(-8.00)─────────────────────────────────────╰X──RZ(-14.00)─╰X─╰X──RZ(14.00)─╰X──RZ(8.00)\n",
      "\n",
      "────────────────╭●───────────────────╭●──RZ(2.00)──H─┤ ╭Probs\n",
      "─────────────╭●─╰X─────────RZ(10.00)─╰X──RZ(4.00)──H─┤ ├Probs\n",
      "───RZ(12.00)─╰X──RZ(6.00)──H─────────────────────────┤ ├Probs\n",
      "───H─────────────────────────────────────────────────┤ ╰Probs\n"
     ]
    }
   ],
   "source": [
    "print(\"Circuit3: \\n\")\n",
    "print(\n",
    "    qml.draw(\n",
    "        circuit3,\n",
    "        expansion_strategy=\"device\",\n",
    "        show_matrices=False\n",
    "    )([1,2,3,4,5,6,7,1,2,3,4,5,6,7])\n",
    ")"
   ]
  },
  {
   "attachments": {},
   "cell_type": "markdown",
   "metadata": {},
   "source": [
    "# 3. Load Datasets"
   ]
  },
  {
   "cell_type": "code",
   "execution_count": 6,
   "metadata": {},
   "outputs": [
    {
     "name": "stderr",
     "output_type": "stream",
     "text": [
      "/opt/anaconda3/envs/QC/lib/python3.7/site-packages/ipykernel_launcher.py:16: UserWarning: Creating a tensor from a list of numpy.ndarrays is extremely slow. Please consider converting the list to a single numpy.ndarray with numpy.array() before converting to a tensor. (Triggered internally at /Users/runner/work/_temp/anaconda/conda-bld/pytorch_1666646835196/work/torch/csrc/utils/tensor_new.cpp:233.)\n",
      "  \n"
     ]
    }
   ],
   "source": [
    "feature_reduction = False\n",
    "classes = [0,1]\n",
    "X_train, X_test, Y_train, Y_test = data.data_load_and_process('mnist', feature_reduction=feature_reduction, classes=classes)\n",
    "device = torch.device(\"cuda\" if torch.cuda.is_available() else \"cpu\")\n",
    "def new_data(batch_size, X, Y):\n",
    "    X1_new, X2_new, Y_new = [], [], []\n",
    "    for i in range(batch_size):\n",
    "        n, m = np.random.randint(len(X)), np.random.randint(len(X))\n",
    "        X1_new.append(X[n])\n",
    "        X2_new.append(X[m])\n",
    "        if Y[n] == Y[m]:\n",
    "            Y_new.append(1)\n",
    "        else:\n",
    "            Y_new.append(0)\n",
    "\n",
    "    X1_new, X2_new, Y_new = torch.tensor(X1_new).to(torch.float32), torch.tensor(X2_new).to(torch.float32), torch.tensor(Y_new).to(torch.float32)\n",
    "    if feature_reduction == False:\n",
    "        X1_new = X1_new.permute(0, 3, 1, 2)\n",
    "        X2_new = X2_new.permute(0, 3, 1, 2)\n",
    "    return X1_new.to(device), X2_new.to(device), Y_new.to(device)\n",
    "\n",
    "N_valid, N_test = 500, 1000\n",
    "X1_new_valid, X2_new_valid, Y_new_valid = new_data(N_valid, X_test, Y_test)\n",
    "X1_new_test, X2_new_test, Y_new_test = new_data(N_test, X_test, Y_test)"
   ]
  },
  {
   "attachments": {},
   "cell_type": "markdown",
   "metadata": {},
   "source": [
    "# 4. Train Models"
   ]
  },
  {
   "cell_type": "code",
   "execution_count": 7,
   "metadata": {},
   "outputs": [
    {
     "name": "stdout",
     "output_type": "stream",
     "text": [
      "Iterations: 0 Loss: 0.24524469673633575\n",
      "Iterations: 10 Loss: 0.36811715364456177\n",
      "Iterations: 20 Loss: 0.21873131394386292\n",
      "Iterations: 30 Loss: 0.08410167694091797\n",
      "Iterations: 40 Loss: 0.06948032230138779\n",
      "Iterations: 50 Loss: 0.05171193927526474\n",
      "Iterations: 60 Loss: 0.05985565111041069\n",
      "Iterations: 70 Loss: 0.06232719495892525\n",
      "Iterations: 80 Loss: 0.05515728145837784\n",
      "Iterations: 90 Loss: 0.05828676372766495\n",
      "Iterations: 100 Loss: 0.044550321996212006\n",
      "Iterations: 110 Loss: 0.053519345819950104\n",
      "Iterations: 120 Loss: 0.037641145288944244\n",
      "Iterations: 130 Loss: 0.03900432586669922\n",
      "Iterations: 140 Loss: 0.055387116968631744\n",
      "Iterations: 150 Loss: 0.019077206030488014\n",
      "Iterations: 160 Loss: 0.029794882982969284\n",
      "Iterations: 170 Loss: 0.08827447891235352\n",
      "Iterations: 180 Loss: 0.022861385717988014\n",
      "Iterations: 190 Loss: 0.04988584667444229\n"
     ]
    },
    {
     "data": {
      "image/png": "[encoded data removed]",
      "text/plain": [
       "<Figure size 1000x500 with 1 Axes>"
      ]
     },
     "metadata": {},
     "output_type": "display_data"
    }
   ],
   "source": [
    "import seaborn as sns\n",
    "\n",
    "def train_models(model_name):\n",
    "    train_loss = []\n",
    "    if model_name == 'Noisy_Model3_Fidelity':\n",
    "        model = Noisy_Model3_Fidelity()\n",
    "        PATH = '/Users/tak/Github/QEmbedding/Results/QCNN_demonstration/Noisy/Model 3/Noisy_Model3_Fidelity.pt'\n",
    "    model.train()\n",
    "\n",
    "    loss_fn = torch.nn.MSELoss()\n",
    "    opt = torch.optim.SGD(model.parameters(), lr=0.01)\n",
    "    for it in range(200):\n",
    "        X1_batch, X2_batch, Y_batch = new_data(10, X_train, Y_train)\n",
    "        X1_batch, X2_batch, Y_batch = X1_batch, X2_batch, Y_batch\n",
    "\n",
    "        pred = model(X1_batch, X2_batch)\n",
    "        pred, Y_batch = pred.to(torch.float32), Y_batch.to(torch.float32)\n",
    "        loss = loss_fn(pred, Y_batch)\n",
    "        train_loss.append(loss.item())\n",
    "\n",
    "        opt.zero_grad()\n",
    "        loss.backward()\n",
    "        opt.step()\n",
    "\n",
    "        if it % 10 == 0:\n",
    "            print(f\"Iterations: {it} Loss: {loss.item()}\")\n",
    "    \n",
    "    torch.save(model.state_dict(), PATH)\n",
    "\n",
    "    plt.rcParams['figure.figsize'] = [10, 5]\n",
    "    fig, ax = plt.subplots()\n",
    "    clrs = sns.color_palette(\"husl\", 1)\n",
    "    with sns.axes_style(\"darkgrid\"):\n",
    "        ax.plot(range(len(train_loss)), train_loss, c=clrs[0])\n",
    "\n",
    "    ax.set_xlabel(\"Iteration\")\n",
    "    ax.set_ylabel(\"Loss\")\n",
    "    ax.set_title(\"Loss History\")\n",
    "\n",
    "train_models('Noisy_Model3_Fidelity')"
   ]
  },
  {
   "attachments": {},
   "cell_type": "markdown",
   "metadata": {},
   "source": [
    "# 5. Check the distance after training"
   ]
  },
  {
   "attachments": {},
   "cell_type": "markdown",
   "metadata": {},
   "source": [
    "Separate the two classes of binary data"
   ]
  },
  {
   "cell_type": "code",
   "execution_count": 11,
   "metadata": {},
   "outputs": [],
   "source": [
    "X1_test, X0_test = [], []\n",
    "for i in range(len(X_test)):\n",
    "    if Y_test[i] == 1:\n",
    "        X1_test.append(X_test[i])\n",
    "    else:\n",
    "        X0_test.append(X_test[i])\n",
    "X1_test, X0_test = torch.tensor(X1_test).to(torch.float32), torch.tensor(X0_test).to(torch.float32)\n",
    "X1_test, X0_test = X1_test.permute(0, 3, 1, 2), X0_test.permute(0, 3, 1, 2)\n",
    "\n",
    "X1_train, X0_train = [], []\n",
    "for i in range(len(X_train)):\n",
    "    if Y_train[i] == 1:\n",
    "        X1_train.append(X_train[i])\n",
    "    else:\n",
    "        X0_train.append(X_train[i])\n",
    "X1_train, X0_train = torch.tensor(X1_train).to(torch.float32), torch.tensor(X0_train).to(torch.float32)\n",
    "X1_train, X0_train = X1_train.permute(0, 3, 1, 2), X0_train.permute(0, 3, 1, 2)"
   ]
  },
  {
   "attachments": {},
   "cell_type": "markdown",
   "metadata": {},
   "source": [
    "Make trace distance measuring model"
   ]
  },
  {
   "cell_type": "code",
   "execution_count": 7,
   "metadata": {},
   "outputs": [
    {
     "data": {
      "text/plain": [
       "<All keys matched successfully>"
      ]
     },
     "execution_count": 7,
     "metadata": {},
     "output_type": "execute_result"
    }
   ],
   "source": [
    "dev = qml.device('default.qubit', wires=4)\n",
    "\n",
    "@qml.qnode(dev, interface=\"torch\")\n",
    "def Four_Distance3(inputs): \n",
    "    Noisy_Four_QuantumEmbedding3(inputs[0:7])\n",
    "    return qml.density_matrix(wires=range(4))\n",
    "\n",
    "class Distances_Model3(torch.nn.Module):\n",
    "    def __init__(self):\n",
    "        super().__init__()\n",
    "        self.qlayer3_distance = qml.qnn.TorchLayer(Four_Distance3, weight_shapes={})\n",
    "        self.layer1 = torch.nn.Sequential(\n",
    "            torch.nn.Conv2d(1, 1, kernel_size=3, stride=1, padding=1),\n",
    "            torch.nn.ReLU(),\n",
    "            torch.nn.MaxPool2d(kernel_size=2, stride=2)\n",
    "        )\n",
    "\n",
    "        # Layer2: 14 * 14 -> 7 * 7\n",
    "        self.layer2 = torch.nn.Sequential(\n",
    "            torch.nn.Conv2d(1, 1, kernel_size=3, stride=1, padding=1),\n",
    "            torch.nn.ReLU(),\n",
    "            torch.nn.MaxPool2d(kernel_size=2, stride=2)\n",
    "        )\n",
    "\n",
    "        # Fully connected Layers 7 * 7 -> 7\n",
    "        self.fc = torch.nn.Linear(7 * 7, 7, bias=True)\n",
    "\n",
    "        \n",
    "    def forward(self, x1, x0):\n",
    "        x1 = self.layer1(x1)\n",
    "        x1 = self.layer2(x1)\n",
    "        x1 = x1.view(-1, 7 * 7)\n",
    "        x1 = self.fc(x1)\n",
    "\n",
    "        x0 = self.layer1(x0)\n",
    "        x0 = self.layer2(x0)\n",
    "        x0 = x0.view(-1, 7 * 7)\n",
    "        x0 = self.fc(x0)\n",
    "\n",
    "        rhos1 = self.qlayer3_distance(x1)\n",
    "        rhos0 = self.qlayer3_distance(x0)\n",
    "        \n",
    "        rho1 = torch.sum(rhos1, dim=0) / len(x1)\n",
    "        rho0 = torch.sum(rhos0, dim=0) / len(x0)\n",
    "        rho_diff = rho1 - rho0\n",
    "        eigvals = torch.linalg.eigvals(rho_diff)\n",
    "        return 0.5 * torch.real(torch.sum(torch.abs(eigvals)))\n",
    "\n",
    "PATH_Noisy_Model3 = '/Users/tak/Github/QEmbedding/Results/QCNN_demonstration/Noisy/Model 3/Noisy_Model3_Fidelity.pt'\n",
    "D_Model3 = Distances_Model3()\n",
    "D_Model3.load_state_dict(torch.load(PATH_Noisy_Model3))"
   ]
  },
  {
   "attachments": {},
   "cell_type": "markdown",
   "metadata": {},
   "source": [
    "Trace Distance after Noisy_Model3_Fidelity"
   ]
  },
  {
   "cell_type": "code",
   "execution_count": 13,
   "metadata": {},
   "outputs": [
    {
     "name": "stderr",
     "output_type": "stream",
     "text": [
      "/opt/anaconda3/envs/QC/lib/python3.7/site-packages/pennylane/qnn/torch.py:328: UserWarning: Casting complex values to real discards the imaginary part (Triggered internally at /Users/runner/work/_temp/anaconda/conda-bld/pytorch_1666646835196/work/aten/src/ATen/native/Copy.cpp:250.)\n",
      "  return self.qnode(**kwargs).type(x.dtype)\n"
     ]
    },
    {
     "name": "stdout",
     "output_type": "stream",
     "text": [
      "Trace Distance (Training Data) After Noisy Model3 Fidelity: 0.8985708355903625\n",
      "Trace Distance (Test Data) After Noisy Model3 Fidelity: 0.9057900905609131\n",
      "Sample Loss lower bound after Noisy_Model3_Fidelity: 0.050714582204818726\n"
     ]
    }
   ],
   "source": [
    "D_Model3_traindata = D_Model3(X1_train, X0_train)\n",
    "D_Model3_testdata = D_Model3(X1_test, X0_test)\n",
    "print(f\"Trace Distance (Training Data) After Noisy Model3 Fidelity: {D_Model3_traindata}\")\n",
    "print(f\"Trace Distance (Test Data) After Noisy Model3 Fidelity: {D_Model3_testdata}\")\n",
    "\n",
    "LB_Model3_traindata = 0.5 * (1 - D_Model3_traindata.detach().numpy())\n",
    "print(f\"Sample Loss lower bound after Noisy_Model3_Fidelity: {LB_Model3_traindata}\")\n"
   ]
  },
  {
   "attachments": {},
   "cell_type": "markdown",
   "metadata": {},
   "source": [
    "# 6. Training QCNN"
   ]
  },
  {
   "attachments": {},
   "cell_type": "markdown",
   "metadata": {},
   "source": [
    "Re-Label the datasets"
   ]
  },
  {
   "cell_type": "code",
   "execution_count": 8,
   "metadata": {},
   "outputs": [],
   "source": [
    "X_train, X_test = torch.tensor(X_train).to(torch.float32), torch.tensor(X_test).to(torch.float32)\n",
    "X_train, X_test = X_train.permute(0, 3, 1, 2), X_test.permute(0, 3, 1, 2)\n",
    "Y_train = [-1 if y == 0 else 1 for y in Y_train]\n",
    "Y_test = [-1 if y == 0 else 1 for y in Y_test]"
   ]
  },
  {
   "cell_type": "code",
   "execution_count": 9,
   "metadata": {},
   "outputs": [
    {
     "data": {
      "text/plain": [
       "<All keys matched successfully>"
      ]
     },
     "execution_count": 9,
     "metadata": {},
     "output_type": "execute_result"
    }
   ],
   "source": [
    "class x_transform(torch.nn.Module):\n",
    "    def __init__(self):\n",
    "        super().__init__()\n",
    "        self.layer1 = torch.nn.Sequential(\n",
    "            torch.nn.Conv2d(1, 1, kernel_size=3, stride=1, padding=1),\n",
    "            torch.nn.ReLU(),\n",
    "            torch.nn.MaxPool2d(kernel_size=2, stride=2)\n",
    "        )\n",
    "\n",
    "        # Layer2: 14 * 14 -> 7 * 7\n",
    "        self.layer2 = torch.nn.Sequential(\n",
    "            torch.nn.Conv2d(1, 1, kernel_size=3, stride=1, padding=1),\n",
    "            torch.nn.ReLU(),\n",
    "            torch.nn.MaxPool2d(kernel_size=2, stride=2)\n",
    "        )\n",
    "\n",
    "        # Fully connected Layers 7 * 7 -> 8\n",
    "        self.fc = torch.nn.Linear(7 * 7, 7, bias=True)\n",
    "        \n",
    "    def forward(self, x):\n",
    "        x = self.layer1(x)\n",
    "        x = self.layer2(x)\n",
    "        x = x.view(-1, 7 * 7)\n",
    "        x = self.fc(x)\n",
    "        return x.detach().numpy()\n",
    "\n",
    "x_transform_Noisy_Model3_Fidelity = x_transform()\n",
    "x_transform_Noisy_Model3_Fidelity.load_state_dict(torch.load(PATH_Noisy_Model3))"
   ]
  },
  {
   "attachments": {},
   "cell_type": "markdown",
   "metadata": {},
   "source": [
    "Prepare QCNN circuit"
   ]
  },
  {
   "cell_type": "code",
   "execution_count": 10,
   "metadata": {},
   "outputs": [],
   "source": [
    "def statepreparation(x):\n",
    "    x = x_transform_Noisy_Model3_Fidelity(torch.tensor(x).to(torch.float32))\n",
    "    Noisy_Four_QuantumEmbedding3(x[0])\n",
    "\n",
    "def U_TTN(params, wires):  # 2 params\n",
    "    qml.RY(params[0], wires=wires[0])\n",
    "    qml.RY(params[1], wires=wires[1])\n",
    "    qml.CNOT(wires=[wires[0], wires[1]])\n",
    "\n",
    "def QCNN_four(params):\n",
    "    param1 = params[0:2]\n",
    "    param2 = params[2:4]\n",
    "    U_TTN(param1, wires=[0, 1])\n",
    "    U_TTN(param1, wires=[2, 3])\n",
    "    U_TTN(param1, wires=[1, 2])\n",
    "    U_TTN(param1, wires=[3, 0])\n",
    "    U_TTN(param2, wires=[0, 2])\n",
    "\n",
    "\n",
    "@qml.qnode(dev_fake)\n",
    "def QCNN_classifier(params, x):\n",
    "    statepreparation(x)\n",
    "    qml.Barrier()\n",
    "    QCNN_four(params)\n",
    "    return qml.expval(qml.PauliZ(2))\n",
    "\n",
    "def Linear_Loss(labels, predictions):\n",
    "    loss = 0\n",
    "    for l,p in zip(labels, predictions):\n",
    "        loss += 0.5 * (1 - l * p)\n",
    "    return loss / len(labels)\n",
    "\n",
    "def cost(weights, X_batch, Y_batch):\n",
    "    preds = [QCNN_classifier(weights, x) for x in X_batch]\n",
    "    return Linear_Loss(Y_batch, preds)\n",
    "\n",
    "steps = 400\n",
    "learning_rate = 0.01\n",
    "batch_size = 25\n",
    "def circuit_training(X_train, Y_train):\n",
    "\n",
    "    weights = np.random.random(4, requires_grad = True)\n",
    "    opt = qml.NesterovMomentumOptimizer(stepsize=learning_rate)\n",
    "    loss_history = []\n",
    "    for it in range(steps):\n",
    "        batch_index = np.random.randint(0, len(X_train), (batch_size,))\n",
    "        X_batch = [X_train[i] for i in batch_index]\n",
    "        Y_batch = [Y_train[i] for i in batch_index]\n",
    "        weights, cost_new = opt.step_and_cost(lambda v: cost(v, X_batch, Y_batch),\n",
    "                                                     weights)\n",
    "        loss_history.append(cost_new)\n",
    "        if it % 10 == 0:\n",
    "            print(\"iteration: \", it, \" cost: \", cost_new)\n",
    "    return loss_history, weights"
   ]
  },
  {
   "attachments": {},
   "cell_type": "markdown",
   "metadata": {},
   "source": [
    "Draw the circuit and check if everything is right"
   ]
  },
  {
   "cell_type": "code",
   "execution_count": 11,
   "metadata": {},
   "outputs": [
    {
     "name": "stdout",
     "output_type": "stream",
     "text": [
      "0: ──H──RZ(0.04)──╭●───────────╭●──RY(1.00)─────────────────────────╭●──────────RY(1.00)──────────\n",
      "1: ──H──RZ(-1.59)─╰X──RZ(2.20)─╰X─╭●───────────────────╭●──RY(1.00)─╰X──────────RY(1.00)──────────\n",
      "2: ──H──RZ(-1.00)─────────────────╰X─────────RZ(-1.32)─╰X─╭●───────────────────╭●─────────RY(1.00)\n",
      "3: ──H──RZ(-1.37)─────────────────────────────────────────╰X─────────RZ(-3.39)─╰X─────────RY(1.00)\n",
      "\n",
      "──────────────────╭X──RY(1.00)─╭●─┤     \n",
      "───────────────╭●─│────────────│──┤     \n",
      "──╭●──RY(1.00)─╰X─│───RY(1.00)─╰X─┤  <Z>\n",
      "──╰X──RY(1.00)────╰●──────────────┤     \n"
     ]
    },
    {
     "name": "stderr",
     "output_type": "stream",
     "text": [
      "/opt/anaconda3/envs/QC/lib/python3.7/site-packages/ipykernel_launcher.py:2: UserWarning: To copy construct from a tensor, it is recommended to use sourceTensor.clone().detach() or sourceTensor.clone().detach().requires_grad_(True), rather than torch.tensor(sourceTensor).\n",
      "  \n",
      "[W NNPACK.cpp:53] Could not initialize NNPACK! Reason: Unsupported hardware.\n"
     ]
    }
   ],
   "source": [
    "print(\n",
    "    qml.draw(\n",
    "        QCNN_classifier,\n",
    "        expansion_strategy=\"device\",\n",
    "        show_matrices=False\n",
    "    )(x=torch.ones(1,28,28), params=np.ones(4))\n",
    ")"
   ]
  },
  {
   "attachments": {},
   "cell_type": "markdown",
   "metadata": {},
   "source": [
    "Train Noisy QCNN"
   ]
  },
  {
   "cell_type": "code",
   "execution_count": 12,
   "metadata": {},
   "outputs": [
    {
     "name": "stderr",
     "output_type": "stream",
     "text": [
      "/opt/anaconda3/envs/QC/lib/python3.7/site-packages/ipykernel_launcher.py:2: UserWarning: To copy construct from a tensor, it is recommended to use sourceTensor.clone().detach() or sourceTensor.clone().detach().requires_grad_(True), rather than torch.tensor(sourceTensor).\n",
      "  \n"
     ]
    },
    {
     "name": "stdout",
     "output_type": "stream",
     "text": [
      "iteration:  0  cost:  0.5446484375\n",
      "iteration:  10  cost:  0.5295703125\n",
      "iteration:  20  cost:  0.4934765625\n",
      "iteration:  30  cost:  0.469375\n",
      "iteration:  40  cost:  0.467265625\n",
      "iteration:  50  cost:  0.435546875\n",
      "iteration:  60  cost:  0.414921875\n",
      "iteration:  70  cost:  0.4283203125\n",
      "iteration:  80  cost:  0.4146484375\n",
      "iteration:  90  cost:  0.4423828125\n",
      "iteration:  100  cost:  0.430703125\n",
      "iteration:  110  cost:  0.388515625\n",
      "iteration:  120  cost:  0.4150390625\n",
      "iteration:  130  cost:  0.380234375\n",
      "iteration:  140  cost:  0.4365234375\n",
      "iteration:  150  cost:  0.4095703125\n",
      "iteration:  160  cost:  0.3531640625\n",
      "iteration:  170  cost:  0.3984375\n",
      "iteration:  180  cost:  0.3905859375\n",
      "iteration:  190  cost:  0.4020703125\n",
      "iteration:  200  cost:  0.3844921875\n",
      "iteration:  210  cost:  0.4276171875\n",
      "iteration:  220  cost:  0.4008984375\n",
      "iteration:  230  cost:  0.4017578125\n",
      "iteration:  240  cost:  0.39296875\n",
      "iteration:  250  cost:  0.3535546875\n",
      "iteration:  260  cost:  0.3903515625\n",
      "iteration:  270  cost:  0.39640625\n",
      "iteration:  280  cost:  0.385625\n",
      "iteration:  290  cost:  0.37875\n",
      "iteration:  300  cost:  0.3347265625\n",
      "iteration:  310  cost:  0.4287109375\n",
      "iteration:  320  cost:  0.3809765625\n",
      "iteration:  330  cost:  0.39484375\n",
      "iteration:  340  cost:  0.3839453125\n",
      "iteration:  350  cost:  0.3617578125\n",
      "iteration:  360  cost:  0.390234375\n",
      "iteration:  370  cost:  0.4023046875\n",
      "iteration:  380  cost:  0.40578125\n",
      "iteration:  390  cost:  0.387578125\n"
     ]
    }
   ],
   "source": [
    "loss_Noisy_Model3_Fidelity, weights_Noisy_Model3_Fidelity = circuit_training(X_train, Y_train)"
   ]
  },
  {
   "cell_type": "code",
   "execution_count": 15,
   "metadata": {},
   "outputs": [],
   "source": [
    "PATH = '/Users/tak/Github/QEmbedding/Results/QCNN_demonstration/Noisy/Model 3/'\n",
    "f = open(PATH + 'loss_and_weight2_Noisy_Model3_Fidelity', 'w')\n",
    "f.write('loss history: \\n')\n",
    "f.write(str(loss_Noisy_Model3_Fidelity))\n",
    "f.write('\\n')\n",
    "f.write('weights: \\n')\n",
    "f.write(str(weights_Noisy_Model3_Fidelity))\n",
    "f.close()"
   ]
  },
  {
   "cell_type": "code",
   "execution_count": 14,
   "metadata": {},
   "outputs": [
    {
     "data": {
      "text/plain": [
       "<matplotlib.legend.Legend at 0x7f7bd051eed0>"
      ]
     },
     "execution_count": 14,
     "metadata": {},
     "output_type": "execute_result"
    },
    {
     "data": {
      "image/png": "[encoded data removed]",
      "text/plain": [
       "<Figure size 1000x500 with 1 Axes>"
      ]
     },
     "metadata": {},
     "output_type": "display_data"
    }
   ],
   "source": [
    "import seaborn as sns\n",
    "\n",
    "plt.rcParams['figure.figsize'] = [10, 5]\n",
    "fig, ax = plt.subplots()\n",
    "clrs = sns.color_palette(\"husl\", 4)\n",
    "with sns.axes_style(\"darkgrid\"):\n",
    "    ax.plot(range(len(loss_Noisy_Model3_Fidelity)), loss_Noisy_Model3_Fidelity, label=\"Noisy_Model3_Fidelity\", c=clrs[0])\n",
    "    ax.plot(range(400), np.ones(400) * 0.05, label=\"Lower Bound Noisy_Model3_Fidelity\", c=clrs[2])\n",
    "\n",
    "\n",
    "ax.set_xlabel(\"Iteration\")\n",
    "ax.set_ylabel(\"Loss\")\n",
    "ax.set_title(\"QCNN Loss History Noisy_Model3_Fidelity\")\n",
    "ax.legend()"
   ]
  },
  {
   "attachments": {},
   "cell_type": "markdown",
   "metadata": {},
   "source": [
    "Check the classification accuracy"
   ]
  },
  {
   "cell_type": "code",
   "execution_count": 16,
   "metadata": {},
   "outputs": [
    {
     "name": "stderr",
     "output_type": "stream",
     "text": [
      "/opt/anaconda3/envs/QC/lib/python3.7/site-packages/ipykernel_launcher.py:2: UserWarning: To copy construct from a tensor, it is recommended to use sourceTensor.clone().detach() or sourceTensor.clone().detach().requires_grad_(True), rather than torch.tensor(sourceTensor).\n",
      "  \n"
     ]
    },
    {
     "name": "stdout",
     "output_type": "stream",
     "text": [
      " Accuracy after pre-training with Noisy_Model3_Fidelity: 0.9040189125295508\n"
     ]
    }
   ],
   "source": [
    "def accuracy_test(predictions, labels):\n",
    "    acc = 0\n",
    "    for l, p in zip(labels, predictions):\n",
    "        if np.abs(l - p) < 1:\n",
    "            acc = acc + 1\n",
    "    return acc / len(labels)\n",
    "\n",
    "predictions_Noisy_Model3_Fidelity = [QCNN_classifier(weights_Noisy_Model3_Fidelity, x) for x in X_test]\n",
    "accuracy_Noisy_Model3_Fidelity = accuracy_test(predictions_Noisy_Model3_Fidelity, Y_test)\n",
    "print(f\" Accuracy after pre-training with Noisy_Model3_Fidelity: {accuracy_Noisy_Model3_Fidelity}\")\n"
   ]
  },
  {
   "attachments": {},
   "cell_type": "markdown",
   "metadata": {},
   "source": [
    "# 7. Comparison with one fully connected hybrid networks."
   ]
  },
  {
   "cell_type": "code",
   "execution_count": 17,
   "metadata": {},
   "outputs": [],
   "source": [
    "weight_shapes = {\"weights\": (4)}\n",
    "@qml.qnode(dev_fake)\n",
    "def Hybrid_QCNN_circuit(inputs, weights):\n",
    "    Noisy_Four_QuantumEmbedding3(inputs)\n",
    "    QCNN_four(weights)\n",
    "    return qml.expval(qml.PauliZ(2))\n",
    "\n",
    "\n",
    "class Noisy_Hybrid_Model3(torch.nn.Module):\n",
    "    def __init__(self):\n",
    "        super().__init__()\n",
    "        # Layer1: 28 * 28 -> 14 * 14\n",
    "        self.layer1 = torch.nn.Sequential(\n",
    "            torch.nn.Conv2d(1, 1, kernel_size=3, stride=1, padding=1),\n",
    "            torch.nn.ReLU(),\n",
    "            torch.nn.MaxPool2d(kernel_size=2, stride=2)\n",
    "        )\n",
    "\n",
    "        # Layer2: 14 * 14 -> 7 * 7\n",
    "        self.layer2 = torch.nn.Sequential(\n",
    "            torch.nn.Conv2d(1, 1, kernel_size=3, stride=1, padding=1),\n",
    "            torch.nn.ReLU(),\n",
    "            torch.nn.MaxPool2d(kernel_size=2, stride=2)\n",
    "        )\n",
    "\n",
    "        # Fully connected Layers 7 * 7 -> 8\n",
    "        self.fc = torch.nn.Linear(7 * 7, 7, bias=True)\n",
    "        self.qcnn = qml.qnn.TorchLayer(Hybrid_QCNN_circuit, weight_shapes)\n",
    "    \n",
    "    def forward(self, x):\n",
    "        x = self.layer1(x)\n",
    "        x = self.layer2(x)\n",
    "        x = x.view(-1, 7 * 7)\n",
    "        x = self.fc(x)\n",
    "        x = self.qcnn(x)\n",
    "        return x"
   ]
  },
  {
   "cell_type": "code",
   "execution_count": 18,
   "metadata": {},
   "outputs": [],
   "source": [
    "X_train, X_test, Y_train, Y_test = data.data_load_and_process('mnist', feature_reduction=feature_reduction, classes=classes)\n",
    "Y_train = [-1 if y == 0 else 1 for y in Y_train]\n",
    "Y_test = [-1 if y == 0 else 1 for y in Y_test]"
   ]
  },
  {
   "cell_type": "code",
   "execution_count": 19,
   "metadata": {},
   "outputs": [
    {
     "name": "stdout",
     "output_type": "stream",
     "text": [
      "Iterations: 0 Loss: 1.015851616859436\n",
      "Iterations: 10 Loss: 1.0120024681091309\n",
      "Iterations: 20 Loss: 0.98409104347229\n",
      "Iterations: 30 Loss: 1.0345138311386108\n",
      "Iterations: 40 Loss: 0.9596143960952759\n",
      "Iterations: 50 Loss: 0.9659913778305054\n",
      "Iterations: 60 Loss: 0.9848445057868958\n",
      "Iterations: 70 Loss: 0.8429782390594482\n",
      "Iterations: 80 Loss: 0.8586534261703491\n",
      "Iterations: 90 Loss: 0.8590344190597534\n",
      "Iterations: 100 Loss: 0.7579850554466248\n",
      "Iterations: 110 Loss: 0.6336831450462341\n",
      "Iterations: 120 Loss: 0.8290286064147949\n",
      "Iterations: 130 Loss: 0.6474122405052185\n",
      "Iterations: 140 Loss: 0.6935165524482727\n",
      "Iterations: 150 Loss: 0.5735642910003662\n",
      "Iterations: 160 Loss: 0.55409836769104\n",
      "Iterations: 170 Loss: 0.49912598729133606\n",
      "Iterations: 180 Loss: 0.5010343790054321\n",
      "Iterations: 190 Loss: 0.4215109348297119\n",
      "Iterations: 200 Loss: 0.37899094820022583\n",
      "Iterations: 210 Loss: 0.3768157958984375\n",
      "Iterations: 220 Loss: 0.4002934396266937\n",
      "Iterations: 230 Loss: 0.38764190673828125\n",
      "Iterations: 240 Loss: 0.3569500744342804\n",
      "Iterations: 250 Loss: 0.275870680809021\n",
      "Iterations: 260 Loss: 0.27289122343063354\n",
      "Iterations: 270 Loss: 0.2360575795173645\n",
      "Iterations: 280 Loss: 0.22810515761375427\n",
      "Iterations: 290 Loss: 0.210693821310997\n",
      "Iterations: 300 Loss: 0.24966339766979218\n",
      "Iterations: 310 Loss: 0.1942988634109497\n",
      "Iterations: 320 Loss: 0.15747757256031036\n",
      "Iterations: 330 Loss: 0.2521350085735321\n",
      "Iterations: 340 Loss: 0.1821099817752838\n",
      "Iterations: 350 Loss: 0.18735656142234802\n",
      "Iterations: 360 Loss: 0.18800155818462372\n",
      "Iterations: 370 Loss: 0.18363235890865326\n",
      "Iterations: 380 Loss: 0.14394424855709076\n",
      "Iterations: 390 Loss: 0.17918381094932556\n"
     ]
    }
   ],
   "source": [
    "batch_size = 25\n",
    "\n",
    "def train_noisy_hybrid_models(model_name):\n",
    "    train_loss = []\n",
    "    if model_name == 'Noisy_Hybrid_Model3':\n",
    "        model = Noisy_Hybrid_Model3()\n",
    "        PATH = '/Users/tak/Github/QEmbedding/Results/QCNN_demonstration/Noisy/Model 3/Noisy_Hybrid_Model3.pt'\n",
    "    model.train()\n",
    "\n",
    "    loss_fn = torch.nn.MSELoss()\n",
    "    opt = torch.optim.SGD(model.parameters(), lr=0.01)\n",
    "    for it in range(400):\n",
    "\n",
    "        batch_index = np.random.randint(0, len(X_train), (batch_size,))\n",
    "        X_batch = [X_train[i] for i in batch_index]\n",
    "        Y_batch = [Y_train[i] for i in batch_index]\n",
    "\n",
    "        X_batch = torch.tensor(X_batch).to(torch.float32)\n",
    "        Y_batch = torch.tensor(Y_batch).to(torch.float32)\n",
    "        X_batch = X_batch.permute(0, 3, 1, 2)\n",
    "\n",
    "\n",
    "        pred = model(X_batch)\n",
    "        loss = loss_fn(pred, Y_batch)\n",
    "        train_loss.append(loss.item())\n",
    "\n",
    "        opt.zero_grad()\n",
    "        loss.backward()\n",
    "        opt.step()\n",
    "\n",
    "        if it % 10 == 0:\n",
    "            print(f\"Iterations: {it} Loss: {loss.item()}\")\n",
    "    \n",
    "    torch.save(model.state_dict(), PATH)\n",
    "    return train_loss\n",
    "\n",
    "loss_Noisy_Hybrid_Model3 = train_noisy_hybrid_models('Noisy_Hybrid_Model3')"
   ]
  },
  {
   "attachments": {},
   "cell_type": "markdown",
   "metadata": {},
   "source": [
    "Check classification accuracy of Noisy Hybrid Model3"
   ]
  },
  {
   "cell_type": "code",
   "execution_count": 21,
   "metadata": {},
   "outputs": [],
   "source": [
    "X_test = [X_train[i] for i in range(len(X_test))]\n",
    "Y_test = [Y_train[i] for i in range(len(Y_test))]\n",
    "\n",
    "X_test = torch.tensor(X_test).to(torch.float32)\n",
    "Y_test = torch.tensor(Y_test).to(torch.float32)\n",
    "X_test = X_test.permute(0, 3, 1, 2)"
   ]
  },
  {
   "cell_type": "code",
   "execution_count": 27,
   "metadata": {},
   "outputs": [],
   "source": [
    "def accuracy_test(predictions, labels):\n",
    "    acc = 0\n",
    "    for l, p in zip(labels, predictions):\n",
    "        p = p.detach()\n",
    "        if np.abs(l - p) < 1:\n",
    "            acc = acc + 1\n",
    "    return acc / len(labels)"
   ]
  },
  {
   "cell_type": "code",
   "execution_count": 28,
   "metadata": {},
   "outputs": [
    {
     "name": "stdout",
     "output_type": "stream",
     "text": [
      " Accuracy with Noisy_Hybrid_Model3: 0.9957446808510638\n"
     ]
    }
   ],
   "source": [
    "Trained_Noisy_Hybrid_Model3 = Noisy_Hybrid_Model3()\n",
    "Trained_Noisy_Hybrid_Model3.load_state_dict(torch.load('/Users/tak/Github/QEmbedding/Results/QCNN_demonstration/Noisy/Model 3/Noisy_Hybrid_Model3.pt'))\n",
    "\n",
    "predictions_Noisy_Hybrid_Model3 = [Trained_Noisy_Hybrid_Model3(x) for x in X_test]\n",
    "accuracy_Noisy_Hybrid_Model3 = accuracy_test(predictions_Noisy_Hybrid_Model3, Y_test)\n",
    "print(f\" Accuracy with Noisy_Hybrid_Model3: {accuracy_Noisy_Hybrid_Model3}\")"
   ]
  },
  {
   "attachments": {},
   "cell_type": "markdown",
   "metadata": {},
   "source": [
    "Compare Classification Accuracy"
   ]
  },
  {
   "cell_type": "code",
   "execution_count": 29,
   "metadata": {},
   "outputs": [
    {
     "name": "stdout",
     "output_type": "stream",
     "text": [
      " Accuracy after pre-training with Noisy_Model3_Fidelity: 0.9040189125295508\n",
      " Accuracy with Noisy_Hybrid_Model3: 0.9957446808510638\n"
     ]
    }
   ],
   "source": [
    "print(f\" Accuracy after pre-training with Noisy_Model3_Fidelity: {accuracy_Noisy_Model3_Fidelity}\")\n",
    "print(f\" Accuracy with Noisy_Hybrid_Model3: {accuracy_Noisy_Hybrid_Model3}\")"
   ]
  },
  {
   "attachments": {},
   "cell_type": "markdown",
   "metadata": {},
   "source": []
  }
 ],
 "metadata": {
  "kernelspec": {
   "display_name": "Python 3",
   "language": "python",
   "name": "python3"
  },
  "language_info": {
   "codemirror_mode": {
    "name": "ipython",
    "version": 3
   },
   "file_extension": ".py",
   "mimetype": "text/x-python",
   "name": "python",
   "nbconvert_exporter": "python",
   "pygments_lexer": "ipython3",
   "version": "3.7.15"
  },
  "orig_nbformat": 4,
  "vscode": {
   "interpreter": {
    "hash": "18c4b2c9b6e0880abfbec0f1d78bbd37383c13120437ebae8d1a7afe7b354d80"
   }
  }
 },
 "nbformat": 4,
 "nbformat_minor": 2
}
