{
 "cells": [
  {
   "attachments": {},
   "cell_type": "markdown",
   "metadata": {},
   "source": [
    "# QCNN demonstration with Noisy Devices"
   ]
  },
  {
   "attachments": {},
   "cell_type": "markdown",
   "metadata": {},
   "source": [
    "## 1. Load Noisemodel with IBMQ"
   ]
  },
  {
   "attachments": {},
   "cell_type": "markdown",
   "metadata": {},
   "source": [
    "Noise Model (Fake Provider)"
   ]
  },
  {
   "cell_type": "code",
   "execution_count": 37,
   "metadata": {},
   "outputs": [],
   "source": [
    "n_qubits = 4"
   ]
  },
  {
   "cell_type": "code",
   "execution_count": 9,
   "metadata": {},
   "outputs": [
    {
     "name": "stderr",
     "output_type": "stream",
     "text": [
      "ibmqfactory.load_account:WARNING:2023-01-14 16:38:41,539: Credentials are already in use. The existing account in the session will be replaced.\n"
     ]
    }
   ],
   "source": [
    "import pennylane as qml\n",
    "from pennylane import numpy as np\n",
    "from qiskit import IBMQ\n",
    "from qiskit.providers.aer.backends import AerSimulator\n",
    "from qiskit.providers.fake_provider import FakeJakarta, FakeMontreal\n",
    "from qiskit_aer.noise import NoiseModel\n",
    "\n",
    "IBMQ.load_account()\n",
    "noisy = FakeJakarta()\n",
    "\n",
    "noise_model = NoiseModel.from_backend(noisy)\n",
    "coupling_map = noisy.configuration().coupling_map\n",
    "basis_gates = noise_model.basis_gates\n",
    "\n",
    "dev_fake = qml.device(\n",
    "    'qiskit.aer',\n",
    "    wires=n_qubits,\n",
    "    shots=1024,\n",
    "    noise_model=noise_model,\n",
    "    coupling_map=coupling_map,\n",
    "    basis_gates=basis_gates\n",
    ")"
   ]
  },
  {
   "attachments": {},
   "cell_type": "markdown",
   "metadata": {},
   "source": [
    "Real device"
   ]
  },
  {
   "cell_type": "code",
   "execution_count": 4,
   "metadata": {},
   "outputs": [
    {
     "name": "stderr",
     "output_type": "stream",
     "text": [
      "ibmqfactory.load_account:WARNING:2023-01-14 16:28:24,690: Credentials are already in use. The existing account in the session will be replaced.\n"
     ]
    }
   ],
   "source": [
    "TOKEN_tak = \"798c4f141e8fa071c14823a956f816c8dda622f9f00b95cae62cc5b1a3105b4fe4845a234d661f20281f6b77ac0299e3c4367f6a3b58db16c36bcde3a9cb1151\"\n",
    "TOKEN_dkp = \"3ae7ac10f40eb88c7ebb0eca20aa0788e7a96da729e2c3848d9864684362aaf50dfdda7cb3ec1ffd75eb7ed5b44f7c14f2f17419cf600ce14437ee7cd00ac75b\"\n",
    "\n",
    "IBMQ.save_account(token=TOKEN_dkp, overwrite=True)\n",
    "IBMQ.load_account()\n",
    "provider = IBMQ.get_provider(hub='ibm-q-skku')\n",
    "backend = \"ibmq_jakarta\"\n",
    "\n",
    "dev_jakarta = qml.device(\n",
    "    'qiskit.ibmq',\n",
    "    wires=4,\n",
    "    shots=1024,\n",
    "    backend=backend,\n",
    "    provider=provider\n",
    ")"
   ]
  },
  {
   "attachments": {},
   "cell_type": "markdown",
   "metadata": {},
   "source": [
    "## 2. Feature Mapping Circuits"
   ]
  },
  {
   "attachments": {},
   "cell_type": "markdown",
   "metadata": {},
   "source": [
    "Create Feature Mapping Circuits. \n",
    "\n",
    "Note: This is 4 qubit feature mapping circuits used for demonstration.\n",
    "\n",
    "Unlike noiseless simulation, last to first qubit CNOT gates are omitted for connectivity.\n",
    "\n",
    "Also number of layers is set to 1 (N_layers = 3 for noiseless simulation)."
   ]
  },
  {
   "cell_type": "code",
   "execution_count": 38,
   "metadata": {},
   "outputs": [],
   "source": [
    "import embedding\n",
    "\n",
    "def Noisy_Four_QuantumEmbedding1(input):\n",
    "    for j in range(4):\n",
    "        qml.Hadamard(wires=j)\n",
    "        embedding.exp_Z(input[j], wires=j)\n",
    "    for k in range(3):\n",
    "        embedding.exp_ZZ2(input[k], input[k+1], wires=[k,k+1])\n",
    "    #exp_ZZ2(input[3], input[0], wires=[3, 0])                  Removed for connectivity\n",
    "\n",
    "def Noisy_Four_QuantumEmbedding1_inverse(input):\n",
    "    #exp_ZZ2(input[3], input[0], wires=[3, 0], inverse=True)    Removce for connectivity\n",
    "    for k in reversed(range(3)):\n",
    "        embedding.exp_ZZ2(input[k], input[k+1], wires=[k,k+1], inverse=True)\n",
    "        qml.Barrier()\n",
    "    for j in range(4):\n",
    "        embedding.exp_Z(input[j], wires=j, inverse=True)\n",
    "        qml.Hadamard(wires=j)\n",
    "\n",
    "# Quantum Embedding 2 for model 2\n",
    "def Noisy_Four_QuantumEmbedding2(input):\n",
    "    for j in range(4):\n",
    "        qml.Hadamard(wires=j)\n",
    "        embedding.exp_Z(input[j], wires=j)\n",
    "    for k in range(3):\n",
    "        embedding.exp_ZZ1(input[4+k], wires=[k, k+1])\n",
    "    #exp_ZZ1(input[15], wires=[7,0])                        Removed for connectivity\n",
    "\n",
    "def Noisy_Four_QuantumEmbedding2_inverse(input):\n",
    "    #embedding.exp_ZZ1(input[15], wires=[7,0], inverse=True) Removed for connectivity\n",
    "    for k in reversed(range(3)):\n",
    "        embedding.exp_ZZ1(input[k+4], wires=[k,k+1], inverse=True)\n",
    "    qml.Barrier()\n",
    "    for j in range(4):\n",
    "        embedding.exp_Z(input[j], wires=j, inverse=True)\n",
    "        qml.Hadamard(wires=j)"
   ]
  },
  {
   "cell_type": "code",
   "execution_count": 44,
   "metadata": {},
   "outputs": [],
   "source": [
    "import torch\n",
    "from torch import nn\n",
    "\n",
    "# Hybrid Model 1\n",
    "@qml.qnode(dev_fake, interface=\"torch\")\n",
    "def circuit1(inputs): \n",
    "    Noisy_Four_QuantumEmbedding1(inputs[0:4])\n",
    "    Noisy_Four_QuantumEmbedding1_inverse(inputs[4:8])\n",
    "    return qml.probs(wires=range(4))\n",
    "\n",
    "class Noisy_Model1_Fidelity(torch.nn.Module):\n",
    "    def __init__(self):\n",
    "        super().__init__()\n",
    "        self.qlayer1 = qml.qnn.TorchLayer(circuit1, weight_shapes={})\n",
    "        self.linear_relu_stack1 = nn.Sequential(\n",
    "            nn.Linear(4, 6),\n",
    "            nn.ReLU(),\n",
    "            nn.Linear(6, 6),\n",
    "            nn.ReLU(),\n",
    "            nn.Linear(6, 4)\n",
    "        )\n",
    "    def forward(self, x1, x2):\n",
    "        x1 = self.linear_relu_stack1(x1)\n",
    "        x2 = self.linear_relu_stack1(x2)\n",
    "        x = torch.concat([x1, x2], 1)\n",
    "        x = self.qlayer1(x)\n",
    "        return x[:,0]\n",
    "\n",
    "# Hybrid Model 2\n",
    "@qml.qnode(dev_fake, interface=\"torch\")\n",
    "def circuit2(inputs): \n",
    "    Noisy_Four_QuantumEmbedding2(inputs[0:7])\n",
    "    Noisy_Four_QuantumEmbedding2_inverse(inputs[7:14])\n",
    "    return qml.probs(wires=range(4))\n",
    "\n",
    "class Noisy_Model2_Fidelity(torch.nn.Module):\n",
    "    def __init__(self):\n",
    "        super().__init__()\n",
    "        self.qlayer2 = qml.qnn.TorchLayer(circuit2, weight_shapes={})\n",
    "        self.linear_relu_stack2 = nn.Sequential(\n",
    "            nn.Linear(4, 12),\n",
    "            nn.ReLU(),\n",
    "            nn.Linear(12, 12),\n",
    "            nn.ReLU(),\n",
    "            nn.Linear(12, 7)\n",
    "        )\n",
    "    def forward(self, x1, x2):\n",
    "        x1 = self.linear_relu_stack2(x1)\n",
    "        x2 = self.linear_relu_stack2(x2)\n",
    "        x = torch.concat([x1, x2], 1)\n",
    "        x = self.qlayer2(x)\n",
    "        return x[:,0]"
   ]
  },
  {
   "cell_type": "code",
   "execution_count": 48,
   "metadata": {},
   "outputs": [
    {
     "name": "stdout",
     "output_type": "stream",
     "text": [
      "Circuit1: \n",
      "\n",
      "0: ──H──RZ(-2.00)─╭●────────────╭●────────────────────────────────────────────────────────────\n",
      "1: ──H──RZ(-4.00)─╰X──RZ(-4.89)─╰X─╭●────────────╭●──────────────────────────────────╭●───────\n",
      "2: ──H──RZ(-6.00)──────────────────╰X──RZ(-0.32)─╰X─╭●───────────╭●─╭●────────────╭●─╰X───────\n",
      "3: ──H──RZ(-8.00)───────────────────────────────────╰X──RZ(0.24)─╰X─╰X──RZ(-0.24)─╰X──RZ(8.00)\n",
      "\n",
      "───────────────╭●──────────────────╭●──RZ(2.00)──H─┤ ╭Probs\n",
      "────────────╭●─╰X─────────RZ(4.89)─╰X──RZ(4.00)──H─┤ ├Probs\n",
      "───RZ(0.32)─╰X──RZ(6.00)──H────────────────────────┤ ├Probs\n",
      "───H───────────────────────────────────────────────┤ ╰Probs\n",
      "Circuit2: \n",
      "\n",
      "0: ──H──RZ(-2.00)─╭●─────────────╭●───────────────────────────────────────────────────────────────\n",
      "1: ──H──RZ(-4.00)─╰X──RZ(-10.00)─╰X─╭●─────────────╭●────────────────────────────────────╭●───────\n",
      "2: ──H──RZ(-6.00)───────────────────╰X──RZ(-12.00)─╰X─╭●─────────────╭●─╭●────────────╭●─╰X───────\n",
      "3: ──H──RZ(-8.00)─────────────────────────────────────╰X──RZ(-14.00)─╰X─╰X──RZ(14.00)─╰X──RZ(8.00)\n",
      "\n",
      "────────────────╭●───────────────────╭●──RZ(2.00)──H─┤ ╭Probs\n",
      "─────────────╭●─╰X─────────RZ(10.00)─╰X──RZ(4.00)──H─┤ ├Probs\n",
      "───RZ(12.00)─╰X──RZ(6.00)──H─────────────────────────┤ ├Probs\n",
      "───H─────────────────────────────────────────────────┤ ╰Probs\n"
     ]
    }
   ],
   "source": [
    "print(\"Circuit1: \\n\")\n",
    "print(\n",
    "    qml.draw(\n",
    "        circuit1,\n",
    "        expansion_strategy=\"device\",\n",
    "        show_matrices=False\n",
    "    )([1,2,3,4,1,2,3,4])\n",
    ")\n",
    "\n",
    "print(\"Circuit2: \\n\")\n",
    "print(\n",
    "    qml.draw(\n",
    "        circuit2,\n",
    "        expansion_strategy=\"device\",\n",
    "        show_matrices=False\n",
    "    )([1,2,3,4,5,6,7,1,2,3,4,5,6,7])\n",
    ")"
   ]
  },
  {
   "attachments": {},
   "cell_type": "markdown",
   "metadata": {},
   "source": [
    "# 4. Load Datasets"
   ]
  },
  {
   "cell_type": "code",
   "execution_count": 49,
   "metadata": {},
   "outputs": [
    {
     "name": "stdout",
     "output_type": "stream",
     "text": [
      "Uisng Device: cpu\n",
      "\n"
     ]
    },
    {
     "ename": "TypeError",
     "evalue": "data_load_and_process() missing 1 required positional argument: 'ROI'",
     "output_type": "error",
     "traceback": [
      "\u001b[0;31m---------------------------------------------------------------------------\u001b[0m",
      "\u001b[0;31mTypeError\u001b[0m                                 Traceback (most recent call last)",
      "\u001b[0;32m/var/folders/ym/ry24dhs911s7zbqfbhs5ns2m0000gn/T/ipykernel_4371/2179617273.py\u001b[0m in \u001b[0;36m<module>\u001b[0;34m\u001b[0m\n\u001b[1;32m      4\u001b[0m \u001b[0msys\u001b[0m\u001b[0;34m.\u001b[0m\u001b[0mpath\u001b[0m\u001b[0;34m.\u001b[0m\u001b[0minsert\u001b[0m\u001b[0;34m(\u001b[0m\u001b[0;36m0\u001b[0m\u001b[0;34m,\u001b[0m \u001b[0;34m'/Users/tak/Github/QEmbedding/'\u001b[0m\u001b[0;34m)\u001b[0m\u001b[0;34m\u001b[0m\u001b[0;34m\u001b[0m\u001b[0m\n\u001b[1;32m      5\u001b[0m \u001b[0;32mimport\u001b[0m \u001b[0mdata\u001b[0m\u001b[0;34m\u001b[0m\u001b[0;34m\u001b[0m\u001b[0m\n\u001b[0;32m----> 6\u001b[0;31m \u001b[0;32mimport\u001b[0m \u001b[0mtraining\u001b[0m\u001b[0;34m\u001b[0m\u001b[0;34m\u001b[0m\u001b[0m\n\u001b[0m\u001b[1;32m      7\u001b[0m \u001b[0;34m\u001b[0m\u001b[0m\n\u001b[1;32m      8\u001b[0m \u001b[0;34m\u001b[0m\u001b[0m\n",
      "\u001b[0;32m~/Github/QEmbedding/training.py\u001b[0m in \u001b[0;36m<module>\u001b[0;34m\u001b[0m\n\u001b[1;32m     16\u001b[0m \u001b[0;34m\u001b[0m\u001b[0m\n\u001b[1;32m     17\u001b[0m \u001b[0;31m#load data\u001b[0m\u001b[0;34m\u001b[0m\u001b[0;34m\u001b[0m\u001b[0;34m\u001b[0m\u001b[0m\n\u001b[0;32m---> 18\u001b[0;31m \u001b[0mX_train\u001b[0m\u001b[0;34m,\u001b[0m \u001b[0mX_test\u001b[0m\u001b[0;34m,\u001b[0m \u001b[0mY_train\u001b[0m\u001b[0;34m,\u001b[0m \u001b[0mY_test\u001b[0m \u001b[0;34m=\u001b[0m \u001b[0mdata\u001b[0m\u001b[0;34m.\u001b[0m\u001b[0mdata_load_and_process\u001b[0m\u001b[0;34m(\u001b[0m\u001b[0;34m'mnist'\u001b[0m\u001b[0;34m,\u001b[0m \u001b[0mfeature_reduction\u001b[0m\u001b[0;34m=\u001b[0m\u001b[0mfeature_reduction\u001b[0m\u001b[0;34m,\u001b[0m \u001b[0mclasses\u001b[0m\u001b[0;34m=\u001b[0m\u001b[0mclasses\u001b[0m\u001b[0;34m)\u001b[0m\u001b[0;34m\u001b[0m\u001b[0;34m\u001b[0m\u001b[0m\n\u001b[0m\u001b[1;32m     19\u001b[0m \u001b[0;31m#make new data for hybrid model\u001b[0m\u001b[0;34m\u001b[0m\u001b[0;34m\u001b[0m\u001b[0;34m\u001b[0m\u001b[0m\n\u001b[1;32m     20\u001b[0m \u001b[0;32mdef\u001b[0m \u001b[0mnew_data\u001b[0m\u001b[0;34m(\u001b[0m\u001b[0mbatch_size\u001b[0m\u001b[0;34m,\u001b[0m \u001b[0mX\u001b[0m\u001b[0;34m,\u001b[0m \u001b[0mY\u001b[0m\u001b[0;34m)\u001b[0m\u001b[0;34m:\u001b[0m\u001b[0;34m\u001b[0m\u001b[0;34m\u001b[0m\u001b[0m\n",
      "\u001b[0;31mTypeError\u001b[0m: data_load_and_process() missing 1 required positional argument: 'ROI'"
     ]
    }
   ],
   "source": [
    "import matplotlib.pyplot as plt\n",
    "import matplotlib as mpl\n",
    "import sys\n",
    "sys.path.insert(0, '/Users/tak/Github/QEmbedding/')\n",
    "import data\n",
    "import training\n",
    "\n",
    "\n",
    "feature_reduction = 'PCA4'\n",
    "classes = [0,1]\n",
    "X_train, X_test, Y_train, Y_test = data.data_load_and_process('mnist', feature_reduction=feature_reduction, classes=classes)\n",
    "\n",
    "N_valid, N_test = 500, 1000\n",
    "X1_new_valid, X2_new_valid, Y_new_valid = training.new_data(N_valid, X_test, Y_test)\n",
    "X1_new_test, X2_new_test, Y_new_test = training.new_data(N_test, X_test, Y_test)"
   ]
  },
  {
   "attachments": {},
   "cell_type": "markdown",
   "metadata": {},
   "source": [
    "# 5. Train Models"
   ]
  },
  {
   "cell_type": "code",
   "execution_count": 13,
   "metadata": {},
   "outputs": [
    {
     "name": "stdout",
     "output_type": "stream",
     "text": [
      "Iterations: 0 Loss: 0.1334354430437088\n",
      "Iterations: 1 Loss: 0.181786447763443\n",
      "Iterations: 2 Loss: 0.39313602447509766\n",
      "Iterations: 3 Loss: 0.24019566178321838\n",
      "Iterations: 4 Loss: 0.29357433319091797\n",
      "Iterations: 5 Loss: 0.34023523330688477\n",
      "Iterations: 6 Loss: 0.4444909989833832\n",
      "Iterations: 7 Loss: 0.22131165862083435\n",
      "Iterations: 8 Loss: 0.4706466794013977\n",
      "Iterations: 9 Loss: 0.4577895998954773\n",
      "Iterations: 10 Loss: 0.3147352337837219\n",
      "Iterations: 11 Loss: 0.44538936018943787\n",
      "Iterations: 12 Loss: 0.4642656445503235\n",
      "Iterations: 13 Loss: 0.5150899887084961\n",
      "Iterations: 14 Loss: 0.04970979690551758\n",
      "Iterations: 15 Loss: 0.10976314544677734\n",
      "Iterations: 16 Loss: 0.21642637252807617\n",
      "Iterations: 17 Loss: 0.2713228166103363\n",
      "Iterations: 18 Loss: 0.29002076387405396\n",
      "Iterations: 19 Loss: 0.20271272957324982\n",
      "Iterations: 20 Loss: 0.3947276175022125\n",
      "Iterations: 21 Loss: 0.24872808158397675\n",
      "Iterations: 22 Loss: 0.47777071595191956\n",
      "Iterations: 23 Loss: 0.2039669007062912\n",
      "Iterations: 24 Loss: 0.17642346024513245\n",
      "Iterations: 25 Loss: 0.38971805572509766\n",
      "Iterations: 26 Loss: 0.37927111983299255\n",
      "Iterations: 27 Loss: 0.37496548891067505\n",
      "Iterations: 28 Loss: 0.24409303069114685\n",
      "Iterations: 29 Loss: 0.1785965859889984\n",
      "Iterations: 30 Loss: 0.31671246886253357\n",
      "Iterations: 31 Loss: 0.4467691481113434\n",
      "Iterations: 32 Loss: 0.3428097665309906\n",
      "Iterations: 33 Loss: 0.300541490316391\n",
      "Iterations: 34 Loss: 0.23011913895606995\n",
      "Iterations: 35 Loss: 0.18837137520313263\n",
      "Iterations: 36 Loss: 0.20905427634716034\n",
      "Iterations: 37 Loss: 0.05054168775677681\n",
      "Iterations: 38 Loss: 0.20676155388355255\n",
      "Iterations: 39 Loss: 0.07647524029016495\n",
      "Iterations: 40 Loss: 0.17863158881664276\n",
      "Iterations: 41 Loss: 0.1226281151175499\n",
      "Iterations: 42 Loss: 0.2268236130475998\n",
      "Iterations: 43 Loss: 0.21858224272727966\n",
      "Iterations: 44 Loss: 0.11532564461231232\n",
      "Iterations: 45 Loss: 0.1647169142961502\n",
      "Iterations: 46 Loss: 0.24242934584617615\n",
      "Iterations: 47 Loss: 0.21981362998485565\n",
      "Iterations: 48 Loss: 0.060863591730594635\n",
      "Iterations: 49 Loss: 0.18425330519676208\n",
      "Iterations: 50 Loss: 0.08928585052490234\n",
      "Iterations: 51 Loss: 0.17602959275245667\n",
      "Iterations: 52 Loss: 0.16107559204101562\n",
      "Iterations: 53 Loss: 0.04672565311193466\n",
      "Iterations: 54 Loss: 0.2381819784641266\n",
      "Iterations: 55 Loss: 0.2218741476535797\n",
      "Iterations: 56 Loss: 0.11337528377771378\n",
      "Iterations: 57 Loss: 0.06501197814941406\n",
      "Iterations: 58 Loss: 0.11944150924682617\n",
      "Iterations: 59 Loss: 0.048563290387392044\n",
      "Iterations: 60 Loss: 0.05106630176305771\n",
      "Iterations: 61 Loss: 0.05006980895996094\n",
      "Iterations: 62 Loss: 0.11323633044958115\n",
      "Iterations: 63 Loss: 0.09483709186315536\n",
      "Iterations: 64 Loss: 0.11275959014892578\n",
      "Iterations: 65 Loss: 0.1077355369925499\n",
      "Iterations: 66 Loss: 0.05954599380493164\n",
      "Iterations: 67 Loss: 0.13199825584888458\n",
      "Iterations: 68 Loss: 0.18047551810741425\n",
      "Iterations: 69 Loss: 0.09787597507238388\n",
      "Iterations: 70 Loss: 0.033095262944698334\n",
      "Iterations: 71 Loss: 0.09082040935754776\n",
      "Iterations: 72 Loss: 0.10286607593297958\n",
      "Iterations: 73 Loss: 0.037754058837890625\n",
      "Iterations: 74 Loss: 0.033362485468387604\n",
      "Iterations: 75 Loss: 0.05834703519940376\n",
      "Iterations: 76 Loss: 0.07548590004444122\n",
      "Iterations: 77 Loss: 0.1580856293439865\n",
      "Iterations: 78 Loss: 0.02518625184893608\n",
      "Iterations: 79 Loss: 0.205104261636734\n",
      "Iterations: 80 Loss: 0.15019731223583221\n",
      "Iterations: 81 Loss: 0.09134282916784286\n",
      "Iterations: 82 Loss: 0.033083248883485794\n",
      "Iterations: 83 Loss: 0.10785426944494247\n",
      "Iterations: 84 Loss: 0.06641445308923721\n",
      "Iterations: 85 Loss: 0.085291288793087\n",
      "Iterations: 86 Loss: 0.039376161992549896\n",
      "Iterations: 87 Loss: 0.1942528784275055\n",
      "Iterations: 88 Loss: 0.027003765106201172\n",
      "Iterations: 89 Loss: 0.02477550506591797\n",
      "Iterations: 90 Loss: 0.09283638000488281\n",
      "Iterations: 91 Loss: 0.06860542297363281\n",
      "Iterations: 92 Loss: 0.0506502166390419\n",
      "Iterations: 93 Loss: 0.04691743850708008\n",
      "Iterations: 94 Loss: 0.06957702338695526\n",
      "Iterations: 95 Loss: 0.03363037109375\n",
      "Iterations: 96 Loss: 0.03522081300616264\n",
      "Iterations: 97 Loss: 0.029139995574951172\n",
      "Iterations: 98 Loss: 0.07297305762767792\n",
      "Iterations: 99 Loss: 0.06689634174108505\n",
      "Iterations: 100 Loss: 0.10047588497400284\n",
      "Iterations: 101 Loss: 0.10335350036621094\n",
      "Iterations: 102 Loss: 0.023047352209687233\n",
      "Iterations: 103 Loss: 0.11674804985523224\n",
      "Iterations: 104 Loss: 0.03744392469525337\n",
      "Iterations: 105 Loss: 0.05420112609863281\n",
      "Iterations: 106 Loss: 0.1086704283952713\n",
      "Iterations: 107 Loss: 0.018777847290039062\n",
      "Iterations: 108 Loss: 0.10699014365673065\n",
      "Iterations: 109 Loss: 0.05496921390295029\n",
      "Iterations: 110 Loss: 0.042403124272823334\n",
      "Iterations: 111 Loss: 0.01886777952313423\n",
      "Iterations: 112 Loss: 0.07360763847827911\n",
      "Iterations: 113 Loss: 0.08950290828943253\n",
      "Iterations: 114 Loss: 0.06931247562170029\n",
      "Iterations: 115 Loss: 0.15241079032421112\n",
      "Iterations: 116 Loss: 0.036779213696718216\n",
      "Iterations: 117 Loss: 0.028484057635068893\n",
      "Iterations: 118 Loss: 0.055919647216796875\n",
      "Iterations: 119 Loss: 0.13130530714988708\n",
      "Iterations: 120 Loss: 0.13902902603149414\n",
      "Iterations: 121 Loss: 0.021019745618104935\n",
      "Iterations: 122 Loss: 0.07680682837963104\n",
      "Iterations: 123 Loss: 0.04690084606409073\n",
      "Iterations: 124 Loss: 0.026492690667510033\n",
      "Iterations: 125 Loss: 0.0263093002140522\n",
      "Iterations: 126 Loss: 0.03622636944055557\n",
      "Iterations: 127 Loss: 0.04881305620074272\n",
      "Iterations: 128 Loss: 0.0999733954668045\n",
      "Iterations: 129 Loss: 0.038591958582401276\n",
      "Iterations: 130 Loss: 0.021523570641875267\n",
      "Iterations: 131 Loss: 0.08010997623205185\n",
      "Iterations: 132 Loss: 0.05322236940264702\n",
      "Iterations: 133 Loss: 0.08790521323680878\n",
      "Iterations: 134 Loss: 0.11476488411426544\n",
      "Iterations: 135 Loss: 0.1078607589006424\n",
      "Iterations: 136 Loss: 0.02914867363870144\n",
      "Iterations: 137 Loss: 0.05410461500287056\n",
      "Iterations: 138 Loss: 0.0376802459359169\n",
      "Iterations: 139 Loss: 0.07381715625524521\n",
      "Iterations: 140 Loss: 0.02227487601339817\n",
      "Iterations: 141 Loss: 0.11316986382007599\n",
      "Iterations: 142 Loss: 0.043181419372558594\n",
      "Iterations: 143 Loss: 0.05342750623822212\n",
      "Iterations: 144 Loss: 0.03088540956377983\n",
      "Iterations: 145 Loss: 0.016286849975585938\n",
      "Iterations: 146 Loss: 0.13165779411792755\n",
      "Iterations: 147 Loss: 0.036223411560058594\n",
      "Iterations: 148 Loss: 0.12804536521434784\n",
      "Iterations: 149 Loss: 0.0892459899187088\n",
      "Iterations: 150 Loss: 0.032453346997499466\n",
      "Iterations: 151 Loss: 0.018208026885986328\n",
      "Iterations: 152 Loss: 0.035483550280332565\n",
      "Iterations: 153 Loss: 0.06676902621984482\n",
      "Iterations: 154 Loss: 0.02475709840655327\n",
      "Iterations: 155 Loss: 0.04619035869836807\n",
      "Iterations: 156 Loss: 0.04929199069738388\n",
      "Iterations: 157 Loss: 0.027394484728574753\n",
      "Iterations: 158 Loss: 0.1360679566860199\n",
      "Iterations: 159 Loss: 0.02137126959860325\n",
      "Iterations: 160 Loss: 0.027304839342832565\n",
      "Iterations: 161 Loss: 0.06316433101892471\n",
      "Iterations: 162 Loss: 0.026602650061249733\n",
      "Iterations: 163 Loss: 0.04570417478680611\n",
      "Iterations: 164 Loss: 0.1368219405412674\n",
      "Iterations: 165 Loss: 0.042333029210567474\n",
      "Iterations: 166 Loss: 0.14641618728637695\n",
      "Iterations: 167 Loss: 0.055510807782411575\n",
      "Iterations: 168 Loss: 0.1015544906258583\n",
      "Iterations: 169 Loss: 0.1378178596496582\n",
      "Iterations: 170 Loss: 0.0399327278137207\n",
      "Iterations: 171 Loss: 0.03447570651769638\n",
      "Iterations: 172 Loss: 0.05510912090539932\n",
      "Iterations: 173 Loss: 0.0383874885737896\n",
      "Iterations: 174 Loss: 0.04940986633300781\n",
      "Iterations: 175 Loss: 0.0342312827706337\n",
      "Iterations: 176 Loss: 0.07016582787036896\n",
      "Iterations: 177 Loss: 0.07509899139404297\n",
      "Iterations: 178 Loss: 0.03326225280761719\n",
      "Iterations: 179 Loss: 0.037494659423828125\n",
      "Iterations: 180 Loss: 0.011233043856918812\n",
      "Iterations: 181 Loss: 0.07023163139820099\n",
      "Iterations: 182 Loss: 0.16535501182079315\n",
      "Iterations: 183 Loss: 0.11065826565027237\n",
      "Iterations: 184 Loss: 0.08610353618860245\n",
      "Iterations: 185 Loss: 0.07669639587402344\n",
      "Iterations: 186 Loss: 0.025703812018036842\n",
      "Iterations: 187 Loss: 0.05126342922449112\n",
      "Iterations: 188 Loss: 0.12205591052770615\n",
      "Iterations: 189 Loss: 0.030946921557188034\n",
      "Iterations: 190 Loss: 0.028070831671357155\n",
      "Iterations: 191 Loss: 0.05468568950891495\n",
      "Iterations: 192 Loss: 0.08331318199634552\n",
      "Iterations: 193 Loss: 0.03716240078210831\n",
      "Iterations: 194 Loss: 0.03172922134399414\n",
      "Iterations: 195 Loss: 0.03410501405596733\n",
      "Iterations: 196 Loss: 0.12513694167137146\n",
      "Iterations: 197 Loss: 0.059316445142030716\n",
      "Iterations: 198 Loss: 0.1012205109000206\n",
      "Iterations: 199 Loss: 0.03587007522583008\n"
     ]
    }
   ],
   "source": [
    "def train_models(model_name):\n",
    "    train_loss = []\n",
    "    if model_name == 'Model1_Fidelity':\n",
    "        model = Model1_Fidelity()\n",
    "        PATH = '/Users/tak/Github/QEmbedding/Results/earlystop 10 experiments/Analysis/Model1_Fidelity.pt'\n",
    "    model.train()\n",
    "\n",
    "    loss_fn = torch.nn.MSELoss()\n",
    "    opt = torch.optim.SGD(model.parameters(), lr=0.01)\n",
    "    for it in range(200):\n",
    "        X1_batch, X2_batch, Y_batch = new_data(10, X_train, Y_train)\n",
    "        X1_batch, X2_batch, Y_batch = X1_batch, X2_batch, Y_batch\n",
    "\n",
    "        pred = model(X1_batch, X2_batch)\n",
    "        pred, Y_batch = pred.to(torch.float32), Y_batch.to(torch.float32)\n",
    "        loss = loss_fn(pred, Y_batch)\n",
    "        train_loss.append(loss.item())\n",
    "\n",
    "        opt.zero_grad()\n",
    "        loss.backward()\n",
    "        opt.step()\n",
    "\n",
    "        print(f\"Iterations: {it} Loss: {loss.item()}\")\n",
    "    \n",
    "    torch.save(model.state_dict(), PATH)\n",
    "\n",
    "\n",
    "#train_models('Model1_Fidelity')\n",
    "train_models('Model1_Fidelity')"
   ]
  },
  {
   "cell_type": "code",
   "execution_count": 15,
   "metadata": {},
   "outputs": [
    {
     "data": {
      "text/plain": [
       "<All keys matched successfully>"
      ]
     },
     "execution_count": 15,
     "metadata": {},
     "output_type": "execute_result"
    }
   ],
   "source": [
    "PATH = '/Users/tak/Github/QEmbedding/Results/earlystop 10 experiments/Analysis/Model1_Fidelity.pt'\n",
    "X1_test, X0_test = [], []\n",
    "for i in range(len(X_test)):\n",
    "    if Y_test[i] == 1:\n",
    "        X1_test.append(X_test[i])\n",
    "    else:\n",
    "        X0_test.append(X_test[i])\n",
    "X1_test, X0_test = torch.tensor(X1_test), torch.tensor(X0_test)\n",
    "\n",
    "X1_train, X0_train = [], []\n",
    "for i in range(len(X_train)):\n",
    "    if Y_train[i] == 1:\n",
    "        X1_train.append(X_train[i])\n",
    "    else:\n",
    "        X0_train.append(X_train[i])\n",
    "X1_train, X0_train = torch.tensor(X1_train), torch.tensor(X0_train)\n",
    "\n",
    "\n",
    "dev = qml.device('default.qubit', wires=4)\n",
    "@qml.qnode(dev, interface=\"torch\")\n",
    "def Four_Distance(inputs): \n",
    "    Four_QuantumEmbedding(inputs[0:4])\n",
    "    return qml.density_matrix(wires=range(4))\n",
    "\n",
    "class Distances(torch.nn.Module):\n",
    "    def __init__(self):\n",
    "        super().__init__()\n",
    "        self.qlayer1_distance = qml.qnn.TorchLayer(Four_Distance, weight_shapes={})\n",
    "        self.linear_relu_stack1 = nn.Sequential(\n",
    "            nn.Linear(4, 6),\n",
    "            nn.ReLU(),\n",
    "            nn.Linear(6, 6),\n",
    "            nn.ReLU(),\n",
    "            nn.Linear(6, 4)\n",
    "        )\n",
    "    def forward(self, x1, x0, Distance, Trained):\n",
    "        if Trained:\n",
    "            x1 = self.linear_relu_stack1(x1)\n",
    "            x0 = self.linear_relu_stack1(x0)\n",
    "        rhos1 = self.qlayer1_distance(x1)\n",
    "        rhos0 = self.qlayer1_distance(x0)\n",
    "        rho1 = torch.sum(rhos1, dim=0) / len(x1)\n",
    "        rho0 = torch.sum(rhos0, dim=0) / len(x0)\n",
    "        rho_diff = rho1 - rho0\n",
    "        if Distance == 'Trace':\n",
    "            eigvals = torch.linalg.eigvals(rho_diff)\n",
    "            return 0.5 * torch.real(torch.sum(torch.abs(eigvals)))\n",
    "\n",
    "Model1_Fidelity_Distance = Distances()\n",
    "Model1_Fidelity_Distance.load_state_dict(torch.load(PATH))"
   ]
  },
  {
   "cell_type": "code",
   "execution_count": 16,
   "metadata": {},
   "outputs": [
    {
     "name": "stderr",
     "output_type": "stream",
     "text": [
      "/opt/anaconda3/envs/QC/lib/python3.7/site-packages/pennylane/qnn/torch.py:328: UserWarning: Casting complex values to real discards the imaginary part (Triggered internally at /Users/runner/work/_temp/anaconda/conda-bld/pytorch_1666646835196/work/aten/src/ATen/native/Copy.cpp:250.)\n",
      "  return self.qnode(**kwargs).type(x.dtype)\n"
     ]
    },
    {
     "name": "stdout",
     "output_type": "stream",
     "text": [
      "Trace Distance (Training Data) Before: 0.3409276604652405\n",
      "Trace Distance (Test Data) Before: 0.31724295020103455\n",
      "Trace Distance (Training Data) After Model1 Fidelity: 0.9015634655952454\n",
      "Trace Distance (Test Data) After Model1 Fidelity: 0.9096429347991943\n"
     ]
    }
   ],
   "source": [
    "# Distances Before Training\n",
    "Trace_before_traindata = Model1_Fidelity_Distance(X1_train, X0_train, 'Trace', False)\n",
    "Trace_before_testdata = Model1_Fidelity_Distance(X1_test, X0_test, 'Trace', False)\n",
    "print(f\"Trace Distance (Training Data) Before: {Trace_before_traindata}\")\n",
    "print(f\"Trace Distance (Test Data) Before: {Trace_before_testdata}\")\n",
    "\n",
    "# Distances After training with Model1_Fidelity\n",
    "Trace_Fidelity_traindata = Model1_Fidelity_Distance(X1_train, X0_train, 'Trace', True)\n",
    "Trace_Fidelity_testdata = Model1_Fidelity_Distance(X1_test, X0_test, 'Trace', True)\n",
    "print(f\"Trace Distance (Training Data) After Model1 Fidelity: {Trace_Fidelity_traindata}\")\n",
    "print(f\"Trace Distance (Test Data) After Model1 Fidelity: {Trace_Fidelity_testdata}\")"
   ]
  },
  {
   "attachments": {},
   "cell_type": "markdown",
   "metadata": {},
   "source": [
    "## 6. Training QCNN"
   ]
  },
  {
   "cell_type": "code",
   "execution_count": 17,
   "metadata": {},
   "outputs": [],
   "source": [
    "Y_train = [-1 if y == 0 else 1 for y in Y_train]\n",
    "Y_test = [-1 if y == 0 else 1 for y in Y_test]"
   ]
  },
  {
   "cell_type": "code",
   "execution_count": 18,
   "metadata": {},
   "outputs": [
    {
     "data": {
      "text/plain": [
       "<All keys matched successfully>"
      ]
     },
     "execution_count": 18,
     "metadata": {},
     "output_type": "execute_result"
    }
   ],
   "source": [
    "class x_transform(torch.nn.Module):\n",
    "    def __init__(self):\n",
    "        super().__init__()\n",
    "        self.linear_relu_stack1 = nn.Sequential(\n",
    "            nn.Linear(4, 6),\n",
    "            nn.ReLU(),\n",
    "            nn.Linear(6, 6),\n",
    "            nn.ReLU(),\n",
    "            nn.Linear(6, 4)\n",
    "        )\n",
    "    def forward(self, x):\n",
    "        x = self.linear_relu_stack1(x)\n",
    "        return x.detach().numpy()\n",
    "\n",
    "model = x_transform()\n",
    "model.load_state_dict(torch.load(PATH))\n",
    "#model.load_state_dict(torch.load(PATH_Model1_HSinner, map_location=device))"
   ]
  },
  {
   "cell_type": "code",
   "execution_count": 30,
   "metadata": {},
   "outputs": [],
   "source": [
    "def statepreparation(x, Trained):\n",
    "    if Trained:\n",
    "        x = model(torch.tensor(x))\n",
    "    Four_QuantumEmbedding(x)\n",
    "\n",
    "def SU_4(params, wires): # 15 params\n",
    "    qml.U3(params[0], params[1], params[2], wires=wires[0])\n",
    "    qml.U3(params[3], params[4], params[5], wires=wires[1])\n",
    "    qml.CNOT(wires=[wires[0], wires[1]])\n",
    "    qml.RY(params[6], wires=wires[0])\n",
    "    qml.RZ(params[7], wires=wires[1])\n",
    "    qml.CNOT(wires=[wires[1], wires[0]])\n",
    "    qml.RY(params[8], wires=wires[0])\n",
    "    qml.CNOT(wires=[wires[0], wires[1]])\n",
    "    qml.U3(params[9], params[10], params[11], wires=wires[0])\n",
    "    qml.U3(params[12], params[13], params[14], wires=wires[1])\n",
    "\n",
    "def U_TTN(params, wires):  # 2 params\n",
    "    qml.RY(params[0], wires=wires[0])\n",
    "    qml.RY(params[1], wires=wires[1])\n",
    "    qml.CNOT(wires=[wires[0], wires[1]])\n",
    "\n",
    "def QCNN_four(params):\n",
    "    param1 = params[0:2]\n",
    "    param2 = params[2:4]\n",
    "    U_TTN(param1, wires=[0, 1])\n",
    "    U_TTN(param1, wires=[2, 3])\n",
    "    U_TTN(param1, wires=[1, 2])\n",
    "    U_TTN(param1, wires=[3, 0])\n",
    "    U_TTN(param2, wires=[0, 2])\n",
    "\n",
    "\n",
    "@qml.qnode(dev_fake)\n",
    "def QCNN_classifier(params, x, Trained):\n",
    "    statepreparation(x, Trained)\n",
    "    qml.Barrier()\n",
    "    QCNN_four(params)\n",
    "    return qml.expval(qml.PauliZ(2))\n",
    "\n",
    "def Linear_Loss(labels, predictions):\n",
    "    loss = 0\n",
    "    for l,p in zip(labels, predictions):\n",
    "        loss += 0.5 * (1 - l * p)\n",
    "    return loss / len(labels)\n",
    "\n",
    "def cost(weights, X_batch, Y_batch, Trained):\n",
    "    preds = [QCNN_classifier(weights, x, Trained) for x in X_batch]\n",
    "    return Linear_Loss(Y_batch, preds)\n",
    "\n",
    "steps = 400\n",
    "learning_rate = 0.01\n",
    "batch_size = 10\n",
    "def circuit_training(X_train, Y_train, Trained):\n",
    "\n",
    "    weights = np.random.random(4, requires_grad = True)\n",
    "    opt = qml.NesterovMomentumOptimizer(stepsize=learning_rate)\n",
    "    loss_history = []\n",
    "    for it in range(steps):\n",
    "        batch_index = np.random.randint(0, len(X_train), (batch_size,))\n",
    "        X_batch = [X_train[i] for i in batch_index]\n",
    "        Y_batch = [Y_train[i] for i in batch_index]\n",
    "        weights, cost_new = opt.step_and_cost(lambda v: cost(v, X_batch, Y_batch, Trained),\n",
    "                                                     weights)\n",
    "        loss_history.append(cost_new)\n",
    "        if it % 10 == 0:\n",
    "            print(\"iteration: \", it, \" cost: \", cost_new)\n",
    "    return loss_history, weights"
   ]
  },
  {
   "cell_type": "code",
   "execution_count": 31,
   "metadata": {},
   "outputs": [
    {
     "name": "stdout",
     "output_type": "stream",
     "text": [
      "0: ──H──RZ(0.40)──╭●─────────────╭●──RY(1.00)──────────────────────────╭●───────────RY(1.00)\n",
      "1: ──H──RZ(-0.12)─╰X──RZ(-20.57)─╰X─╭●────────────────────╭●──RY(1.00)─╰X───────────RY(1.00)\n",
      "2: ──H──RZ(-0.22)───────────────────╰X─────────RZ(-18.67)─╰X─╭●────────────────────╭●───────\n",
      "3: ──H──RZ(-0.27)────────────────────────────────────────────╰X─────────RZ(-18.22)─╰X───────\n",
      "\n",
      "────────────────────────────╭X──RY(1.00)─╭●─┤     \n",
      "─────────────────────────╭●─│────────────│──┤     \n",
      "───RY(1.00)─╭●──RY(1.00)─╰X─│───RY(1.00)─╰X─┤  <Z>\n",
      "───RY(1.00)─╰X──RY(1.00)────╰●──────────────┤     \n"
     ]
    },
    {
     "name": "stderr",
     "output_type": "stream",
     "text": [
      "/opt/anaconda3/envs/QC/lib/python3.7/site-packages/ipykernel_launcher.py:3: UserWarning: To copy construct from a tensor, it is recommended to use sourceTensor.clone().detach() or sourceTensor.clone().detach().requires_grad_(True), rather than torch.tensor(sourceTensor).\n",
      "  This is separate from the ipykernel package so we can avoid doing imports until\n"
     ]
    }
   ],
   "source": [
    "print(\n",
    "    qml.draw(\n",
    "        QCNN_classifier,\n",
    "        expansion_strategy=\"device\",\n",
    "        show_matrices=False\n",
    "    )(x=torch.ones(4), params=np.ones(30), Trained=True)\n",
    ")"
   ]
  },
  {
   "cell_type": "code",
   "execution_count": 32,
   "metadata": {},
   "outputs": [
    {
     "name": "stdout",
     "output_type": "stream",
     "text": [
      "iteration:  0  cost:  0.49775390625\n",
      "iteration:  10  cost:  0.43896484375\n",
      "iteration:  20  cost:  0.515625\n",
      "iteration:  30  cost:  0.456640625\n",
      "iteration:  40  cost:  0.50390625\n",
      "iteration:  50  cost:  0.483984375\n",
      "iteration:  60  cost:  0.491796875\n",
      "iteration:  70  cost:  0.527734375\n",
      "iteration:  80  cost:  0.480859375\n",
      "iteration:  90  cost:  0.539453125\n",
      "iteration:  100  cost:  0.42060546875\n",
      "iteration:  110  cost:  0.46826171875\n",
      "iteration:  120  cost:  0.4822265625\n",
      "iteration:  130  cost:  0.53662109375\n",
      "iteration:  140  cost:  0.46669921875\n",
      "iteration:  150  cost:  0.50283203125\n",
      "iteration:  160  cost:  0.5205078125\n",
      "iteration:  170  cost:  0.520703125\n",
      "iteration:  180  cost:  0.46220703125\n",
      "iteration:  190  cost:  0.5076171875\n",
      "iteration:  200  cost:  0.525\n",
      "iteration:  210  cost:  0.5591796875\n",
      "iteration:  220  cost:  0.4814453125\n",
      "iteration:  230  cost:  0.48974609375\n",
      "iteration:  240  cost:  0.5005859375\n",
      "iteration:  250  cost:  0.478515625\n",
      "iteration:  260  cost:  0.52353515625\n",
      "iteration:  270  cost:  0.5287109375\n",
      "iteration:  280  cost:  0.44658203125\n",
      "iteration:  290  cost:  0.4935546875\n",
      "iteration:  300  cost:  0.53876953125\n",
      "iteration:  310  cost:  0.5015625\n",
      "iteration:  320  cost:  0.53095703125\n",
      "iteration:  330  cost:  0.47255859375\n",
      "iteration:  340  cost:  0.56708984375\n",
      "iteration:  350  cost:  0.49560546875\n",
      "iteration:  360  cost:  0.51064453125\n",
      "iteration:  370  cost:  0.4587890625\n",
      "iteration:  380  cost:  0.42412109375\n",
      "iteration:  390  cost:  0.5115234375\n",
      "iteration:  0  cost:  0.5560546875\n",
      "iteration:  10  cost:  0.52001953125\n",
      "iteration:  20  cost:  0.44462890625\n",
      "iteration:  30  cost:  0.4794921875\n",
      "iteration:  40  cost:  0.43662109375\n",
      "iteration:  50  cost:  0.4111328125\n",
      "iteration:  60  cost:  0.40869140625\n",
      "iteration:  70  cost:  0.44404296875\n",
      "iteration:  80  cost:  0.4296875\n",
      "iteration:  90  cost:  0.4494140625\n",
      "iteration:  100  cost:  0.3876953125\n",
      "iteration:  110  cost:  0.385546875\n",
      "iteration:  120  cost:  0.35712890625\n",
      "iteration:  130  cost:  0.3048828125\n",
      "iteration:  140  cost:  0.326953125\n",
      "iteration:  150  cost:  0.2904296875\n",
      "iteration:  160  cost:  0.34140625\n",
      "iteration:  170  cost:  0.27919921875\n",
      "iteration:  180  cost:  0.32509765625\n",
      "iteration:  190  cost:  0.359375\n",
      "iteration:  200  cost:  0.2685546875\n",
      "iteration:  210  cost:  0.268359375\n",
      "iteration:  220  cost:  0.276171875\n",
      "iteration:  230  cost:  0.28134765625\n",
      "iteration:  240  cost:  0.2724609375\n",
      "iteration:  250  cost:  0.25732421875\n",
      "iteration:  260  cost:  0.2873046875\n",
      "iteration:  270  cost:  0.32783203125\n",
      "iteration:  280  cost:  0.2859375\n",
      "iteration:  290  cost:  0.27861328125\n",
      "iteration:  300  cost:  0.29677734375\n",
      "iteration:  310  cost:  0.27041015625\n",
      "iteration:  320  cost:  0.318359375\n",
      "iteration:  330  cost:  0.25859375\n",
      "iteration:  340  cost:  0.2935546875\n",
      "iteration:  350  cost:  0.30244140625\n",
      "iteration:  360  cost:  0.2892578125\n",
      "iteration:  370  cost:  0.308203125\n",
      "iteration:  380  cost:  0.27158203125\n",
      "iteration:  390  cost:  0.27880859375\n"
     ]
    }
   ],
   "source": [
    "loss_not_trained, weights_not_trained = circuit_training(X_train, Y_train, False)\n",
    "loss_trained, weights_trained = circuit_training(X_train, Y_train, True)"
   ]
  },
  {
   "cell_type": "code",
   "execution_count": 34,
   "metadata": {},
   "outputs": [
    {
     "data": {
      "text/plain": [
       "<matplotlib.legend.Legend at 0x7fe1e28029d0>"
      ]
     },
     "execution_count": 34,
     "metadata": {},
     "output_type": "execute_result"
    },
    {
     "data": {
      "image/png": "[encoded data removed]",
      "text/plain": [
       "<Figure size 1000x500 with 1 Axes>"
      ]
     },
     "metadata": {},
     "output_type": "display_data"
    }
   ],
   "source": [
    "LB_before_traindata = 0.5 * (1 - 0.3409276604652405)\n",
    "LB_Fidelity_traindata = 0.5 * (1 - 0.9015634655952454)\n",
    "\n",
    "import seaborn as sns\n",
    "\n",
    "plt.rcParams['figure.figsize'] = [10, 5]\n",
    "fig, ax = plt.subplots()\n",
    "clrs = sns.color_palette(\"husl\", 4)\n",
    "with sns.axes_style(\"darkgrid\"):\n",
    "    ax.plot(range(len(loss_not_trained)), loss_not_trained, label=\"Without Pre-training\", c=clrs[0])\n",
    "\n",
    "    ax.plot(range(len(loss_trained)), loss_trained, label=\"With Pre-training\", c=clrs[1])\n",
    "\n",
    "    ax.plot(range(400), np.ones(400) * LB_before_traindata, label=\"Lower Bound without Pre-training\", c=clrs[2])\n",
    "    ax.plot(range(400), np.ones(400) * LB_Fidelity_traindata, label=\"Lower Bound with Pre-training\", c=clrs[3])\n",
    "\n",
    "ax.set_xlabel(\"Iteration\")\n",
    "ax.set_ylabel(\"Loss\")\n",
    "ax.set_title(\"QCNN Loss History Trained with Model1 Fidelity\")\n",
    "ax.legend()"
   ]
  },
  {
   "cell_type": "code",
   "execution_count": 35,
   "metadata": {},
   "outputs": [],
   "source": [
    "def accuracy_test(predictions, labels):\n",
    "    acc = 0\n",
    "    for l, p in zip(labels, predictions):\n",
    "        if np.abs(l - p) < 1:\n",
    "            acc = acc + 1\n",
    "    return acc / len(labels)\n",
    "\n",
    "\n",
    "predictions_trained = [QCNN_classifier(weights_trained, x, Trained=True) for x in X_test]\n",
    "predictions_not_trained = [QCNN_classifier(weights_not_trained, x, Trained=False) for x in X_test]\n",
    "\n",
    "accuracy_trained = accuracy_test(predictions_trained, Y_test)\n",
    "accuracy_not_trained = accuracy_test(predictions_not_trained, Y_test)"
   ]
  },
  {
   "cell_type": "code",
   "execution_count": 36,
   "metadata": {},
   "outputs": [
    {
     "name": "stdout",
     "output_type": "stream",
     "text": [
      " accuracty after pre-training: 0.9843971631205674\n",
      " accuracty without pre-training: 0.5583924349881797\n"
     ]
    }
   ],
   "source": [
    "print(f\" accuracty after pre-training: {accuracy_trained}\")\n",
    "print(f\" accuracty without pre-training: {accuracy_not_trained}\")"
   ]
  },
  {
   "cell_type": "markdown",
   "metadata": {},
   "source": []
  },
  {
   "cell_type": "markdown",
   "metadata": {},
   "source": []
  }
 ],
 "metadata": {
  "kernelspec": {
   "display_name": "Python 3",
   "language": "python",
   "name": "python3"
  },
  "language_info": {
   "codemirror_mode": {
    "name": "ipython",
    "version": 3
   },
   "file_extension": ".py",
   "mimetype": "text/x-python",
   "name": "python",
   "nbconvert_exporter": "python",
   "pygments_lexer": "ipython3",
   "version": "3.7.15"
  },
  "orig_nbformat": 4,
  "vscode": {
   "interpreter": {
    "hash": "18c4b2c9b6e0880abfbec0f1d78bbd37383c13120437ebae8d1a7afe7b354d80"
   }
  }
 },
 "nbformat": 4,
 "nbformat_minor": 2
}
