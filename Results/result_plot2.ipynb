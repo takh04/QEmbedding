{
 "cells": [
  {
   "cell_type": "code",
   "execution_count": 18,
   "metadata": {},
   "outputs": [],
   "source": [
    "import numpy as np"
   ]
  },
  {
   "cell_type": "code",
   "execution_count": 19,
   "metadata": {},
   "outputs": [],
   "source": [
    "PATH = '/Users/tak/Github/QEmbedding/Results/earlystop 10 experiments/experiment1/Model1 Fidelity/'\n",
    "f = open(PATH + 'Training_Loss_History.txt', 'r')"
   ]
  },
  {
   "cell_type": "code",
   "execution_count": 20,
   "metadata": {},
   "outputs": [],
   "source": [
    "line = f.readline()\n",
    "    "
   ]
  },
  {
   "cell_type": "code",
   "execution_count": 22,
   "metadata": {},
   "outputs": [],
   "source": [
    "from numpy import genfromtxt\n",
    "my_data = genfromtxt(PATH + 'Training_Loss_History.txt', delimiter=',')"
   ]
  },
  {
   "cell_type": "code",
   "execution_count": 24,
   "metadata": {},
   "outputs": [
    {
     "name": "stdout",
     "output_type": "stream",
     "text": [
      "(611,)\n"
     ]
    }
   ],
   "source": [
    "print(my_data.shape)"
   ]
  },
  {
   "cell_type": "code",
   "execution_count": 17,
   "metadata": {},
   "outputs": [
    {
     "name": "stdout",
     "output_type": "stream",
     "text": [
      "0    0.234695\n",
      "Name: 0, dtype: float64\n"
     ]
    }
   ],
   "source": []
  },
  {
   "cell_type": "code",
   "execution_count": null,
   "metadata": {},
   "outputs": [],
   "source": []
  },
  {
   "attachments": {},
   "cell_type": "markdown",
   "metadata": {},
   "source": [
    "# Model1 with Fidelity"
   ]
  },
  {
   "cell_type": "code",
   "execution_count": 31,
   "metadata": {},
   "outputs": [
    {
     "name": "stderr",
     "output_type": "stream",
     "text": [
      "/opt/anaconda3/envs/QC/lib/python3.7/site-packages/ipykernel_launcher.py:21: VisibleDeprecationWarning: Creating an ndarray from ragged nested sequences (which is a list-or-tuple of lists-or-tuples-or ndarrays with different lengths or shapes) is deprecated. If you meant to do this, you must specify 'dtype=object' when creating the ndarray.\n",
      "/opt/anaconda3/envs/QC/lib/python3.7/site-packages/ipykernel_launcher.py:22: VisibleDeprecationWarning: Creating an ndarray from ragged nested sequences (which is a list-or-tuple of lists-or-tuples-or ndarrays with different lengths or shapes) is deprecated. If you meant to do this, you must specify 'dtype=object' when creating the ndarray.\n",
      "/opt/anaconda3/envs/QC/lib/python3.7/site-packages/ipykernel_launcher.py:23: VisibleDeprecationWarning: Creating an ndarray from ragged nested sequences (which is a list-or-tuple of lists-or-tuples-or ndarrays with different lengths or shapes) is deprecated. If you meant to do this, you must specify 'dtype=object' when creating the ndarray.\n",
      "/opt/anaconda3/envs/QC/lib/python3.7/site-packages/ipykernel_launcher.py:24: VisibleDeprecationWarning: Creating an ndarray from ragged nested sequences (which is a list-or-tuple of lists-or-tuples-or ndarrays with different lengths or shapes) is deprecated. If you meant to do this, you must specify 'dtype=object' when creating the ndarray.\n"
     ]
    }
   ],
   "source": [
    "Training_Loss_History_Path, Validation_Loss_History_Path, Validation_Accuracy90_History_Path, Validation_Accuracy80_History_Path, Test_Results_Path = [], [], [], [], []\n",
    "for i in range(4):\n",
    "    Training_Loss_History_Path.append(f'/Users/tak/Github/QEmbedding/Results/earlystop 10 experiments/experiment{i+1}/Model1 Fidelity/Training_Loss_History.txt')\n",
    "    Validation_Loss_History_Path.append(f'/Users/tak/Github/QEmbedding/Results/earlystop 10 experiments/experiment{i+1}/Model1 Fidelity/Validation_Loss_History.txt')\n",
    "    Validation_Accuracy90_History_Path.append(f'/Users/tak/Github/QEmbedding/Results/earlystop 10 experiments/experiment{i+1}/Model1 Fidelity/Validation_Accuracy90_History.txt')\n",
    "    Validation_Accuracy80_History_Path.append(f'/Users/tak/Github/QEmbedding/Results/earlystop 10 experiments/experiment{i+1}/Model1 Fidelity/Validation_Accuracy80_History.txt')\n",
    "    Test_Results_Path.append(f'/Users/tak/Github/QEmbedding/Results/earlystop 10 experiments/experiment{i+1}/Model1 Fidelity/Test_Results.txt')\n",
    "\n",
    "Training_Loss_Histories, Validation_Loss_Histories, Validation_Accuracy90_Histories, Validation_Accuracy80_Histories, Test_Results = [], [], [], [], []\n",
    "for i in range(4):\n",
    "    x1 = genfromtxt(Training_Loss_History_Path[i], delimiter=',')\n",
    "    x2 = genfromtxt(Validation_Loss_History_Path[i], delimiter=',')\n",
    "    x3 = genfromtxt(Validation_Accuracy90_History_Path[i], delimiter=',')\n",
    "    x4 = genfromtxt(Validation_Accuracy80_History_Path[i], delimiter=',')\n",
    "\n",
    "    Training_Loss_Histories.append(x1)\n",
    "    Validation_Loss_Histories.append(x2)\n",
    "    Validation_Accuracy90_Histories.append(x3)\n",
    "    Validation_Accuracy80_Histories.append(x4)\n",
    "\n",
    "Training_Loss_Histories = np.array(Training_Loss_Histories)\n",
    "Validation_Loss_Histories = np.array(Validation_Loss_Histories)\n",
    "Validation_Accuracy90_Histories = np.array(Validation_Accuracy90_Histories)\n",
    "Validation_Accuracy80_Histories = np.array(Validation_Accuracy80_Histories)\n",
    "    "
   ]
  },
  {
   "cell_type": "code",
   "execution_count": 34,
   "metadata": {},
   "outputs": [
    {
     "ename": "ValueError",
     "evalue": "operands could not be broadcast together with shapes (2,) (3,) ",
     "output_type": "error",
     "traceback": [
      "\u001b[0;31m---------------------------------------------------------------------------\u001b[0m",
      "\u001b[0;31mValueError\u001b[0m                                Traceback (most recent call last)",
      "\u001b[0;32m/var/folders/ym/ry24dhs911s7zbqfbhs5ns2m0000gn/T/ipykernel_4441/3378299658.py\u001b[0m in \u001b[0;36m<module>\u001b[0;34m\u001b[0m\n\u001b[0;32m----> 1\u001b[0;31m \u001b[0mnp\u001b[0m\u001b[0;34m.\u001b[0m\u001b[0marray\u001b[0m\u001b[0;34m(\u001b[0m\u001b[0;34m[\u001b[0m\u001b[0;36m1\u001b[0m\u001b[0;34m,\u001b[0m\u001b[0;36m2\u001b[0m\u001b[0;34m]\u001b[0m\u001b[0;34m)\u001b[0m \u001b[0;34m+\u001b[0m \u001b[0mnp\u001b[0m\u001b[0;34m.\u001b[0m\u001b[0marray\u001b[0m\u001b[0;34m(\u001b[0m\u001b[0;34m[\u001b[0m\u001b[0;36m1\u001b[0m\u001b[0;34m,\u001b[0m\u001b[0;36m2\u001b[0m\u001b[0;34m,\u001b[0m\u001b[0;36m3\u001b[0m\u001b[0;34m]\u001b[0m\u001b[0;34m)\u001b[0m\u001b[0;34m\u001b[0m\u001b[0;34m\u001b[0m\u001b[0m\n\u001b[0m",
      "\u001b[0;31mValueError\u001b[0m: operands could not be broadcast together with shapes (2,) (3,) "
     ]
    }
   ],
   "source": [
    "np.array([1,2]) + np.array([1,2,3])"
   ]
  },
  {
   "cell_type": "code",
   "execution_count": null,
   "metadata": {},
   "outputs": [],
   "source": []
  }
 ],
 "metadata": {
  "kernelspec": {
   "display_name": "QC",
   "language": "python",
   "name": "python3"
  },
  "language_info": {
   "codemirror_mode": {
    "name": "ipython",
    "version": 3
   },
   "file_extension": ".py",
   "mimetype": "text/x-python",
   "name": "python",
   "nbconvert_exporter": "python",
   "pygments_lexer": "ipython3",
   "version": "3.7.15"
  },
  "orig_nbformat": 4,
  "vscode": {
   "interpreter": {
    "hash": "18c4b2c9b6e0880abfbec0f1d78bbd37383c13120437ebae8d1a7afe7b354d80"
   }
  }
 },
 "nbformat": 4,
 "nbformat_minor": 2
}
