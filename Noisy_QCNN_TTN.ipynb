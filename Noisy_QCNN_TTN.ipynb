{
 "cells": [
  {
   "attachments": {},
   "cell_type": "markdown",
   "metadata": {},
   "source": [
    "# Noisy QCNN Fashion MNIST"
   ]
  },
  {
   "cell_type": "code",
   "execution_count": 1,
   "metadata": {},
   "outputs": [],
   "source": [
    "from pennylane import numpy as np\n",
    "import matplotlib.pyplot as plt\n",
    "import matplotlib as mpl\n",
    "import sys\n",
    "sys.path.insert(0, '/Users/tak/Github/QEmbedding/')\n",
    "import Hybrid_nn\n",
    "import torch\n",
    "from torch import nn\n",
    "import data\n",
    "import pennylane as qml\n",
    "import embedding"
   ]
  },
  {
   "attachments": {},
   "cell_type": "markdown",
   "metadata": {},
   "source": [
    "IBMQ Fake provider"
   ]
  },
  {
   "cell_type": "code",
   "execution_count": 2,
   "metadata": {},
   "outputs": [],
   "source": [
    "import pennylane as qml\n",
    "from pennylane import numpy as np\n",
    "from qiskit import IBMQ\n",
    "from qiskit.providers.fake_provider import FakeJakarta, FakeMontreal\n",
    "from qiskit_aer.noise import NoiseModel\n",
    "\n",
    "\n",
    "noisy = FakeJakarta()\n",
    "noise_model = NoiseModel.from_backend(noisy)\n",
    "coupling_map = noisy.configuration().coupling_map\n",
    "basis_gates = noise_model.basis_gates\n",
    "\n",
    "dev_fake = qml.device(\n",
    "    'qiskit.aer',\n",
    "    wires=4,\n",
    "    shots=1024,\n",
    "    noise_model=noise_model,\n",
    "    coupling_map=coupling_map,\n",
    "    basis_gates=basis_gates\n",
    ")"
   ]
  },
  {
   "attachments": {},
   "cell_type": "markdown",
   "metadata": {},
   "source": [
    "# NQE Optimization"
   ]
  },
  {
   "cell_type": "code",
   "execution_count": 3,
   "metadata": {},
   "outputs": [],
   "source": [
    "@qml.qnode(dev_fake, interface=\"torch\")\n",
    "def Noisy_Four_circuit2(inputs): \n",
    "    embedding.Noisy_Four_QuantumEmbedding2(inputs[0:7])\n",
    "    embedding.Noisy_Four_QuantumEmbedding2_inverse(inputs[7:14])\n",
    "    return qml.probs(wires=range(4))\n",
    "\n",
    "class PCA_NQE(torch.nn.Module):\n",
    "    def __init__(self):\n",
    "        super().__init__()\n",
    "        self.qlayer2 = qml.qnn.TorchLayer(Noisy_Four_circuit2, weight_shapes={})\n",
    "        self.linear_relu_stack2 = nn.Sequential(\n",
    "            nn.Linear(4, 12),\n",
    "            nn.ReLU(),\n",
    "            nn.Linear(12, 12),\n",
    "            nn.ReLU(),\n",
    "            nn.Linear(12, 7)\n",
    "        )\n",
    "    def forward(self, x1, x2):\n",
    "        x1 = self.linear_relu_stack2(x1)\n",
    "        x2 = self.linear_relu_stack2(x2)\n",
    "        x = torch.concat([x1, x2], 1)\n",
    "        x = self.qlayer2(x)\n",
    "        return x[:,0]\n",
    "\n",
    "\n",
    "class NQE(torch.nn.Module):\n",
    "    def __init__(self):\n",
    "        super().__init__()\n",
    "        self.qlayer3 = qml.qnn.TorchLayer(Noisy_Four_circuit2, weight_shapes={})\n",
    "        self.layer1 = torch.nn.Sequential(\n",
    "            torch.nn.Conv2d(1, 1, kernel_size=3, stride=1, padding=1),\n",
    "            torch.nn.ReLU(),\n",
    "            torch.nn.MaxPool2d(kernel_size=2, stride=2)\n",
    "        )\n",
    "\n",
    "        # Layer2: 14 * 14 -> 7 * 7\n",
    "        self.layer2 = torch.nn.Sequential(\n",
    "            torch.nn.Conv2d(1, 1, kernel_size=3, stride=1, padding=1),\n",
    "            torch.nn.ReLU(),\n",
    "            torch.nn.MaxPool2d(kernel_size=2, stride=2)\n",
    "        )\n",
    "\n",
    "        # Fully connected Layers 7 * 7 -> 7\n",
    "        self.fc = torch.nn.Linear(7 * 7, 7, bias=True)\n",
    "        \n",
    "    def forward(self, x1, x2):\n",
    "        x1 = self.layer1(x1)\n",
    "        x1 = self.layer2(x1)\n",
    "        x1 = x1.view(-1, 7 * 7)\n",
    "        x1 = self.fc(x1)\n",
    "\n",
    "        x2 = self.layer1(x2)\n",
    "        x2 = self.layer2(x2)\n",
    "        x2 = x2.view(-1, 7 * 7)\n",
    "        x2 = self.fc(x2)\n",
    "\n",
    "        x = torch.concat([x1, x2], 1)\n",
    "        x = self.qlayer3(x)\n",
    "        return x[:,0]"
   ]
  },
  {
   "cell_type": "code",
   "execution_count": 4,
   "metadata": {},
   "outputs": [],
   "source": [
    "def new_data(batch_size, X, Y, feature_reduction):\n",
    "    X1_new, X2_new, Y_new = [], [], []\n",
    "    for i in range(batch_size):\n",
    "        n, m = np.random.randint(len(X)), np.random.randint(len(X))\n",
    "        X1_new.append(X[n])\n",
    "        X2_new.append(X[m])\n",
    "        if Y[n] == Y[m]:\n",
    "            Y_new.append(1)\n",
    "        else:\n",
    "            Y_new.append(0)\n",
    "\n",
    "    X1_new, X2_new, Y_new = torch.tensor(X1_new).to(torch.float32), torch.tensor(X2_new).to(torch.float32), torch.tensor(Y_new).to(torch.float32)\n",
    "    if feature_reduction == False:\n",
    "        X1_new = X1_new.permute(0, 3, 1, 2)\n",
    "        X2_new = X2_new.permute(0, 3, 1, 2)\n",
    "    return X1_new, X2_new, Y_new\n",
    "\n",
    "def train_models(model_name, X_train, Y_train, feature_reduction):\n",
    "    if model_name == 'PCA-NQE':\n",
    "        model = PCA_NQE()\n",
    "    elif model_name == 'NQE':\n",
    "        model = NQE()\n",
    "\n",
    "    model.train()\n",
    "\n",
    "    loss_fn = torch.nn.MSELoss()\n",
    "    opt = torch.optim.SGD(model.parameters(), lr=0.01)\n",
    "    for it in range(1):\n",
    "\n",
    "        X1_batch, X2_batch, Y_batch = new_data(25, X_train, Y_train, feature_reduction)\n",
    "        X1_batch, X2_batch, Y_batch = X1_batch, X2_batch, Y_batch\n",
    "\n",
    "        pred = model(X1_batch, X2_batch)\n",
    "        pred, Y_batch = pred.to(torch.float32), Y_batch.to(torch.float32)\n",
    "        loss = loss_fn(pred, Y_batch)\n",
    "\n",
    "        opt.zero_grad()\n",
    "        loss.backward()\n",
    "        opt.step()\n",
    "\n",
    "        if it % 50 == 0:\n",
    "            print(f\"Iterations: {it} Loss: {loss.item()}\")\n",
    "            PATH = f'{model_name}{it}.pt'\n",
    "            torch.save(model.state_dict(), PATH)\n",
    "\n",
    "\n",
    "\n"
   ]
  },
  {
   "cell_type": "code",
   "execution_count": 5,
   "metadata": {},
   "outputs": [
    {
     "name": "stderr",
     "output_type": "stream",
     "text": [
      "/var/folders/s2/t3n82l2s329dh9dttmtv7vr00000gn/T/ipykernel_2717/89923749.py:12: UserWarning: Creating a tensor from a list of numpy.ndarrays is extremely slow. Please consider converting the list to a single numpy.ndarray with numpy.array() before converting to a tensor. (Triggered internally at /Users/runner/work/pytorch/pytorch/pytorch/torch/csrc/utils/tensor_new.cpp:248.)\n",
      "  X1_new, X2_new, Y_new = torch.tensor(X1_new).to(torch.float32), torch.tensor(X2_new).to(torch.float32), torch.tensor(Y_new).to(torch.float32)\n"
     ]
    },
    {
     "name": "stdout",
     "output_type": "stream",
     "text": [
      "Iterations: 0 Loss: 0.2722699046134949\n"
     ]
    }
   ],
   "source": [
    "feature_reduction = 'PCA4'\n",
    "classes = [0,1]\n",
    "X_train, X_test, Y_train, Y_test = data.data_load_and_process('fashion', feature_reduction=feature_reduction, classes=classes)\n",
    "train_models('PCA-NQE', X_train, Y_train, feature_reduction)"
   ]
  },
  {
   "cell_type": "code",
   "execution_count": 6,
   "metadata": {},
   "outputs": [
    {
     "name": "stdout",
     "output_type": "stream",
     "text": [
      "Iterations: 0 Loss: 0.2845287322998047\n"
     ]
    }
   ],
   "source": [
    "feature_reduction = False\n",
    "classes = [0,1]\n",
    "X_train, X_test, Y_train, Y_test = data.data_load_and_process('fashion', feature_reduction=feature_reduction, classes=classes)\n",
    "train_models('NQE', X_train, Y_train, feature_reduction)"
   ]
  },
  {
   "cell_type": "markdown",
   "metadata": {},
   "source": [
    "# Trace Distance History"
   ]
  },
  {
   "cell_type": "code",
   "execution_count": null,
   "metadata": {},
   "outputs": [],
   "source": [
    "dev = qml.device('default.qubit', wires=4)\n",
    "\n",
    "X1_test, X0_test = [], []\n",
    "for i in range(len(X_test)):\n",
    "    if Y_test[i] == 1:\n",
    "        X1_test.append(X_test[i])\n",
    "    else:\n",
    "        X0_test.append(X_test[i])\n",
    "X1_test, X0_test = torch.tensor(X1_test).to(torch.float32), torch.tensor(X0_test).to(torch.float32)\n",
    "\n",
    "X1_train, X0_train = [], []\n",
    "for i in range(len(X_train)):\n",
    "    if Y_train[i] == 1:\n",
    "        X1_train.append(X_train[i])\n",
    "    else:\n",
    "        X0_train.append(X_train[i])\n",
    "X1_train, X0_train = torch.tensor(X1_train).to(torch.float32), torch.tensor(X0_train).to(torch.float32)\n",
    "\n",
    "\n",
    "@qml.qnode(dev, interface=\"torch\")\n",
    "def Noisy_Distance1(inputs): \n",
    "    embedding.Noisy_Four_QuantumEmbedding1(inputs)\n",
    "    return qml.density_matrix(wires=range(4))\n",
    "\n",
    "@qml.qnode(dev, interface=\"torch\")\n",
    "def Noisy_Distance2(inputs): \n",
    "    embedding.Noisy_Four_QuantumEmbedding2(inputs)\n",
    "    return qml.density_matrix(wires=range(4))\n",
    "\n",
    "\n",
    "class Distances1(torch.nn.Module):\n",
    "    def __init__(self):\n",
    "        super().__init__()\n",
    "        self.qlayer1 = qml.qnn.TorchLayer(Noisy_Distance1, weight_shapes={})\n",
    "        self.linear_relu_stack1 = nn.Sequential(\n",
    "            nn.Linear(4, 6),\n",
    "            nn.ReLU(),\n",
    "            nn.Linear(6, 6),\n",
    "            nn.ReLU(),\n",
    "            nn.Linear(6, 4)\n",
    "        )\n",
    "    def forward(self, x1, x0):\n",
    "        x1 = self.linear_relu_stack1(x1)\n",
    "        x0 = self.linear_relu_stack1(x0)\n",
    "        rhos1 = self.qlayer1(x1)\n",
    "        rhos0 = self.qlayer1(x0)\n",
    "\n",
    "        rho1 = torch.sum(rhos1, dim=0) / len(x1)\n",
    "        rho0 = torch.sum(rhos0, dim=0) / len(x0)\n",
    "        rho_diff = rho1 - rho0\n",
    "        eigvals = torch.linalg.eigvals(rho_diff)\n",
    "        return 0.5 * torch.real(torch.sum(torch.abs(eigvals)))\n",
    "\n",
    "\n",
    "class Distances2(torch.nn.Module):\n",
    "    def __init__(self):\n",
    "        super().__init__()\n",
    "        self.qlayer2 = qml.qnn.TorchLayer(Noisy_Distance2, weight_shapes={})\n",
    "        self.linear_relu_stack2 = nn.Sequential(\n",
    "            nn.Linear(4, 12),\n",
    "            nn.ReLU(),\n",
    "            nn.Linear(12, 12),\n",
    "            nn.ReLU(),\n",
    "            nn.Linear(12, 7)\n",
    "        )\n",
    "    def forward(self, x1, x0):\n",
    "        x1 = self.linear_relu_stack2(x1)\n",
    "        x0 = self.linear_relu_stack2(x0)\n",
    "        rhos1 = self.qlayer2(x1)\n",
    "        rhos0 = self.qlayer2(x0)\n",
    "\n",
    "        rho1 = torch.sum(rhos1, dim=0) / len(x1)\n",
    "        rho0 = torch.sum(rhos0, dim=0) / len(x0)\n",
    "        rho_diff = rho1 - rho0\n",
    "        eigvals = torch.linalg.eigvals(rho_diff)\n",
    "        return 0.5 * torch.real(torch.sum(torch.abs(eigvals)))\n",
    "\n",
    "\n",
    "class Distances3(torch.nn.Module):\n",
    "    def __init__(self):\n",
    "        super().__init__()\n",
    "        self.qlayer3 = qml.qnn.TorchLayer(Noisy_Distance2, weight_shapes={})\n",
    "        self.layer1 = torch.nn.Sequential(\n",
    "            torch.nn.Conv2d(1, 1, kernel_size=3, stride=1, padding=1),\n",
    "            torch.nn.ReLU(),\n",
    "            torch.nn.MaxPool2d(kernel_size=2, stride=2)\n",
    "        )\n",
    "\n",
    "        # Layer2: 14 * 14 -> 7 * 7\n",
    "        self.layer2 = torch.nn.Sequential(\n",
    "            torch.nn.Conv2d(1, 1, kernel_size=3, stride=1, padding=1),\n",
    "            torch.nn.ReLU(),\n",
    "            torch.nn.MaxPool2d(kernel_size=2, stride=2)\n",
    "        )\n",
    "\n",
    "        # Fully connected Layers 7 * 7 -> 7\n",
    "        self.fc = torch.nn.Linear(7 * 7, 7, bias=True)\n",
    "    \n",
    "    def forward(self, x1, x0):\n",
    "        x1 = self.layer1(x1)\n",
    "        x1 = self.layer2(x1)\n",
    "        x1 = x1.view(-1, 7 * 7)\n",
    "        x1 = self.fc(x1)\n",
    "\n",
    "        x0 = self.layer1(x0)\n",
    "        x0 = self.layer2(x0)\n",
    "        x0 = x0.view(-1, 7 * 7)\n",
    "        x0 = self.fc(x0)\n",
    "\n",
    "        rhos1 = self.qlayer3(x1)\n",
    "        rhos0 = self.qlayer3(x0)\n",
    "        \n",
    "        rho1 = torch.sum(rhos1, dim=0) / len(x1)\n",
    "        rho0 = torch.sum(rhos0, dim=0) / len(x0)\n",
    "        rho_diff = rho1 - rho0\n",
    "        eigvals = torch.linalg.eigvals(rho_diff)\n",
    "        return 0.5 * torch.real(torch.sum(torch.abs(eigvals)))\n",
    "\n",
    "\n",
    "PATH_Model1 = '/Users/tak/Github/QEmbedding/Results/QCNN_demonstration/Noisy/Noisy_Model1_Fidelity.pt'\n",
    "PATH_Model2 = '/Users/tak/Github/QEmbedding/Results/QCNN_demonstration/Noisy/Noisy_Model2_Fidelity.pt'\n",
    "PATH_Model3 = '/Users/tak/Github/QEmbedding/Results/QCNN_demonstration/Noisy/Noisy_Model3_Fidelity.pt'\n",
    "Model1_Fidelity_Distance = Distances1()\n",
    "Model1_Fidelity_Distance.load_state_dict(torch.load(PATH_Model1, map_location=device))\n",
    "Model2_Fidelity_Distance = Distances2()\n",
    "Model2_Fidelity_Distance.load_state_dict(torch.load(PATH_Model2, map_location=device))\n",
    "\n",
    "# Calculated from Model1 \n",
    "Trace_before_traindata = 0.2734867334365845\n",
    "Trace_before_testdata = 0.2723434865474701\n",
    "LB_before_traindata = 0.5 * (1 - Trace_before_traindata)\n",
    "\n",
    "print(f\"Trace Distance (Training Data) Before: {Trace_before_traindata}\")\n",
    "print(f\"Trace Distance (Test Data) Before: {Trace_before_testdata}\")\n",
    "\n",
    "# Distances After training with Model2_Fidelity\n",
    "Trace_Model1_traindata = Model1_Fidelity_Distance(X1_train, X0_train)\n",
    "Trace_Model1_testdata = Model1_Fidelity_Distance(X1_test, X0_test)\n",
    "print(f\"Trace Distance (Training Data) After Noisy Model1 Fidelity: {Trace_Model1_traindata}\")\n",
    "print(f\"Trace Distance (Test Data) After Noisy Model1 Fidelity: {Trace_Model1_testdata}\")\n",
    "\n",
    "# Distances After training with Model2_HSinner\n",
    "Trace_Model2_traindata = Model2_Fidelity_Distance(X1_train, X0_train)\n",
    "Trace_Model2_testdata = Model2_Fidelity_Distance(X1_test, X0_test)\n",
    "print(f\"Trace Distance (Training Data) After Noisy Model2 Fidelity: {Trace_Model2_traindata}\")\n",
    "print(f\"Trace Distance (Test Data) After Noisy Model2 Fidelity: {Trace_Model2_testdata}\")\n",
    "\n",
    "# Lower Bounds\n",
    "LB_before_traindata = 0.5 * (1 - Trace_before_traindata)\n",
    "LB_Model1_traindata = 0.5 * (1 - Trace_Model1_traindata.detach().numpy())\n",
    "LB_Model2_traindata = 0.5 * (1 - Trace_Model2_traindata.detach().numpy())"
   ]
  },
  {
   "cell_type": "code",
   "execution_count": null,
   "metadata": {},
   "outputs": [],
   "source": [
    "LB_before_traindata = 0.3633\n",
    "LB_Model1_traindata = 0.0434\n",
    "LB_Model2_traindata = 0.1066"
   ]
  },
  {
   "attachments": {},
   "cell_type": "markdown",
   "metadata": {},
   "source": [
    "Train Noisy QCNN classifier for Model1,2"
   ]
  },
  {
   "cell_type": "code",
   "execution_count": null,
   "metadata": {},
   "outputs": [],
   "source": [
    "X_train, X_test = torch.tensor(X_train).to(torch.float32), torch.tensor(X_test).to(torch.float32)\n",
    "Y_train = [-1 if y == 0 else 1 for y in Y_train]\n",
    "Y_test = [-1 if y == 0 else 1 for y in Y_test]"
   ]
  },
  {
   "cell_type": "code",
   "execution_count": null,
   "metadata": {},
   "outputs": [],
   "source": [
    "# Model1\n",
    "class x_transform1(torch.nn.Module):\n",
    "    def __init__(self):\n",
    "        super().__init__()\n",
    "        self.linear_relu_stack1 = nn.Sequential(\n",
    "            nn.Linear(4, 6),\n",
    "            nn.ReLU(),\n",
    "            nn.Linear(6, 6),\n",
    "            nn.ReLU(),\n",
    "            nn.Linear(6, 4)\n",
    "        )\n",
    "\n",
    "    def forward(self, x):\n",
    "        x = self.linear_relu_stack1(x)\n",
    "        return x.detach().numpy()\n",
    "\n",
    "# Model2\n",
    "class x_transform2(torch.nn.Module):\n",
    "    def __init__(self):\n",
    "        super().__init__()\n",
    "        self.linear_relu_stack2 = nn.Sequential(\n",
    "            nn.Linear(4, 12),\n",
    "            nn.ReLU(),\n",
    "            nn.Linear(12, 12),\n",
    "            nn.ReLU(),\n",
    "            nn.Linear(12, 7)\n",
    "        )\n",
    "        \n",
    "    def forward(self, x):\n",
    "        x = self.linear_relu_stack2(x)\n",
    "        return x.detach().numpy()\n",
    "\n",
    "# Model3\n",
    "class x_transform3(torch.nn.Module):\n",
    "    def __init__(self):\n",
    "        super().__init__()\n",
    "        self.layer1 = torch.nn.Sequential(\n",
    "            torch.nn.Conv2d(1, 1, kernel_size=3, stride=1, padding=1),\n",
    "            torch.nn.ReLU(),\n",
    "            torch.nn.MaxPool2d(kernel_size=2, stride=2)\n",
    "        )\n",
    "\n",
    "        # Layer2: 14 * 14 -> 7 * 7\n",
    "        self.layer2 = torch.nn.Sequential(\n",
    "            torch.nn.Conv2d(1, 1, kernel_size=3, stride=1, padding=1),\n",
    "            torch.nn.ReLU(),\n",
    "            torch.nn.MaxPool2d(kernel_size=2, stride=2)\n",
    "        )\n",
    "\n",
    "        # Fully connected Layers 7 * 7 -> 7\n",
    "        self.fc = torch.nn.Linear(7 * 7, 7, bias=True)\n",
    "        \n",
    "    def forward(self, x):\n",
    "        x = self.layer1(x)\n",
    "        x = self.layer2(x)\n",
    "        x = x.view(-1, 7 * 7)\n",
    "        x = self.fc(x)\n",
    "        return x.detach().numpy()\n",
    "\n",
    "# Model Amplitude\n",
    "class x_transform4(torch.nn.Module):\n",
    "    def __init__(self):\n",
    "        super().__init__()\n",
    "        self.linear_relu_stack = nn.Sequential(\n",
    "            nn.Linear(16, 32),\n",
    "            nn.ReLU(),\n",
    "            nn.Linear(32, 32),\n",
    "            nn.ReLU(),\n",
    "            nn.Linear(32, 16)\n",
    "        )\n",
    "    def forward(self, x):\n",
    "        x = self.linear_relu_stack(x)\n",
    "        return x.detach().numpy()\n",
    "\n",
    "model1 = x_transform1()\n",
    "model2 = x_transform2()\n",
    "model3 = x_transform3()\n",
    "model_amp = x_transform4()"
   ]
  },
  {
   "attachments": {},
   "cell_type": "markdown",
   "metadata": {},
   "source": [
    "Tunable Hyperparameters"
   ]
  },
  {
   "cell_type": "code",
   "execution_count": null,
   "metadata": {},
   "outputs": [],
   "source": [
    "steps = 1000\n",
    "learning_rate = 0.01\n",
    "batch_size = 25\n",
    "ansatz = 'TTN'\n",
    "#ansatz = 'SU4'\n",
    "\n",
    "PATH_Model1 = '/Users/tak/Github/QEmbedding/Results/QCNN_demonstration/Noisy/Noisy_Model1_Fidelity.pt'\n",
    "PATH_Model2 = '/Users/tak/Github/QEmbedding/Results/QCNN_demonstration/Noisy/Noisy_Model2_Fidelity.pt'\n",
    "PATH_Model3 = '/Users/tak/Github/QEmbedding/Results/QCNN_demonstration/Noisy/Noisy_Model3_Fidelity.pt'\n",
    "PATH_Model_amp = \"/Users/tak/Github/QEmbedding/Results/earlystop 10 experiments/experiment1/Model Amplitude/Model_Amplitude.pt\""
   ]
  },
  {
   "cell_type": "code",
   "execution_count": null,
   "metadata": {},
   "outputs": [],
   "source": [
    "def statepreparation(x, Trained):\n",
    "    if Trained == False:\n",
    "        embedding.Noisy_Four_QuantumEmbedding1(x)\n",
    "    elif Trained == 'Model1_Fidelity':\n",
    "        model1.load_state_dict(torch.load(PATH_Model1, map_location=device))\n",
    "        x = model1(torch.tensor(x))\n",
    "        embedding.Noisy_Four_QuantumEmbedding1(x)\n",
    "    elif Trained == 'Model2_Fidelity':\n",
    "        model2.load_state_dict(torch.load(PATH_Model2, map_location=device))\n",
    "        x = model2(torch.tensor(x))\n",
    "        embedding.Noisy_Four_QuantumEmbedding2(x)\n",
    "    elif Trained == 'Model3_Fidelity':\n",
    "        model3.load_state_dict(torch.load(PATH_Model3, map_location=device))\n",
    "        x = model3(torch.tensor(x))\n",
    "        embedding.Noisy_Four_QuantumEmbedding2(x[0])\n",
    "    elif Trained == 'Model_amp' or Trained == 'Model_amp_not_trained':\n",
    "        if Trained == 'Model_amp':\n",
    "            model_amp.load_state_dict(torch.load(PATH_Model_amp, map_location=device))\n",
    "            x = model_amp(torch.tensor(x))\n",
    "        x = x / np.linalg.norm(x)\n",
    "        qml.MottonenStatePreparation(x, wires=range(4))\n",
    "\n",
    "    \n",
    "\n",
    "@qml.qnode(dev_fake)\n",
    "def Noisy_QCNN_classifier(params, x, Trained):\n",
    "    statepreparation(x, Trained)\n",
    "    embedding.Noisy_QCNN_four(params, ansatz)\n",
    "    return qml.expval(qml.PauliZ(2))\n",
    "\n",
    "\n",
    "def Linear_Loss(labels, predictions):\n",
    "    loss = 0\n",
    "    for l,p in zip(labels, predictions):\n",
    "        loss += 0.5 * (1 - l * p)\n",
    "    return loss / len(labels)\n",
    "\n",
    "\n",
    "def cost(weights, X_batch, Y_batch, Trained):\n",
    "    preds = [Noisy_QCNN_classifier(weights, x, Trained) for x in X_batch]\n",
    "    return Linear_Loss(Y_batch, preds)\n",
    "\n",
    "\n",
    "def circuit_training(X_train, Y_train, Trained):\n",
    "\n",
    "    if ansatz == 'SU4':\n",
    "        num_weights = 30\n",
    "    elif ansatz == 'TTN':\n",
    "        num_weights = 4\n",
    "\n",
    "    weights = np.random.random(num_weights, requires_grad = True)\n",
    "    opt = qml.NesterovMomentumOptimizer(stepsize=learning_rate)\n",
    "    loss_history = []\n",
    "    for it in range(steps):\n",
    "        batch_index = np.random.randint(0, len(X_train), (batch_size,))\n",
    "        X_batch = [X_train[i] for i in batch_index]\n",
    "        Y_batch = [Y_train[i] for i in batch_index]\n",
    "        weights, cost_new = opt.step_and_cost(lambda v: cost(v, X_batch, Y_batch, Trained),\n",
    "                                                     weights)\n",
    "        loss_history.append(cost_new)\n",
    "        if it % 200 == 0:\n",
    "            print(\"iteration: \", it, \" cost: \", cost_new)\n",
    "    return loss_history, weights"
   ]
  },
  {
   "attachments": {},
   "cell_type": "markdown",
   "metadata": {},
   "source": [
    "Train Model1&2 and save the results"
   ]
  },
  {
   "cell_type": "code",
   "execution_count": null,
   "metadata": {},
   "outputs": [],
   "source": [
    "\"\"\"\n",
    "Loss_histories_not_trained, weights_not_trained, Loss_histories_Model1_Fidelity, weights_Model1_Fidelity, Loss_histories_Model2_Fidelity, weights_Model2_Fidelity = [], [], [], [], [], []\n",
    "for i in range(5):\n",
    "    loss_not_trained, weight_not_trained = circuit_training(X_train, Y_train, False)\n",
    "    loss_Model1_Fidelity, weight_Model1_Fidelity = circuit_training(X_train, Y_train, 'Model1_Fidelity')\n",
    "    loss_Model2_Fidelity, weight_Model2_Fidelity = circuit_training(X_train, Y_train, 'Model2_Fidelity')\n",
    "\n",
    "    Loss_histories_not_trained.append(loss_not_trained)\n",
    "    Loss_histories_Model1_Fidelity.append(loss_Model1_Fidelity)\n",
    "    Loss_histories_Model2_Fidelity.append(loss_Model2_Fidelity)\n",
    "\n",
    "    weights_not_trained.append(weight_not_trained)\n",
    "    weights_Model1_Fidelity.append(weight_Model1_Fidelity)\n",
    "    weights_Model2_Fidelity.append(weight_Model2_Fidelity)\n",
    "\n",
    "    \n",
    "f = open('/Users/tak/Github/QEmbedding/Results/QCNN_demonstration/Noisy/Loss_histories_and_weights_Model1&2_Fidelity_TTN.txt', 'a')\n",
    "for i in range(5):\n",
    "    f.write(f'Loss History Noisy Model1 Fidelity {i + 1}:')\n",
    "    f.write('\\n')\n",
    "    f.write(str(Loss_histories_Model1_Fidelity[i]))\n",
    "    f.write('\\n')\n",
    "for i in range(5):\n",
    "    f.write(f'Weights Noisy Model1 Fidelity {i + 1}:')\n",
    "    f.write('\\n')\n",
    "    f.write(str(weights_Model1_Fidelity[i]))\n",
    "\n",
    "\n",
    "for i in range(5):\n",
    "    f.write(f'Loss History Noisy Model2 Fidelity {i + 1}:')\n",
    "    f.write('\\n')\n",
    "    f.write(str(Loss_histories_Model2_Fidelity[i]))\n",
    "    f.write('\\n')\n",
    "for i in range(5):\n",
    "    f.write(f'Weights Noisy Model2 Fidelity {i + 1}:')\n",
    "    f.write('\\n')\n",
    "    f.write(str(weights_Model2_Fidelity[i]))\n",
    "f.close()\n",
    "\"\"\"\n"
   ]
  },
  {
   "attachments": {},
   "cell_type": "markdown",
   "metadata": {},
   "source": [
    "# Part 2: Noisy Model3"
   ]
  },
  {
   "attachments": {},
   "cell_type": "markdown",
   "metadata": {},
   "source": [
    "Load the dataset for Noisy Model3"
   ]
  },
  {
   "cell_type": "code",
   "execution_count": null,
   "metadata": {},
   "outputs": [],
   "source": [
    "feature_reduction = False\n",
    "X_train, X_test, Y_train, Y_test = data.data_load_and_process('mnist', feature_reduction=feature_reduction, classes=classes)"
   ]
  },
  {
   "attachments": {},
   "cell_type": "markdown",
   "metadata": {},
   "source": [
    "Pre-training the embedding"
   ]
  },
  {
   "cell_type": "code",
   "execution_count": null,
   "metadata": {},
   "outputs": [],
   "source": [
    "#train_models('Noisy_Model3_Fidelity')"
   ]
  },
  {
   "attachments": {},
   "cell_type": "markdown",
   "metadata": {},
   "source": [
    "Check the distances after pre-training Noisy Model3 Fidelity"
   ]
  },
  {
   "cell_type": "code",
   "execution_count": null,
   "metadata": {},
   "outputs": [],
   "source": [
    "\"\"\"\n",
    "X1_test, X0_test = [], []\n",
    "for i in range(len(X_test)):\n",
    "    if Y_test[i] == 1:\n",
    "        X1_test.append(X_test[i])\n",
    "    else:\n",
    "        X0_test.append(X_test[i])\n",
    "X1_test, X0_test = torch.tensor(X1_test).to(torch.float32), torch.tensor(X0_test).to(torch.float32)\n",
    "X1_test, X0_test = X1_test.permute(0, 3, 1, 2), X0_test.permute(0, 3, 1, 2)\n",
    "\n",
    "X1_train, X0_train = [], []\n",
    "for i in range(len(X_train)):\n",
    "    if Y_train[i] == 1:\n",
    "        X1_train.append(X_train[i])\n",
    "    else:\n",
    "        X0_train.append(X_train[i])\n",
    "X1_train, X0_train = torch.tensor(X1_train).to(torch.float32), torch.tensor(X0_train).to(torch.float32)\n",
    "X1_train, X0_train = X1_train.permute(0, 3, 1, 2), X0_train.permute(0, 3, 1, 2)\n",
    "\n",
    "\n",
    "\n",
    "PATH_Model3 = '/Users/tak/Github/QEmbedding/Results/QCNN_demonstration/Noisy/Noisy_Model3_Fidelity.pt'\n",
    "Model3_Fidelity_Distance = Distances3()\n",
    "Model3_Fidelity_Distance.load_state_dict(torch.load(PATH_Model3, map_location=device))\n",
    "\n",
    "\n",
    "# Distances After training with Model2_Fidelity\n",
    "Trace_Model3_traindata = Model3_Fidelity_Distance(X1_train, X0_train)\n",
    "Trace_Model3_testdata = Model3_Fidelity_Distance(X1_test, X0_test)\n",
    "print(f\"Trace Distance (Training Data) After Noisy Model3 Fidelity: {Trace_Model3_traindata}\")\n",
    "print(f\"Trace Distance (Test Data) After Noisy Model3 Fidelity: {Trace_Model3_testdata}\")\n",
    "\n",
    "# Lower Bounds\n",
    "LB_Model3_traindata = 0.5 * (1 - Trace_Model3_traindata.detach().numpy())\n",
    "\"\"\""
   ]
  },
  {
   "cell_type": "code",
   "execution_count": null,
   "metadata": {},
   "outputs": [],
   "source": [
    "LB_Model3_traindata = 0.0647"
   ]
  },
  {
   "attachments": {},
   "cell_type": "markdown",
   "metadata": {},
   "source": [
    "Noisy QCNN classifiers training for Model3"
   ]
  },
  {
   "cell_type": "code",
   "execution_count": null,
   "metadata": {},
   "outputs": [],
   "source": [
    "X_train, X_test = torch.tensor(X_train).to(torch.float32), torch.tensor(X_test).to(torch.float32)\n",
    "X_train, X_test = X_train.permute(0, 3, 1, 2), X_test.permute(0, 3, 1, 2)\n",
    "Y_train = [-1 if y == 0 else 1 for y in Y_train]\n",
    "Y_test = [-1 if y == 0 else 1 for y in Y_test]"
   ]
  },
  {
   "attachments": {},
   "cell_type": "markdown",
   "metadata": {},
   "source": [
    "Train Model3 and save the results"
   ]
  },
  {
   "cell_type": "code",
   "execution_count": null,
   "metadata": {},
   "outputs": [],
   "source": [
    "\n",
    "\"\"\"\n",
    "Loss_histories_Model3_Fidelity, weights_Model3_Fidelity = [], []\n",
    "for i in range(5):\n",
    "\n",
    "    loss_Model3_Fidelity, weight_Model3_Fidelity = circuit_training(X_train, Y_train, 'Model3_Fidelity')\n",
    "\n",
    "    Loss_histories_Model3_Fidelity.append(loss_Model3_Fidelity)\n",
    "    weights_Model3_Fidelity.append(weight_Model3_Fidelity)\n",
    "\n",
    "f = open('/Users/tak/Github/QEmbedding/Results/QCNN_demonstration/Noisy/Loss_histories_and_weights_Noisy_Model3_Fidelity.txt', 'w')\n",
    "for i in range(5):\n",
    "    f.write(f'Loss History Noisy Model3 Fidelity {i + 1}:')\n",
    "    f.write('\\n')\n",
    "    f.write(str(Loss_histories_Model3_Fidelity[i]))\n",
    "    f.write('\\n')\n",
    "for i in range(5):\n",
    "    f.write(f'Weights Noisy Model3 Fidelity {i + 1}:')\n",
    "    f.write('\\n')\n",
    "    f.write(str(weights_Model3_Fidelity[i]))\n",
    "f.close()\n",
    "\"\"\""
   ]
  },
  {
   "attachments": {},
   "cell_type": "markdown",
   "metadata": {},
   "source": [
    "# Part 3: Noisy Model Amplitude"
   ]
  },
  {
   "attachments": {},
   "cell_type": "markdown",
   "metadata": {},
   "source": [
    "Load dataset for Model Amplitude"
   ]
  },
  {
   "cell_type": "code",
   "execution_count": null,
   "metadata": {},
   "outputs": [],
   "source": [
    "feature_reduction = 'PCA16'\n",
    "X_train, X_test, Y_train, Y_test = data.data_load_and_process('mnist', feature_reduction=feature_reduction, classes=classes)"
   ]
  },
  {
   "cell_type": "code",
   "execution_count": null,
   "metadata": {},
   "outputs": [],
   "source": [
    "X_train, X_test = torch.tensor(X_train).to(torch.float32), torch.tensor(X_test).to(torch.float32)\n",
    "Y_train = [-1 if y == 0 else 1 for y in Y_train]\n",
    "Y_test = [-1 if y == 0 else 1 for y in Y_test]"
   ]
  },
  {
   "attachments": {},
   "cell_type": "markdown",
   "metadata": {},
   "source": [
    "Train Noisy QCNN Model Amplitude"
   ]
  },
  {
   "cell_type": "code",
   "execution_count": null,
   "metadata": {},
   "outputs": [],
   "source": [
    "\"\"\"\n",
    "for i in range(5):\n",
    "\n",
    "    f = open('/Users/tak/Github/QEmbedding/Results/QCNN_demonstration/Noisy/Loss_histories_and_weights_Noisy_Model_amp_not_trained.txt', 'a')\n",
    "\n",
    "    loss_Model_amp_not_trained, weight_Model_amp_not_trained = circuit_training(X_train, Y_train, 'Model_amp_not_trained')\n",
    "\n",
    "    f.write(f'Loss History Noisy Model Amplitude Not Trained{i + 1}:')\n",
    "    f.write('\\n')\n",
    "    f.write(str(loss_Model_amp_not_trained))\n",
    "    f.write('\\n')\n",
    "    f.write(f'Weights Noisy Model Amplitude Not Trained{i + 1}:')\n",
    "    f.write('\\n')\n",
    "    f.write(str(weight_Model_amp_not_trained))\n",
    "    f.write('\\n')\n",
    "\n",
    "    f.close()\n",
    "\n",
    "\n",
    "\n",
    "    f = open('/Users/tak/Github/QEmbedding/Results/QCNN_demonstration/Noisy/Loss_histories_and_weights_Noisy_Model_amp.txt', 'a')\n",
    "\n",
    "    loss_Model_amp, weight_Model_amp = circuit_training(X_train, Y_train, 'Model_amp')\n",
    "\n",
    "    f.write(f'Loss History Noisy Model Amplitude{i + 1}:')\n",
    "    f.write('\\n')\n",
    "    f.write(str(loss_Model_amp))\n",
    "    f.write('\\n')\n",
    "    f.write(f'Weights Noisy Model Amplitude{i + 1}:')\n",
    "    f.write('\\n')\n",
    "    f.write(str(weight_Model_amp))\n",
    "    f.write('\\n')\n",
    "\n",
    "    f.close()\n",
    "\"\"\"\n",
    "\n"
   ]
  },
  {
   "attachments": {},
   "cell_type": "markdown",
   "metadata": {},
   "source": [
    "# Part 4: Result "
   ]
  },
  {
   "attachments": {},
   "cell_type": "markdown",
   "metadata": {},
   "source": [
    "Load the results"
   ]
  },
  {
   "cell_type": "code",
   "execution_count": null,
   "metadata": {},
   "outputs": [],
   "source": [
    "PATH_LH0 = '/Users/tak/Github/QEmbedding/Results/QCNN_demonstration/Noisy/Loss_histories_not_trained.txt'\n",
    "PATH_LH1 = '/Users/tak/Github/QEmbedding/Results/QCNN_demonstration/Noisy/Loss_histories_Model1.txt'\n",
    "PATH_LH2 = '/Users/tak/Github/QEmbedding/Results/QCNN_demonstration/Noisy/Loss_histories_Model2.txt'\n",
    "PATH_LH3 = '/Users/tak/Github/QEmbedding/Results/QCNN_demonstration/Noisy/Loss_histories_Model3.txt'\n",
    "PATH_LH_amp0 = '/Users/tak/Github/QEmbedding/Results/QCNN_demonstration/Noisy/Loss_histories_Model_amp_not_trained.txt'\n",
    "PATH_LH_amp1 = '/Users/tak/Github/QEmbedding/Results/QCNN_demonstration/Noisy/Loss_histories_Model_amp.txt'\n",
    "\n",
    "PATH_w0 = '/Users/tak/Github/QEmbedding/Results/QCNN_demonstration/Noisy/weights_not_trained.txt'\n",
    "PATH_w1 = '/Users/tak/Github/QEmbedding/Results/QCNN_demonstration/Noisy/weights_Model1.txt'\n",
    "PATH_w2 = '/Users/tak/Github/QEmbedding/Results/QCNN_demonstration/Noisy/weights_Model2.txt'\n",
    "PATH_w3 = '/Users/tak/Github/QEmbedding/Results/QCNN_demonstration/Noisy/weights_Model3.txt'\n",
    "PATH_w_amp0 = '/Users/tak/Github/QEmbedding/Results/QCNN_demonstration/Noisy/weights_Model_amp_not_trained.txt'\n",
    "PATH_w_amp1 = '/Users/tak/Github/QEmbedding/Results/QCNN_demonstration/Noisy/weights_Model_amp.txt'\n",
    "\n",
    "def data_read(PATH):\n",
    "  textfile = open(PATH, 'r')\n",
    "  data = np.array([])\n",
    "  for line in textfile:\n",
    "    a = np.array([float(v) for v in line.strip().split(\" \")])\n",
    "    data = np.append(data, a)\n",
    "  return data\n",
    "\n",
    "Loss_histories_not_trained = data_read(PATH_LH0).reshape(5,1000)\n",
    "Loss_histories_Model1_Fidelity = data_read(PATH_LH1).reshape(5,1000)\n",
    "Loss_histories_Model2_Fidelity = data_read(PATH_LH2).reshape(5,1000)\n",
    "Loss_histories_Model3_Fidelity = data_read(PATH_LH3).reshape(5,1000)\n",
    "Loss_histories_Model_amp_not_trained = data_read(PATH_LH_amp0).reshape(5,1000)\n",
    "Loss_histories_Model_amp = data_read(PATH_LH_amp1).reshape(5,1000)\n",
    "\n",
    "weights_not_trained = data_read(PATH_w0).reshape(5,4)\n",
    "weights_Model1_Fidelity = data_read(PATH_w1).reshape(5,4)\n",
    "weights_Model2_Fidelity = data_read(PATH_w2).reshape(5,4)\n",
    "weights_Model3_Fidelity = data_read(PATH_w3).reshape(5,4)\n",
    "weights_Model_amp_not_trained = data_read(PATH_w_amp0).reshape(5,4)\n",
    "weights_Model_amp = data_read(PATH_w_amp1).reshape(5,4)\n",
    "\n",
    "Not_trained_mean, Not_trained_std = Loss_histories_not_trained.mean(axis=0), Loss_histories_not_trained.std(axis=0)\n",
    "Model1_Fidelity_mean, Model1_Fidelity_std = Loss_histories_Model1_Fidelity.mean(axis=0), Loss_histories_Model1_Fidelity.std(axis=0)\n",
    "Model2_Fidelity_mean, Model2_Fidelity_std = Loss_histories_Model2_Fidelity.mean(axis=0), Loss_histories_Model2_Fidelity.std(axis=0)\n",
    "Model3_Fidelity_mean, Model3_Fidelity_std = Loss_histories_Model3_Fidelity.mean(axis=0), Loss_histories_Model3_Fidelity.std(axis=0)\n",
    "Model_amp_not_trained_mean, Model_amp_not_trained_std = Loss_histories_Model_amp_not_trained.mean(axis=0), Loss_histories_Model_amp_not_trained.std(axis=0)\n",
    "Model_amp_mean, Model_amp_std = Loss_histories_Model_amp.mean(axis=0), Loss_histories_Model_amp.std(axis=0)"
   ]
  },
  {
   "attachments": {},
   "cell_type": "markdown",
   "metadata": {},
   "source": [
    "Plot the results for Model 1,2,3"
   ]
  },
  {
   "cell_type": "code",
   "execution_count": null,
   "metadata": {},
   "outputs": [],
   "source": [
    "import seaborn as sns\n",
    "\n",
    "plt.rcParams['figure.figsize'] = [10, 5]\n",
    "fig, ax = plt.subplots()\n",
    "clrs = sns.color_palette(\"husl\", 4)\n",
    "with sns.axes_style(\"darkgrid\"):\n",
    "    ax.plot(range(len(Not_trained_mean)), Not_trained_mean, label=\"No Pre-training\", c=clrs[0])\n",
    "    ax.fill_between(range(len(Not_trained_mean)), Not_trained_mean-Not_trained_std, Not_trained_mean+Not_trained_std, alpha=0.3,facecolor=clrs[0])\n",
    "\n",
    "    ax.plot(range(len(Model1_Fidelity_mean)), Model1_Fidelity_mean, label=\"Noisy Model1 Pre-training\", c=clrs[1])\n",
    "    ax.fill_between(range(len(Model1_Fidelity_mean)), Model1_Fidelity_mean-Model1_Fidelity_std, Model1_Fidelity_mean+Model1_Fidelity_std, alpha=0.3,facecolor=clrs[1])\n",
    "    \n",
    "    ax.plot(range(len(Model2_Fidelity_mean)), Model2_Fidelity_mean, label=\"Noisy Model2 Pre-training\", c=clrs[2])\n",
    "    ax.fill_between(range(len(Model2_Fidelity_mean)), Model2_Fidelity_mean-Model2_Fidelity_std, Model2_Fidelity_mean+Model2_Fidelity_std, alpha=0.3,facecolor=clrs[2])\n",
    "\n",
    "    ax.plot(range(len(Model3_Fidelity_mean)), Model3_Fidelity_mean, label=\"Noisy Model2 Pre-training\", c=clrs[3])\n",
    "    ax.fill_between(range(len(Model3_Fidelity_mean)), Model3_Fidelity_mean-Model3_Fidelity_std, Model3_Fidelity_mean+Model3_Fidelity_std, alpha=0.3,facecolor=clrs[3])\n",
    "\n",
    "\n",
    "    ax.plot(range(1000), np.ones(1000) * LB_before_traindata, linestyle='dashed', linewidth=1.5, label=\"Lower Bound without Pre-training\", c=clrs[0])\n",
    "    ax.plot(range(1000), np.ones(1000) * LB_Model1_traindata, linestyle='dashed', linewidth=1.5, label=\"Lower Bound with Noisy Model1\", c=clrs[1])\n",
    "    ax.plot(range(1000), np.ones(1000) * LB_Model2_traindata, linestyle='dashed', linewidth=1.5, label=\"Lower Bound with Noisy Model2\", c=clrs[2])\n",
    "    ax.plot(range(1000), np.ones(1000) * LB_Model3_traindata, linestyle='dashed', linewidth=1.5, label=\"Lower Bound with Noisy Model3\", c=clrs[3])\n",
    "\n",
    "\n",
    "ax.set_xlabel(\"Iteration\")\n",
    "ax.set_ylabel(\"Loss\")\n",
    "ax.set_title(\"Noisy QCNN Loss History\")\n",
    "ax.legend()"
   ]
  },
  {
   "attachments": {},
   "cell_type": "markdown",
   "metadata": {},
   "source": [
    "Plot the results for Model Amplitude"
   ]
  },
  {
   "cell_type": "code",
   "execution_count": null,
   "metadata": {},
   "outputs": [],
   "source": [
    "LB_amp_before_traindata = 0.2314\n",
    "LB_amp_after_traindata = 0.0266\n",
    "import seaborn as sns\n",
    "\n",
    "plt.rcParams['figure.figsize'] = [10, 5]\n",
    "fig, ax = plt.subplots()\n",
    "clrs = sns.color_palette(\"husl\", 2)\n",
    "with sns.axes_style(\"darkgrid\"):\n",
    "    ax.plot(range(len(Model_amp_not_trained_mean)), Model_amp_not_trained_mean, label=\"No Pre-training\", c=clrs[0])\n",
    "    ax.fill_between(range(len(Model_amp_not_trained_mean)), Model_amp_not_trained_mean-Model_amp_not_trained_std, Model_amp_not_trained_mean+Model_amp_not_trained_std, alpha=0.3,facecolor=clrs[0])\n",
    "\n",
    "    ax.plot(range(len(Model_amp_mean)), Model_amp_mean, label=\"With Pre-training\", c=clrs[1])\n",
    "    ax.fill_between(range(len(Model_amp_mean)), Model_amp_mean-Model_amp_std, Model_amp_mean+Model_amp_std, alpha=0.3,facecolor=clrs[1])\n",
    "\n",
    "\n",
    "    ax.plot(range(1000), np.ones(1000) * LB_amp_before_traindata, linestyle='dashed', linewidth=1.5, label=\"Lower Bound without Pre-training\", c=clrs[0])\n",
    "    ax.plot(range(1000), np.ones(1000) * LB_amp_after_traindata, linestyle='dashed', linewidth=1.5, label=\"Lower Bound with Pre-training\", c=clrs[1])\n",
    "\n",
    "\n",
    "ax.set_xlabel(\"Iteration\")\n",
    "ax.set_ylabel(\"Loss\")\n",
    "ax.set_title(\"Noisy QCNN Loss History with Amplitude Embedding\")\n",
    "ax.legend()"
   ]
  },
  {
   "attachments": {},
   "cell_type": "markdown",
   "metadata": {},
   "source": [
    "Calculate the classification accuracies for Model1,2"
   ]
  },
  {
   "cell_type": "code",
   "execution_count": null,
   "metadata": {},
   "outputs": [],
   "source": [
    "feature_reduction = 'PCA4'\n",
    "X_train, X_test, Y_train, Y_test = data.data_load_and_process('mnist', feature_reduction=feature_reduction, classes=classes)\n",
    "\n",
    "X_train, X_test = torch.tensor(X_train).to(torch.float32), torch.tensor(X_test).to(torch.float32)\n",
    "Y_train = [-1 if y == 0 else 1 for y in Y_train]\n",
    "Y_test = [-1 if y == 0 else 1 for y in Y_test]"
   ]
  },
  {
   "cell_type": "code",
   "execution_count": null,
   "metadata": {},
   "outputs": [],
   "source": [
    "def accuracy_test(predictions, labels):\n",
    "    acc = 0\n",
    "    for l, p in zip(labels, predictions):\n",
    "        if np.abs(l - p) < 1:\n",
    "            acc = acc + 1\n",
    "    return acc / len(labels)\n",
    "\n",
    "\n",
    "accuracies_not_trained, accuracies_Model1_Fidelity, accuracies_Model2_Fidelity = [], [], []\n",
    "\n",
    "for i in range(5):\n",
    "    prediction_not_trained = [Noisy_QCNN_classifier(weights_not_trained[i], x, Trained=False) for x in X_test]\n",
    "    prediction_Model1_Fidelity = [Noisy_QCNN_classifier(weights_Model1_Fidelity[i], x, Trained='Model1_Fidelity') for x in X_test]\n",
    "    prediction_Model2_Fidelity = [Noisy_QCNN_classifier(weights_Model2_Fidelity[i], x, Trained='Model2_Fidelity') for x in X_test]\n",
    "    \n",
    "    accuracy_not_trained = accuracy_test(prediction_not_trained, Y_test)\n",
    "    accuracy_Model1_Fidelity = accuracy_test(prediction_Model1_Fidelity, Y_test)\n",
    "    accuracy_Model2_Fidelity = accuracy_test(prediction_Model2_Fidelity, Y_test)\n",
    "\n",
    "    accuracies_not_trained.append(accuracy_not_trained)\n",
    "    accuracies_Model1_Fidelity.append(accuracy_Model1_Fidelity)\n",
    "    accuracies_Model2_Fidelity.append(accuracy_Model2_Fidelity)\n",
    "\n",
    "accuracies_not_trained = np.array(accuracies_not_trained)\n",
    "accuracies_Model1_Fidelity, accuracies_Model2_Fidelity = np.array(accuracies_Model1_Fidelity), np.array(accuracies_Model2_Fidelity)"
   ]
  },
  {
   "attachments": {},
   "cell_type": "markdown",
   "metadata": {},
   "source": [
    "Calculate the accuracies for Model 3"
   ]
  },
  {
   "cell_type": "code",
   "execution_count": null,
   "metadata": {},
   "outputs": [],
   "source": [
    "feature_reduction = False\n",
    "X_train, X_test, Y_train, Y_test = data.data_load_and_process('mnist', feature_reduction=feature_reduction, classes=classes)\n",
    "\n",
    "X_train, X_test = torch.tensor(X_train).to(torch.float32), torch.tensor(X_test).to(torch.float32)\n",
    "X_train, X_test = X_train.permute(0, 3, 1, 2), X_test.permute(0, 3, 1, 2)\n",
    "Y_train = [-1 if y == 0 else 1 for y in Y_train]\n",
    "Y_test = [-1 if y == 0 else 1 for y in Y_test]"
   ]
  },
  {
   "cell_type": "code",
   "execution_count": null,
   "metadata": {},
   "outputs": [],
   "source": [
    "accuracies_Model3_Fidelity = []\n",
    "\n",
    "for i in range(5):\n",
    "    prediction_Model3_Fidelity = [Noisy_QCNN_classifier(weights_Model3_Fidelity[i], x, Trained='Model3_Fidelity') for x in X_test]\n",
    "    accuracy_Model3_Fidelity = accuracy_test(prediction_Model3_Fidelity, Y_test)\n",
    "    accuracies_Model3_Fidelity.append(accuracy_Model3_Fidelity)\n",
    "\n",
    "accuracies_Model3_Fidelity =np.array(accuracies_Model3_Fidelity)"
   ]
  },
  {
   "attachments": {},
   "cell_type": "markdown",
   "metadata": {},
   "source": [
    "Calculate the accuracies for Model Amplitude"
   ]
  },
  {
   "cell_type": "code",
   "execution_count": null,
   "metadata": {},
   "outputs": [],
   "source": [
    "feature_reduction = 'PCA16'\n",
    "X_train, X_test, Y_train, Y_test = data.data_load_and_process('mnist', feature_reduction=feature_reduction, classes=classes)\n",
    "\n",
    "X_train, X_test = torch.tensor(X_train).to(torch.float32), torch.tensor(X_test).to(torch.float32)\n",
    "Y_train = [-1 if y == 0 else 1 for y in Y_train]\n",
    "Y_test = [-1 if y == 0 else 1 for y in Y_test]"
   ]
  },
  {
   "cell_type": "code",
   "execution_count": null,
   "metadata": {},
   "outputs": [],
   "source": [
    "accuracies_amp_not_trained, accuracies_amp = [], []\n",
    "\n",
    "for i in range(5):\n",
    "    prediction_amp_not_trained = [Noisy_QCNN_classifier(weights_Model_amp_not_trained[i], x, Trained='Model_amp_not_trained') for x in X_test]\n",
    "    prediction_amp = [Noisy_QCNN_classifier(weights_Model_amp[i], x, Trained='Model_amp') for x in X_test]\n",
    "    \n",
    "\n",
    "    accuracy_amp_not_trained = accuracy_test(prediction_amp_not_trained, Y_test)\n",
    "    accuracy_amp = accuracy_test(prediction_amp, Y_test)\n",
    "\n",
    "    accuracies_amp_not_trained.append(accuracy_amp_not_trained)\n",
    "    accuracies_amp.append(accuracy_amp)\n",
    "\n",
    "\n",
    "accuracies_amp_not_trained, accuracies_amp = np.array(accuracies_amp_not_trained), np.array(accuracies_amp)"
   ]
  },
  {
   "cell_type": "code",
   "execution_count": null,
   "metadata": {},
   "outputs": [],
   "source": [
    "\n",
    "print(\"Noisy QCNN classification accuracies:\\n\")\n",
    "print(\"-------------------------------------\\n\")\n",
    "print(f\" Accuracy without pre-training: {accuracies_not_trained.mean()} ± {accuracies_not_trained.std()}\")\n",
    "print(f\" Accuracy after pre-training with Noisy_Model1_Fidelity: {accuracies_Model1_Fidelity.mean()} ± {accuracies_Model1_Fidelity.std()}\")\n",
    "print(f\" Accuracy after pre-training with Noisy_Model2_Fidelity: {accuracies_Model2_Fidelity.mean()} ± {accuracies_Model2_Fidelity.std()}\")\n",
    "print(f\" Accuracy after pre-training with Noisy_Model3_Fidelity: {accuracies_Model3_Fidelity.mean()} ± {accuracies_Model3_Fidelity.std()}\")\n",
    "print(\"\\n\")\n",
    "print(\"\\n\")\n",
    "print(\"Noisy QCNN classification accuracies (Amplitude Embedding):\\n\")\n",
    "print(\"-------------------------------------\\n\")\n",
    "print(f\" Accuracy (Amplitude) without pre-training: {accuracies_amp_not_trained.mean()} ± {accuracies_amp_not_trained.std()}\")\n",
    "print(f\" Accuracy (Amplitude) with pre-training: {accuracies_amp.mean()} ± {accuracies_amp.std()}\")\n",
    "\n"
   ]
  },
  {
   "cell_type": "code",
   "execution_count": null,
   "metadata": {},
   "outputs": [],
   "source": []
  }
 ],
 "metadata": {
  "kernelspec": {
   "display_name": "QC",
   "language": "python",
   "name": "python3"
  },
  "language_info": {
   "codemirror_mode": {
    "name": "ipython",
    "version": 3
   },
   "file_extension": ".py",
   "mimetype": "text/x-python",
   "name": "python",
   "nbconvert_exporter": "python",
   "pygments_lexer": "ipython3",
   "version": "3.11.4"
  },
  "vscode": {
   "interpreter": {
    "hash": "c5108ee98eb47f7e6b2eeb3f4fcfe8c3b821806f46f3b96ac0193b078633d3d2"
   }
  }
 },
 "nbformat": 4,
 "nbformat_minor": 2
}
