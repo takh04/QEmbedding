{
 "cells": [
  {
   "cell_type": "markdown",
   "metadata": {},
   "source": [
    "# Mock Embedding Training"
   ]
  },
  {
   "cell_type": "code",
   "execution_count": 1,
   "metadata": {},
   "outputs": [
    {
     "name": "stderr",
     "output_type": "stream",
     "text": [
      "2023-02-23 16:39:53.124590: I tensorflow/core/platform/cpu_feature_guard.cc:193] This TensorFlow binary is optimized with oneAPI Deep Neural Network Library (oneDNN) to use the following CPU instructions in performance-critical operations:  AVX2 FMA\n",
      "To enable them in other operations, rebuild TensorFlow with the appropriate compiler flags.\n"
     ]
    }
   ],
   "source": [
    "from pennylane import numpy as np\n",
    "import matplotlib.pyplot as plt\n",
    "import matplotlib as mpl\n",
    "import sys\n",
    "sys.path.insert(0, '/Users/tak/Github/QEmbedding/')\n",
    "import Hybrid_nn\n",
    "import torch\n",
    "from torch import nn\n",
    "import data\n",
    "import pennylane as qml\n",
    "import embedding"
   ]
  },
  {
   "cell_type": "code",
   "execution_count": 2,
   "metadata": {},
   "outputs": [],
   "source": [
    "import pennylane as qml\n",
    "from pennylane import numpy as np\n",
    "from qiskit import IBMQ\n",
    "from qiskit.providers.fake_provider import FakeJakarta, FakeMontreal\n",
    "from qiskit_aer.noise import NoiseModel\n",
    "\n",
    "\n",
    "noisy = FakeJakarta()\n",
    "noise_model = NoiseModel.from_backend(noisy)\n",
    "coupling_map = noisy.configuration().coupling_map\n",
    "basis_gates = noise_model.basis_gates\n",
    "\n",
    "dev = qml.device(\n",
    "    'qiskit.aer',\n",
    "    wires=4,\n",
    "    shots=1024,\n",
    "    noise_model=noise_model,\n",
    "    coupling_map=coupling_map,\n",
    "    basis_gates=basis_gates\n",
    ")\n",
    "\n",
    "PATH_Model2 = '/Users/tak/Github/QEmbedding/Results/QCNN_demonstration/Real device/Mock/Model2.pt'\n",
    "PATH_Model3 = '/Users/tak/Github/QEmbedding/Results/QCNN_demonstration/Real device/Mock/Model3.pt'"
   ]
  },
  {
   "cell_type": "code",
   "execution_count": 3,
   "metadata": {},
   "outputs": [],
   "source": [
    "steps = 50\n",
    "batch_size = 10"
   ]
  },
  {
   "cell_type": "markdown",
   "metadata": {},
   "source": [
    "# Model 2"
   ]
  },
  {
   "cell_type": "markdown",
   "metadata": {},
   "source": [
    "Load the dataset for Model1 and Model2"
   ]
  },
  {
   "cell_type": "code",
   "execution_count": 4,
   "metadata": {},
   "outputs": [
    {
     "name": "stderr",
     "output_type": "stream",
     "text": [
      "2023-02-23 16:40:05.106721: I tensorflow/core/platform/cpu_feature_guard.cc:193] This TensorFlow binary is optimized with oneAPI Deep Neural Network Library (oneDNN) to use the following CPU instructions in performance-critical operations:  AVX2 FMA\n",
      "To enable them in other operations, rebuild TensorFlow with the appropriate compiler flags.\n"
     ]
    }
   ],
   "source": [
    "feature_reduction = 'PCA4'\n",
    "classes = [0,1]\n",
    "X_train, X_test, Y_train, Y_test = data.data_load_and_process('mnist', feature_reduction=feature_reduction, classes=classes)\n",
    "\n",
    "\n",
    "def new_data(batch_size, X, Y):\n",
    "    X1_new, X2_new, Y_new = [], [], []\n",
    "    for i in range(batch_size):\n",
    "        n, m = np.random.randint(len(X)), np.random.randint(len(X))\n",
    "        X1_new.append(X[n])\n",
    "        X2_new.append(X[m])\n",
    "        if Y[n] == Y[m]:\n",
    "            Y_new.append(1)\n",
    "        else:\n",
    "            Y_new.append(0)\n",
    "\n",
    "    X1_new, X2_new, Y_new = torch.tensor(X1_new).to(torch.float32), torch.tensor(X2_new).to(torch.float32), torch.tensor(Y_new).to(torch.float32)\n",
    "    if feature_reduction == False:\n",
    "        X1_new = X1_new.permute(0, 3, 1, 2)\n",
    "        X2_new = X2_new.permute(0, 3, 1, 2)\n",
    "    return X1_new, X2_new, Y_new"
   ]
  },
  {
   "cell_type": "code",
   "execution_count": 5,
   "metadata": {},
   "outputs": [],
   "source": [
    "@qml.qnode(dev, interface=\"torch\")\n",
    "def embedding_overlap(inputs):\n",
    "\n",
    "    for i in range(4):\n",
    "        qml.Hadamard(wires=i)\n",
    "\n",
    "    embedding.exp_Z(inputs[0], wires=0)\n",
    "    embedding.exp_Z(inputs[1], wires=1)\n",
    "    embedding.exp_Z(inputs[2], wires=2)\n",
    "    embedding.exp_Z(inputs[3], wires=3)\n",
    "    \n",
    "    \n",
    "    embedding.exp_ZZ1(inputs[4], wires=[0,1])\n",
    "    embedding.exp_ZZ1(inputs[5], wires=[1,2])\n",
    "    embedding.exp_ZZ1(inputs[6] - inputs[13], wires=[2,3])\n",
    "    embedding.exp_ZZ1(-inputs[12], wires=[1,2])\n",
    "    embedding.exp_ZZ1(-inputs[11], wires=[0,1])\n",
    "\n",
    "    embedding.exp_Z(-1 * inputs[10], wires=3)\n",
    "    embedding.exp_Z(-1 * inputs[9], wires=2)\n",
    "    embedding.exp_Z(-1 * inputs[8], wires=1)\n",
    "    embedding.exp_Z(-1 * inputs[7], wires=0)\n",
    "\n",
    "    for i in range(4):\n",
    "        qml.Hadamard(wires=i)\n",
    "\n",
    "    return qml.probs(wires=range(4))\n",
    "    \n",
    "\n",
    "class Model2(torch.nn.Module):\n",
    "    def __init__(self):\n",
    "        super().__init__()\n",
    "        self.qlayer2 = qml.qnn.TorchLayer(embedding_overlap, weight_shapes={})\n",
    "        self.linear_relu_stack2 = nn.Sequential(\n",
    "            nn.Linear(4, 12),\n",
    "            nn.ReLU(),\n",
    "            nn.Linear(12, 12),\n",
    "            nn.ReLU(),\n",
    "            nn.Linear(12, 7)\n",
    "        )\n",
    "    def forward(self, x1, x2):\n",
    "        x1 = self.linear_relu_stack2(x1)\n",
    "        x2 = self.linear_relu_stack2(x2)\n",
    "        x = torch.concat([x1, x2], 1)\n",
    "        x = self.qlayer2(x)\n",
    "        return x[:,0]\n",
    "\n",
    "\n",
    "class Model3(torch.nn.Module):\n",
    "    def __init__(self):\n",
    "        super().__init__()\n",
    "        self.qlayer3 = qml.qnn.TorchLayer(embedding_overlap, weight_shapes={})\n",
    "        self.layer1 = torch.nn.Sequential(\n",
    "            torch.nn.Conv2d(1, 1, kernel_size=3, stride=1, padding=1),\n",
    "            torch.nn.ReLU(),\n",
    "            torch.nn.MaxPool2d(kernel_size=2, stride=2)\n",
    "        )\n",
    "\n",
    "        # Layer2: 14 * 14 -> 7 * 7\n",
    "        self.layer2 = torch.nn.Sequential(\n",
    "            torch.nn.Conv2d(1, 1, kernel_size=3, stride=1, padding=1),\n",
    "            torch.nn.ReLU(),\n",
    "            torch.nn.MaxPool2d(kernel_size=2, stride=2)\n",
    "        )\n",
    "\n",
    "        # Fully connected Layers 7 * 7 -> 7\n",
    "        self.fc = torch.nn.Linear(7 * 7, 7, bias=True)\n",
    "        \n",
    "    def forward(self, x1, x2):\n",
    "        x1 = self.layer1(x1)\n",
    "        x1 = self.layer2(x1)\n",
    "        x1 = x1.view(-1, 7 * 7)\n",
    "        x1 = self.fc(x1)\n",
    "\n",
    "        x2 = self.layer1(x2)\n",
    "        x2 = self.layer2(x2)\n",
    "        x2 = x2.view(-1, 7 * 7)\n",
    "        x2 = self.fc(x2)\n",
    "\n",
    "        x = torch.concat([x1, x2], 1)\n",
    "        x = self.qlayer3(x)\n",
    "        return x[:,0]"
   ]
  },
  {
   "cell_type": "code",
   "execution_count": 6,
   "metadata": {},
   "outputs": [],
   "source": [
    "def train_models(model_name):\n",
    "    train_loss = []\n",
    "    if model_name == 'Model2':\n",
    "        model = Model2()\n",
    "        PATH = PATH_Model2\n",
    "    elif model_name == 'Model3':\n",
    "        model = Model3()\n",
    "        PATH = PATH_Model3\n",
    "\n",
    "    model.train()\n",
    "\n",
    "    loss_fn = torch.nn.MSELoss()\n",
    "    opt = torch.optim.SGD(model.parameters(), lr=0.1)\n",
    "    for it in range(steps):\n",
    "\n",
    "        X1_batch, X2_batch, Y_batch = new_data(batch_size, X_train, Y_train)\n",
    "        X1_batch, X2_batch, Y_batch = X1_batch, X2_batch, Y_batch\n",
    "\n",
    "        pred = model(X1_batch, X2_batch)\n",
    "        pred, Y_batch = pred.to(torch.float32), Y_batch.to(torch.float32)\n",
    "        loss = loss_fn(pred, Y_batch)\n",
    "        train_loss.append(loss.item())\n",
    "\n",
    "        opt.zero_grad()\n",
    "        loss.backward()\n",
    "        opt.step()\n",
    "        print(f\"Iterations: {it} Loss: {loss.item()}\")\n",
    "    \n",
    "    torch.save(model.state_dict(), PATH)\n",
    "    print(plt.plot(range(steps), train_loss))\n",
    "\n"
   ]
  },
  {
   "cell_type": "code",
   "execution_count": 7,
   "metadata": {},
   "outputs": [
    {
     "name": "stderr",
     "output_type": "stream",
     "text": [
      "/var/folders/g3/xz_ycw3d0qdd8s4r2rdd6m940000gn/T/ipykernel_20950/1639352209.py:17: UserWarning: Creating a tensor from a list of numpy.ndarrays is extremely slow. Please consider converting the list to a single numpy.ndarray with numpy.array() before converting to a tensor. (Triggered internally at /Users/runner/work/_temp/anaconda/conda-bld/pytorch_1666646991213/work/torch/csrc/utils/tensor_new.cpp:233.)\n",
      "  X1_new, X2_new, Y_new = torch.tensor(X1_new).to(torch.float32), torch.tensor(X2_new).to(torch.float32), torch.tensor(Y_new).to(torch.float32)\n"
     ]
    },
    {
     "name": "stdout",
     "output_type": "stream",
     "text": [
      "Iterations: 0 Loss: 0.17059297859668732\n",
      "Iterations: 1 Loss: 0.24281349778175354\n",
      "Iterations: 2 Loss: 0.2802964150905609\n",
      "Iterations: 3 Loss: 0.09224643558263779\n",
      "Iterations: 4 Loss: 0.09896507114171982\n",
      "Iterations: 5 Loss: 0.12948599457740784\n",
      "Iterations: 6 Loss: 0.056009579449892044\n",
      "Iterations: 7 Loss: 0.06801624596118927\n",
      "Iterations: 8 Loss: 0.06957598030567169\n",
      "Iterations: 9 Loss: 0.11868791282176971\n",
      "Iterations: 10 Loss: 0.05554361268877983\n",
      "Iterations: 11 Loss: 0.05023841932415962\n",
      "Iterations: 12 Loss: 0.09151315689086914\n",
      "Iterations: 13 Loss: 0.08437881618738174\n",
      "Iterations: 14 Loss: 0.08175277709960938\n",
      "Iterations: 15 Loss: 0.03141584247350693\n",
      "Iterations: 16 Loss: 0.038216687738895416\n",
      "Iterations: 17 Loss: 0.08929605782032013\n",
      "Iterations: 18 Loss: 0.07541084289550781\n",
      "Iterations: 19 Loss: 0.022167682647705078\n",
      "Iterations: 20 Loss: 0.05684041976928711\n",
      "Iterations: 21 Loss: 0.02375774458050728\n",
      "Iterations: 22 Loss: 0.02190561220049858\n",
      "Iterations: 23 Loss: 0.03881235048174858\n",
      "Iterations: 24 Loss: 0.1483629196882248\n",
      "Iterations: 25 Loss: 0.1123388260602951\n",
      "Iterations: 26 Loss: 0.03475522994995117\n",
      "Iterations: 27 Loss: 0.07375927269458771\n",
      "Iterations: 28 Loss: 0.13156156241893768\n",
      "Iterations: 29 Loss: 0.11519937217235565\n",
      "Iterations: 30 Loss: 0.03391008451581001\n",
      "Iterations: 31 Loss: 0.11330404132604599\n",
      "Iterations: 32 Loss: 0.04614515230059624\n",
      "Iterations: 33 Loss: 0.06163988262414932\n",
      "Iterations: 34 Loss: 0.039762306958436966\n",
      "Iterations: 35 Loss: 0.19075623154640198\n",
      "Iterations: 36 Loss: 0.15367451310157776\n",
      "Iterations: 37 Loss: 0.1484343558549881\n",
      "Iterations: 38 Loss: 0.05062923580408096\n",
      "Iterations: 39 Loss: 0.03032512590289116\n",
      "Iterations: 40 Loss: 0.047567177563905716\n",
      "Iterations: 41 Loss: 0.042408086359500885\n",
      "Iterations: 42 Loss: 0.09951963275671005\n",
      "Iterations: 43 Loss: 0.1014745682477951\n",
      "Iterations: 44 Loss: 0.053362466394901276\n",
      "Iterations: 45 Loss: 0.11059627681970596\n",
      "Iterations: 46 Loss: 0.028068160638213158\n",
      "Iterations: 47 Loss: 0.044376470148563385\n",
      "Iterations: 48 Loss: 0.03455495834350586\n",
      "Iterations: 49 Loss: 0.0704919844865799\n",
      "[<matplotlib.lines.Line2D object at 0x7fc79c8f2260>]\n"
     ]
    },
    {
     "data": {
      "image/png": "[encoded data removed]",
      "text/plain": [
       "<Figure size 432x288 with 1 Axes>"
      ]
     },
     "metadata": {
      "needs_background": "light"
     },
     "output_type": "display_data"
    }
   ],
   "source": [
    "train_models('Model2')"
   ]
  },
  {
   "cell_type": "markdown",
   "metadata": {},
   "source": [
    "Calculate the distances of Test dataset with the pre-trained quantum embeddings. From the calculated trace distance gain the lower bound of the linear loss function (with respect to the test data)."
   ]
  },
  {
   "cell_type": "code",
   "execution_count": 8,
   "metadata": {},
   "outputs": [
    {
     "name": "stderr",
     "output_type": "stream",
     "text": [
      "/usr/local/anaconda3/envs/QC/lib/python3.10/site-packages/pennylane/qnn/torch.py:328: UserWarning: Casting complex values to real discards the imaginary part (Triggered internally at /Users/runner/work/_temp/anaconda/conda-bld/pytorch_1666646991213/work/aten/src/ATen/native/Copy.cpp:250.)\n",
      "  return self.qnode(**kwargs).type(x.dtype)\n"
     ]
    }
   ],
   "source": [
    "X1_test, X0_test = [], []\n",
    "for i in range(len(X_test)):\n",
    "    if Y_test[i] == 1:\n",
    "        X1_test.append(X_test[i])\n",
    "    else:\n",
    "        X0_test.append(X_test[i])\n",
    "X1_test, X0_test = torch.tensor(X1_test).to(torch.float32), torch.tensor(X0_test).to(torch.float32)\n",
    "\n",
    "X1_train, X0_train = [], []\n",
    "for i in range(len(X_train)):\n",
    "    if Y_train[i] == 1:\n",
    "        X1_train.append(X_train[i])\n",
    "    else:\n",
    "        X0_train.append(X_train[i])\n",
    "X1_train, X0_train = torch.tensor(X1_train).to(torch.float32), torch.tensor(X0_train).to(torch.float32)\n",
    "\n",
    "\n",
    "dev_sim = qml.device('default.qubit', wires=4)\n",
    "@qml.qnode(dev_sim, interface=\"torch\")\n",
    "def Noisy_Distance(inputs): \n",
    "    embedding.Noisy_Four_QuantumEmbedding2(inputs)\n",
    "    return qml.density_matrix(wires=range(4))\n",
    "\n",
    "class Distances2(torch.nn.Module):\n",
    "    def __init__(self):\n",
    "        super().__init__()\n",
    "        self.qlayer2 = qml.qnn.TorchLayer(Noisy_Distance, weight_shapes={})\n",
    "        self.linear_relu_stack2 = nn.Sequential(\n",
    "            nn.Linear(4, 12),\n",
    "            nn.ReLU(),\n",
    "            nn.Linear(12, 12),\n",
    "            nn.ReLU(),\n",
    "            nn.Linear(12, 7)\n",
    "        )\n",
    "    def forward(self, x1, x0):\n",
    "        x1 = self.linear_relu_stack2(x1)\n",
    "        x0 = self.linear_relu_stack2(x0)\n",
    "        rhos1 = self.qlayer2(x1)\n",
    "        rhos0 = self.qlayer2(x0)\n",
    "\n",
    "        rho1 = torch.sum(rhos1, dim=0) / len(x1)\n",
    "        rho0 = torch.sum(rhos0, dim=0) / len(x0)\n",
    "        rho_diff = rho1 - rho0\n",
    "        eigvals = torch.linalg.eigvals(rho_diff)\n",
    "        return 0.5 * torch.real(torch.sum(torch.abs(eigvals)))\n",
    "\n",
    "\n",
    "class Distances3(torch.nn.Module):\n",
    "    def __init__(self):\n",
    "        super().__init__()\n",
    "        self.qlayer3 = qml.qnn.TorchLayer(Noisy_Distance, weight_shapes={})\n",
    "        self.layer1 = torch.nn.Sequential(\n",
    "            torch.nn.Conv2d(1, 1, kernel_size=3, stride=1, padding=1),\n",
    "            torch.nn.ReLU(),\n",
    "            torch.nn.MaxPool2d(kernel_size=2, stride=2)\n",
    "        )\n",
    "\n",
    "        # Layer2: 14 * 14 -> 7 * 7\n",
    "        self.layer2 = torch.nn.Sequential(\n",
    "            torch.nn.Conv2d(1, 1, kernel_size=3, stride=1, padding=1),\n",
    "            torch.nn.ReLU(),\n",
    "            torch.nn.MaxPool2d(kernel_size=2, stride=2)\n",
    "        )\n",
    "\n",
    "        # Fully connected Layers 7 * 7 -> 7\n",
    "        self.fc = torch.nn.Linear(7 * 7, 7, bias=True)\n",
    "    \n",
    "    def forward(self, x1, x0):\n",
    "        x1 = self.layer1(x1)\n",
    "        x1 = self.layer2(x1)\n",
    "        x1 = x1.view(-1, 7 * 7)\n",
    "        x1 = self.fc(x1)\n",
    "\n",
    "        x0 = self.layer1(x0)\n",
    "        x0 = self.layer2(x0)\n",
    "        x0 = x0.view(-1, 7 * 7)\n",
    "        x0 = self.fc(x0)\n",
    "\n",
    "        rhos1 = self.qlayer3(x1)\n",
    "        rhos0 = self.qlayer3(x0)\n",
    "        \n",
    "        rho1 = torch.sum(rhos1, dim=0) / len(x1)\n",
    "        rho0 = torch.sum(rhos0, dim=0) / len(x0)\n",
    "        rho_diff = rho1 - rho0\n",
    "        eigvals = torch.linalg.eigvals(rho_diff)\n",
    "        return 0.5 * torch.real(torch.sum(torch.abs(eigvals)))\n",
    "\n",
    "\n",
    "Model2_Distance = Distances2()\n",
    "Model2_Distance.load_state_dict(torch.load(PATH_Model2))\n",
    "\n",
    "# Calculated from Model1 \n",
    "Trace_before_traindata = 0.2734867334365845\n",
    "Trace_before_testdata = 0.2723434865474701\n",
    "\n",
    "# Distances After training with Model2_HSinner\n",
    "Trace_Model2_traindata = Model2_Distance(X1_train, X0_train)\n",
    "Trace_Model2_testdata = Model2_Distance(X1_test, X0_test)"
   ]
  },
  {
   "cell_type": "markdown",
   "metadata": {},
   "source": [
    "# Model 3"
   ]
  },
  {
   "cell_type": "code",
   "execution_count": 9,
   "metadata": {},
   "outputs": [],
   "source": [
    "feature_reduction = False\n",
    "classes = [0,1]\n",
    "X_train, X_test, Y_train, Y_test = data.data_load_and_process('mnist', feature_reduction=feature_reduction, classes=classes)"
   ]
  },
  {
   "cell_type": "code",
   "execution_count": 10,
   "metadata": {},
   "outputs": [
    {
     "name": "stdout",
     "output_type": "stream",
     "text": [
      "Iterations: 0 Loss: 0.3207823634147644\n",
      "Iterations: 1 Loss: 0.40987396240234375\n",
      "Iterations: 2 Loss: 0.1884348839521408\n",
      "Iterations: 3 Loss: 0.0696537047624588\n",
      "Iterations: 4 Loss: 0.082685187458992\n",
      "Iterations: 5 Loss: 0.09310607612133026\n",
      "Iterations: 6 Loss: 0.1384783685207367\n",
      "Iterations: 7 Loss: 0.08283958584070206\n",
      "Iterations: 8 Loss: 0.0977405533194542\n",
      "Iterations: 9 Loss: 0.10883502662181854\n",
      "Iterations: 10 Loss: 0.07766580581665039\n",
      "Iterations: 11 Loss: 0.1047995537519455\n",
      "Iterations: 12 Loss: 0.16647768020629883\n",
      "Iterations: 13 Loss: 0.0704166442155838\n",
      "Iterations: 14 Loss: 0.05992593616247177\n",
      "Iterations: 15 Loss: 0.07803907245397568\n",
      "Iterations: 16 Loss: 0.05436763912439346\n",
      "Iterations: 17 Loss: 0.0843447670340538\n",
      "Iterations: 18 Loss: 0.11510400474071503\n",
      "Iterations: 19 Loss: 0.07756833732128143\n",
      "Iterations: 20 Loss: 0.07779140770435333\n",
      "Iterations: 21 Loss: 0.12912245094776154\n",
      "Iterations: 22 Loss: 0.0606442466378212\n",
      "Iterations: 23 Loss: 0.08252038806676865\n",
      "Iterations: 24 Loss: 0.06138200685381889\n",
      "Iterations: 25 Loss: 0.042600344866514206\n",
      "Iterations: 26 Loss: 0.05892353132367134\n",
      "Iterations: 27 Loss: 0.03641939163208008\n",
      "Iterations: 28 Loss: 0.17883872985839844\n",
      "Iterations: 29 Loss: 0.022328758612275124\n",
      "Iterations: 30 Loss: 0.054520417004823685\n",
      "Iterations: 31 Loss: 0.05407009273767471\n",
      "Iterations: 32 Loss: 0.04904813691973686\n",
      "Iterations: 33 Loss: 0.030315304175019264\n",
      "Iterations: 34 Loss: 0.024646377190947533\n",
      "Iterations: 35 Loss: 0.052916526794433594\n",
      "Iterations: 36 Loss: 0.05200843885540962\n",
      "Iterations: 37 Loss: 0.05539875105023384\n",
      "Iterations: 38 Loss: 0.06359491497278214\n",
      "Iterations: 39 Loss: 0.031005000695586205\n",
      "Iterations: 40 Loss: 0.07939071953296661\n",
      "Iterations: 41 Loss: 0.09204769134521484\n",
      "Iterations: 42 Loss: 0.04808549955487251\n",
      "Iterations: 43 Loss: 0.055521488189697266\n",
      "Iterations: 44 Loss: 0.035776518285274506\n",
      "Iterations: 45 Loss: 0.05064878612756729\n",
      "Iterations: 46 Loss: 0.07883691787719727\n",
      "Iterations: 47 Loss: 0.0576665885746479\n",
      "Iterations: 48 Loss: 0.08768586814403534\n",
      "Iterations: 49 Loss: 0.021698664873838425\n",
      "[<matplotlib.lines.Line2D object at 0x7fc7793e09a0>]\n"
     ]
    },
    {
     "data": {
      "image/png": "[encoded data removed]",
      "text/plain": [
       "<Figure size 432x288 with 1 Axes>"
      ]
     },
     "metadata": {
      "needs_background": "light"
     },
     "output_type": "display_data"
    }
   ],
   "source": [
    "train_models('Model3')"
   ]
  },
  {
   "cell_type": "markdown",
   "metadata": {},
   "source": [
    "Check the distances after pre-training Noisy Model3 Fidelity"
   ]
  },
  {
   "cell_type": "code",
   "execution_count": 11,
   "metadata": {},
   "outputs": [],
   "source": [
    "X1_test, X0_test = [], []\n",
    "for i in range(len(X_test)):\n",
    "    if Y_test[i] == 1:\n",
    "        X1_test.append(X_test[i])\n",
    "    else:\n",
    "        X0_test.append(X_test[i])\n",
    "X1_test, X0_test = torch.tensor(X1_test).to(torch.float32), torch.tensor(X0_test).to(torch.float32)\n",
    "X1_test, X0_test = X1_test.permute(0, 3, 1, 2), X0_test.permute(0, 3, 1, 2)\n",
    "\n",
    "X1_train, X0_train = [], []\n",
    "for i in range(len(X_train)):\n",
    "    if Y_train[i] == 1:\n",
    "        X1_train.append(X_train[i])\n",
    "    else:\n",
    "        X0_train.append(X_train[i])\n",
    "X1_train, X0_train = torch.tensor(X1_train).to(torch.float32), torch.tensor(X0_train).to(torch.float32)\n",
    "X1_train, X0_train = X1_train.permute(0, 3, 1, 2), X0_train.permute(0, 3, 1, 2)\n",
    "\n",
    "\n",
    "Model3_Fidelity_Distance = Distances3()\n",
    "Model3_Fidelity_Distance.load_state_dict(torch.load(PATH_Model3))\n",
    "\n",
    "\n",
    "# Distances After training with Model2_Fidelity\n",
    "Trace_Model3_traindata = Model3_Fidelity_Distance(X1_train, X0_train)\n",
    "Trace_Model3_testdata = Model3_Fidelity_Distance(X1_test, X0_test)"
   ]
  },
  {
   "cell_type": "code",
   "execution_count": 12,
   "metadata": {},
   "outputs": [
    {
     "name": "stdout",
     "output_type": "stream",
     "text": [
      "Before Embedding Training\n",
      "\n",
      "-------------------------\n",
      "\n",
      "Trace Distance (Training Data) Before: 0.2734867334365845\n",
      "Trace Distance (Test Data) Before: 0.2723434865474701\n",
      "\n",
      "\n",
      "After Embedding Training with Model 2\n",
      "\n",
      "-------------------------\n",
      "\n",
      "Trace Distance (Training Data) After Noisy Model2 Fidelity: 0.8112103343009949\n",
      "Trace Distance (Test Data) After Noisy Model2 Fidelity: 0.8240717053413391\n",
      "\n",
      "\n",
      "After Embedding Training with Model 3\n",
      "\n",
      "-------------------------\n",
      "\n",
      "Trace Distance (Training Data) After Noisy Model3 Fidelity: 0.9051125645637512\n",
      "Trace Distance (Test Data) After Noisy Model3 Fidelity: 0.9092586040496826\n"
     ]
    }
   ],
   "source": [
    "print(\"Before Embedding Training\\n\")\n",
    "print(\"-------------------------\\n\")\n",
    "print(f\"Trace Distance (Training Data) Before: {Trace_before_traindata}\")\n",
    "print(f\"Trace Distance (Test Data) Before: {Trace_before_testdata}\")\n",
    "print(\"\\n\")\n",
    "print(\"After Embedding Training with Model 2\\n\")\n",
    "print(\"-------------------------\\n\")\n",
    "print(f\"Trace Distance (Training Data) After Noisy Model2 Fidelity: {Trace_Model2_traindata}\")\n",
    "print(f\"Trace Distance (Test Data) After Noisy Model2 Fidelity: {Trace_Model2_testdata}\")\n",
    "print(\"\\n\")\n",
    "print(\"After Embedding Training with Model 3\\n\")\n",
    "print(\"-------------------------\\n\")\n",
    "print(f\"Trace Distance (Training Data) After Noisy Model3 Fidelity: {Trace_Model3_traindata}\")\n",
    "print(f\"Trace Distance (Test Data) After Noisy Model3 Fidelity: {Trace_Model3_testdata}\")"
   ]
  }
 ],
 "metadata": {
  "kernelspec": {
   "display_name": "QC",
   "language": "python",
   "name": "python3"
  },
  "language_info": {
   "codemirror_mode": {
    "name": "ipython",
    "version": 3
   },
   "file_extension": ".py",
   "mimetype": "text/x-python",
   "name": "python",
   "nbconvert_exporter": "python",
   "pygments_lexer": "ipython3",
   "version": "3.10.4"
  },
  "vscode": {
   "interpreter": {
    "hash": "c5108ee98eb47f7e6b2eeb3f4fcfe8c3b821806f46f3b96ac0193b078633d3d2"
   }
  }
 },
 "nbformat": 4,
 "nbformat_minor": 2
}
