{
 "cells": [
  {
   "cell_type": "code",
   "execution_count": 1,
   "metadata": {},
   "outputs": [],
   "source": [
    "from pennylane import numpy as np\n",
    "import sys\n",
    "sys.path.insert(0, '/Users/tak/Github/QEmbedding/')\n",
    "import torch\n",
    "from torch import nn\n",
    "import data\n",
    "import pennylane as qml\n",
    "import embedding"
   ]
  },
  {
   "cell_type": "code",
   "execution_count": 2,
   "metadata": {},
   "outputs": [],
   "source": [
    "dev = qml.device('default.qubit', wires=4)"
   ]
  },
  {
   "cell_type": "code",
   "execution_count": 3,
   "metadata": {},
   "outputs": [],
   "source": [
    "\n",
    "PATH_Model2 = '/Users/tak/Github/QEmbedding/Results/QCNN_demonstration/Real device/Real/Model2 pre-train/Model2_48.pt'\n",
    "PATH_Model3 = '/Users/tak/Github/QEmbedding/Results/QCNN_demonstration/Real device/Real/Model3 pre-train/Model3_48.pt'"
   ]
  },
  {
   "cell_type": "code",
   "execution_count": 4,
   "metadata": {},
   "outputs": [
    {
     "data": {
      "text/plain": [
       "<All keys matched successfully>"
      ]
     },
     "execution_count": 4,
     "metadata": {},
     "output_type": "execute_result"
    }
   ],
   "source": [
    "class x_transform2(torch.nn.Module):\n",
    "    def __init__(self):\n",
    "        super().__init__()\n",
    "        self.linear_relu_stack2 = nn.Sequential(\n",
    "            nn.Linear(4, 12),\n",
    "            nn.ReLU(),\n",
    "            nn.Linear(12, 12),\n",
    "            nn.ReLU(),\n",
    "            nn.Linear(12, 7)\n",
    "        )\n",
    "        \n",
    "    def forward(self, x):\n",
    "        x = self.linear_relu_stack2(x)\n",
    "        return x.detach().numpy()\n",
    "\n",
    "\n",
    "class x_transform3(torch.nn.Module):\n",
    "    def __init__(self):\n",
    "        super().__init__()\n",
    "        self.layer1 = torch.nn.Sequential(\n",
    "            torch.nn.Conv2d(1, 1, kernel_size=3, stride=1, padding=1),\n",
    "            torch.nn.ReLU(),\n",
    "            torch.nn.MaxPool2d(kernel_size=2, stride=2)\n",
    "        )\n",
    "\n",
    "        # Layer2: 14 * 14 -> 7 * 7\n",
    "        self.layer2 = torch.nn.Sequential(\n",
    "            torch.nn.Conv2d(1, 1, kernel_size=3, stride=1, padding=1),\n",
    "            torch.nn.ReLU(),\n",
    "            torch.nn.MaxPool2d(kernel_size=2, stride=2)\n",
    "        )\n",
    "\n",
    "        # Fully connected Layers 7 * 7 -> 7\n",
    "        self.fc = torch.nn.Linear(7 * 7, 7, bias=True)\n",
    "        \n",
    "    def forward(self, x):\n",
    "        x = self.layer1(x)\n",
    "        x = self.layer2(x)\n",
    "        x = x.view(-1, 7 * 7)\n",
    "        x = self.fc(x)\n",
    "        return x.detach().numpy()\n",
    "\n",
    "model2 = x_transform2()\n",
    "model3 = x_transform3()\n",
    "\n",
    "model2.load_state_dict(torch.load(PATH_Model2))\n",
    "model3.load_state_dict(torch.load(PATH_Model3))"
   ]
  },
  {
   "cell_type": "code",
   "execution_count": 5,
   "metadata": {},
   "outputs": [],
   "source": [
    "@qml.qnode(dev)\n",
    "def overlap_circuit1(x1,x2):\n",
    "    embedding.Noisy_Four_QuantumEmbedding1(x1)\n",
    "    embedding.Noisy_Four_QuantumEmbedding1_inverse(x2)\n",
    "    return qml.probs(wires=range(4))\n",
    "\n",
    "@qml.qnode(dev)\n",
    "def overlap_circuit2(x1,x2):\n",
    "    embedding.Noisy_Four_QuantumEmbedding2(x1)\n",
    "    embedding.Noisy_Four_QuantumEmbedding2_inverse(x2)\n",
    "    return qml.probs(wires=range(4))\n",
    "\n",
    "def kernel(x1, x2, NQE):\n",
    "    if NQE == False:\n",
    "        kernel = overlap_circuit1(x1,x2)\n",
    "    \n",
    "    \n",
    "    elif NQE == 'PCA-NQE':\n",
    "        x1 = model2(torch.tensor(x1))\n",
    "        x2 = model2(torch.tensor(x2))\n",
    "        kernel = overlap_circuit2(x1, x2)\n",
    "\n",
    "    elif NQE == 'NQE':\n",
    "        x1 = model3(torch.tensor(x1))[0]\n",
    "        x2 = model3(torch.tensor(x2))[0]\n",
    "        kernel = overlap_circuit2(x1,x2)\n",
    "    \n",
    "    return kernel\n",
    "\n",
    "  "
   ]
  },
  {
   "cell_type": "markdown",
   "metadata": {},
   "source": [
    "QKM without NQE"
   ]
  },
  {
   "cell_type": "code",
   "execution_count": null,
   "metadata": {},
   "outputs": [],
   "source": [
    "feature_reduction = 'PCA4'\n",
    "classes = [0,1]\n",
    "X_train, X_test, Y_train, Y_test = data.data_load_and_process('mnist', feature_reduction=feature_reduction, classes=classes)\n",
    "Y_train = [-1 if y == 0 else 1 for y in Y_train]\n",
    "Y_test = [-1 if y == 0 else 1 for y in Y_test]\n",
    "Y_train = np.array(Y_train)\n",
    "\n",
    "k = 4\n",
    "N = 1000\n",
    "X_train = X_train[k * N: (k + 1) * N]\n",
    "Y_train = Y_train[k * N: (k + 1) * N]\n",
    "\n",
    "Kernel0 = np.zeros((N,N))\n",
    "for i in range(N):\n",
    "    for j in range(i,N):\n",
    "        x = kernel(X_train[i], X_train[j], False)\n",
    "        Kernel0[i][j] = x[0]\n",
    "        Kernel0[j][i] = x[0]"
   ]
  },
  {
   "cell_type": "code",
   "execution_count": null,
   "metadata": {},
   "outputs": [],
   "source": [
    "Kernel_rank = np.linalg.matrix_rank(Kernel0)\n",
    "Kernel_offD = []\n",
    "for i in range(N):\n",
    "    for j in range(i + 1, N):\n",
    "        Kernel_offD.append(Kernel0[i][j])\n",
    "\n",
    "Kernel_offD = np.array(Kernel_offD)\n",
    "Kernel_element_variance = Kernel_offD.std()**2\n",
    "\n",
    "f = open(\"Kernel Rank & Variance.txt\", 'a')\n",
    "f.write(\"\\n\")\n",
    "f.write(f\"Kernel0 iter {k}\\n\")\n",
    "f.write(f\"Kernel Rank: {Kernel_rank}\\n\")\n",
    "f.write(f\"Kernel Variance: {Kernel_element_variance}\\n\")\n",
    "f.close()"
   ]
  },
  {
   "cell_type": "markdown",
   "metadata": {},
   "source": [
    "QKM with PCA-NQE"
   ]
  },
  {
   "cell_type": "code",
   "execution_count": null,
   "metadata": {},
   "outputs": [],
   "source": [
    "feature_reduction = 'PCA4'\n",
    "classes = [0,1]\n",
    "X_train, X_test, Y_train, Y_test = data.data_load_and_process('mnist', feature_reduction=feature_reduction, classes=classes)\n",
    "Y_train = [-1 if y == 0 else 1 for y in Y_train]\n",
    "Y_test = [-1 if y == 0 else 1 for y in Y_test]\n",
    "Y_train = np.array(Y_train)\n",
    "\n",
    "k = 4\n",
    "N = 1000\n",
    "X_train = X_train[k * N: (k + 1) * N]\n",
    "Y_train = Y_train[k * N: (k + 1) * N]\n",
    "\n",
    "Kernel2 = np.zeros((N,N))\n",
    "for i in range(N):\n",
    "    for j in range(i,N):\n",
    "        x = kernel(X_train[i], X_train[j], \"PCA-NQE\")\n",
    "        Kernel2[i][j] = x[0]\n",
    "        Kernel2[j][i] = x[0]"
   ]
  },
  {
   "cell_type": "code",
   "execution_count": null,
   "metadata": {},
   "outputs": [],
   "source": [
    "Kernel_rank = np.linalg.matrix_rank(Kernel2)\n",
    "Kernel_offD = []\n",
    "for i in range(N):\n",
    "    for j in range(i + 1, N):\n",
    "        Kernel_offD.append(Kernel2[i][j])\n",
    "\n",
    "Kernel_offD = np.array(Kernel_offD)\n",
    "Kernel_element_variance = Kernel_offD.std()**2\n",
    "\n",
    "f = open(\"Kernel Rank & Variance.txt\", 'a')\n",
    "f.write(\"\\n\")\n",
    "f.write(f\"Kernel2 iter {k}\\n\")\n",
    "f.write(f\"Kernel Rank: {Kernel_rank}\\n\")\n",
    "f.write(f\"Kernel Variance: {Kernel_element_variance}\\n\")\n",
    "f.close()"
   ]
  },
  {
   "cell_type": "markdown",
   "metadata": {},
   "source": [
    "QKM with NQE"
   ]
  },
  {
   "cell_type": "code",
   "execution_count": 6,
   "metadata": {},
   "outputs": [],
   "source": [
    "classes = [0,1]\n",
    "feature_reduction = False\n",
    "X_train, X_test, Y_train, Y_test = data.data_load_and_process('mnist', feature_reduction=feature_reduction, classes=classes)\n",
    "X_train, X_test = torch.tensor(X_train).to(torch.float32), torch.tensor(X_test).to(torch.float32)\n",
    "X_train, X_test = X_train.permute(0,3,1,2).detach().numpy(), X_test.permute(0,3,1,2).detach().numpy()\n",
    "Y_train = [-1 if y == 0 else 1 for y in Y_train]\n",
    "Y_test = [-1 if y == 0 else 1 for y in Y_test]\n",
    "Y_train = np.array(Y_train)\n",
    "\n",
    "k = 4\n",
    "N = 1000\n",
    "X_train = X_train[k * N: (k + 1) * N]\n",
    "Y_train = Y_train[k * N: (k + 1) * N]\n",
    "\n",
    "Kernel3 = np.zeros((N,N))\n",
    "for i in range(N):\n",
    "    for j in range(i,N):\n",
    "        x = kernel(X_train[i], X_train[j], \"NQE\")\n",
    "        Kernel3[i][j] = x[0]\n",
    "        Kernel3[j][i] = x[0]"
   ]
  },
  {
   "cell_type": "code",
   "execution_count": null,
   "metadata": {},
   "outputs": [],
   "source": [
    "Kernel_rank = np.linalg.matrix_rank(Kernel3)\n",
    "Kernel_offD = []\n",
    "for i in range(N):\n",
    "    for j in range(i + 1, N):\n",
    "        Kernel_offD.append(Kernel3[i][j])\n",
    "\n",
    "Kernel_offD = np.array(Kernel_offD)\n",
    "Kernel_element_variance = Kernel_offD.std()**2\n",
    "\n",
    "f = open(\"Kernel Rank & Variance.txt\", 'a')\n",
    "f.write(\"\\n\")\n",
    "f.write(f\"Kernel2 iter {k}\\n\")\n",
    "f.write(f\"Kernel Rank: {Kernel_rank}\\n\")\n",
    "f.write(f\"Kernel Variance: {Kernel_element_variance}\\n\")\n",
    "f.close()"
   ]
  },
  {
   "cell_type": "code",
   "execution_count": 2,
   "metadata": {},
   "outputs": [
    {
     "name": "stdout",
     "output_type": "stream",
     "text": [
      "0.13395121327727427 0.1402631430759139 0.3759663421928308 0.377495817060684 0.36301563129703607 0.3615469979440492\n"
     ]
    }
   ],
   "source": [
    "Kernel0_variance = [0.02381360409226993, 0.022258966444183924, 0.022526021774287405, 0.02165457271512886, 0.022003084072980517]\n",
    "Kernel2_variance = [0.18937481103532247, 0.18937481103532247, 0.18367656599545923, 0.1877998144550818, 0.18320117679952316]\n",
    "Kernel3_variance = [0.13692802525123113, 0.13106712723822003, 0.12641167773298584, 0.1279967443496666, 0.13844869478555843]\n",
    "\n",
    "Kernel0_variance = np.array(Kernel0_variance)\n",
    "Kernel2_variance = np.array(Kernel2_variance)\n",
    "Kernel3_variance = np.array(Kernel3_variance)\n",
    "\n",
    "exp0_train = 0.01794292753845382\n",
    "exp0_test = 0.019673749305534293\n",
    "exp2_train = 0.14135069046185675\n",
    "exp2_test = 0.14250309189831342\n",
    "exp3_train = 0.13178034856598564\n",
    "exp3_test = 0.13071623172235433\n",
    "\n",
    "print(np.sqrt(exp0_train), np.sqrt(exp0_test), np.sqrt(exp2_train), np.sqrt(exp2_test), np.sqrt(exp3_train), np.sqrt(exp3_test), )"
   ]
  },
  {
   "cell_type": "code",
   "execution_count": 5,
   "metadata": {},
   "outputs": [
    {
     "data": {
      "image/png": "[encoded data removed]",
      "text/plain": [
       "<Figure size 1300x500 with 2 Axes>"
      ]
     },
     "metadata": {},
     "output_type": "display_data"
    }
   ],
   "source": [
    "import seaborn as sns\n",
    "import matplotlib.pyplot as plt\n",
    "plt.rcParams['figure.figsize'] = [13, 5]\n",
    "plt.rcParams.update({'font.size': 16})\n",
    "fig, (ax1, ax2) = plt.subplots(1,2)\n",
    "clrs = sns.color_palette(\"husl\", 3)\n",
    "with sns.axes_style(\"darkgrid\"):\n",
    "    X = (\"PCA-NQE\", \"NQE\", \"Without NQE\",)\n",
    "    expressibility = {\n",
    "        'Train data': (0.376, 0.363, 0.134),\n",
    "        'Test data': (0.377, 0.362, 0.140),\n",
    "    }\n",
    "    Kernel_Variance = {\n",
    "        'Kernel_Variance': (Kernel0_variance.mean(), Kernel2_variance.mean(), \n",
    "                            Kernel3_variance.mean())\n",
    "    }\n",
    "\n",
    "x = np.arange(len(X))  # the label locations\n",
    "width = 0.4  # the width of the bars\n",
    "multiplier = 0\n",
    "\n",
    "\n",
    "for attribute, measurement in expressibility.items():\n",
    "    if attribute == 'Train data':\n",
    "        color = \"black\"\n",
    "    else:\n",
    "        color = \"white\"\n",
    "    offset = width * multiplier\n",
    "    rects = ax1.bar(x + offset, measurement, width, label=attribute, color=color, edgecolor='black')\n",
    "    ax1.bar_label(rects, padding=3, fontsize=14)\n",
    "    multiplier += 1\n",
    "\n",
    "#x = np.arange(len(X))  # the label locations\n",
    "#width = 0.25 # the width of the bars\n",
    "#multiplier = 0\n",
    "\n",
    "#for attribute, measurement in Kernel_Variance.items():\n",
    "#    if attribute == 'Kernel_Variance':\n",
    "#        color = \"white\"\n",
    "#    else:\n",
    "#        color = \"white\"\n",
    "#    offset = width * multiplier\n",
    "#    rects = ax2.bar(x + offset, measurement, width, label=attribute, color=color, edgecolor='black')\n",
    "#    ax2.bar_label(rects,padding=3, fontsize=10)\n",
    "#    multiplier += 1\n",
    "\n",
    "# Add some text for labels, title and custom x-axis tick labels, etc.\n",
    "ax1.set_ylabel('Deviation from 2-design')\n",
    "#ax1.set_title('Expressibility')\n",
    "ax1.set_xticks(x + width - 0.2, X)\n",
    "ax1.legend(loc='upper left', ncols=1, fontsize=13)\n",
    "ax1.set_ylim(0, 0.5)\n",
    "\n",
    "x_pos = np.arange(3)\n",
    "y = [Kernel2_variance.mean(), Kernel3_variance.mean(), Kernel0_variance.mean()]\n",
    "error = [Kernel2_variance.std(), Kernel3_variance.std(), Kernel0_variance.std()]\n",
    "ax2.bar(x_pos, y, yerr=error, align='center', alpha=0.5, color='black', edgecolor='black',ecolor='black', capsize=10)\n",
    "ax2.set_ylabel('Kernel Variance')\n",
    "ax2.set_xticks(x_pos)\n",
    "ax2.set_xticklabels(X)\n",
    "#ax2.set_title('Kernel Variance')\n",
    "ax2.set_yticks([0,0.05,0.1,0.15, 0.2])\n",
    "ax2.yaxis.grid(True)\n",
    "#ax2.set_ylabel('Kernel Variance')\n",
    "#ax2.set_title('Kernel Variance')\n",
    "#ax2.set_xticks(x + width - 0.25, X)\n",
    "#ax2.set_ylim(0, 0.5)\n",
    "\n",
    "plt.savefig(\"Expressibility.pdf\")\n",
    "plt.show()\n"
   ]
  },
  {
   "cell_type": "code",
   "execution_count": null,
   "metadata": {},
   "outputs": [],
   "source": []
  }
 ],
 "metadata": {
  "kernelspec": {
   "display_name": "Python 3 (ipykernel)",
   "language": "python",
   "name": "python3"
  },
  "language_info": {
   "codemirror_mode": {
    "name": "ipython",
    "version": 3
   },
   "file_extension": ".py",
   "mimetype": "text/x-python",
   "name": "python",
   "nbconvert_exporter": "python",
   "pygments_lexer": "ipython3",
   "version": "3.11.4"
  }
 },
 "nbformat": 4,
 "nbformat_minor": 2
}
