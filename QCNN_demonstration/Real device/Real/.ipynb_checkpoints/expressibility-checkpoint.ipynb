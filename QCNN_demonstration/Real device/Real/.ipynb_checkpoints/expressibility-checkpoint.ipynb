{
 "cells": [
  {
   "cell_type": "code",
   "execution_count": 2,
   "id": "e48ec4f1",
   "metadata": {},
   "outputs": [],
   "source": [
    "from pennylane import numpy as np\n",
    "import matplotlib.pyplot as plt\n",
    "import matplotlib as mpl\n",
    "import sys\n",
    "sys.path.insert(0, '/home/tak/Github/QEmbedding/')\n",
    "import Hybrid_nn\n",
    "import torch\n",
    "from torch import nn\n",
    "import data\n",
    "import pennylane as qml\n",
    "import embedding"
   ]
  },
  {
   "cell_type": "code",
   "execution_count": 3,
   "id": "d536d179",
   "metadata": {},
   "outputs": [],
   "source": [
    "PATHs_Model2, PATHs_Model3 = [], []\n",
    "\n",
    "for i in range(49):\n",
    "    PATH_Model2 = f'/home/tak/Github/QEmbedding/Results/QCNN_demonstration/Real device/Real/Model2 pre-train/Model2_{i}.pt'\n",
    "    PATH_Model3 = f'/home/tak/Github/QEmbedding/Results/QCNN_demonstration/Real device/Real/Model3 pre-train/Model3_{i}.pt'\n",
    "\n",
    "    PATHs_Model2.append(PATH_Model2)\n",
    "    PATHs_Model3.append(PATH_Model3)"
   ]
  },
  {
   "cell_type": "code",
   "execution_count": 4,
   "id": "d1728993",
   "metadata": {},
   "outputs": [],
   "source": [
    "def random_unitary(N):\n",
    "    \"\"\"\n",
    "        Return a Haar distributed random unitary from U(N)\n",
    "    \"\"\"\n",
    "\n",
    "    Z = np.random.randn(N, N) + 1.0j * np.random.randn(N, N)\n",
    "    [Q, R] = np.linalg.qr(Z)\n",
    "    D = np.diag(np.diagonal(R) / np.abs(np.diagonal(R)))\n",
    "    return np.dot(Q, D)\n",
    "\n",
    "def haar_integral(num_qubits, samples):\n",
    "    \"\"\"\n",
    "        Return calculation of Haar Integral for a specified number of samples.\n",
    "    \"\"\"\n",
    "\n",
    "    N = 2**num_qubits\n",
    "    randunit_density = np.zeros((N, N), dtype=complex)\n",
    "\n",
    "    \n",
    "    zero_state = np.zeros(N, dtype=complex)\n",
    "    zero_state[0] = 1\n",
    "    \n",
    "    for _ in range(samples):\n",
    "        A = np.matmul(zero_state, random_unitary(N)).reshape(-1,1)\n",
    "        randunit_density += np.kron(A, A.conj().T) \n",
    "\n",
    "    randunit_density/=samples\n",
    "\n",
    "    return randunit_density"
   ]
  },
  {
   "cell_type": "code",
   "execution_count": 5,
   "id": "febebb45",
   "metadata": {},
   "outputs": [],
   "source": [
    "dev_sim = qml.device('default.qubit', wires=4)\n",
    "@qml.qnode(dev_sim, interface=\"torch\")\n",
    "def circuit2(inputs): \n",
    "    embedding.Noisy_Four_QuantumEmbedding2(inputs)\n",
    "    return qml.density_matrix(wires=range(4))\n",
    "\n",
    "@qml.qnode(dev_sim, interface=\"torch\")\n",
    "def circuit1(inputs): \n",
    "    embedding.Noisy_Four_QuantumEmbedding1(inputs)\n",
    "    return qml.density_matrix(wires=range(4))\n",
    "\n",
    "\n",
    "class exp0(torch.nn.Module):\n",
    "    def __init__(self):\n",
    "        super().__init__()\n",
    "        self.qlayer0 = qml.qnn.TorchLayer(circuit1, weight_shapes={})\n",
    "\n",
    "    def forward(self, x):\n",
    "        rhos = self.qlayer0(x)\n",
    "        rho = torch.sum(rhos, dim=0) / len(x)\n",
    "        rho = rho.detach().numpy()\n",
    "        exp = np.linalg.norm(rho - haar_integral(4, len(x)))\n",
    "        return exp\n",
    "    \n",
    "    \n",
    "class exp2(torch.nn.Module):\n",
    "    def __init__(self):\n",
    "        super().__init__()\n",
    "        self.qlayer2 = qml.qnn.TorchLayer(circuit2, weight_shapes={})\n",
    "        self.linear_relu_stack2 = nn.Sequential(\n",
    "            nn.Linear(4, 12),\n",
    "            nn.ReLU(),\n",
    "            nn.Linear(12, 12),\n",
    "            nn.ReLU(),\n",
    "            nn.Linear(12, 7)\n",
    "        )\n",
    "    def forward(self, x):\n",
    "        x = self.linear_relu_stack2(x)\n",
    "        rhos = self.qlayer2(x)\n",
    "        rho = torch.sum(rhos, dim=0) / len(x)\n",
    "        rho = rho.detach().numpy()\n",
    "        exp = np.linalg.norm(rho - haar_integral(4, len(x)))\n",
    "        return exp\n",
    "\n",
    "\n",
    "class exp3(torch.nn.Module):\n",
    "    def __init__(self):\n",
    "        super().__init__()\n",
    "        self.qlayer3 = qml.qnn.TorchLayer(circuit2, weight_shapes={})\n",
    "        self.layer1 = torch.nn.Sequential(\n",
    "            torch.nn.Conv2d(1, 1, kernel_size=3, stride=1, padding=1),\n",
    "            torch.nn.ReLU(),\n",
    "            torch.nn.MaxPool2d(kernel_size=2, stride=2)\n",
    "        )\n",
    "\n",
    "        # Layer2: 14 * 14 -> 7 * 7\n",
    "        self.layer2 = torch.nn.Sequential(\n",
    "            torch.nn.Conv2d(1, 1, kernel_size=3, stride=1, padding=1),\n",
    "            torch.nn.ReLU(),\n",
    "            torch.nn.MaxPool2d(kernel_size=2, stride=2)\n",
    "        )\n",
    "\n",
    "        # Fully connected Layers 7 * 7 -> 7\n",
    "        self.fc = torch.nn.Linear(7 * 7, 7, bias=True)\n",
    "    \n",
    "    def forward(self, x):\n",
    "        x = self.layer1(x)\n",
    "        x = self.layer2(x)\n",
    "        x = x.view(-1, 7 * 7)\n",
    "        x = self.fc(x)\n",
    "        rhos = self.qlayer3(x)\n",
    "        rho = torch.sum(rhos, dim=0) / len(x)\n",
    "        rho = rho.detach().numpy()\n",
    "        exp = np.linalg.norm(rho - haar_integral(4, len(x)))\n",
    "        return exp"
   ]
  },
  {
   "cell_type": "code",
   "execution_count": 6,
   "id": "16e6a301",
   "metadata": {},
   "outputs": [],
   "source": [
    "def expressibility(PATH, Model, X1):\n",
    "    if Model == 'Model2':\n",
    "        model = exp2()\n",
    "    elif Model == 'Model3':\n",
    "        model = exp3()\n",
    "    \n",
    "    model.load_state_dict(torch.load(PATH))\n",
    "    return model(X)"
   ]
  },
  {
   "cell_type": "markdown",
   "id": "9da2249e",
   "metadata": {},
   "source": [
    "Expressibility without NQE"
   ]
  },
  {
   "cell_type": "code",
   "execution_count": 7,
   "id": "99b67223",
   "metadata": {},
   "outputs": [
    {
     "name": "stderr",
     "output_type": "stream",
     "text": [
      "/tmp/ipykernel_7218/2852941814.py:4: UserWarning: Creating a tensor from a list of numpy.ndarrays is extremely slow. Please consider converting the list to a single numpy.ndarray with numpy.array() before converting to a tensor. (Triggered internally at ../torch/csrc/utils/tensor_new.cpp:245.)\n",
      "  X_test =  torch.tensor(X_test).to(torch.float32)\n"
     ]
    }
   ],
   "source": [
    "feature_reduction = 'PCA4'\n",
    "classes = [0,1]\n",
    "X_train, X_test, Y_train, Y_test = data.data_load_and_process('mnist', feature_reduction=feature_reduction, classes=classes)\n",
    "X_test =  torch.tensor(X_test).to(torch.float32)\n",
    "X_train = torch.tensor(X_train).to(torch.float32)"
   ]
  },
  {
   "cell_type": "code",
   "execution_count": 8,
   "id": "bf072b9a",
   "metadata": {},
   "outputs": [
    {
     "name": "stderr",
     "output_type": "stream",
     "text": [
      "/home/tak/anaconda3/envs/QC/lib/python3.11/site-packages/pennylane/qnn/torch.py:432: UserWarning: Casting complex values to real discards the imaginary part (Triggered internally at ../aten/src/ATen/native/Copy.cpp:276.)\n",
      "  return res.type(x.dtype)\n"
     ]
    },
    {
     "ename": "RuntimeError",
     "evalue": "shape '[12665, 16, 16]' is invalid for input of size 1024",
     "output_type": "error",
     "traceback": [
      "\u001b[0;31m---------------------------------------------------------------------------\u001b[0m",
      "\u001b[0;31mRuntimeError\u001b[0m                              Traceback (most recent call last)",
      "Cell \u001b[0;32mIn[8], line 2\u001b[0m\n\u001b[1;32m      1\u001b[0m model0 \u001b[38;5;241m=\u001b[39m exp0()\n\u001b[0;32m----> 2\u001b[0m exp_model0_train \u001b[38;5;241m=\u001b[39m model0(X_train)\n\u001b[1;32m      3\u001b[0m exp_model0_test \u001b[38;5;241m=\u001b[39m model0(X_test)\n\u001b[1;32m      4\u001b[0m \u001b[38;5;28mprint\u001b[39m(\u001b[38;5;124mf\u001b[39m\u001b[38;5;124m\"\u001b[39m\u001b[38;5;124mExpressibility Train Data: \u001b[39m\u001b[38;5;132;01m{\u001b[39;00mexp_model0_train\u001b[38;5;132;01m}\u001b[39;00m\u001b[38;5;124m\"\u001b[39m)\n",
      "File \u001b[0;32m~/anaconda3/envs/QC/lib/python3.11/site-packages/torch/nn/modules/module.py:1501\u001b[0m, in \u001b[0;36mModule._call_impl\u001b[0;34m(self, *args, **kwargs)\u001b[0m\n\u001b[1;32m   1496\u001b[0m \u001b[38;5;66;03m# If we don't have any hooks, we want to skip the rest of the logic in\u001b[39;00m\n\u001b[1;32m   1497\u001b[0m \u001b[38;5;66;03m# this function, and just call forward.\u001b[39;00m\n\u001b[1;32m   1498\u001b[0m \u001b[38;5;28;01mif\u001b[39;00m \u001b[38;5;129;01mnot\u001b[39;00m (\u001b[38;5;28mself\u001b[39m\u001b[38;5;241m.\u001b[39m_backward_hooks \u001b[38;5;129;01mor\u001b[39;00m \u001b[38;5;28mself\u001b[39m\u001b[38;5;241m.\u001b[39m_backward_pre_hooks \u001b[38;5;129;01mor\u001b[39;00m \u001b[38;5;28mself\u001b[39m\u001b[38;5;241m.\u001b[39m_forward_hooks \u001b[38;5;129;01mor\u001b[39;00m \u001b[38;5;28mself\u001b[39m\u001b[38;5;241m.\u001b[39m_forward_pre_hooks\n\u001b[1;32m   1499\u001b[0m         \u001b[38;5;129;01mor\u001b[39;00m _global_backward_pre_hooks \u001b[38;5;129;01mor\u001b[39;00m _global_backward_hooks\n\u001b[1;32m   1500\u001b[0m         \u001b[38;5;129;01mor\u001b[39;00m _global_forward_hooks \u001b[38;5;129;01mor\u001b[39;00m _global_forward_pre_hooks):\n\u001b[0;32m-> 1501\u001b[0m     \u001b[38;5;28;01mreturn\u001b[39;00m forward_call(\u001b[38;5;241m*\u001b[39margs, \u001b[38;5;241m*\u001b[39m\u001b[38;5;241m*\u001b[39mkwargs)\n\u001b[1;32m   1502\u001b[0m \u001b[38;5;66;03m# Do not call functions when jit is used\u001b[39;00m\n\u001b[1;32m   1503\u001b[0m full_backward_hooks, non_full_backward_hooks \u001b[38;5;241m=\u001b[39m [], []\n",
      "Cell \u001b[0;32mIn[5], line 19\u001b[0m, in \u001b[0;36mexp0.forward\u001b[0;34m(self, x)\u001b[0m\n\u001b[1;32m     18\u001b[0m \u001b[38;5;28;01mdef\u001b[39;00m \u001b[38;5;21mforward\u001b[39m(\u001b[38;5;28mself\u001b[39m, x):\n\u001b[0;32m---> 19\u001b[0m     rhos \u001b[38;5;241m=\u001b[39m \u001b[38;5;28mself\u001b[39m\u001b[38;5;241m.\u001b[39mqlayer0(x)\n\u001b[1;32m     20\u001b[0m     rho \u001b[38;5;241m=\u001b[39m torch\u001b[38;5;241m.\u001b[39msum(rhos, dim\u001b[38;5;241m=\u001b[39m\u001b[38;5;241m0\u001b[39m) \u001b[38;5;241m/\u001b[39m \u001b[38;5;28mlen\u001b[39m(x)\n\u001b[1;32m     21\u001b[0m     rho \u001b[38;5;241m=\u001b[39m rho\u001b[38;5;241m.\u001b[39mdetach()\u001b[38;5;241m.\u001b[39mnumpy()\n",
      "File \u001b[0;32m~/anaconda3/envs/QC/lib/python3.11/site-packages/torch/nn/modules/module.py:1501\u001b[0m, in \u001b[0;36mModule._call_impl\u001b[0;34m(self, *args, **kwargs)\u001b[0m\n\u001b[1;32m   1496\u001b[0m \u001b[38;5;66;03m# If we don't have any hooks, we want to skip the rest of the logic in\u001b[39;00m\n\u001b[1;32m   1497\u001b[0m \u001b[38;5;66;03m# this function, and just call forward.\u001b[39;00m\n\u001b[1;32m   1498\u001b[0m \u001b[38;5;28;01mif\u001b[39;00m \u001b[38;5;129;01mnot\u001b[39;00m (\u001b[38;5;28mself\u001b[39m\u001b[38;5;241m.\u001b[39m_backward_hooks \u001b[38;5;129;01mor\u001b[39;00m \u001b[38;5;28mself\u001b[39m\u001b[38;5;241m.\u001b[39m_backward_pre_hooks \u001b[38;5;129;01mor\u001b[39;00m \u001b[38;5;28mself\u001b[39m\u001b[38;5;241m.\u001b[39m_forward_hooks \u001b[38;5;129;01mor\u001b[39;00m \u001b[38;5;28mself\u001b[39m\u001b[38;5;241m.\u001b[39m_forward_pre_hooks\n\u001b[1;32m   1499\u001b[0m         \u001b[38;5;129;01mor\u001b[39;00m _global_backward_pre_hooks \u001b[38;5;129;01mor\u001b[39;00m _global_backward_hooks\n\u001b[1;32m   1500\u001b[0m         \u001b[38;5;129;01mor\u001b[39;00m _global_forward_hooks \u001b[38;5;129;01mor\u001b[39;00m _global_forward_pre_hooks):\n\u001b[0;32m-> 1501\u001b[0m     \u001b[38;5;28;01mreturn\u001b[39;00m forward_call(\u001b[38;5;241m*\u001b[39margs, \u001b[38;5;241m*\u001b[39m\u001b[38;5;241m*\u001b[39mkwargs)\n\u001b[1;32m   1502\u001b[0m \u001b[38;5;66;03m# Do not call functions when jit is used\u001b[39;00m\n\u001b[1;32m   1503\u001b[0m full_backward_hooks, non_full_backward_hooks \u001b[38;5;241m=\u001b[39m [], []\n",
      "File \u001b[0;32m~/anaconda3/envs/QC/lib/python3.11/site-packages/pennylane/qnn/torch.py:412\u001b[0m, in \u001b[0;36mTorchLayer.forward\u001b[0;34m(self, inputs)\u001b[0m\n\u001b[1;32m    410\u001b[0m \u001b[38;5;66;03m# reshape to the correct number of batch dims\u001b[39;00m\n\u001b[1;32m    411\u001b[0m \u001b[38;5;28;01mif\u001b[39;00m has_batch_dim:\n\u001b[0;32m--> 412\u001b[0m     results \u001b[38;5;241m=\u001b[39m torch\u001b[38;5;241m.\u001b[39mreshape(results, (\u001b[38;5;241m*\u001b[39mbatch_dims, \u001b[38;5;241m*\u001b[39mresults\u001b[38;5;241m.\u001b[39mshape[\u001b[38;5;241m1\u001b[39m:]))\n\u001b[1;32m    414\u001b[0m \u001b[38;5;28;01mreturn\u001b[39;00m results\n",
      "\u001b[0;31mRuntimeError\u001b[0m: shape '[12665, 16, 16]' is invalid for input of size 1024"
     ]
    }
   ],
   "source": [
    "model0 = exp0()\n",
    "exp_model0_train = model0(X_train)\n",
    "exp_model0_test = model0(X_test)\n",
    "print(f\"Expressibility Train Data: {exp_model0_train}\")\n",
    "print(f\"Expressibility Test Data: {exp_model0_test}\")"
   ]
  },
  {
   "cell_type": "markdown",
   "id": "6e7ba4b5",
   "metadata": {},
   "source": [
    "Expressibility with PCA-NQE"
   ]
  },
  {
   "cell_type": "code",
   "execution_count": 8,
   "id": "1725428f",
   "metadata": {},
   "outputs": [],
   "source": [
    "feature_reduction = 'PCA4'\n",
    "classes = [0,1]\n",
    "X_train, X_test, Y_train, Y_test = data.data_load_and_process('mnist', feature_reduction=feature_reduction, classes=classes)\n",
    "X_test =  torch.tensor(X_test).to(torch.float32)\n",
    "X_train = torch.tensor(X_train).to(torch.float32)"
   ]
  },
  {
   "cell_type": "code",
   "execution_count": null,
   "id": "655356e4",
   "metadata": {},
   "outputs": [],
   "source": [
    "Exp_history_Model2_Train = [expressibility(PATH=p, Model='Model2', X=X_train).detach().numpy() for p in PATHs_Model2]\n",
    "Exp_history_Model2_Test = [expressibility(PATH=p, Model='Model2', X=X_test, X0=X0_test).detach().numpy() for p in PATHs_Model2]"
   ]
  },
  {
   "cell_type": "markdown",
   "id": "253279c0",
   "metadata": {},
   "source": [
    "Expressibility with NQE"
   ]
  },
  {
   "cell_type": "code",
   "execution_count": null,
   "id": "ac833014",
   "metadata": {},
   "outputs": [],
   "source": [
    "feature_reduction = False\n",
    "classes = [0,1]\n",
    "X_train, X_test, Y_train, Y_test = data.data_load_and_process('mnist', feature_reduction=feature_reduction, classes=classes)\n",
    "X1_train, X0_train = torch.tensor(X1_train).to(torch.float32), torch.tensor(X0_train).to(torch.float32)\n",
    "X1_train, X0_train = X1_train.permute(0, 3, 1, 2), X0_train.permute(0, 3, 1, 2)"
   ]
  },
  {
   "cell_type": "code",
   "execution_count": null,
   "id": "ec2103e1",
   "metadata": {},
   "outputs": [],
   "source": [
    "Exp_history_Model3_Train = [expressibility(PATH=p, Model='Model3', X1=X1_train, X0=X0_train).detach().numpy() for p in PATHs_Model3]\n",
    "Exp_history_Model3_Test = [expressibility(PATH=p, Model='Model3', X1=X1_test, X0=X0_test).detach().numpy() for p in PATHs_Model3]"
   ]
  },
  {
   "cell_type": "code",
   "execution_count": null,
   "id": "a8d55587",
   "metadata": {},
   "outputs": [],
   "source": [
    "import seaborn as sns\n",
    "\n",
    "plt.rcParams['figure.figsize'] = [10, 5]\n",
    "fig, (ax1, ax2) = plt.subplots(1,2)\n",
    "clrs = sns.color_palette(\"husl\", 3)\n",
    "with sns.axes_style(\"darkgrid\"):\n",
    "    ax1.scatter(range(49), Exp_history_Model2_Train, label=\"PCA-NQE\", c=clrs[0])\n",
    "    ax1.scatter(range(49), Exp_history_Model3_Train, label=\"NQE\", c=clrs[1])\n",
    "    ax1.plot(range(49), np.ones(49) * exp_model0_train, linestyle='dashed', linewidth=1.5, label=\"Without NQE\", c=clrs[2])\n",
    "    \n",
    "    ax2.scatter(range(49), Exp_history_Model2_Test, label=\"PCA-NQE\", c=clrs[0])\n",
    "    ax2.scatter(range(49), Exp_history_Model3_Test, label=\"NQE\", c=clrs[1])\n",
    "    ax2.plot(range(49), np.ones(49) * exp_model0_test, linestyle='dashed', linewidth=1.5, label=\"Without NQE\", c=clrs[2])\n",
    "\n",
    "ax1.set_xlabel(\"Iteration\")\n",
    "ax1.set_ylabel(\"Trace Distance\")\n",
    "ax1.set_title(\"Training data\")\n",
    "ax1.legend()\n",
    "\n",
    "ax2.set_xlabel(\"Iteration\")\n",
    "ax2.set_ylabel(\"Trace Distance\")\n",
    "ax2.set_title(\"Test data\")\n",
    "ax2.legend()"
   ]
  }
 ],
 "metadata": {
  "kernelspec": {
   "display_name": "Python 3 (ipykernel)",
   "language": "python",
   "name": "python3"
  },
  "language_info": {
   "codemirror_mode": {
    "name": "ipython",
    "version": 3
   },
   "file_extension": ".py",
   "mimetype": "text/x-python",
   "name": "python",
   "nbconvert_exporter": "python",
   "pygments_lexer": "ipython3",
   "version": "3.11.5"
  }
 },
 "nbformat": 4,
 "nbformat_minor": 5
}
